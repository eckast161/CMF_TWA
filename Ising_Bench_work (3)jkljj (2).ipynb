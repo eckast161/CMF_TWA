{
 "cells": [
  {
   "cell_type": "code",
   "execution_count": null,
   "metadata": {},
   "outputs": [],
   "source": []
  },
  {
   "cell_type": "code",
   "execution_count": 1,
   "metadata": {},
   "outputs": [],
   "source": [
    "import numpy as np\n",
    "from numpy import cos, sin\n",
    "from numpy import sqrt\n",
    "import time\n",
    "from scipy.sparse.linalg import expm\n",
    "import pandas as pd\n",
    "\n",
    "label_size = 20\n",
    "\n",
    "\n",
    "# In[2]:\n",
    "\n",
    "\n",
    "\n",
    "import numpy as np\n",
    "#from google.colab import files\n",
    "\n",
    "\"\"\"In order to provide a better presentation of the graphs we use the rcParams options shown below.\"\"\"\n",
    "\n",
    "\n",
    "from numpy import cos, sin\n",
    "\n",
    "label_size = 20\n",
    "\n",
    "from numpy import sqrt\n",
    "\n",
    "import time\n",
    "from numpy import sin, cos\n",
    "\n",
    "\n",
    "\n",
    "\n",
    "# In[3]:\n",
    "\n",
    "\n",
    "\n",
    "from numpy import random, zeros, sqrt,cos,sin\n",
    "\n",
    "import numpy as np\n",
    "\n",
    "import numbers\n",
    "\n",
    "from numpy import sqrt, zeros, diag, random, real, array, complex_, transpose, conjugate, exp, matmul, real\n",
    "\n",
    "\n",
    "\n",
    "from scipy.linalg import norm\n",
    "from numpy import dot\n",
    "from numpy import pi as pi\n",
    "from numpy import array\n",
    "import scipy\n",
    "from numpy import exp, imag, real,zeros, conj\n",
    "from numpy import sum\n",
    "from scipy import sparse\n",
    "from numpy import array\n",
    "import scipy.sparse as sp\n",
    "from numpy import concatenate\n",
    "from scipy.sparse import csr_matrix\n",
    "from numpy import sqrt, dot\n",
    "from numpy.random import choice\n",
    "from numpy.random import normal\n",
    "from numpy import sqrt\n",
    "from numpy import add\n",
    "from numpy import concatenate\n",
    "from scipy.sparse import coo_matrix\n",
    "from scipy.sparse import kron\n",
    "\n",
    "#t0=time.time()\n",
    "\n",
    "import numpy as np\n",
    "import pandas as pd\n",
    "from mpl_toolkits import mplot3d\n",
    "import numpy as np\n",
    "from scipy.sparse import kron\n",
    "from scipy.sparse import coo_matrix, identity\n",
    "\n",
    "\n",
    "\n",
    "# \\begin{align}\n",
    "# \\hat{H}_{{\\rm MACE}}^{i} & =\\sum_{k\\in C_{i}}B_{Q}\\hat{s}_{z,k}^{2}+\\sum_{\\substack{j,k\\in C_{i},\\\\\n",
    "# j<k\n",
    "# }\n",
    "# }V_{jk}\\left(\\hat{s}_{z,j}\\hat{s}_{z,k}-\\frac{1}{2}\\left(\\hat{s}_{x,j}\\hat{s}_{x,k}+\\hat{s}_{y,j}\\hat{s}_{y,k}\\right)\\right).\n",
    "# \\end{align}\n",
    "# \n",
    "\n",
    "# # Parameters\n",
    "Vij_p=array(pd.read_csv('Vij.csv', header=None))\n",
    "\n",
    "\n",
    "\n",
    "\n",
    "import numpy as np\n",
    "from numpy import sin, cos, sqrt\n",
    "\n",
    "\"\"\"In order to provide a better presentation of the graphs we use the rcParams options shown below.\"\"\"\n",
    "\n",
    "\n",
    "from numpy import sqrt\n",
    "\n",
    "import time"
   ]
  },
  {
   "cell_type": "code",
   "execution_count": null,
   "metadata": {},
   "outputs": [],
   "source": []
  },
  {
   "cell_type": "code",
   "execution_count": null,
   "metadata": {},
   "outputs": [],
   "source": []
  },
  {
   "cell_type": "code",
   "execution_count": null,
   "metadata": {},
   "outputs": [],
   "source": []
  },
  {
   "cell_type": "code",
   "execution_count": 2,
   "metadata": {},
   "outputs": [],
   "source": [
    "import numpy as np\n",
    "import time\n",
    "#from termcolor import colored\n",
    "from scipy.integrate import solve_ivp\n",
    "from scipy.linalg import norm\n",
    "from numpy import pi as pi\n",
    "import scipy\n",
    "from scipy import sparse\n",
    "import scipy.sparse as sp\n",
    "from scipy.sparse import csr_matrix\n",
    "from numpy.random import choice, normal\n",
    "from numpy import concatenate\n",
    "from scipy.sparse import coo_matrix\n",
    "from scipy.sparse import kron\n",
    "import pandas as pd\n",
    "from mpl_toolkits import mplot3d\n",
    "from numba import jit\n",
    "from scipy.linalg import expm\n",
    "import numbers\n",
    "from numpy import imag, conj, cos, sin\n",
    "from numpy import sqrt, zeros, diag, random, real, array, complex_, transpose, conjugate, exp, matmul, real, dot, add, sum\n",
    "import pandas as pd\n",
    "from numpy import dot\n",
    "from scipy.sparse import bsr_matrix\n",
    "\n",
    "#df=pd.read_csv('Positions_2000.txt') \n",
    "Gamma_r=1    #  \n",
    "\n",
    "t0=time.time()\n",
    "\n",
    "\n",
    "\n",
    "Vij_p=array(pd.read_csv('Vij.csv', header=None))"
   ]
  },
  {
   "cell_type": "raw",
   "metadata": {},
   "source": [
    "\n",
    "Vij_p=array([[0.0000000e+00,  -1.1726507e+00  ,-1.4658133e-01,  -1.1726507e+00 ,  9.7780472e-01,  -2.2739504e-01  ,-1.0765007e-01 , -8.3063010e-02],\n",
    " [-1.1726507e+00,   0.0000000e+00 , -1.1726507e+00,  -1.4658133e-01,  -8.3063010e-02,   9.7780472e-01 , -2.2739504e-01,  -1.0765007e-01],\n",
    " [-1.4658133e-01 , -1.1726507e+00 ,  0.0000000e+00 , -1.1726507e+00 , -6.2583996e-02 , -8.3063010e-02  , 9.7780472e-01,  -2.2739504e-01],\n",
    " [ -1.1726507e+00 , -1.4658133e-01,  -1.1726507e+00 ,  0.0000000e+00,  -2.2739504e-01 , -6.2583996e-02,  -8.3063010e-02,   9.7780472e-01],\n",
    " [  9.7780472e-01 , -8.3063010e-02,  -6.2583996e-02 , -2.2739504e-01,   0.0000000e+00 , -1.1726507e+00,  -1.4658133e-01,  -1.1726507e+00],\n",
    " [ -2.2739504e-01 ,  9.7780472e-01,  -8.3063010e-02 , -6.2583996e-02,  -1.1726507e+00 ,  0.0000000e+00,  -1.1726507e+00,  -1.4658133e-01],\n",
    " [ -1.0765007e-01 , -2.2739504e-01,   9.7780472e-01,  -8.3063010e-02,  -1.4658133e-01 , -1.1726507e+00,   0.0000000e+00,  -1.1726507e+00],\n",
    " [ -8.3063010e-02 , -1.0765007e-01,  -2.2739504e-01,   9.7780472e-01,  -1.1726507e+00 , -1.4658133e-01,  -1.1726507e+00,   0.0000000e+00]])\n"
   ]
  },
  {
   "cell_type": "code",
   "execution_count": null,
   "metadata": {},
   "outputs": [],
   "source": []
  },
  {
   "cell_type": "code",
   "execution_count": 3,
   "metadata": {},
   "outputs": [],
   "source": [
    "\n",
    "N_atom=Vij_p.shape[0]      #Number of atoms\n",
    "\n",
    "Jf_matrix=(N_atom*Vij_p)\n",
    "\n",
    "#Jf_matrix=(N_atom*Vij_p)**0-np.diag(np.diag(Jf_matrix))"
   ]
  },
  {
   "cell_type": "code",
   "execution_count": null,
   "metadata": {},
   "outputs": [],
   "source": []
  },
  {
   "cell_type": "code",
   "execution_count": 4,
   "metadata": {},
   "outputs": [],
   "source": [
    "import matplotlib.pyplot as plt\n",
    "import numpy as np\n",
    "#from google.colab import files\n",
    "\n",
    "\"\"\"In order to provide a better presentation of the graphs we use the rcParams options shown below.\"\"\"\n",
    "\n",
    "import matplotlib\n",
    "matplotlib.rcParams['text.usetex'] = False\n",
    "matplotlib.rcParams['mathtext.fontset'] = 'stix'\n",
    "matplotlib.rcParams['font.family'] = 'STIXGeneral'\n",
    "matplotlib.rcParams['font.size'] = 15\n",
    "matplotlib.rcParams['figure.figsize'] = (11.0, 8.0)\n",
    "\n",
    "label_size = 20\n",
    "import time\n",
    "\n",
    "T0=time.time()\n",
    "from numpy import conjugate as conj\n",
    "from numpy import zeros, exp\n",
    "import scipy\n",
    "from numpy import diff\n",
    "from numpy.random import randint\n",
    "import matplotlib.pyplot as plt\n",
    "import time\n",
    "from scipy.sparse import identity\n",
    "from scipy.sparse import lil_matrix\n",
    "from scipy.sparse import csr_matrix\n",
    "import scipy.special \n",
    "from numba import jit\n",
    "%matplotlib inline\n",
    "from numpy import random, zeros, sqrt,cos,sin\n",
    "import sdeint\n",
    "from sdeint import itoint, stratint, itoSRI2, stratKP2iS,itoEuler\n",
    "from numpy import sqrt, zeros, diag, random, real, array, complex_, transpose, conjugate, exp, matmul, real\n",
    "from numpy.random import normal \n",
    "from scipy.integrate import solve_ivp\n",
    "from scipy.signal import savgol_filter\n",
    "\n",
    "\"\"\"In order to provide a better presentation of the graphs we use the rcParams options shown below.\"\"\"\n",
    "\n",
    "import matplotlib\n",
    "matplotlib.rcParams['text.usetex'] = False\n",
    "matplotlib.rcParams['mathtext.fontset'] = 'stix'\n",
    "matplotlib.rcParams['font.family'] = 'STIXGeneral'\n",
    "matplotlib.rcParams['font.size'] = 15\n",
    "matplotlib.rcParams['figure.figsize'] = (11.0, 8.0)\n",
    "\n",
    "\n",
    "t0=time.time()\n",
    "#Parameters\n",
    "\n",
    "##Number of atoms\n"
   ]
  },
  {
   "cell_type": "code",
   "execution_count": 5,
   "metadata": {},
   "outputs": [
    {
     "data": {
      "image/png": "[encoded data removed]",
      "text/plain": [
       "<Figure size 792x576 with 2 Axes>"
      ]
     },
     "metadata": {
      "needs_background": "light"
     },
     "output_type": "display_data"
    }
   ],
   "source": [
    "import numpy as np\n",
    "import matplotlib.pyplot as plt\n",
    "\n",
    "plt.imshow(Jf_matrix)\n",
    "plt.colorbar()\n",
    "plt.show()"
   ]
  },
  {
   "cell_type": "code",
   "execution_count": 6,
   "metadata": {},
   "outputs": [
    {
     "name": "stdout",
     "output_type": "stream",
     "text": [
      "0.0  %\n",
      "2.0  %\n",
      "4.0  %\n",
      "6.0  %\n",
      "8.0  %\n",
      "10.0  %\n",
      "12.0  %\n",
      "14.0  %\n",
      "16.0  %\n",
      "18.0  %\n",
      "20.0  %\n",
      "22.0  %\n",
      "24.0  %\n",
      "26.0  %\n",
      "28.0  %\n",
      "30.0  %\n",
      "32.0  %\n",
      "34.0  %\n",
      "36.0  %\n",
      "38.0  %\n",
      "40.0  %\n",
      "42.0  %\n",
      "44.0  %\n",
      "46.0  %\n",
      "48.0  %\n",
      "50.0  %\n",
      "52.0  %\n",
      "54.0  %\n",
      "56.0  %\n",
      "58.0  %\n",
      "60.0  %\n",
      "62.0  %\n",
      "64.0  %\n",
      "66.0  %\n",
      "68.0  %\n",
      "70.0  %\n",
      "72.0  %\n",
      "74.0  %\n",
      "76.0  %\n",
      "78.0  %\n",
      "80.0  %\n",
      "82.0  %\n",
      "84.0  %\n",
      "86.0  %\n",
      "88.0  %\n",
      "90.0  %\n",
      "92.0  %\n",
      "94.0  %\n",
      "96.0  %\n",
      "98.0  %\n"
     ]
    }
   ],
   "source": [
    "def sigma_j_x(j_index,time_in):\n",
    "    \n",
    "    sig_j_x=1\n",
    "    \n",
    "    for k_ in range(N_atom):\n",
    "        \n",
    "        sig_j_x=sig_j_x*cos(2*time_in*Jf_matrix[j_index,k_]/N_atom)\n",
    "        \n",
    "    return sig_j_x\n",
    "        \n",
    "def Sx(time_in):\n",
    "    \n",
    "    Sx=0\n",
    "    \n",
    "    for j_index in range(N_atom):\n",
    "        \n",
    "        Sx=Sx+sigma_j_x(j_index,time_in)\n",
    "        \n",
    "    return Sx/N_atom\n",
    "    \n",
    "    \n",
    "steps_I=80\n",
    "tf=1*np.pi\n",
    "\n",
    "\n",
    "Sx_evol=[]\n",
    "\n",
    "Time_val=np.linspace(0,tf,steps_I)\n",
    "\n",
    "Time_val=np.linspace(0,3.0,50)\n",
    "\n",
    "for j in range(len(Time_val)):\n",
    "    \n",
    "    \n",
    "    #print(j*100/steps_I)\n",
    "    \n",
    "    Sx_evol.append(Sx(Time_val[j]))\n",
    "    \n",
    "    print(j*100/len(Time_val),\" %\")\n",
    "    \n",
    "    \n",
    "import matplotlib.pyplot as plt    \n",
    "  "
   ]
  },
  {
   "cell_type": "code",
   "execution_count": null,
   "metadata": {},
   "outputs": [],
   "source": []
  },
  {
   "cell_type": "code",
   "execution_count": null,
   "metadata": {},
   "outputs": [],
   "source": []
  },
  {
   "cell_type": "code",
   "execution_count": null,
   "metadata": {},
   "outputs": [],
   "source": []
  },
  {
   "cell_type": "code",
   "execution_count": 7,
   "metadata": {},
   "outputs": [
    {
     "data": {
      "text/plain": [
       "[<matplotlib.lines.Line2D at 0x2681823e640>]"
      ]
     },
     "execution_count": 7,
     "metadata": {},
     "output_type": "execute_result"
    },
    {
     "data": {
      "image/png": "[encoded data removed]",
      "text/plain": [
       "<Figure size 792x576 with 1 Axes>"
      ]
     },
     "metadata": {
      "needs_background": "light"
     },
     "output_type": "display_data"
    }
   ],
   "source": [
    "plt.plot(Time_val, Sx_evol)\n",
    "\n",
    "#plt.xscale(\"log\")"
   ]
  },
  {
   "cell_type": "code",
   "execution_count": null,
   "metadata": {},
   "outputs": [],
   "source": []
  },
  {
   "cell_type": "code",
   "execution_count": 8,
   "metadata": {},
   "outputs": [],
   "source": [
    "def two_body_corr(j_,k_,miu,nu,time_in):\n",
    "    \n",
    "    \n",
    "    Covjk_uv=0.25\n",
    "    \n",
    "    for li_ in range(N_atom):\n",
    "        \n",
    "        if li_!=j_ and li_!=k_:\n",
    "            \n",
    "            Covjk_uv=Covjk_uv*cos(2*time_in*(  miu*Jf_matrix[j_,li_]+nu*Jf_matrix[k_,li_]  )/N_atom)\n",
    "    \n",
    "    return Covjk_uv\n"
   ]
  },
  {
   "cell_type": "code",
   "execution_count": 9,
   "metadata": {},
   "outputs": [],
   "source": [
    "def Q1_2_t(time_in):\n",
    "    \n",
    "    Q1t=0\n",
    "    Q2t=0\n",
    "    count=0\n",
    "    \n",
    "    for i_ in range(N_atom):\n",
    "        for j_ in range(i_+1,N_atom):\n",
    "            \n",
    "            Q1t=Q1t+two_body_corr(i_,j_,1,1,time_in)\n",
    "            Q2t=Q2t+two_body_corr(i_,j_,1,-1,time_in)\n",
    "            \n",
    "            count=count+1\n",
    "            \n",
    "        #print((i_*100/N_atom))\n",
    "            \n",
    "    return Q1t,Q2t\n",
    "                \n",
    "def S_cuad(time_in):\n",
    "    Q_t=Q1_2_t(time_in)\n",
    "    \n",
    "    Q1=Q_t[0]\n",
    "    Q2=Q_t[1]\n",
    "    \n",
    "    return N_atom/4+np.real(Q1+Q2),N_atom/4-np.real(Q1-Q2)"
   ]
  },
  {
   "cell_type": "code",
   "execution_count": null,
   "metadata": {},
   "outputs": [],
   "source": [
    "S_cuad(0)"
   ]
  },
  {
   "cell_type": "code",
   "execution_count": null,
   "metadata": {},
   "outputs": [],
   "source": []
  },
  {
   "cell_type": "code",
   "execution_count": null,
   "metadata": {},
   "outputs": [],
   "source": []
  },
  {
   "cell_type": "code",
   "execution_count": null,
   "metadata": {},
   "outputs": [],
   "source": []
  },
  {
   "cell_type": "code",
   "execution_count": null,
   "metadata": {},
   "outputs": [],
   "source": [
    "\n",
    "Sx_cuadt=[]\n",
    "Sy_cuadt=[]\n",
    "\n",
    "for t_val in range(len(Time_val)):\n",
    "    \n",
    "    S_Xcuad_Ycuad=S_cuad(Time_val[t_val])\n",
    "    \n",
    "    \n",
    "    \n",
    "    Sx_cuadt.append(S_Xcuad_Ycuad[0])\n",
    "    Sy_cuadt.append(S_Xcuad_Ycuad[1])\n",
    "    \n",
    "    print(t_val*100/len(Time_val))\n",
    "    \n",
    "    \n",
    "    "
   ]
  },
  {
   "cell_type": "code",
   "execution_count": null,
   "metadata": {},
   "outputs": [],
   "source": [
    "plt.title(\"Covariances dynamics, $N=192$\")\n",
    "\n",
    "\n",
    "plt.plot(array(Time_val)*28.85/0.5,Sx_cuadt-(array(Sx_evol)*N_atom/2)**2,label=\"Cov$(\\hat{S}_x^2)$\")\n",
    "plt.plot(array(Time_val)*28.85/0.5,array(Sy_cuadt),label=\"Cov$(\\hat{S}_y^2)$\")\n",
    "\n",
    "plt.legend()\n"
   ]
  },
  {
   "cell_type": "code",
   "execution_count": null,
   "metadata": {},
   "outputs": [],
   "source": [
    "#plt.plot(array(Time_val)*28.85/0.5,Sx_cuadt)\n",
    "#plt.plot(array(Time_val)*28.85/0.5,Sy_cuadt)"
   ]
  },
  {
   "cell_type": "code",
   "execution_count": null,
   "metadata": {},
   "outputs": [],
   "source": []
  },
  {
   "cell_type": "code",
   "execution_count": null,
   "metadata": {},
   "outputs": [],
   "source": []
  },
  {
   "cell_type": "code",
   "execution_count": null,
   "metadata": {},
   "outputs": [],
   "source": [
    "plt.plot(array(Time_val)*28.85/0.5,Sx_cuadt)\n",
    "#plt.plot(array(Time_val)*28.85/0.5,Sy_cuadt)"
   ]
  },
  {
   "cell_type": "code",
   "execution_count": null,
   "metadata": {},
   "outputs": [],
   "source": []
  },
  {
   "cell_type": "code",
   "execution_count": null,
   "metadata": {},
   "outputs": [],
   "source": []
  },
  {
   "cell_type": "code",
   "execution_count": null,
   "metadata": {},
   "outputs": [],
   "source": [
    "#plt.plot(array(Time_val)*28.85/0.5,Sx_cuadt)\n",
    "plt.plot(array(Time_val)*28.85/0.5,array(Sy_cuadt)+1e-2)\n"
   ]
  },
  {
   "cell_type": "code",
   "execution_count": null,
   "metadata": {},
   "outputs": [],
   "source": []
  },
  {
   "cell_type": "code",
   "execution_count": null,
   "metadata": {},
   "outputs": [],
   "source": []
  },
  {
   "cell_type": "code",
   "execution_count": null,
   "metadata": {},
   "outputs": [],
   "source": []
  },
  {
   "cell_type": "code",
   "execution_count": null,
   "metadata": {},
   "outputs": [],
   "source": []
  },
  {
   "cell_type": "code",
   "execution_count": null,
   "metadata": {},
   "outputs": [],
   "source": []
  },
  {
   "cell_type": "code",
   "execution_count": null,
   "metadata": {},
   "outputs": [],
   "source": [
    "#Time_val"
   ]
  },
  {
   "cell_type": "code",
   "execution_count": null,
   "metadata": {},
   "outputs": [],
   "source": [
    "covjk_munu=[]\n",
    "ja_=10\n",
    "ka_=80\n",
    "\n",
    "mu=0\n",
    "nu=1\n",
    "\n",
    "\n",
    "for j in range(len(Time_val)):\n",
    "    \n",
    "    covjk_munu.append(two_body_corr(ja_,ka_,0,1,Time_val[j]))\n",
    "    "
   ]
  },
  {
   "cell_type": "code",
   "execution_count": null,
   "metadata": {},
   "outputs": [],
   "source": []
  },
  {
   "cell_type": "code",
   "execution_count": null,
   "metadata": {},
   "outputs": [],
   "source": [
    "covjk_munu_al=[]\n",
    "ja_=0\n",
    "ka_=40\n",
    "\n",
    "mu=0\n",
    "nu=1\n",
    "\n",
    "\n",
    "for j in range(len(Time_val)):\n",
    "    \n",
    "    covjk_munu_al.append(two_body_corr(ja_,ka_,0,1,Time_val[j]))\n",
    "    "
   ]
  },
  {
   "cell_type": "code",
   "execution_count": null,
   "metadata": {},
   "outputs": [],
   "source": []
  },
  {
   "cell_type": "code",
   "execution_count": null,
   "metadata": {},
   "outputs": [],
   "source": [
    "#plt.plot(Time_val,array(covjk_munu)-array(covjk_munu_al))"
   ]
  },
  {
   "cell_type": "code",
   "execution_count": null,
   "metadata": {},
   "outputs": [],
   "source": [
    "#plt.plot(Time_val,covjk_munu)\n",
    "#plt.plot(Time_val,covjk_munu_al)"
   ]
  },
  {
   "cell_type": "code",
   "execution_count": null,
   "metadata": {},
   "outputs": [],
   "source": []
  },
  {
   "cell_type": "code",
   "execution_count": null,
   "metadata": {},
   "outputs": [],
   "source": []
  },
  {
   "cell_type": "code",
   "execution_count": null,
   "metadata": {},
   "outputs": [],
   "source": []
  },
  {
   "cell_type": "code",
   "execution_count": null,
   "metadata": {},
   "outputs": [],
   "source": []
  },
  {
   "cell_type": "code",
   "execution_count": null,
   "metadata": {},
   "outputs": [],
   "source": []
  },
  {
   "cell_type": "code",
   "execution_count": null,
   "metadata": {},
   "outputs": [],
   "source": []
  },
  {
   "cell_type": "code",
   "execution_count": null,
   "metadata": {},
   "outputs": [],
   "source": []
  },
  {
   "cell_type": "code",
   "execution_count": null,
   "metadata": {},
   "outputs": [],
   "source": []
  },
  {
   "cell_type": "code",
   "execution_count": null,
   "metadata": {},
   "outputs": [],
   "source": [
    "def index_Gij(arr,Atom_cutoff):\n",
    "    \n",
    "    Ordered_N = list(np.argsort(arr)[::-1][:Atom_cutoff])\n",
    "    \n",
    "    return Ordered_N"
   ]
  },
  {
   "cell_type": "code",
   "execution_count": null,
   "metadata": {},
   "outputs": [],
   "source": []
  },
  {
   "cell_type": "code",
   "execution_count": null,
   "metadata": {},
   "outputs": [],
   "source": []
  },
  {
   "cell_type": "code",
   "execution_count": null,
   "metadata": {},
   "outputs": [],
   "source": [
    "Atom_cutoff_=2"
   ]
  },
  {
   "cell_type": "code",
   "execution_count": null,
   "metadata": {},
   "outputs": [],
   "source": []
  },
  {
   "cell_type": "code",
   "execution_count": 167,
   "metadata": {},
   "outputs": [],
   "source": [
    "\n",
    "\n",
    "\n",
    "Atom_cutoff=Atom_cutoff_\n",
    "\n",
    "\n",
    "\n",
    "# Provides a list of lists with the arrays that belong to each cluster\n",
    "\n",
    "\n",
    "Index_N=[]\n",
    "\n",
    "Rem_iden=abs(Vij_p)\n",
    "\n",
    "\n",
    "for j in range(Rem_iden.shape[0]):\n",
    "    \n",
    "    test_list = list(Rem_iden[j])\n",
    "    \n",
    "    Index_N.append( [j]+list(index_Gij(test_list,Atom_cutoff-1))  )"
   ]
  },
  {
   "cell_type": "code",
   "execution_count": null,
   "metadata": {},
   "outputs": [],
   "source": []
  },
  {
   "cell_type": "code",
   "execution_count": 168,
   "metadata": {},
   "outputs": [],
   "source": [
    "Array_Ind_MF=np.zeros((N_atom,N_atom))\n",
    "\n",
    "for j in range(N_atom):\n",
    "    for k in range(Atom_cutoff):\n",
    "        \n",
    "        Index_j=Index_N[j]\n",
    "        \n",
    "        Array_Ind_MF[j,Index_j[k]]=1\n",
    "\n",
    "Array_Ind_MF=1-Array_Ind_MF        "
   ]
  },
  {
   "cell_type": "code",
   "execution_count": 169,
   "metadata": {},
   "outputs": [],
   "source": [
    "SumVi=np.sum(Array_Ind_MF*Vij_p)/N_atom"
   ]
  },
  {
   "cell_type": "code",
   "execution_count": 170,
   "metadata": {},
   "outputs": [
    {
     "data": {
      "text/plain": [
       "-0.23960325920634995"
      ]
     },
     "execution_count": 170,
     "metadata": {},
     "output_type": "execute_result"
    }
   ],
   "source": [
    "SumVi"
   ]
  },
  {
   "cell_type": "code",
   "execution_count": 171,
   "metadata": {},
   "outputs": [
    {
     "data": {
      "text/plain": [
       "array([[ 0.        , -0.        , -0.        , ..., -0.02600234,\n",
       "        -0.03877538, -0.0207913 ],\n",
       "       [-0.        ,  0.        , -0.        , ..., -0.00278264,\n",
       "        -0.02600234, -0.03877538],\n",
       "       [-0.        , -0.        ,  0.        , ..., -0.00032812,\n",
       "        -0.00278264, -0.02600234],\n",
       "       ...,\n",
       "       [-0.02600234, -0.00278264, -0.00032812, ...,  0.        ,\n",
       "        -0.        , -0.        ],\n",
       "       [-0.03877538, -0.02600234, -0.00278264, ..., -0.        ,\n",
       "         0.        , -0.        ],\n",
       "       [-0.0207913 , -0.03877538, -0.02600234, ..., -0.        ,\n",
       "        -0.        ,  0.        ]])"
      ]
     },
     "execution_count": 171,
     "metadata": {},
     "output_type": "execute_result"
    }
   ],
   "source": [
    "(Array_Ind_MF*Vij_p)"
   ]
  },
  {
   "cell_type": "code",
   "execution_count": 172,
   "metadata": {},
   "outputs": [],
   "source": [
    "B_Q= 0\n",
    "    \n"
   ]
  },
  {
   "cell_type": "code",
   "execution_count": 173,
   "metadata": {},
   "outputs": [],
   "source": [
    "import numpy as np\n",
    "import pandas as pd\n",
    "\n",
    "df0 = pd.read_csv('temps_avg0++.txt', delimiter='\\t',header=None)\n",
    "df1 = pd.read_csv('temps_avg1++.txt', delimiter='\\t',header=None)\n",
    "df2 = pd.read_csv('temps_avg2++.txt', delimiter='\\t',header=None)\n",
    "df3 = pd.read_csv('temps_avg3++.txt', delimiter='\\t',header=None)\n",
    "\n",
    "Datamz0=array(df0)\n",
    "Datamz1=array(df1)\n",
    "Datamz2=array(df2)\n",
    "Datamz3=array(df3)\n",
    "\n",
    "Time_Exp=Datamz0[:,0]\n",
    "\n",
    "Popul0=Datamz0[:,1]\n",
    "Popul1=Datamz1[:,1]\n",
    "Popul2=Datamz2[:,1]\n",
    "Popul3=Datamz3[:,1]\n",
    "\n",
    "Populations_Exp=np.array([Popul0,Popul1,Popul2,Popul3])\n",
    "\n",
    "\n",
    "StandEr0=Datamz0[:,2]\n",
    "StandEr1=Datamz1[:,2]\n",
    "StandEr2=Datamz2[:,2]\n",
    "StandEr3=Datamz3[:,2]\n",
    "\n",
    "Var_Exp=np.array([StandEr0,StandEr1,StandEr2,StandEr3])**2\n",
    "\n",
    "\n",
    "\n",
    "\n",
    "N_atom=Vij_p.shape[0]\n",
    "S_spin=1/2   #determine the number of Zeeman levels (2S+1)\n",
    "Levels=int(2*S_spin+1)\n",
    "#Atom_cutoff=1\n",
    "\n",
    "\n",
    "# In[6]:\n",
    "\n",
    "\n",
    "Vij=(Vij_p-np.diag(np.diag(Vij_p)))\n",
    "\n",
    "\n",
    "# In[7]:\n",
    "\n",
    "\n",
    "VijN=np.zeros((N_atom,N_atom))\n",
    "\n",
    "for j in range(N_atom):\n",
    "\n",
    "    VijN[j]=Vij[j][:N_atom]\n",
    "\n",
    "\n",
    "\n",
    "\n",
    "# In[8]:\n",
    "\n",
    "\n",
    "Vij=VijN\n",
    "\n",
    "\n",
    "\n",
    "def index_Gij(arr,Atom_cutoff):\n",
    "\n",
    "    Ordered_N = list(np.argsort(arr)[::-1][:Atom_cutoff])\n",
    "\n",
    "    return Ordered_N\n",
    "\n",
    "\n",
    "# In[ ]:\n",
    "\n",
    "\n",
    "\n",
    "\n",
    "\n",
    "# In[ ]:\n",
    "\n",
    "\n",
    "\n",
    "\n",
    "\n",
    "# In[ ]:\n",
    "\n",
    "\n",
    "\n",
    "\n",
    "\n",
    "# In[231]:\n",
    "\n",
    "\n",
    "# Provides a list of lists with the arrays that belong to each cluster\n",
    "\n",
    "\n",
    "Index_N=[]\n",
    "\n",
    "Rem_iden=abs(Vij)\n",
    "\n",
    "\n",
    "for j in range(Rem_iden.shape[0]):\n",
    "\n",
    "    test_list = list(Rem_iden[j])\n",
    "\n",
    "    Index_N.append( [j]+list(index_Gij(test_list,Atom_cutoff-1))  )\n",
    "\n",
    "\n",
    "# In[ ]:\n",
    "\n",
    "\n",
    "\n",
    "\n",
    "\n",
    "# In[232]:\n",
    "\n",
    "\n",
    "\n",
    "Val=-np.linspace(-S_spin,S_spin,int(2*S_spin+1))\n",
    "\n",
    "\n",
    "Coord=np.linspace(0,2*S_spin,int(2*S_spin+1))\n",
    "\n",
    "Sz_sp=sparse.coo_matrix((Val,(Coord,Coord)),shape=(int(2*S_spin+1),int(2*S_spin+1)),dtype=\"complex\") \n",
    "\n",
    "\n",
    "# In[233]:\n",
    "\n",
    "\n",
    "# In[ ]:\n",
    "\n",
    "\n",
    "#Define Splus\n",
    "\n",
    "Val=[]\n",
    "\n",
    "\n",
    "for j in range(1,int(2*S_spin)+1):\n",
    "\n",
    "    Val.append(sqrt((S_spin)*(S_spin+1)-(S_spin-j)*(S_spin+1-j)))\n",
    "\n",
    "\n",
    "Coord=np.linspace(0,int(2*S_spin)-1,int(2*S_spin))    \n",
    "Splu_sp=(sparse.coo_matrix((Val,(Coord,Coord+1)),shape=(int(2*S_spin)+1,int(2*S_spin)+1),dtype=\"complex\")) \n",
    "\n",
    "Sx_sp=(Splu_sp+Splu_sp.T)/2\n",
    "Sy_sp=(Splu_sp-Splu_sp.T)/(2j)\n",
    "\n",
    "\n",
    "# In[ ]:\n",
    "\n",
    "\n",
    "\n",
    "\n",
    "\n",
    "# In[234]:\n",
    "\n",
    "\n",
    "## Check until here\n",
    "\n",
    "\n",
    "# In[235]:\n",
    "\n",
    "\n",
    "#Initial state |S,-S>\n",
    "Init_st=(sparse.coo_matrix(([1],([Levels-1],[0])),shape=(int(2*S_spin)+1,1),dtype=\"complex\")) \n",
    "\n",
    "\n",
    "\n",
    "#Rotated initial state\n",
    "\n",
    "theta_=-np.pi/2\n",
    "\n",
    "Init_st_rot=(expm(scipy.sparse.csc_matrix(-1j*(theta_)*Sy_sp))@Init_st)\n",
    "\n",
    "\n",
    "#Init_st_rot.toarray()\n",
    "\n",
    "\n",
    "# In[237]:\n",
    "\n",
    "\n",
    "Id_Spin=scipy.sparse.identity(Levels, dtype='complex')\n",
    "\n",
    "Zero_Spin=0*Id_Spin"
   ]
  },
  {
   "cell_type": "code",
   "execution_count": null,
   "metadata": {},
   "outputs": [],
   "source": []
  },
  {
   "cell_type": "code",
   "execution_count": 174,
   "metadata": {},
   "outputs": [
    {
     "data": {
      "text/plain": [
       "matrix([[0.70710678+0.j],\n",
       "        [0.70710678+0.j]])"
      ]
     },
     "execution_count": 174,
     "metadata": {},
     "output_type": "execute_result"
    }
   ],
   "source": [
    "Init_st_rot.todense()"
   ]
  },
  {
   "cell_type": "code",
   "execution_count": null,
   "metadata": {},
   "outputs": [],
   "source": []
  },
  {
   "cell_type": "code",
   "execution_count": null,
   "metadata": {},
   "outputs": [],
   "source": []
  },
  {
   "cell_type": "code",
   "execution_count": 175,
   "metadata": {},
   "outputs": [],
   "source": [
    "\n",
    "\n",
    "def Zeeman_Popul(m_s):\n",
    "\n",
    "    return sparse.coo_matrix(([1],([S_spin-m_s],[S_spin-m_s])),shape=(Levels,Levels),dtype=\"complex\")\n",
    "\n",
    "## Checked until here\n",
    "\n",
    "\n",
    "\n",
    "Init_Total_rot=Init_st_rot\n",
    "\n",
    "\n",
    "\n",
    "\n",
    "for j in range(Atom_cutoff-1):\n",
    "\n",
    "    Init_Total_rot=kron(Init_Total_rot,Init_st_rot)\n",
    "\n",
    "\n",
    "# In[238]:"
   ]
  },
  {
   "cell_type": "code",
   "execution_count": null,
   "metadata": {},
   "outputs": [],
   "source": []
  },
  {
   "cell_type": "code",
   "execution_count": 176,
   "metadata": {},
   "outputs": [
    {
     "name": "stdout",
     "output_type": "stream",
     "text": [
      "0.333889816360601 %\n",
      "0.8347245409015025 %\n",
      "1.335559265442404 %\n",
      "1.8363939899833055 %\n",
      "2.337228714524207 %\n",
      "2.8380634390651087 %\n",
      "3.33889816360601 %\n",
      "3.8397328881469117 %\n",
      "4.340567612687813 %\n",
      "4.841402337228715 %\n",
      "5.342237061769616 %\n",
      "5.843071786310517 %\n",
      "6.343906510851419 %\n",
      "6.844741235392321 %\n",
      "7.345575959933222 %\n",
      "7.846410684474123 %\n",
      "8.347245409015025 %\n",
      "8.848080133555927 %\n",
      "9.348914858096828 %\n",
      "9.84974958263773 %\n",
      "10.35058430717863 %\n",
      "10.851419031719532 %\n",
      "11.352253756260435 %\n",
      "11.853088480801336 %\n",
      "12.353923205342237 %\n",
      "12.854757929883139 %\n",
      "13.35559265442404 %\n",
      "13.856427378964941 %\n",
      "14.357262103505843 %\n",
      "14.858096828046744 %\n",
      "15.358931552587647 %\n",
      "15.859766277128548 %\n",
      "16.360601001669448 %\n",
      "16.86143572621035 %\n",
      "17.362270450751254 %\n",
      "17.863105175292155 %\n",
      "18.363939899833056 %\n",
      "18.864774624373958 %\n",
      "19.36560934891486 %\n",
      "19.86644407345576 %\n",
      "20.36727879799666 %\n",
      "20.868113522537563 %\n",
      "21.368948247078464 %\n",
      "21.869782971619365 %\n",
      "22.370617696160267 %\n",
      "22.871452420701168 %\n",
      "23.37228714524207 %\n",
      "23.87312186978297 %\n",
      "24.37395659432387 %\n",
      "24.874791318864773 %\n",
      "25.375626043405678 %\n",
      "25.87646076794658 %\n",
      "26.37729549248748 %\n",
      "26.87813021702838 %\n",
      "27.378964941569283 %\n",
      "27.879799666110184 %\n",
      "28.380634390651085 %\n",
      "28.881469115191987 %\n",
      "29.382303839732888 %\n",
      "29.88313856427379 %\n",
      "30.38397328881469 %\n",
      "30.884808013355592 %\n",
      "31.385642737896493 %\n",
      "31.886477462437394 %\n",
      "32.3873121869783 %\n",
      "32.8881469115192 %\n",
      "33.3889816360601 %\n",
      "33.889816360601 %\n",
      "34.390651085141904 %\n",
      "34.891485809682806 %\n",
      "35.39232053422371 %\n",
      "35.89315525876461 %\n",
      "36.39398998330551 %\n",
      "36.89482470784641 %\n",
      "37.39565943238731 %\n",
      "37.89649415692821 %\n",
      "38.397328881469114 %\n",
      "38.898163606010016 %\n",
      "39.39899833055092 %\n",
      "39.89983305509182 %\n",
      "40.40066777963272 %\n",
      "40.90150250417362 %\n",
      "41.40233722871452 %\n",
      "41.90317195325542 %\n",
      "42.404006677796325 %\n",
      "42.904841402337226 %\n",
      "43.40567612687813 %\n",
      "43.90651085141903 %\n",
      "44.40734557595993 %\n",
      "44.90818030050084 %\n",
      "45.40901502504174 %\n",
      "45.90984974958264 %\n",
      "46.41068447412354 %\n",
      "46.91151919866444 %\n",
      "47.412353923205345 %\n",
      "47.913188647746246 %\n",
      "48.41402337228715 %\n",
      "48.91485809682805 %\n",
      "49.41569282136895 %\n",
      "49.91652754590985 %\n",
      "50.41736227045075 %\n",
      "50.91819699499165 %\n",
      "51.419031719532555 %\n",
      "51.919866444073456 %\n",
      "52.42070116861436 %\n",
      "52.92153589315526 %\n",
      "53.42237061769616 %\n",
      "53.92320534223706 %\n",
      "54.42404006677796 %\n",
      "54.924874791318864 %\n",
      "55.425709515859765 %\n",
      "55.926544240400666 %\n",
      "56.42737896494157 %\n",
      "56.92821368948247 %\n",
      "57.42904841402337 %\n",
      "57.92988313856427 %\n",
      "58.43071786310517 %\n",
      "58.931552587646074 %\n",
      "59.432387312186975 %\n",
      "59.93322203672788 %\n",
      "60.43405676126878 %\n",
      "60.934891485809686 %\n",
      "61.43572621035059 %\n",
      "61.93656093489149 %\n",
      "62.43739565943239 %\n",
      "62.93823038397329 %\n",
      "63.43906510851419 %\n",
      "63.939899833055094 %\n",
      "64.44073455759599 %\n",
      "64.9415692821369 %\n",
      "65.44240400667779 %\n",
      "65.9432387312187 %\n",
      "66.4440734557596 %\n",
      "66.9449081803005 %\n",
      "67.4457429048414 %\n",
      "67.9465776293823 %\n",
      "68.44741235392321 %\n",
      "68.9482470784641 %\n",
      "69.44908180300501 %\n",
      "69.94991652754591 %\n",
      "70.45075125208682 %\n",
      "70.95158597662771 %\n",
      "71.45242070116862 %\n",
      "71.95325542570951 %\n",
      "72.45409015025042 %\n",
      "72.95492487479132 %\n",
      "73.45575959933223 %\n",
      "73.95659432387312 %\n",
      "74.45742904841403 %\n",
      "74.95826377295492 %\n",
      "75.45909849749583 %\n",
      "75.95993322203672 %\n",
      "76.46076794657763 %\n",
      "76.96160267111853 %\n",
      "77.46243739565944 %\n",
      "77.96327212020033 %\n",
      "78.46410684474124 %\n",
      "78.96494156928213 %\n",
      "79.46577629382304 %\n",
      "79.96661101836393 %\n",
      "80.46744574290484 %\n",
      "80.96828046744574 %\n",
      "81.46911519198665 %\n",
      "81.96994991652754 %\n",
      "82.47078464106845 %\n",
      "82.97161936560934 %\n",
      "83.47245409015025 %\n",
      "83.97328881469114 %\n",
      "84.47412353923205 %\n",
      "84.97495826377296 %\n",
      "85.47579298831386 %\n",
      "85.97662771285476 %\n",
      "86.47746243739566 %\n",
      "86.97829716193657 %\n",
      "87.47913188647746 %\n",
      "87.97996661101837 %\n",
      "88.48080133555926 %\n",
      "88.98163606010017 %\n",
      "89.48247078464107 %\n",
      "89.98330550918197 %\n",
      "90.48414023372287 %\n",
      "90.98497495826378 %\n",
      "91.48580968280467 %\n",
      "91.98664440734558 %\n",
      "92.48747913188647 %\n",
      "92.98831385642738 %\n",
      "93.48914858096828 %\n",
      "93.98998330550918 %\n",
      "94.49081803005008 %\n",
      "94.99165275459099 %\n",
      "95.49248747913188 %\n",
      "95.99332220367279 %\n",
      "96.49415692821368 %\n",
      "96.99499165275459 %\n",
      "97.49582637729549 %\n",
      "97.9966611018364 %\n",
      "98.49749582637729 %\n",
      "98.9983305509182 %\n",
      "99.49916527545909 %\n"
     ]
    }
   ],
   "source": [
    "\n",
    "\n",
    "\n",
    "\n",
    "\n",
    "\n",
    "\n",
    "\n",
    "\n",
    "Init_Total_rot=coo_matrix(Init_Total_rot)  #Initial state wavefunction\n",
    "\n",
    "\n",
    "# In[239]:\n",
    "\n",
    "\n",
    "#Init_Total_rot.todense()\n",
    "\n",
    "\n",
    "# In[ ]:\n",
    "\n",
    "\n",
    "\n",
    "\n",
    "\n",
    "# In[240]:\n",
    "\n",
    "\n",
    "\n",
    "Iden_Tensor=coo_matrix(identity((Levels)**Atom_cutoff, dtype='complex'))\n",
    "Zero_Tensor=0*Iden_Tensor\n",
    "\n",
    "\n",
    "# In[241]:\n",
    "\n",
    "\n",
    "\n",
    "\n",
    "import functools as ft\n",
    "from functools import reduce\n",
    "\n",
    "lst = Atom_cutoff*[Id_Spin]\n",
    "XX = reduce(kron, lst)\n",
    "\n",
    "\n",
    "# In[242]:\n",
    "\n",
    "\n",
    "\n",
    "def A_i_tensor(A_op,i_index):\n",
    "\n",
    "    Array_id=Atom_cutoff*[Id_Spin] \n",
    "\n",
    "    Array_id[i_index]=A_op\n",
    "\n",
    "    return reduce(kron, Array_id)\n",
    "\n",
    "\n",
    "# In[243]:\n",
    "\n",
    "\n",
    "\n",
    "#Not needed, just for reference\n",
    "\n",
    "def tensor_kjXYZ2( k , j):   #tensor among k,j are Positions in the cluster after the G classification\n",
    "                         #k is +sigma and j is -sigma\n",
    "\n",
    "    Array_idX   = Atom_cutoff*[Id_Spin]   \n",
    "    Array_idX[k]= Sx_sp\n",
    "    Array_idX[j]= Sx_sp\n",
    "\n",
    "    Array_idY   = Atom_cutoff*[Id_Spin]\n",
    "    Array_idY[k]= Sy_sp\n",
    "    Array_idY[j]= Sy_sp\n",
    "\n",
    "    Array_idZ   = Atom_cutoff*[Id_Spin]\n",
    "    Array_idZ[k]= Sz_sp\n",
    "    Array_idZ[j]= Sz_sp\n",
    "\n",
    "    return reduce(kron, Array_idX),reduce(kron, Array_idY),reduce(kron, Array_idZ) \n",
    "\n",
    "\n",
    "# In[244]:\n",
    "\n",
    "\n",
    "\n",
    "\n",
    "def tensor_termIntact( k , j):   #tensor among k,j are Positions in the cluster after the G classification\n",
    "                         #k is +sigma and j is -sigma\n",
    "\n",
    "    Array_idX   = Atom_cutoff*[Id_Spin]   \n",
    "    Array_idX[k]= Sx_sp\n",
    "    Array_idX[j]= Sx_sp\n",
    "\n",
    "    Array_idY   = Atom_cutoff*[Id_Spin]\n",
    "    Array_idY[k]= Sy_sp\n",
    "    Array_idY[j]= Sy_sp\n",
    "\n",
    "    Array_idZ   = Atom_cutoff*[Id_Spin]\n",
    "    Array_idZ[k]= Sz_sp\n",
    "    Array_idZ[j]= Sz_sp\n",
    "\n",
    "    return reduce(kron, Array_idZ) \n",
    "\n",
    "\n",
    "# In[ ]:\n",
    "\n",
    "\n",
    "\n",
    "\n",
    "\n",
    "# In[245]:\n",
    "\n",
    "\n",
    "\n",
    "#Not needed, just for reference\n",
    "\n",
    "def tensor_kjXX( k , j):   #tensor among k,j are Positions in the cluster after the G classification\n",
    "                         #k is +sigma and j is -sigma \n",
    "    Array_id=Atom_cutoff*[Id_Spin]  \n",
    "\n",
    "    Array_id[k]=Sx_sp\n",
    "    Array_id[j]=Sx_sp\n",
    "\n",
    "    return reduce(kron, Array_id)\n",
    "\n",
    "\n",
    "\n",
    "def tensor_kjYY( k , j):   #tensor among k,j are Positions in the cluster after the G classification\n",
    "                         #k is +sigma and j is -sigma \n",
    "    Array_id=Atom_cutoff*[Id_Spin]  \n",
    "\n",
    "    Array_id[k]=Sy_sp\n",
    "    Array_id[j]=Sy_sp\n",
    "\n",
    "    return reduce(kron, Array_id)\n",
    "\n",
    "\n",
    "\n",
    "def tensor_kjZZ( k , j):   #tensor among k,j are Positions in the cluster after the G classification\n",
    "                         #k is +sigma and j is -sigma \n",
    "    Array_id=Atom_cutoff*[Id_Spin]  \n",
    "\n",
    "    Array_id[k]=Sz_sp\n",
    "    Array_id[j]=Sz_sp\n",
    "\n",
    "    return reduce(kron, Array_id)\n",
    "\n",
    "\n",
    "Array_idZZ=Atom_cutoff*[Id_Spin]\n",
    "\n",
    "\n",
    "OperZiZj=[]\n",
    "Sz_cuad=Sz_sp@Sz_sp\n",
    "Array_idZZ[0]=Sz_cuad\n",
    "OperZiZj.append( reduce(kron, Array_idZZ) )\n",
    "\n",
    "# In[246]:\n",
    "\n",
    "\n",
    "\n",
    "\n",
    "\n",
    "\n",
    "# In[ ]:\n",
    "\n",
    "\n",
    "\n",
    "\n",
    "\n",
    "# In[247]:\n",
    "\n",
    "\n",
    "Omega_y=0\n",
    "\n",
    "\n",
    "# In[248]:\n",
    "\n",
    "\n",
    "\n",
    "# In[ ]:\n",
    "\n",
    "\n",
    "def tensor_k_Zcuad( k ):  #Excited state k is a Position in the cluster after the G classification\n",
    "\n",
    "    Array_id=Atom_cutoff*[Id_Spin]  \n",
    "\n",
    "    Array_id[k]=Sz_cuad\n",
    "\n",
    "    return reduce(kron, Array_id)\n",
    "\n",
    "\n",
    "# Construct a vector with |C_i| elements equal to A_i_tensor(Sz_cuad,j)\n",
    "\n",
    "Sz_cuad_array=Zero_Tensor\n",
    "\n",
    "\n",
    "for j in range(Atom_cutoff):\n",
    "\n",
    "    Sz_cuad_array+= B_Q* A_i_tensor(Sz_cuad,j)+ Omega_y*A_i_tensor(Sy_sp,j)\n",
    "\n",
    "#Sz_cuad_array=Sz_cuad_array+ Omega_y*A_i_tensor(Sy_sp,0)  # + A_i_tensor(Sy_sp,0)\n",
    "\n",
    "\n",
    "# In[ ]:\n",
    "\n",
    "\n",
    "\n",
    "\n",
    "\n",
    "# In[249]:\n",
    "\n",
    "\n",
    "\n",
    "def Hamilt_ic(index_center):\n",
    "\n",
    "    Index_list=Index_N[index_center]\n",
    "    Hamil=Sz_cuad_array\n",
    "\n",
    "\n",
    "    for j in range(Atom_cutoff):\n",
    "\n",
    "        IL_j   = Index_list[j]\n",
    "\n",
    "        for k in range(j+1,Atom_cutoff):\n",
    "\n",
    "\n",
    "            IL_k   = Index_list[k]\n",
    "\n",
    "            Ten_jk = tensor_termIntact( j , k)\n",
    "\n",
    "\n",
    "            Hamil=Hamil+ Vij[IL_j,IL_k]*Ten_jk\n",
    "\n",
    "            #print(j,k,\"IndexN\", IL_j,IL_k)\n",
    "\n",
    "\n",
    "    return  Hamil\n",
    "\n",
    "\n",
    "# In[250]:\n",
    "\n",
    "\n",
    "\n",
    "def f(t, yR,M_vect,b):\n",
    "\n",
    "    return -1j*M_vect@yR\n",
    "\n",
    "\n",
    "\n",
    "\n",
    "Zeeman_Operators=[]\n",
    "\n",
    "\n",
    "\n",
    "\n",
    "ListVal=[]\n",
    "\n",
    "\n",
    "ValuesSpn=np.linspace(-S_spin,S_spin,int(2*S_spin+1))\n",
    "\n",
    "\n",
    "#ValuesSpn\n",
    "\n",
    "\n",
    "# In[253]:\n",
    "\n",
    "\n",
    "for j in range(len(ValuesSpn)):\n",
    "\n",
    "    Zeeman_Operators.append(A_i_tensor(Zeeman_Popul( ValuesSpn[j]),0))\n",
    "\n",
    "\n",
    "\n",
    "\n",
    "\n",
    "tspan=np.linspace(0,18,600)\n",
    "\n",
    "\n",
    "\n",
    "from scipy.integrate import solve_ivp\n",
    "\n",
    "\n",
    "T_init=tspan[0]\n",
    "\n",
    "T_fin =tspan[-1]\n",
    "\n",
    "\n",
    "\n",
    "\n",
    "#MACE method\n",
    "\n",
    "\n",
    "from scipy.integrate import solve_ivp\n",
    "\n",
    "\n",
    "def Dynam_Popul_CI(index_center):\n",
    "\n",
    "    Populations=np.zeros((Levels,len(tspan)))\n",
    "\n",
    "\n",
    "    #sol = solve_ivp(f, [tspan[0], tspan[-1]], list(Init_Total_rot.toarray().T[0]),args=(Hamilt_ic(index_center),None),dense_output=True )\n",
    "    sol = solve_ivp(f, [T_init, T_fin], list(Init_Total_rot.toarray().T[0]),args=(Hamilt_ic(index_center),None),dense_output=True,max_step=0.0001 )\n",
    "\n",
    "    Sol_dense=sol.sol(tspan)\n",
    "\n",
    "\n",
    "    for j in range(Levels):\n",
    "\n",
    "        Populations[j]=real((diag((conj(Sol_dense.T)@(Zeeman_Operators[j]@Sol_dense)))))\n",
    "\n",
    "\n",
    "    return Populations\n",
    "\n",
    "\n",
    "\n",
    "\n",
    "Populat_Fin=np.zeros((Levels,len(tspan)))\n",
    "\n",
    "\n",
    "# In[257]:\n",
    "\n",
    "\n",
    "\n",
    "OperX=[]\n",
    "OperY=[]\n",
    "OperZ=[]\n",
    "\n",
    "OperX.append( A_i_tensor(Sx_sp,0) )\n",
    "OperY.append( A_i_tensor(Sy_sp,0) )\n",
    "OperZ.append( A_i_tensor(Sz_sp,0) )\n",
    "\n",
    "\n",
    "\n",
    "for j in range(1,Atom_cutoff):\n",
    "\n",
    "\n",
    "    OperX.append( A_i_tensor(Sx_sp,j) )\n",
    "    OperY.append( A_i_tensor(Sy_sp,j) )\n",
    "    OperZ.append( A_i_tensor(Sz_sp,j) )\n",
    "    OperZiZj.append( tensor_kjZZ( 0 , j) )\n",
    "\n",
    "\n",
    "\n",
    "\n",
    "number_parts=200\n",
    "\n",
    "\n",
    "index_parts=int(len(tspan)/number_parts)\n",
    "\n",
    "tnew=[]\n",
    "\n",
    "for tind_ in range(len(tspan)-1):\n",
    "\n",
    "    Time_pos=int((tind_+1)//index_parts)\n",
    "\n",
    "    if (tind_+1)%index_parts==0:\n",
    "\n",
    "        tnew.append(tspan[tind_+1])\n",
    "\n",
    "tnew=array(tnew)\n",
    "\n",
    "\n",
    "\n",
    "\n",
    "\n",
    "def Hamilt_ic_MACE(index_center):\n",
    "\n",
    "    Index_list=Index_N[index_center]\n",
    "    Hamil=Sz_cuad_array\n",
    "\n",
    "\n",
    "    for j in range(Atom_cutoff):\n",
    "\n",
    "        IL_j   = Index_list[j]\n",
    "\n",
    "        for k in range(j+1,Atom_cutoff):\n",
    "\n",
    "\n",
    "            IL_k   = Index_list[k]\n",
    "\n",
    "            Hamil=Hamil+ Vij[IL_j,IL_k]*(tensor_termIntact( j , k) )\n",
    "\n",
    "            #print(j,k,\"IndexN\", IL_j,IL_k)\n",
    "\n",
    "\n",
    "    return  Hamil\n",
    "\n",
    "\n",
    "\n",
    "\n",
    "index_center=0\n",
    "\n",
    "\n",
    "Wave_function=np.zeros((Levels**Atom_cutoff,1),dtype=\"complex\")\n",
    "\n",
    "\n",
    "\n",
    "for j in range(1):    \n",
    "    Wave_function[:,j]=Init_Total_rot.toarray().reshape(Levels**Atom_cutoff,)   #Not sparse structure because the state is not sparse\n",
    "\n",
    "\n",
    "\n",
    "Mean_Val_XYZ=np.zeros((1,3*len(tspan)),dtype=\"complex\")\n",
    "\n",
    "\n",
    "\n",
    "\n",
    "\n",
    "\n",
    "\n",
    "\n",
    "\n",
    "\n",
    "\n",
    "\n",
    "\n",
    "#tspan\n",
    "#Vj_dot_MV_XYZ=Vij@Mean_Val_XYZ\n",
    "Vj_dot_MV_XYZ=np.zeros((1,3*len(tspan)),dtype=\"complex\")\n",
    "Mean_Val_XYZ_0     =np.zeros((1,3),dtype=\"complex\")\n",
    "Mean_Val_XYZ_0[:,0]=diag(conj(Wave_function.T)@(OperX[0]@Wave_function))\n",
    "Mean_Val_XYZ_0[:,1]=diag(conj(Wave_function.T)@(OperY[0]@Wave_function))\n",
    "Mean_Val_XYZ_0[:,2]=diag(conj(Wave_function.T)@(OperZ[0]@Wave_function))\n",
    "#Vj_dot_MV_XYZ_0    =Vij@Mean_Val_XYZ_0\n",
    "Mean_Val_XYZ[:,array([0,1,2])]=Mean_Val_XYZ_0\n",
    "\n",
    "\n",
    "\n",
    "\n",
    "\n",
    "Popul_CMFT=np.zeros((int(2*S_spin+1),len(tnew)+1),dtype=complex)\n",
    "\n",
    "Covar_Z=np.zeros((len(tnew)+1,N_atom),dtype=complex)\n",
    "\n",
    "for j in range(Atom_cutoff):\n",
    "\n",
    "    Covar_Z[0,Index_N[0][j]]=diag(conj(Wave_function.T)@(OperZiZj[j]@Wave_function))\n",
    "\n",
    "\n",
    "\n",
    "\n",
    "\n",
    "\n",
    "\n",
    "for j in range(int(2*S_spin+1)):\n",
    "    Popul_CMFT[j,0]=sum(diag(conj(Wave_function.T)@(Zeeman_Operators[j]@Wave_function)))\n",
    "\n",
    "\n",
    "\n",
    "Vrow=sum(sum(Vij_p,axis=0),axis=0)/N_atom\n",
    "\n",
    "\n",
    "\n",
    "\n",
    "\n",
    "####### index_center=0\n",
    "#@jit\n",
    "def Hamilt_ic_CMFT(index_center,tindector):\n",
    "\n",
    "    Index_list=Index_N[index_center]\n",
    "    HamilCMFT_=Zero_Tensor\n",
    "\n",
    "    x_ind=0+3*tindector\n",
    "    y_ind=1+3*tindector\n",
    "    z_ind=2+3*tindector\n",
    "\n",
    "\n",
    "    #Vij_Vals_XYZ =Vj_dot_MV_XYZ[:,[x_ind,y_ind,z_ind]]\n",
    "    Vals_XYZ     =Mean_Val_XYZ[:,[x_ind,y_ind,z_ind]]\n",
    "\n",
    "\n",
    "    #Part_XX=Zero_Tensor\n",
    "\n",
    "    sx0,sy0,sz0 = Vals_XYZ[0] \n",
    "\n",
    "    for j in range(Atom_cutoff):\n",
    "\n",
    "        IL_j   = Index_list[j]\n",
    "\n",
    "        hat_Sxj=OperX[j]\n",
    "        hat_Syj=OperY[j]\n",
    "        hat_Szj=OperZ[j]\n",
    "\n",
    "        HamilCMFT_=HamilCMFT_+SumVi*(hat_Szj*sz0)\n",
    "\n",
    "        #Part_XX=Part_XX- 0.5*VjX*hat_Sxj\n",
    "\n",
    "    return  HamilCMFT_#, Part_XX\n",
    "\n",
    "\n",
    "\n",
    "\n",
    "\n",
    "\n",
    "def Wave_func_part(Wave_fun_mt,inst_time):\n",
    "\n",
    "    Result_fin=Wave_fun_mt\n",
    "\n",
    "\n",
    "    for cent_ind in range(1):   #Only uses one element, the zero one\n",
    "\n",
    "\n",
    "        #Mat_dyn=Time_ind_hamil[cent_ind]   #+Part_time_dep(cent_ind,inst_time)\n",
    "\n",
    "        Mat_dyn=Hamilt_ic_MACE(cent_ind) + Hamilt_ic_CMFT(cent_ind,inst_time)\n",
    "\n",
    "\n",
    "        sol_cent_ind = solve_ivp(f,[tspan[inst_time],tspan[inst_time+1]],list(Wave_fun_mt[:,cent_ind])\n",
    "                                 ,args=(Mat_dyn,None),dense_output=False,max_step=0.01)# , t_eval= [tspan[inst_time+1]])\n",
    "\n",
    "\n",
    "\n",
    "        Result_fin[:,cent_ind]=((sol_cent_ind.y)[:,-1]).reshape((Levels**Atom_cutoff,))\n",
    "\n",
    "        #print(cent_ind)\n",
    "        #print(cent_ind/N_atom)\n",
    "\n",
    "    return Result_fin\n",
    "\n",
    "\n",
    "\n",
    "count=0\n",
    "\n",
    "tNEW=[0]\n",
    "\n",
    "for tind_ in range(len(tspan)-1):\n",
    "\n",
    "    Wave_function= Wave_func_part(Wave_function,tind_)\n",
    "\n",
    "\n",
    "    if (tind_+1)%index_parts==0:\n",
    "        count=count+1\n",
    "\n",
    "        tNEW.append(tspan[tind_+1])\n",
    "\n",
    "        for j in range(int(2*S_spin+1)):\n",
    "            Popul_CMFT[j,count]=sum(diag(conj(Wave_function.T)@(Zeeman_Operators[j]@Wave_function)))\n",
    "\n",
    "        #Popul_CMFT[j,count]=sum(diag(conj(Wave_function.T)@(Zeeman_Operators[j]@Wave_function)))\n",
    "\n",
    "        #print(100*(tind_+1)/len(tspan))\n",
    "\n",
    "        for jt in range(Atom_cutoff):\n",
    "\n",
    "            Covar_Z[count][Index_N[0][jt]]=diag(conj(Wave_function.T)@(OperZiZj[jt]@Wave_function))\n",
    "\n",
    "\n",
    "        print((100*tind_/(len(tspan)-1)),\"%\")\n",
    "\n",
    "\n",
    "\n",
    "\n",
    "    Mean_Val_XYZ_0     =np.zeros((1,3),dtype=\"complex\")\n",
    "    Mean_Val_XYZ_0[:,0]=diag(conj(Wave_function.T)@(OperX[0]@Wave_function))\n",
    "    Mean_Val_XYZ_0[:,1]=diag(conj(Wave_function.T)@(OperY[0]@Wave_function))\n",
    "    Mean_Val_XYZ_0[:,2]=diag(conj(Wave_function.T)@(OperZ[0]@Wave_function))\n",
    "    #Vj_dot_MV_XYZ_0    =Vij@Mean_Val_XYZ_0\n",
    "\n",
    "    step_time=3*(tind_+1)\n",
    "\n",
    "    Mean_Val_XYZ[ :,step_time+array([0,1,2])]=Mean_Val_XYZ_0\n",
    "\n",
    "tms=array(tNEW)*28.85/0.5\n",
    "\n",
    "\n",
    "\n",
    "tms1=tms\n",
    "\n",
    "PopulExperimental=Populations_Exp\n",
    "\n",
    "PopulFixed=PopulExperimental\n",
    "\n",
    "\n"
   ]
  },
  {
   "cell_type": "code",
   "execution_count": 177,
   "metadata": {},
   "outputs": [],
   "source": [
    "Sxval=[]\n",
    "Syval=[]\n",
    "Szval=[]\n",
    "\n",
    "ValsXYZ=Mean_Val_XYZ[0]\n",
    "\n",
    "for j in range(len(tspan)):\n",
    "    \n",
    "    Sxval.append(ValsXYZ[3*j])\n",
    "    Syval.append(ValsXYZ[3*j+1])\n",
    "    Szval.append(ValsXYZ[3*j+2])\n",
    "    \n",
    "    "
   ]
  },
  {
   "cell_type": "code",
   "execution_count": 178,
   "metadata": {},
   "outputs": [
    {
     "data": {
      "text/plain": [
       "(0.0, 3.0)"
      ]
     },
     "execution_count": 178,
     "metadata": {},
     "output_type": "execute_result"
    },
    {
     "data": {
      "image/png": "[encoded data removed]",
      "text/plain": [
       "<Figure size 792x576 with 1 Axes>"
      ]
     },
     "metadata": {
      "needs_background": "light"
     },
     "output_type": "display_data"
    }
   ],
   "source": [
    "plt.plot(tspan/4,real(Sxval))\n",
    "\n",
    "plt.xlim((0,3))"
   ]
  },
  {
   "cell_type": "code",
   "execution_count": 179,
   "metadata": {},
   "outputs": [
    {
     "data": {
      "text/plain": [
       "11"
      ]
     },
     "execution_count": 179,
     "metadata": {},
     "output_type": "execute_result"
    }
   ],
   "source": [
    "Atom_cutoff_"
   ]
  },
  {
   "cell_type": "code",
   "execution_count": 189,
   "metadata": {},
   "outputs": [],
   "source": [
    "#Sx_val_CMF1=Sxval\n",
    "Sx_val_CMF2=Sxval\n",
    "#Sx_val_CMF3=Sxval\n",
    "#Sx_val_CMF4=Sxval\n",
    "#Sx_val_CMF6=Sxval\n",
    "#Sx_val_CMF10=Sxval\n",
    "#Sx_val_CMF7=Sxval\n",
    "#Sx_val_CMF11=Sxval"
   ]
  },
  {
   "cell_type": "code",
   "execution_count": 186,
   "metadata": {},
   "outputs": [],
   "source": [
    "#Sx_val_MACE4=Sxval\n",
    "#Sx_val_MACE5=Sxval\n",
    "#Sx_val_MACE6=Sxval\n",
    "#Sx_val_MACE7=Sxval\n",
    "#Sx_Wval_MACE10=Sxval\n",
    "#Sx_val_MACE7=Sxval\n",
    "#Sx_val_MACE11=Sxval"
   ]
  },
  {
   "cell_type": "code",
   "execution_count": 190,
   "metadata": {},
   "outputs": [],
   "source": [
    "import matplotlib.pyplot as plt\n",
    "import numpy as np\n",
    "#from google.colab import files\n",
    "\n",
    "\"\"\"In order to provide a better presentation of the graphs we use the rcParams options shown below.\"\"\"\n",
    "\n",
    "import matplotlib\n",
    "matplotlib.rcParams['text.usetex'] = False\n",
    "matplotlib.rcParams['mathtext.fontset'] = 'stix'\n",
    "matplotlib.rcParams['font.family'] = 'STIXGeneral'\n",
    "matplotlib.rcParams['font.size'] = 15\n",
    "matplotlib.rcParams['figure.figsize'] = (11.0, 8.0)\n",
    "\n",
    "label_size = 20\n",
    "import time\n",
    "\n",
    "T0=time.time()\n",
    "from numpy import conjugate as conj\n",
    "from numpy import zeros, exp\n",
    "import scipy\n",
    "from numpy import diff\n",
    "from numpy.random import randint\n",
    "import matplotlib.pyplot as plt\n",
    "import time\n",
    "from scipy.sparse import identity\n",
    "from scipy.sparse import lil_matrix\n",
    "from scipy.sparse import csr_matrix\n",
    "import scipy.special \n",
    "from numba import jit\n",
    "%matplotlib inline\n",
    "from numpy import random, zeros, sqrt,cos,sin\n",
    "import sdeint\n",
    "from sdeint import itoint, stratint, itoSRI2, stratKP2iS,itoEuler\n",
    "from numpy import sqrt, zeros, diag, random, real, array, complex_, transpose, conjugate, exp, matmul, real\n",
    "from numpy.random import normal \n",
    "from scipy.integrate import solve_ivp\n",
    "from scipy.signal import savgol_filter\n",
    "\n",
    "\"\"\"In order to provide a better presentation of the graphs we use the rcParams options shown below.\"\"\"\n",
    "\n",
    "import matplotlib\n",
    "matplotlib.rcParams['text.usetex'] = False\n",
    "matplotlib.rcParams['mathtext.fontset'] = 'stix'\n",
    "matplotlib.rcParams['font.family'] = 'STIXGeneral'\n",
    "matplotlib.rcParams['font.size'] = 15\n",
    "matplotlib.rcParams['figure.figsize'] = (11.0, 8.0)\n",
    "\n",
    "\n",
    "t0=time.time()\n",
    "#Parameters\n",
    "\n",
    "##Number of atoms\n"
   ]
  },
  {
   "cell_type": "code",
   "execution_count": null,
   "metadata": {},
   "outputs": [],
   "source": []
  },
  {
   "cell_type": "code",
   "execution_count": null,
   "metadata": {},
   "outputs": [],
   "source": []
  },
  {
   "cell_type": "code",
   "execution_count": 191,
   "metadata": {},
   "outputs": [],
   "source": [
    "Scale_time=sqrt(np.sum(Vij_p**2))"
   ]
  },
  {
   "cell_type": "code",
   "execution_count": null,
   "metadata": {},
   "outputs": [],
   "source": []
  },
  {
   "cell_type": "code",
   "execution_count": 202,
   "metadata": {},
   "outputs": [
    {
     "data": {
      "text/plain": [
       "<matplotlib.legend.Legend at 0x143b6181be0>"
      ]
     },
     "execution_count": 202,
     "metadata": {},
     "output_type": "execute_result"
    },
    {
     "data": {
      "image/png": "[encoded data removed]",
      "text/plain": [
       "<Figure size 792x576 with 1 Axes>"
      ]
     },
     "metadata": {
      "needs_background": "light"
     },
     "output_type": "display_data"
    }
   ],
   "source": [
    "plt.title(\"Ising Model, $\\\\left|\\\\psi(0) \\\\right>=\\\\left|+\\\\right>^{\\otimes N}$, $N=192$\",fontsize=25)\n",
    "\n",
    "\n",
    "plt.plot(Scale_time*Time_val, 0.5*array(Sx_evol),label=\"Analytical Solution\")\n",
    "\n",
    "#plt.plot(tspan/4,2*real(Sx_val_CMF1),label=\"CMFT 1\")\n",
    "#plt.plot(tspan/4,2*real(Sx_val_CMF2),label=\"CMFT 2\")\n",
    "#plt.plot(tspan/4,2*real(Sx_val_CMF3),label=\"CMFT 3\")\n",
    "\n",
    "plt.plot(Scale_time*tspan/4,real(Sx_val_CMF4),\"--\",label=\"CMFT 4\")\n",
    "plt.plot(Scale_time*tspan/4,real(Sx_val_CMF5),\"--\",label=\"CMFT 5\")\n",
    "plt.plot(Scale_time*tspan/4,real(Sx_val_CMF6),\"--\",label=\"CMFT 6\")\n",
    "plt.plot(Scale_time*tspan/4,real(Sx_val_CMF7),\"--\",label=\"CMFT 7\")\n",
    "plt.plot(Scale_time*tspan/4,real(Sx_val_CMF10),\"--\",label=\"CMFT 10\")\n",
    "plt.plot(Scale_time*tspan/4,real(Sx_val_CMF11),\"--\",label=\"CMFT 11\")\n",
    "\n",
    "#plt.plot(tspan/4,2*real(Sx_val_MACE4),\"-\",label=\"MACE 4\")\n",
    "#plt.plot(tspan/4,2*real(Sx_val_MACE5),\"--\",label=\"MACE 5\")\n",
    "#plt.plot(tspan/4,2*real(Sx_val_MACE6),\"--\",label=\"MACE 6\")\n",
    "#plt.plot(tspan/4,2*real(Sx_val_MACE7),\"--\",label=\"MACE 7\")\n",
    "#plt.plot(tspan/4,2*real(Sx_val_MACE10),\"--\",label=\"MACE 10\")\n",
    "\n",
    "\n",
    "\n",
    "plt.xlabel(\"$t\\sqrt{\\sum_{ij}Vij^2}$\",fontsize=19)\n",
    "plt.ylabel(\"$\\\\left< \\hat{S}_x \\\\right>/N$\",fontsize=19)\n",
    "\n",
    "#plt.xlim((0,Scale_time*4))\n",
    "\n",
    "#plt.xscale(\"log\")\n",
    "\n",
    "plt.legend()"
   ]
  },
  {
   "cell_type": "code",
   "execution_count": null,
   "metadata": {},
   "outputs": [],
   "source": []
  },
  {
   "cell_type": "code",
   "execution_count": 193,
   "metadata": {},
   "outputs": [
    {
     "data": {
      "text/plain": [
       "3.0"
      ]
     },
     "execution_count": 193,
     "metadata": {},
     "output_type": "execute_result"
    }
   ],
   "source": [
    "Time_val[-1]"
   ]
  },
  {
   "cell_type": "code",
   "execution_count": null,
   "metadata": {},
   "outputs": [],
   "source": []
  },
  {
   "cell_type": "code",
   "execution_count": null,
   "metadata": {},
   "outputs": [],
   "source": []
  },
  {
   "cell_type": "code",
   "execution_count": 43,
   "metadata": {},
   "outputs": [
    {
     "ename": "NameError",
     "evalue": "name 'here' is not defined",
     "output_type": "error",
     "traceback": [
      "\u001b[1;31m---------------------------------------------------------------------------\u001b[0m",
      "\u001b[1;31mNameError\u001b[0m                                 Traceback (most recent call last)",
      "\u001b[1;32m<ipython-input-43-3b1626288afb>\u001b[0m in \u001b[0;36m<module>\u001b[1;34m\u001b[0m\n\u001b[1;32m----> 1\u001b[1;33m \u001b[0mhere\u001b[0m\u001b[1;33m\u001b[0m\u001b[1;33m\u001b[0m\u001b[0m\n\u001b[0m",
      "\u001b[1;31mNameError\u001b[0m: name 'here' is not defined"
     ]
    }
   ],
   "source": [
    "here"
   ]
  },
  {
   "cell_type": "code",
   "execution_count": null,
   "metadata": {},
   "outputs": [],
   "source": []
  },
  {
   "cell_type": "code",
   "execution_count": null,
   "metadata": {},
   "outputs": [],
   "source": []
  },
  {
   "cell_type": "code",
   "execution_count": null,
   "metadata": {},
   "outputs": [],
   "source": []
  },
  {
   "cell_type": "code",
   "execution_count": null,
   "metadata": {},
   "outputs": [],
   "source": []
  },
  {
   "cell_type": "code",
   "execution_count": 39,
   "metadata": {},
   "outputs": [
    {
     "ename": "TypeError",
     "evalue": "'float' object cannot be interpreted as an integer",
     "output_type": "error",
     "traceback": [
      "\u001b[1;31m---------------------------------------------------------------------------\u001b[0m",
      "\u001b[1;31mTypeError\u001b[0m                                 Traceback (most recent call last)",
      "\u001b[1;32m<ipython-input-39-b282bbe29198>\u001b[0m in \u001b[0;36m<module>\u001b[1;34m\u001b[0m\n\u001b[0;32m     15\u001b[0m \u001b[1;31m#print(Time_Exp,\"yeahhh\")\u001b[0m\u001b[1;33m\u001b[0m\u001b[1;33m\u001b[0m\u001b[1;33m\u001b[0m\u001b[0m\n\u001b[0;32m     16\u001b[0m \u001b[1;33m\u001b[0m\u001b[0m\n\u001b[1;32m---> 17\u001b[1;33m \u001b[1;32mfor\u001b[0m \u001b[0mj\u001b[0m \u001b[1;32min\u001b[0m \u001b[0mrange\u001b[0m\u001b[1;33m(\u001b[0m\u001b[0mS_spin\u001b[0m\u001b[1;33m+\u001b[0m\u001b[1;36m1\u001b[0m\u001b[1;33m)\u001b[0m\u001b[1;33m:\u001b[0m\u001b[1;33m\u001b[0m\u001b[1;33m\u001b[0m\u001b[0m\n\u001b[0m\u001b[0;32m     18\u001b[0m \u001b[1;33m\u001b[0m\u001b[0m\n\u001b[0;32m     19\u001b[0m     \u001b[0mxs\u001b[0m \u001b[1;33m=\u001b[0m \u001b[0mtms1\u001b[0m\u001b[1;33m\u001b[0m\u001b[1;33m\u001b[0m\u001b[0m\n",
      "\u001b[1;31mTypeError\u001b[0m: 'float' object cannot be interpreted as an integer"
     ]
    }
   ],
   "source": [
    "tms1=tms\n",
    "\n",
    "PopulExperimental=Populations_Exp\n",
    "\n",
    "PopulFixed=PopulExperimental\n",
    "\n",
    "\n",
    "\n",
    "from scipy.interpolate import interp1d\n",
    "import numpy as np\n",
    "\n",
    "\n",
    "Popul_Interpolate=np.zeros((4, len(PopulFixed[0])))\n",
    "\n",
    "#print(Time_Exp,\"yeahhh\")\n",
    "\n",
    "for j in range(S_spin+1):\n",
    "\n",
    "    xs = tms1\n",
    "    ys = real(Popul_CMFT[S_spin-j])\n",
    "    interp_func = interp1d(xs, ys)\n",
    "    newarr = interp_func(Time_Exp)\n",
    "\n",
    "\n",
    "    Popul_Interpolate[j]=newarr\n",
    "\n",
    "\n",
    "\n",
    "Chi_square_mat=((Populations_Exp-Popul_Interpolate)**2)/Var_Exp\n",
    "\n",
    "\n",
    "\n",
    "Chi_Square_Val=2*np.sum(Chi_square_mat)-np.sum(Chi_square_mat,axis=1)[0]\n",
    "\n",
    "#Chi_Square_Val=np.sum(Chi_square_mat)\n",
    "\n",
    "\n",
    "# In[284]:"
   ]
  },
  {
   "cell_type": "code",
   "execution_count": null,
   "metadata": {},
   "outputs": [],
   "source": []
  },
  {
   "cell_type": "code",
   "execution_count": null,
   "metadata": {},
   "outputs": [],
   "source": []
  },
  {
   "cell_type": "code",
   "execution_count": null,
   "metadata": {},
   "outputs": [],
   "source": []
  },
  {
   "cell_type": "code",
   "execution_count": null,
   "metadata": {},
   "outputs": [],
   "source": []
  },
  {
   "cell_type": "code",
   "execution_count": null,
   "metadata": {},
   "outputs": [],
   "source": []
  },
  {
   "cell_type": "code",
   "execution_count": 85,
   "metadata": {},
   "outputs": [
    {
     "data": {
      "text/plain": [
       "array([[ 5.00000000e-01+0.00000000e+00j,  0.00000000e+00-2.77555756e-17j,\n",
       "        -1.66533454e-16+0.00000000e+00j, ...,\n",
       "         2.46446128e-01-2.77555756e-17j,  1.52655666e-16+3.46944695e-18j,\n",
       "        -1.88217497e-16+0.00000000e+00j]])"
      ]
     },
     "execution_count": 85,
     "metadata": {},
     "output_type": "execute_result"
    }
   ],
   "source": [
    "Mean_Val_XYZ"
   ]
  },
  {
   "cell_type": "code",
   "execution_count": null,
   "metadata": {},
   "outputs": [],
   "source": []
  },
  {
   "cell_type": "code",
   "execution_count": null,
   "metadata": {},
   "outputs": [],
   "source": []
  },
  {
   "cell_type": "code",
   "execution_count": null,
   "metadata": {},
   "outputs": [],
   "source": []
  },
  {
   "cell_type": "code",
   "execution_count": null,
   "metadata": {},
   "outputs": [],
   "source": []
  },
  {
   "cell_type": "code",
   "execution_count": null,
   "metadata": {},
   "outputs": [],
   "source": []
  },
  {
   "cell_type": "code",
   "execution_count": null,
   "metadata": {},
   "outputs": [],
   "source": []
  },
  {
   "cell_type": "code",
   "execution_count": null,
   "metadata": {},
   "outputs": [],
   "source": []
  },
  {
   "cell_type": "code",
   "execution_count": null,
   "metadata": {},
   "outputs": [],
   "source": [
    "OperX[0].todense()"
   ]
  },
  {
   "cell_type": "code",
   "execution_count": null,
   "metadata": {},
   "outputs": [],
   "source": []
  },
  {
   "cell_type": "code",
   "execution_count": null,
   "metadata": {},
   "outputs": [],
   "source": []
  },
  {
   "cell_type": "code",
   "execution_count": null,
   "metadata": {},
   "outputs": [],
   "source": []
  },
  {
   "cell_type": "code",
   "execution_count": null,
   "metadata": {},
   "outputs": [],
   "source": []
  },
  {
   "cell_type": "code",
   "execution_count": null,
   "metadata": {},
   "outputs": [],
   "source": []
  },
  {
   "cell_type": "code",
   "execution_count": null,
   "metadata": {},
   "outputs": [],
   "source": []
  },
  {
   "cell_type": "code",
   "execution_count": 61,
   "metadata": {},
   "outputs": [],
   "source": [
    "B_Q_values=np.arange(-2,2,0.05)\n",
    "Chi_square_Result=[]"
   ]
  },
  {
   "cell_type": "code",
   "execution_count": 62,
   "metadata": {},
   "outputs": [
    {
     "data": {
      "text/plain": [
       "2"
      ]
     },
     "execution_count": 62,
     "metadata": {},
     "output_type": "execute_result"
    }
   ],
   "source": [
    "Atom_cutoff"
   ]
  },
  {
   "cell_type": "code",
   "execution_count": 63,
   "metadata": {},
   "outputs": [
    {
     "name": "stdout",
     "output_type": "stream",
     "text": [
      "0.333889816360601 %\n",
      "0.8347245409015025 %\n",
      "1.335559265442404 %\n",
      "1.8363939899833055 %\n",
      "2.337228714524207 %\n",
      "2.8380634390651087 %\n",
      "3.33889816360601 %\n",
      "3.8397328881469117 %\n",
      "4.340567612687813 %\n",
      "4.841402337228715 %\n",
      "5.342237061769616 %\n",
      "5.843071786310517 %\n",
      "6.343906510851419 %\n",
      "6.844741235392321 %\n",
      "7.345575959933222 %\n",
      "7.846410684474123 %\n",
      "8.347245409015025 %\n",
      "8.848080133555927 %\n",
      "9.348914858096828 %\n",
      "9.84974958263773 %\n",
      "10.35058430717863 %\n",
      "10.851419031719532 %\n",
      "11.352253756260435 %\n",
      "11.853088480801336 %\n",
      "12.353923205342237 %\n",
      "12.854757929883139 %\n",
      "13.35559265442404 %\n",
      "13.856427378964941 %\n",
      "14.357262103505843 %\n",
      "14.858096828046744 %\n",
      "15.358931552587647 %\n",
      "15.859766277128548 %\n",
      "16.360601001669448 %\n",
      "16.86143572621035 %\n",
      "17.362270450751254 %\n",
      "17.863105175292155 %\n",
      "18.363939899833056 %\n",
      "18.864774624373958 %\n",
      "19.36560934891486 %\n",
      "19.86644407345576 %\n",
      "20.36727879799666 %\n",
      "20.868113522537563 %\n",
      "21.368948247078464 %\n",
      "21.869782971619365 %\n",
      "22.370617696160267 %\n",
      "22.871452420701168 %\n",
      "23.37228714524207 %\n",
      "23.87312186978297 %\n",
      "24.37395659432387 %\n",
      "24.874791318864773 %\n",
      "25.375626043405678 %\n",
      "25.87646076794658 %\n",
      "26.37729549248748 %\n",
      "26.87813021702838 %\n",
      "27.378964941569283 %\n",
      "27.879799666110184 %\n",
      "28.380634390651085 %\n",
      "28.881469115191987 %\n",
      "29.382303839732888 %\n",
      "29.88313856427379 %\n",
      "30.38397328881469 %\n",
      "30.884808013355592 %\n",
      "31.385642737896493 %\n",
      "31.886477462437394 %\n",
      "32.3873121869783 %\n",
      "32.8881469115192 %\n",
      "33.3889816360601 %\n",
      "33.889816360601 %\n",
      "34.390651085141904 %\n",
      "34.891485809682806 %\n",
      "35.39232053422371 %\n",
      "35.89315525876461 %\n",
      "36.39398998330551 %\n",
      "36.89482470784641 %\n",
      "37.39565943238731 %\n",
      "37.89649415692821 %\n",
      "38.397328881469114 %\n",
      "38.898163606010016 %\n",
      "39.39899833055092 %\n",
      "39.89983305509182 %\n",
      "40.40066777963272 %\n",
      "40.90150250417362 %\n",
      "41.40233722871452 %\n",
      "41.90317195325542 %\n",
      "42.404006677796325 %\n",
      "42.904841402337226 %\n",
      "43.40567612687813 %\n",
      "43.90651085141903 %\n",
      "44.40734557595993 %\n",
      "44.90818030050084 %\n",
      "45.40901502504174 %\n",
      "45.90984974958264 %\n",
      "46.41068447412354 %\n",
      "46.91151919866444 %\n",
      "47.412353923205345 %\n",
      "47.913188647746246 %\n",
      "48.41402337228715 %\n",
      "48.91485809682805 %\n",
      "49.41569282136895 %\n",
      "49.91652754590985 %\n",
      "50.41736227045075 %\n",
      "50.91819699499165 %\n",
      "51.419031719532555 %\n",
      "51.919866444073456 %\n",
      "52.42070116861436 %\n",
      "52.92153589315526 %\n",
      "53.42237061769616 %\n",
      "53.92320534223706 %\n",
      "54.42404006677796 %\n",
      "54.924874791318864 %\n",
      "55.425709515859765 %\n",
      "55.926544240400666 %\n",
      "56.42737896494157 %\n",
      "56.92821368948247 %\n",
      "57.42904841402337 %\n",
      "57.92988313856427 %\n",
      "58.43071786310517 %\n",
      "58.931552587646074 %\n",
      "59.432387312186975 %\n",
      "59.93322203672788 %\n",
      "60.43405676126878 %\n",
      "60.934891485809686 %\n",
      "61.43572621035059 %\n",
      "61.93656093489149 %\n",
      "62.43739565943239 %\n",
      "62.93823038397329 %\n",
      "63.43906510851419 %\n",
      "63.939899833055094 %\n",
      "64.44073455759599 %\n",
      "64.9415692821369 %\n",
      "65.44240400667779 %\n",
      "65.9432387312187 %\n",
      "66.4440734557596 %\n",
      "66.9449081803005 %\n",
      "67.4457429048414 %\n",
      "67.9465776293823 %\n",
      "68.44741235392321 %\n",
      "68.9482470784641 %\n",
      "69.44908180300501 %\n",
      "69.94991652754591 %\n",
      "70.45075125208682 %\n",
      "70.95158597662771 %\n",
      "71.45242070116862 %\n",
      "71.95325542570951 %\n",
      "72.45409015025042 %\n",
      "72.95492487479132 %\n",
      "73.45575959933223 %\n",
      "73.95659432387312 %\n",
      "74.45742904841403 %\n",
      "74.95826377295492 %\n",
      "75.45909849749583 %\n",
      "75.95993322203672 %\n",
      "76.46076794657763 %\n",
      "76.96160267111853 %\n",
      "77.46243739565944 %\n",
      "77.96327212020033 %\n",
      "78.46410684474124 %\n",
      "78.96494156928213 %\n",
      "79.46577629382304 %\n",
      "79.96661101836393 %\n",
      "80.46744574290484 %\n",
      "80.96828046744574 %\n",
      "81.46911519198665 %\n",
      "81.96994991652754 %\n",
      "82.47078464106845 %\n",
      "82.97161936560934 %\n",
      "83.47245409015025 %\n",
      "83.97328881469114 %\n",
      "84.47412353923205 %\n",
      "84.97495826377296 %\n",
      "85.47579298831386 %\n",
      "85.97662771285476 %\n",
      "86.47746243739566 %\n",
      "86.97829716193657 %\n",
      "87.47913188647746 %\n",
      "87.97996661101837 %\n",
      "88.48080133555926 %\n",
      "88.98163606010017 %\n",
      "89.48247078464107 %\n",
      "89.98330550918197 %\n",
      "90.48414023372287 %\n",
      "90.98497495826378 %\n",
      "91.48580968280467 %\n",
      "91.98664440734558 %\n",
      "92.48747913188647 %\n",
      "92.98831385642738 %\n",
      "93.48914858096828 %\n",
      "93.98998330550918 %\n",
      "94.49081803005008 %\n",
      "94.99165275459099 %\n",
      "95.49248747913188 %\n",
      "95.99332220367279 %\n",
      "96.49415692821368 %\n",
      "96.99499165275459 %\n",
      "97.49582637729549 %\n",
      "97.9966611018364 %\n",
      "98.49749582637729 %\n",
      "98.9983305509182 %\n",
      "99.49916527545909 %\n"
     ]
    },
    {
     "ename": "TypeError",
     "evalue": "'float' object cannot be interpreted as an integer",
     "output_type": "error",
     "traceback": [
      "\u001b[1;31m---------------------------------------------------------------------------\u001b[0m",
      "\u001b[1;31mTypeError\u001b[0m                                 Traceback (most recent call last)",
      "\u001b[1;32m<ipython-input-63-47665b2f7925>\u001b[0m in \u001b[0;36m<module>\u001b[1;34m\u001b[0m\n\u001b[1;32m----> 1\u001b[1;33m \u001b[0mResult_C3\u001b[0m\u001b[1;33m=\u001b[0m\u001b[0mChi_square_reg\u001b[0m\u001b[1;33m(\u001b[0m\u001b[1;33m-\u001b[0m\u001b[1;36m1.8475\u001b[0m\u001b[1;33m)\u001b[0m\u001b[1;33m\u001b[0m\u001b[1;33m\u001b[0m\u001b[0m\n\u001b[0m",
      "\u001b[1;32m<ipython-input-60-a14d3e4a337b>\u001b[0m in \u001b[0;36mChi_square_reg\u001b[1;34m(B_Q, Atom_cutoff)\u001b[0m\n\u001b[0;32m    799\u001b[0m     \u001b[1;31m#print(Time_Exp,\"yeahhh\")\u001b[0m\u001b[1;33m\u001b[0m\u001b[1;33m\u001b[0m\u001b[1;33m\u001b[0m\u001b[0m\n\u001b[0;32m    800\u001b[0m \u001b[1;33m\u001b[0m\u001b[0m\n\u001b[1;32m--> 801\u001b[1;33m     \u001b[1;32mfor\u001b[0m \u001b[0mj\u001b[0m \u001b[1;32min\u001b[0m \u001b[0mrange\u001b[0m\u001b[1;33m(\u001b[0m\u001b[0mS_spin\u001b[0m\u001b[1;33m+\u001b[0m\u001b[1;36m1\u001b[0m\u001b[1;33m)\u001b[0m\u001b[1;33m:\u001b[0m\u001b[1;33m\u001b[0m\u001b[1;33m\u001b[0m\u001b[0m\n\u001b[0m\u001b[0;32m    802\u001b[0m \u001b[1;33m\u001b[0m\u001b[0m\n\u001b[0;32m    803\u001b[0m         \u001b[0mxs\u001b[0m \u001b[1;33m=\u001b[0m \u001b[0mtms1\u001b[0m\u001b[1;33m\u001b[0m\u001b[1;33m\u001b[0m\u001b[0m\n",
      "\u001b[1;31mTypeError\u001b[0m: 'float' object cannot be interpreted as an integer"
     ]
    }
   ],
   "source": [
    "Result_C3=Chi_square_reg(-1.8475)"
   ]
  },
  {
   "cell_type": "code",
   "execution_count": null,
   "metadata": {},
   "outputs": [],
   "source": []
  },
  {
   "cell_type": "code",
   "execution_count": null,
   "metadata": {},
   "outputs": [],
   "source": []
  },
  {
   "cell_type": "code",
   "execution_count": null,
   "metadata": {},
   "outputs": [],
   "source": []
  },
  {
   "cell_type": "code",
   "execution_count": null,
   "metadata": {},
   "outputs": [],
   "source": []
  },
  {
   "cell_type": "code",
   "execution_count": null,
   "metadata": {},
   "outputs": [],
   "source": []
  },
  {
   "cell_type": "code",
   "execution_count": null,
   "metadata": {},
   "outputs": [],
   "source": []
  },
  {
   "cell_type": "code",
   "execution_count": null,
   "metadata": {},
   "outputs": [],
   "source": []
  },
  {
   "cell_type": "code",
   "execution_count": null,
   "metadata": {},
   "outputs": [],
   "source": []
  },
  {
   "cell_type": "code",
   "execution_count": null,
   "metadata": {},
   "outputs": [],
   "source": []
  },
  {
   "cell_type": "code",
   "execution_count": null,
   "metadata": {},
   "outputs": [],
   "source": []
  },
  {
   "cell_type": "code",
   "execution_count": null,
   "metadata": {},
   "outputs": [],
   "source": []
  },
  {
   "cell_type": "code",
   "execution_count": 65,
   "metadata": {},
   "outputs": [
    {
     "data": {
      "text/plain": [
       "array([[-3.00000000e+00+0.00000000e+00j,  0.00000000e+00+1.31188463e-17j,\n",
       "        -4.29344060e-17+0.00000000e+00j, ...,\n",
       "         3.95095981e-02+0.00000000e+00j,  6.26994116e-16-1.14925430e-17j,\n",
       "        -1.11347563e-16+8.67361738e-19j]])"
      ]
     },
     "execution_count": 65,
     "metadata": {},
     "output_type": "execute_result"
    }
   ],
   "source": [
    "Result_C3[3]"
   ]
  },
  {
   "cell_type": "code",
   "execution_count": null,
   "metadata": {},
   "outputs": [],
   "source": []
  },
  {
   "cell_type": "code",
   "execution_count": null,
   "metadata": {},
   "outputs": [],
   "source": []
  },
  {
   "cell_type": "code",
   "execution_count": null,
   "metadata": {},
   "outputs": [],
   "source": []
  },
  {
   "cell_type": "code",
   "execution_count": null,
   "metadata": {},
   "outputs": [],
   "source": []
  },
  {
   "cell_type": "code",
   "execution_count": null,
   "metadata": {},
   "outputs": [],
   "source": []
  },
  {
   "cell_type": "code",
   "execution_count": null,
   "metadata": {},
   "outputs": [],
   "source": []
  },
  {
   "cell_type": "code",
   "execution_count": null,
   "metadata": {},
   "outputs": [],
   "source": []
  },
  {
   "cell_type": "code",
   "execution_count": null,
   "metadata": {},
   "outputs": [],
   "source": []
  },
  {
   "cell_type": "code",
   "execution_count": null,
   "metadata": {},
   "outputs": [],
   "source": []
  },
  {
   "cell_type": "code",
   "execution_count": null,
   "metadata": {},
   "outputs": [],
   "source": []
  },
  {
   "cell_type": "code",
   "execution_count": null,
   "metadata": {},
   "outputs": [],
   "source": []
  },
  {
   "cell_type": "code",
   "execution_count": null,
   "metadata": {},
   "outputs": [],
   "source": []
  },
  {
   "cell_type": "code",
   "execution_count": null,
   "metadata": {},
   "outputs": [],
   "source": []
  },
  {
   "cell_type": "code",
   "execution_count": null,
   "metadata": {},
   "outputs": [],
   "source": []
  },
  {
   "cell_type": "code",
   "execution_count": null,
   "metadata": {},
   "outputs": [],
   "source": []
  },
  {
   "cell_type": "code",
   "execution_count": null,
   "metadata": {},
   "outputs": [],
   "source": []
  },
  {
   "cell_type": "code",
   "execution_count": null,
   "metadata": {},
   "outputs": [],
   "source": []
  },
  {
   "cell_type": "code",
   "execution_count": null,
   "metadata": {},
   "outputs": [],
   "source": []
  },
  {
   "cell_type": "code",
   "execution_count": null,
   "metadata": {},
   "outputs": [],
   "source": []
  },
  {
   "cell_type": "code",
   "execution_count": null,
   "metadata": {},
   "outputs": [],
   "source": []
  },
  {
   "cell_type": "code",
   "execution_count": null,
   "metadata": {},
   "outputs": [],
   "source": []
  },
  {
   "cell_type": "code",
   "execution_count": null,
   "metadata": {},
   "outputs": [],
   "source": []
  },
  {
   "cell_type": "code",
   "execution_count": 328,
   "metadata": {},
   "outputs": [],
   "source": [
    "import matplotlib.pyplot as plt"
   ]
  },
  {
   "cell_type": "code",
   "execution_count": 329,
   "metadata": {},
   "outputs": [
    {
     "data": {
      "text/plain": [
       "3"
      ]
     },
     "execution_count": 329,
     "metadata": {},
     "output_type": "execute_result"
    }
   ],
   "source": [
    "len(Result_C3)"
   ]
  },
  {
   "cell_type": "code",
   "execution_count": 330,
   "metadata": {},
   "outputs": [
    {
     "data": {
      "text/plain": [
       "[<matplotlib.lines.Line2D at 0x1b88033a100>]"
      ]
     },
     "execution_count": 330,
     "metadata": {},
     "output_type": "execute_result"
    },
    {
     "data": {
      "image/png": "[encoded data removed]",
      "text/plain": [
       "<Figure size 432x288 with 1 Axes>"
      ]
     },
     "metadata": {
      "needs_background": "light"
     },
     "output_type": "display_data"
    }
   ],
   "source": [
    "#plt.plot(real(Result_C3[1][0]))\n",
    "#plt.plot(real(Result_C3[1][1]))\n",
    "#plt.plot(real(Result_C3[1][2]))\n",
    "plt.plot(real(Result_C3[1][3]))"
   ]
  },
  {
   "cell_type": "code",
   "execution_count": 331,
   "metadata": {},
   "outputs": [
    {
     "data": {
      "text/plain": [
       "(7, 1)"
      ]
     },
     "execution_count": 331,
     "metadata": {},
     "output_type": "execute_result"
    }
   ],
   "source": [
    "mz_cuad=np.array([[9],[4],[1],[0],[1],[4],[9]])\n",
    "\n",
    "mz_cuad.shape"
   ]
  },
  {
   "cell_type": "code",
   "execution_count": 332,
   "metadata": {},
   "outputs": [
    {
     "data": {
      "text/plain": [
       "array([ 1.6314676 -1.30104261e-18j, -0.09608794+2.71050543e-19j,\n",
       "        0.20411601-8.67361738e-19j, -0.26892245-4.33680869e-19j,\n",
       "        0.28125317+1.08420217e-19j, -0.07058677+6.50521303e-19j,\n",
       "        0.        +0.00000000e+00j,  0.        +0.00000000e+00j])"
      ]
     },
     "execution_count": 332,
     "metadata": {},
     "output_type": "execute_result"
    }
   ],
   "source": [
    "Result_C3[2][-1]"
   ]
  },
  {
   "cell_type": "code",
   "execution_count": null,
   "metadata": {},
   "outputs": [],
   "source": []
  },
  {
   "cell_type": "code",
   "execution_count": null,
   "metadata": {},
   "outputs": [
    {
     "name": "stderr",
     "output_type": "stream",
     "text": [
      "C:\\Users\\camil\\anaconda3\\lib\\site-packages\\matplotlib\\cbook\\__init__.py:1317: ComplexWarning: Casting complex values to real discards the imaginary part\n",
      "  return np.asarray(x, float)\n"
     ]
    },
    {
     "data": {
      "text/plain": [
       "[<matplotlib.lines.Line2D at 0x1b8811907c0>]"
      ]
     },
     "execution_count": 334,
     "metadata": {},
     "output_type": "execute_result"
    },
    {
     "data": {
      "image/png": "[encoded data removed]",
      "text/plain": [
       "<Figure size 432x288 with 1 Axes>"
      ]
     },
     "metadata": {
      "needs_background": "light"
     },
     "output_type": "display_data"
    }
   ],
   "source": [
    "plt.plot(1.5-real((mz_cuad.T)@Result_C3[1])[0])\n",
    "plt.plot(np.sum(Cov_del,axis=1))"
   ]
  },
  {
   "cell_type": "code",
   "execution_count": null,
   "metadata": {},
   "outputs": [],
   "source": []
  },
  {
   "cell_type": "code",
   "execution_count": null,
   "metadata": {},
   "outputs": [],
   "source": []
  },
  {
   "cell_type": "code",
   "execution_count": null,
   "metadata": {},
   "outputs": [],
   "source": []
  },
  {
   "cell_type": "code",
   "execution_count": null,
   "metadata": {},
   "outputs": [],
   "source": []
  },
  {
   "cell_type": "code",
   "execution_count": 6,
   "metadata": {},
   "outputs": [
    {
     "name": "stdout",
     "output_type": "stream",
     "text": [
      "13145.304145381082 0.0 %\n",
      "13181.235790967257 1.25 %\n",
      "13202.55121198855 2.5 %\n",
      "13208.779501964598 3.75 %\n",
      "13210.475406603508 5.0 %\n",
      "13199.60416147252 6.25 %\n",
      "13149.785727120636 7.5 %\n",
      "13036.069890580155 8.75 %\n",
      "12841.803522170327 10.0 %\n",
      "12553.379214047705 11.25 %\n",
      "12164.681029283412 12.5 %\n",
      "11685.483906398667 13.75 %\n",
      "11131.930360245015 15.0 %\n",
      "10513.058742439449 16.25 %\n",
      "9843.823128445447 17.5 %\n",
      "9166.215461430045 18.75 %\n",
      "8536.050662809734 20.0 %\n",
      "7988.894923623519 21.25 %\n",
      "7530.523180361968 22.5 %\n",
      "7152.168068473521 23.75 %\n",
      "6837.997107765293 25.0 %\n",
      "6554.384844019877 26.25 %\n",
      "6244.531608223569 27.5 %\n",
      "5848.1692098777885 28.75 %\n",
      "5333.976830709395 30.0 %\n",
      "4725.035589428788 31.25 %\n",
      "4095.292863181548 32.5 %\n",
      "3525.7801658995672 33.75 %\n",
      "3104.376243923803 35.0 %\n",
      "2901.706591565785 36.25 %\n",
      "2716.1417696208205 37.5 %\n",
      "2181.506149138605 38.75 %\n",
      "1487.815903389805 40.0 %\n",
      "1270.1085554056042 41.25 %\n",
      "1718.5226368660974 42.5 %\n",
      "2427.891999285912 43.75 %\n",
      "2805.0200441896372 45.0 %\n",
      "2649.7878736735124 46.25 %\n",
      "2352.0728270198915 47.5 %\n",
      "2204.186218658558 48.75 %\n",
      "2133.9684089794187 50.0 %\n",
      "2053.861979481911 51.25 %\n",
      "1866.219799393652 52.5 %\n",
      "1531.9214982824324 53.75 %\n",
      "1317.016050680385 55.0 %\n",
      "1504.3779193241535 56.25 %\n",
      "1934.502206342118 57.5 %\n",
      "2245.9606179460425 58.75 %\n",
      "2375.7258975777545 60.0 %\n",
      "2492.9806873895586 61.25 %\n",
      "2668.307931345288 62.5 %\n",
      "2775.9891627017787 63.75 %\n",
      "2662.3023201639494 65.0 %\n",
      "2365.8145646332955 66.25 %\n",
      "2054.382099069389 67.5 %\n",
      "1860.2300264531834 68.75 %\n",
      "1871.2329121772561 70.0 %\n",
      "2099.25220496123 71.25 %\n",
      "2396.301013864829 72.5 %\n",
      "2531.0456523047924 73.75 %\n",
      "2416.084757965985 75.0 %\n",
      "2160.8285439114893 76.25 %\n",
      "1909.0729925419776 77.5 %\n",
      "1738.6668868328466 78.75 %\n",
      "1671.616923191747 80.0 %\n",
      "1685.2456383420656 81.25 %\n",
      "1737.7088613857404 82.5 %\n",
      "1807.8210481384583 83.75 %\n",
      "1881.2059979733804 85.0 %\n",
      "1931.6030319967686 86.25 %\n",
      "1937.6706775056027 87.5 %\n",
      "1894.947695429076 88.75 %\n",
      "1821.836830108756 90.0 %\n",
      "1766.204192469774 91.25 %\n",
      "1780.027866992651 92.5 %\n",
      "1871.4062369448175 93.75 %\n",
      "1997.9448266311451 95.0 %\n",
      "2094.5347550674364 96.25 %\n",
      "2095.294203841968 97.5 %\n",
      "1973.7670677329315 98.75 %\n"
     ]
    }
   ],
   "source": [
    "\n",
    "\n",
    "for jres in range(len(B_Q_values)):\n",
    "    \n",
    "    res_j=Chi_square_reg(B_Q_values[jres])[0]\n",
    "    \n",
    "    Chi_square_Result.append(res_j)\n",
    "    \n",
    "    print(res_j, jres*100/len(B_Q_values), \"%\")"
   ]
  },
  {
   "cell_type": "code",
   "execution_count": null,
   "metadata": {},
   "outputs": [],
   "source": []
  },
  {
   "cell_type": "code",
   "execution_count": 7,
   "metadata": {},
   "outputs": [
    {
     "data": {
      "text/plain": [
       "[13145.304145381082,\n",
       " 13181.235790967257,\n",
       " 13202.55121198855,\n",
       " 13208.779501964598,\n",
       " 13210.475406603508,\n",
       " 13199.60416147252,\n",
       " 13149.785727120636,\n",
       " 13036.069890580155,\n",
       " 12841.803522170327,\n",
       " 12553.379214047705,\n",
       " 12164.681029283412,\n",
       " 11685.483906398667,\n",
       " 11131.930360245015,\n",
       " 10513.058742439449,\n",
       " 9843.823128445447,\n",
       " 9166.215461430045,\n",
       " 8536.050662809734,\n",
       " 7988.894923623519,\n",
       " 7530.523180361968,\n",
       " 7152.168068473521,\n",
       " 6837.997107765293,\n",
       " 6554.384844019877,\n",
       " 6244.531608223569,\n",
       " 5848.1692098777885,\n",
       " 5333.976830709395,\n",
       " 4725.035589428788,\n",
       " 4095.292863181548,\n",
       " 3525.7801658995672,\n",
       " 3104.376243923803,\n",
       " 2901.706591565785,\n",
       " 2716.1417696208205,\n",
       " 2181.506149138605,\n",
       " 1487.815903389805,\n",
       " 1270.1085554056042,\n",
       " 1718.5226368660974,\n",
       " 2427.891999285912,\n",
       " 2805.0200441896372,\n",
       " 2649.7878736735124,\n",
       " 2352.0728270198915,\n",
       " 2204.186218658558,\n",
       " 2133.9684089794187,\n",
       " 2053.861979481911,\n",
       " 1866.219799393652,\n",
       " 1531.9214982824324,\n",
       " 1317.016050680385,\n",
       " 1504.3779193241535,\n",
       " 1934.502206342118,\n",
       " 2245.9606179460425,\n",
       " 2375.7258975777545,\n",
       " 2492.9806873895586,\n",
       " 2668.307931345288,\n",
       " 2775.9891627017787,\n",
       " 2662.3023201639494,\n",
       " 2365.8145646332955,\n",
       " 2054.382099069389,\n",
       " 1860.2300264531834,\n",
       " 1871.2329121772561,\n",
       " 2099.25220496123,\n",
       " 2396.301013864829,\n",
       " 2531.0456523047924,\n",
       " 2416.084757965985,\n",
       " 2160.8285439114893,\n",
       " 1909.0729925419776,\n",
       " 1738.6668868328466,\n",
       " 1671.616923191747,\n",
       " 1685.2456383420656,\n",
       " 1737.7088613857404,\n",
       " 1807.8210481384583,\n",
       " 1881.2059979733804,\n",
       " 1931.6030319967686,\n",
       " 1937.6706775056027,\n",
       " 1894.947695429076,\n",
       " 1821.836830108756,\n",
       " 1766.204192469774,\n",
       " 1780.027866992651,\n",
       " 1871.4062369448175,\n",
       " 1997.9448266311451,\n",
       " 2094.5347550674364,\n",
       " 2095.294203841968,\n",
       " 1973.7670677329315]"
      ]
     },
     "execution_count": 7,
     "metadata": {},
     "output_type": "execute_result"
    }
   ],
   "source": [
    "Chi_square_Result"
   ]
  },
  {
   "cell_type": "code",
   "execution_count": null,
   "metadata": {},
   "outputs": [],
   "source": []
  },
  {
   "cell_type": "code",
   "execution_count": null,
   "metadata": {},
   "outputs": [],
   "source": []
  },
  {
   "cell_type": "code",
   "execution_count": null,
   "metadata": {},
   "outputs": [],
   "source": []
  },
  {
   "cell_type": "code",
   "execution_count": null,
   "metadata": {},
   "outputs": [],
   "source": []
  },
  {
   "cell_type": "code",
   "execution_count": null,
   "metadata": {},
   "outputs": [],
   "source": []
  },
  {
   "cell_type": "code",
   "execution_count": 8,
   "metadata": {},
   "outputs": [],
   "source": [
    "Chi_square_Result=array(Chi_square_Result)"
   ]
  },
  {
   "cell_type": "code",
   "execution_count": 9,
   "metadata": {},
   "outputs": [
    {
     "data": {
      "text/plain": [
       "array([13145.30414538, 13181.23579097, 13202.55121199, 13208.77950196,\n",
       "       13210.4754066 , 13199.60416147, 13149.78572712, 13036.06989058,\n",
       "       12841.80352217, 12553.37921405, 12164.68102928, 11685.4839064 ,\n",
       "       11131.93036025, 10513.05874244,  9843.82312845,  9166.21546143,\n",
       "        8536.05066281,  7988.89492362,  7530.52318036,  7152.16806847,\n",
       "        6837.99710777,  6554.38484402,  6244.53160822,  5848.16920988,\n",
       "        5333.97683071,  4725.03558943,  4095.29286318,  3525.7801659 ,\n",
       "        3104.37624392,  2901.70659157,  2716.14176962,  2181.50614914,\n",
       "        1487.81590339,  1270.10855541,  1718.52263687,  2427.89199929,\n",
       "        2805.02004419,  2649.78787367,  2352.07282702,  2204.18621866,\n",
       "        2133.96840898,  2053.86197948,  1866.21979939,  1531.92149828,\n",
       "        1317.01605068,  1504.37791932,  1934.50220634,  2245.96061795,\n",
       "        2375.72589758,  2492.98068739,  2668.30793135,  2775.9891627 ,\n",
       "        2662.30232016,  2365.81456463,  2054.38209907,  1860.23002645,\n",
       "        1871.23291218,  2099.25220496,  2396.30101386,  2531.0456523 ,\n",
       "        2416.08475797,  2160.82854391,  1909.07299254,  1738.66688683,\n",
       "        1671.61692319,  1685.24563834,  1737.70886139,  1807.82104814,\n",
       "        1881.20599797,  1931.603032  ,  1937.67067751,  1894.94769543,\n",
       "        1821.83683011,  1766.20419247,  1780.02786699,  1871.40623694,\n",
       "        1997.94482663,  2094.53475507,  2095.29420384,  1973.76706773])"
      ]
     },
     "execution_count": 9,
     "metadata": {},
     "output_type": "execute_result"
    }
   ],
   "source": [
    "Chi_square_Result"
   ]
  },
  {
   "cell_type": "code",
   "execution_count": 17,
   "metadata": {},
   "outputs": [
    {
     "data": {
      "text/plain": [
       "[array([1270.10855541, 1317.01605068, 1860.23002645, 1671.61692319,\n",
       "        1766.20419247])]"
      ]
     },
     "execution_count": 17,
     "metadata": {},
     "output_type": "execute_result"
    }
   ],
   "source": [
    "Chi_square_prop"
   ]
  },
  {
   "cell_type": "code",
   "execution_count": 10,
   "metadata": {},
   "outputs": [],
   "source": [
    "import numpy as np\n",
    "from scipy.signal import argrelextrema\n",
    "\n",
    "# for local minima\n",
    "ArrayExtreme=array(argrelextrema(Chi_square_Result, np.less))"
   ]
  },
  {
   "cell_type": "code",
   "execution_count": 11,
   "metadata": {},
   "outputs": [],
   "source": [
    "\n",
    "\n",
    "BQ_candidates=[]\n",
    "Chi_square_prop=[]\n",
    "\n",
    "for jextr in ArrayExtreme:\n",
    "    \n",
    "    BQ_candidates.append(B_Q_values[jextr])\n",
    "    Chi_square_prop.append(Chi_square_Result[jextr])\n",
    "    \n"
   ]
  },
  {
   "cell_type": "code",
   "execution_count": 12,
   "metadata": {},
   "outputs": [],
   "source": [
    "import matplotlib.pyplot as plt"
   ]
  },
  {
   "cell_type": "code",
   "execution_count": 13,
   "metadata": {},
   "outputs": [
    {
     "data": {
      "text/plain": [
       "<matplotlib.collections.PathCollection at 0x2730454fa00>"
      ]
     },
     "execution_count": 13,
     "metadata": {},
     "output_type": "execute_result"
    },
    {
     "data": {
      "image/png": "[encoded data removed]",
      "text/plain": [
       "<Figure size 432x288 with 1 Axes>"
      ]
     },
     "metadata": {
      "needs_background": "light"
     },
     "output_type": "display_data"
    }
   ],
   "source": [
    "plt.plot(B_Q_values,Chi_square_Result)\n",
    "plt.scatter(BQ_candidates,Chi_square_prop,color=\"m\")"
   ]
  },
  {
   "cell_type": "code",
   "execution_count": null,
   "metadata": {},
   "outputs": [],
   "source": []
  },
  {
   "cell_type": "code",
   "execution_count": null,
   "metadata": {},
   "outputs": [],
   "source": []
  },
  {
   "cell_type": "code",
   "execution_count": 14,
   "metadata": {},
   "outputs": [],
   "source": [
    "tspan=np.linspace(0,1.8,600)\n",
    "\n",
    "tmsfin=tspan*28.85/0.5"
   ]
  },
  {
   "cell_type": "code",
   "execution_count": 15,
   "metadata": {},
   "outputs": [
    {
     "name": "stdout",
     "output_type": "stream",
     "text": [
      "-0.34999999999999853\n",
      "0.20000000000000195\n",
      "0.7500000000000027\n",
      "1.2000000000000028\n",
      "1.650000000000003\n"
     ]
    }
   ],
   "source": [
    "\n",
    "for Bqcan in BQ_candidates[0]:\n",
    "    print(Bqcan)"
   ]
  },
  {
   "cell_type": "code",
   "execution_count": null,
   "metadata": {},
   "outputs": [],
   "source": []
  },
  {
   "cell_type": "code",
   "execution_count": 16,
   "metadata": {},
   "outputs": [],
   "source": [
    "\n",
    "for Bqcan in BQ_candidates[0]:\n",
    "    \n",
    "    \n",
    "    Vals_chi=Chi_square_reg(Bqcan,Atom_cutoff_)\n",
    "    \n",
    "\n",
    "    file = open( \"Chi_CrFitting_Atoms_\"+str(Vij_p.shape[0])+\"_Cluster_size_\"+str(Atom_cutoff_)+\"_B_Q_\"+str(Bqcan.round(4))+\"_ChiVal_\"+str(Vals_chi[0])+\"_Final_Time_\"+str(tmsfin[-1].round(6))+\".txt\"  , \"w+\")\n",
    "    \n",
    "    np.savetxt(file, real(Vals_chi[1]), delimiter=',')\n",
    "    file.write('\\n')\n",
    "    file.write('\\n')\n",
    "    file.close()    \n",
    "\n"
   ]
  },
  {
   "cell_type": "code",
   "execution_count": null,
   "metadata": {},
   "outputs": [],
   "source": []
  },
  {
   "cell_type": "code",
   "execution_count": 18,
   "metadata": {},
   "outputs": [
    {
     "data": {
      "text/plain": [
       "[array([1270.10855541, 1317.01605068, 1860.23002645, 1671.61692319,\n",
       "        1766.20419247])]"
      ]
     },
     "execution_count": 18,
     "metadata": {},
     "output_type": "execute_result"
    }
   ],
   "source": [
    "Chi_square_prop"
   ]
  },
  {
   "cell_type": "code",
   "execution_count": null,
   "metadata": {},
   "outputs": [],
   "source": []
  },
  {
   "cell_type": "code",
   "execution_count": null,
   "metadata": {},
   "outputs": [],
   "source": []
  }
 ],
 "metadata": {
  "kernelspec": {
   "display_name": "Python 3",
   "language": "python",
   "name": "python3"
  },
  "language_info": {
   "codemirror_mode": {
    "name": "ipython",
    "version": 3
   },
   "file_extension": ".py",
   "mimetype": "text/x-python",
   "name": "python",
   "nbconvert_exporter": "python",
   "pygments_lexer": "ipython3",
   "version": "3.8.3"
  }
 },
 "nbformat": 4,
 "nbformat_minor": 4
}
