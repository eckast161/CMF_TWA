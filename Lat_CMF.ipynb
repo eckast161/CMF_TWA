{
 "cells": [
  {
   "cell_type": "markdown",
   "metadata": {
    "id": "xCnbgvGjrlZO"
   },
   "source": [
    "# MACE method"
   ]
  },
  {
   "cell_type": "code",
   "execution_count": 1,
   "metadata": {
    "id": "irVle1eLrlZR"
   },
   "outputs": [],
   "source": [
    "import matplotlib.pyplot as plt\n",
    "import numpy as np\n",
    "import matplotlib\n",
    "from numpy import cos, sin\n",
    "from numpy import sqrt\n",
    "import time\n",
    "from scipy.sparse.linalg import expm\n",
    "from pympler import asizeof\n",
    "import pandas as pd\n",
    "\n",
    "\"\"\"In order to provide a better presentation of the graphs we use the rcParams options shown below.\"\"\"\n",
    "\n",
    "matplotlib.rcParams['text.usetex'] = False\n",
    "matplotlib.rcParams['mathtext.fontset'] = 'stix'\n",
    "matplotlib.rcParams['font.family'] = 'STIXGeneral'\n",
    "matplotlib.rcParams['font.size'] = 15\n",
    "matplotlib.rcParams['figure.figsize'] = (11.0, 8.0)\n",
    "\n",
    "\n",
    "label_size = 20\n"
   ]
  },
  {
   "cell_type": "code",
   "execution_count": 2,
   "metadata": {
    "id": "ZXRLBqjsrlZT"
   },
   "outputs": [],
   "source": [
    "import matplotlib.pyplot as plt\n",
    "import numpy as np\n",
    "#from google.colab import files\n",
    "\n",
    "\"\"\"In order to provide a better presentation of the graphs we use the rcParams options shown below.\"\"\"\n",
    "\n",
    "import matplotlib\n",
    "matplotlib.rcParams['text.usetex'] = False\n",
    "matplotlib.rcParams['mathtext.fontset'] = 'stix'\n",
    "matplotlib.rcParams['font.family'] = 'STIXGeneral'\n",
    "matplotlib.rcParams['font.size'] = 15\n",
    "matplotlib.rcParams['figure.figsize'] = (11.0, 8.0)\n",
    "\n",
    "from numpy import cos, sin\n",
    "\n",
    "label_size = 20\n",
    "\n",
    "from numpy import sqrt\n",
    "\n",
    "import time\n",
    "from numba import jit\n",
    "from numpy import sin, cos\n",
    "\n",
    "T0=time.time()\n",
    "\n",
    "import matplotlib\n",
    "matplotlib.rcParams['text.usetex'] = False\n",
    "matplotlib.rcParams['mathtext.fontset'] = 'stix'\n",
    "matplotlib.rcParams['font.family'] = 'STIXGeneral'\n",
    "matplotlib.rcParams['font.size'] = 15\n",
    "matplotlib.rcParams['figure.figsize'] = (11.0, 8.0)"
   ]
  },
  {
   "cell_type": "code",
   "execution_count": 3,
   "metadata": {
    "id": "ek17_UTfrlZU"
   },
   "outputs": [],
   "source": [
    "\n",
    "import matplotlib.pyplot as plt\n",
    "%matplotlib inline\n",
    "from numpy import random, zeros, sqrt,cos,sin\n",
    "\n",
    "import matplotlib.pyplot as plt\n",
    "import numpy as np\n",
    "\n",
    "from numba import jit\n",
    "import numbers\n",
    "\n",
    "from numpy import sqrt, zeros, diag, random, real, array, complex_, transpose, conjugate, exp, matmul, real\n",
    "\n",
    "\n",
    "import matplotlib\n",
    "import matplotlib.pyplot as plt\n",
    "from scipy.linalg import norm\n",
    "from numpy import dot\n",
    "\n",
    "from numpy import pi as pi\n",
    "from numpy import array\n",
    "\n",
    "import scipy\n",
    "\n",
    "from numpy import exp, imag, real,zeros, conj\n",
    "from numpy import sum\n",
    "from scipy import sparse\n",
    "from numpy import array\n",
    "import scipy.sparse as sp\n",
    "from numpy import concatenate\n",
    "\n",
    "from scipy.sparse import csr_matrix\n",
    "from numpy import sqrt, dot\n",
    "from numpy.random import choice\n",
    "from numpy.random import normal\n",
    "from numpy import sqrt\n",
    "\n",
    "\n",
    "from numpy import add\n",
    "from numpy import concatenate\n",
    "from scipy.sparse import coo_matrix\n",
    "\n",
    "from scipy.sparse import kron\n",
    "\n",
    "#t0=time.time()\n",
    "\n",
    "import numpy as np\n",
    "import matplotlib.pyplot as plt\n",
    "import pandas as pd\n",
    "from mpl_toolkits import mplot3d\n",
    "import numpy as np\n",
    "import matplotlib.pyplot as plt\n",
    "from scipy.sparse import kron\n",
    "from scipy.sparse import coo_matrix, identity\n",
    "\n",
    "\n"
   ]
  },
  {
   "cell_type": "markdown",
   "metadata": {
    "id": "hl4NLoymrlZd"
   },
   "source": [
    "\\begin{align}\n",
    "\\hat{H}_{{\\rm MACE}}^{i} & =\\sum_{k\\in C_{i}}B_{Q}\\hat{s}_{z,k}^{2}+\\sum_{\\substack{j,k\\in C_{i},\\\\\n",
    "j<k\n",
    "}\n",
    "}V_{jk}\\left(\\hat{s}_{z,j}\\hat{s}_{z,k}-\\frac{1}{2}\\left(\\hat{s}_{x,j}\\hat{s}_{x,k}+\\hat{s}_{y,j}\\hat{s}_{y,k}\\right)\\right).\n",
    "\\end{align}\n"
   ]
  },
  {
   "cell_type": "markdown",
   "metadata": {
    "id": "RZvF39W5rlZg"
   },
   "source": [
    "# Parameters"
   ]
  },
  {
   "cell_type": "code",
   "execution_count": 4,
   "metadata": {
    "id": "tVs3Rzo8rlZg"
   },
   "outputs": [],
   "source": [
    "#Parameters  (Check the units)\n",
    "\n",
    "B_Q=-1.85 # in Vdd units\n",
    "N_atom=192\n",
    "S_spin=3   #determine the number of Zeeman levels (2S+1)\n",
    "Levels=int(2*S_spin+1)\n",
    "Atom_cutoff=2\n",
    "\n",
    "\n",
    "#Array Vij will be provided by Sean, just we will play with a random Vij for testing that the code makes sense.\n",
    "#Mgen=np.random.rand(N_atom,N_atom)\n",
    "\n",
    "\n",
    "Vij_p=array(pd.read_csv('Vij.csv', header=None))\n"
   ]
  },
  {
   "cell_type": "code",
   "execution_count": 5,
   "metadata": {},
   "outputs": [],
   "source": [
    "\n",
    "\n",
    "import matplotlib.pyplot as plt\n",
    "import numpy as np\n",
    "from numpy import sin, cos, sqrt\n",
    "\n",
    "\"\"\"In order to provide a better presentation of the graphs we use the rcParams options shown below.\"\"\"\n",
    "\n",
    "import matplotlib\n",
    "matplotlib.rcParams['text.usetex'] = False\n",
    "matplotlib.rcParams['mathtext.fontset'] = 'stix'\n",
    "matplotlib.rcParams['font.family'] = 'STIXGeneral'\n",
    "matplotlib.rcParams['font.size'] = 15\n",
    "matplotlib.rcParams['figure.figsize'] = (11.0, 8.0)\n",
    "\n",
    "from numpy import sqrt\n",
    "\n",
    "import time\n",
    "from numba import jit"
   ]
  },
  {
   "cell_type": "code",
   "execution_count": 6,
   "metadata": {},
   "outputs": [],
   "source": [
    "Vij=(Vij_p-np.diag(np.diag(Vij_p)))"
   ]
  },
  {
   "cell_type": "code",
   "execution_count": 7,
   "metadata": {},
   "outputs": [],
   "source": [
    "VijN=np.zeros((N_atom,N_atom))\n",
    "\n",
    "for j in range(N_atom):\n",
    "    \n",
    "    VijN[j]=Vij[j][:N_atom]\n",
    "    \n",
    "    \n"
   ]
  },
  {
   "cell_type": "code",
   "execution_count": 8,
   "metadata": {},
   "outputs": [],
   "source": [
    "Vij=VijN"
   ]
  },
  {
   "cell_type": "code",
   "execution_count": null,
   "metadata": {},
   "outputs": [],
   "source": []
  },
  {
   "cell_type": "code",
   "execution_count": 9,
   "metadata": {
    "colab": {
     "base_uri": "https://localhost:8080/"
    },
    "id": "8B8syfdKrlZi",
    "outputId": "5580c5fa-c28d-4e76-df4b-d31eb2e927d7"
   },
   "outputs": [
    {
     "data": {
      "image/png": "[encoded data removed]",
      "text/plain": [
       "<Figure size 792x576 with 2 Axes>"
      ]
     },
     "metadata": {
      "needs_background": "light"
     },
     "output_type": "display_data"
    }
   ],
   "source": [
    "\n",
    "plt.imshow(Vij)\n",
    "plt.colorbar()\n",
    "plt.show()\n"
   ]
  },
  {
   "cell_type": "code",
   "execution_count": null,
   "metadata": {},
   "outputs": [],
   "source": []
  },
  {
   "cell_type": "code",
   "execution_count": 10,
   "metadata": {},
   "outputs": [
    {
     "data": {
      "image/png": "[encoded data removed]",
      "text/plain": [
       "<Figure size 792x576 with 2 Axes>"
      ]
     },
     "metadata": {
      "needs_background": "light"
     },
     "output_type": "display_data"
    },
    {
     "data": {
      "text/plain": [
       "<Figure size 792x576 with 0 Axes>"
      ]
     },
     "metadata": {},
     "output_type": "display_data"
    }
   ],
   "source": [
    "\n",
    "\n",
    "plt.imshow(abs(Vij))\n",
    "plt.colorbar()\n",
    "plt.show()\n",
    "\n",
    "plt.savefig('foo.png')\n",
    "plt.savefig('foo.pdf')"
   ]
  },
  {
   "cell_type": "code",
   "execution_count": null,
   "metadata": {},
   "outputs": [],
   "source": []
  },
  {
   "cell_type": "code",
   "execution_count": 11,
   "metadata": {
    "id": "EsBMwLUX3Mln"
   },
   "outputs": [],
   "source": [
    "\n",
    "def index_Gij(arr,Atom_cutoff):\n",
    "    \n",
    "    Ordered_N = list(np.argsort(arr)[::-1][:Atom_cutoff])\n",
    "    \n",
    "    return Ordered_N\n",
    "\n",
    "# Provides a list of lists with the arrays that belong to each cluster\n",
    "\n",
    "\n",
    "Index_N=[]\n",
    "\n",
    "Rem_iden=abs(Vij)\n",
    "\n",
    "\n",
    "for j in range(Rem_iden.shape[0]):\n",
    "    \n",
    "    test_list = list(Rem_iden[j])\n",
    "    \n",
    "    Index_N.append( [j]+list(index_Gij(test_list,Atom_cutoff-1))  )"
   ]
  },
  {
   "cell_type": "code",
   "execution_count": null,
   "metadata": {
    "id": "UmuDpn5B3Mln"
   },
   "outputs": [],
   "source": []
  },
  {
   "cell_type": "code",
   "execution_count": null,
   "metadata": {
    "id": "Rq6Pb4uh3Mln"
   },
   "outputs": [],
   "source": []
  },
  {
   "cell_type": "code",
   "execution_count": null,
   "metadata": {
    "id": "lrfqdiPHrlZj"
   },
   "outputs": [],
   "source": []
  },
  {
   "cell_type": "code",
   "execution_count": null,
   "metadata": {},
   "outputs": [],
   "source": []
  },
  {
   "cell_type": "code",
   "execution_count": 12,
   "metadata": {},
   "outputs": [],
   "source": [
    "#https://easyspin.org/easyspin/documentation/spinoperators.html\n",
    "\n",
    "\n",
    "#Define Sz\n",
    "\n",
    "Val=np.linspace(-S_spin,S_spin,int(2*S_spin+1))\n",
    "Coord=np.linspace(0,2*S_spin,int(2*S_spin+1))\n",
    "    \n",
    "Sz_sp=sparse.coo_matrix((Val,(Coord,Coord)),shape=(int(2*S_spin+1),int(2*S_spin+1)),dtype=\"complex\") "
   ]
  },
  {
   "cell_type": "code",
   "execution_count": 13,
   "metadata": {},
   "outputs": [],
   "source": [
    "#Define Splus\n",
    "\n",
    "Val=[]\n",
    "\n",
    "\n",
    "for j in range(1,int(2*S_spin)+1):\n",
    "    \n",
    "    Val.append(sqrt((S_spin)*(S_spin+1)-(S_spin-j)*(S_spin+1-j)))\n",
    "    \n",
    "\n",
    "Coord=np.linspace(0,int(2*S_spin)-1,int(2*S_spin))    \n",
    "Splu_sp=(sparse.coo_matrix((Val,(Coord,Coord+1)),shape=(int(2*S_spin)+1,int(2*S_spin)+1),dtype=\"complex\")) \n",
    "\n",
    "Sx_sp=(Splu_sp+Splu_sp.T)/2\n",
    "Sy_sp=(Splu_sp-Splu_sp.T)/(2j)\n",
    "\n"
   ]
  },
  {
   "cell_type": "code",
   "execution_count": null,
   "metadata": {},
   "outputs": [],
   "source": []
  },
  {
   "cell_type": "code",
   "execution_count": null,
   "metadata": {},
   "outputs": [],
   "source": []
  },
  {
   "cell_type": "code",
   "execution_count": 14,
   "metadata": {},
   "outputs": [],
   "source": [
    "#Initial state |S,-S>\n",
    "Init_st=(sparse.coo_matrix(([1],([Levels-1],[0])),shape=(int(2*S_spin)+1,1),dtype=\"complex\")) \n",
    "\n",
    "#Rotated initial state\n",
    "\n",
    "Init_st_rot=(expm(scipy.sparse.csc_matrix(-1j*(np.pi/2)*Sy_sp))@Init_st)"
   ]
  },
  {
   "cell_type": "code",
   "execution_count": 15,
   "metadata": {},
   "outputs": [],
   "source": [
    "Id_Spin=scipy.sparse.identity(Levels, dtype='complex')\n",
    "\n",
    "Zero_Spin=0*Id_Spin\n",
    "\n",
    "\n",
    "def Zeeman_Popul(m_s):\n",
    "    \n",
    "    return sparse.coo_matrix(([1],([S_spin-m_s],[S_spin-m_s])),shape=(Levels,Levels),dtype=\"complex\")"
   ]
  },
  {
   "cell_type": "code",
   "execution_count": 16,
   "metadata": {},
   "outputs": [
    {
     "data": {
      "text/plain": [
       "array([[ 0.125     +0.j],\n",
       "       [-0.30618622+0.j],\n",
       "       [ 0.48412292+0.j],\n",
       "       [-0.55901699+0.j],\n",
       "       [ 0.48412292+0.j],\n",
       "       [-0.30618622+0.j],\n",
       "       [ 0.125     +0.j]])"
      ]
     },
     "execution_count": 16,
     "metadata": {},
     "output_type": "execute_result"
    }
   ],
   "source": [
    "Init_st_rot.toarray()"
   ]
  },
  {
   "cell_type": "code",
   "execution_count": null,
   "metadata": {},
   "outputs": [],
   "source": []
  },
  {
   "cell_type": "code",
   "execution_count": 17,
   "metadata": {},
   "outputs": [
    {
     "data": {
      "text/plain": [
       "<7x1 sparse matrix of type '<class 'numpy.complex128'>'\n",
       "\twith 7 stored elements in Compressed Sparse Column format>"
      ]
     },
     "execution_count": 17,
     "metadata": {},
     "output_type": "execute_result"
    }
   ],
   "source": [
    "Init_st_rot"
   ]
  },
  {
   "cell_type": "code",
   "execution_count": 18,
   "metadata": {},
   "outputs": [],
   "source": [
    "Init_Total_rot=Init_st_rot\n",
    "\n",
    "for j in range(Atom_cutoff-1):\n",
    "    \n",
    "    Init_Total_rot=kron(Init_Total_rot,Init_st_rot)\n",
    "    "
   ]
  },
  {
   "cell_type": "code",
   "execution_count": 19,
   "metadata": {},
   "outputs": [],
   "source": [
    "Init_Total_rot=coo_matrix(Init_Total_rot)  #Initial state wavefunction"
   ]
  },
  {
   "cell_type": "code",
   "execution_count": 20,
   "metadata": {},
   "outputs": [
    {
     "data": {
      "text/plain": [
       "matrix([[ 0.015625  +0.j],\n",
       "        [-0.03827328+0.j],\n",
       "        [ 0.06051536+0.j],\n",
       "        [-0.06987712+0.j],\n",
       "        [ 0.06051536+0.j],\n",
       "        [-0.03827328+0.j],\n",
       "        [ 0.015625  +0.j],\n",
       "        [-0.03827328+0.j],\n",
       "        [ 0.09375   +0.j],\n",
       "        [-0.14823177+0.j],\n",
       "        [ 0.1711633 +0.j],\n",
       "        [-0.14823177+0.j],\n",
       "        [ 0.09375   +0.j],\n",
       "        [-0.03827328+0.j],\n",
       "        [ 0.06051536+0.j],\n",
       "        [-0.14823177+0.j],\n",
       "        [ 0.234375  +0.j],\n",
       "        [-0.27063294+0.j],\n",
       "        [ 0.234375  +0.j],\n",
       "        [-0.14823177+0.j],\n",
       "        [ 0.06051536+0.j],\n",
       "        [-0.06987712+0.j],\n",
       "        [ 0.1711633 +0.j],\n",
       "        [-0.27063294+0.j],\n",
       "        [ 0.3125    +0.j],\n",
       "        [-0.27063294+0.j],\n",
       "        [ 0.1711633 +0.j],\n",
       "        [-0.06987712+0.j],\n",
       "        [ 0.06051536+0.j],\n",
       "        [-0.14823177+0.j],\n",
       "        [ 0.234375  +0.j],\n",
       "        [-0.27063294+0.j],\n",
       "        [ 0.234375  +0.j],\n",
       "        [-0.14823177+0.j],\n",
       "        [ 0.06051536+0.j],\n",
       "        [-0.03827328+0.j],\n",
       "        [ 0.09375   +0.j],\n",
       "        [-0.14823177+0.j],\n",
       "        [ 0.1711633 +0.j],\n",
       "        [-0.14823177+0.j],\n",
       "        [ 0.09375   +0.j],\n",
       "        [-0.03827328+0.j],\n",
       "        [ 0.015625  +0.j],\n",
       "        [-0.03827328+0.j],\n",
       "        [ 0.06051536+0.j],\n",
       "        [-0.06987712+0.j],\n",
       "        [ 0.06051536+0.j],\n",
       "        [-0.03827328+0.j],\n",
       "        [ 0.015625  +0.j]])"
      ]
     },
     "execution_count": 20,
     "metadata": {},
     "output_type": "execute_result"
    }
   ],
   "source": [
    "Init_Total_rot.todense()"
   ]
  },
  {
   "cell_type": "code",
   "execution_count": null,
   "metadata": {},
   "outputs": [],
   "source": []
  },
  {
   "cell_type": "code",
   "execution_count": null,
   "metadata": {},
   "outputs": [],
   "source": []
  },
  {
   "cell_type": "code",
   "execution_count": null,
   "metadata": {
    "id": "8RQk1pfTSkRD"
   },
   "outputs": [],
   "source": []
  },
  {
   "cell_type": "code",
   "execution_count": 21,
   "metadata": {
    "id": "-LtWinmWSkRE"
   },
   "outputs": [],
   "source": [
    "Iden_Tensor=coo_matrix(identity((Levels)**Atom_cutoff, dtype='complex'))\n",
    "Zero_Tensor=0*Iden_Tensor"
   ]
  },
  {
   "cell_type": "code",
   "execution_count": 22,
   "metadata": {},
   "outputs": [],
   "source": [
    "import functools as ft\n",
    "from functools import reduce\n",
    "\n",
    "lst = Atom_cutoff*[Id_Spin]\n",
    "XX = reduce(kron, lst)"
   ]
  },
  {
   "cell_type": "code",
   "execution_count": null,
   "metadata": {},
   "outputs": [],
   "source": []
  },
  {
   "cell_type": "code",
   "execution_count": 23,
   "metadata": {},
   "outputs": [],
   "source": [
    "#pip install pympler"
   ]
  },
  {
   "cell_type": "code",
   "execution_count": 24,
   "metadata": {
    "id": "uHMNzQ7_SkRE"
   },
   "outputs": [],
   "source": [
    "def A_i_tensor(A_op,i_index):\n",
    "    \n",
    "    Array_id=Atom_cutoff*[Id_Spin] \n",
    "    \n",
    "    Array_id[i_index]=A_op\n",
    "    \n",
    "    return reduce(kron, Array_id)\n",
    "    "
   ]
  },
  {
   "cell_type": "code",
   "execution_count": null,
   "metadata": {},
   "outputs": [],
   "source": []
  },
  {
   "cell_type": "code",
   "execution_count": null,
   "metadata": {},
   "outputs": [],
   "source": []
  },
  {
   "cell_type": "code",
   "execution_count": 25,
   "metadata": {},
   "outputs": [],
   "source": [
    "#Not needed, just for reference\n",
    "\n",
    "def tensor_kjXYZ2( k , j):   #tensor among k,j are Positions in the cluster after the G classification\n",
    "                         #k is +sigma and j is -sigma\n",
    "        \n",
    "    Array_idX   = Atom_cutoff*[Id_Spin]   \n",
    "    Array_idX[k]= Sx_sp\n",
    "    Array_idX[j]= Sx_sp\n",
    "    \n",
    "    Array_idY   = Atom_cutoff*[Id_Spin]\n",
    "    Array_idY[k]= Sy_sp\n",
    "    Array_idY[j]= Sy_sp\n",
    "    \n",
    "    Array_idZ   = Atom_cutoff*[Id_Spin]\n",
    "    Array_idZ[k]= Sz_sp\n",
    "    Array_idZ[j]= Sz_sp\n",
    "\n",
    "    return reduce(kron, Array_idX),reduce(kron, Array_idY),reduce(kron, Array_idZ) \n",
    "\n"
   ]
  },
  {
   "cell_type": "code",
   "execution_count": null,
   "metadata": {},
   "outputs": [],
   "source": []
  },
  {
   "cell_type": "code",
   "execution_count": 26,
   "metadata": {},
   "outputs": [],
   "source": [
    "def tensor_termIntact( k , j):   #tensor among k,j are Positions in the cluster after the G classification\n",
    "                         #k is +sigma and j is -sigma\n",
    "        \n",
    "    Array_idX   = Atom_cutoff*[Id_Spin]   \n",
    "    Array_idX[k]= Sx_sp\n",
    "    Array_idX[j]= Sx_sp\n",
    "    \n",
    "    Array_idY   = Atom_cutoff*[Id_Spin]\n",
    "    Array_idY[k]= Sy_sp\n",
    "    Array_idY[j]= Sy_sp\n",
    "    \n",
    "    Array_idZ   = Atom_cutoff*[Id_Spin]\n",
    "    Array_idZ[k]= Sz_sp\n",
    "    Array_idZ[j]= Sz_sp\n",
    "\n",
    "    return reduce(kron, Array_idZ)-0.5*( reduce(kron, Array_idX)+reduce(kron, Array_idY) ) \n",
    "\n"
   ]
  },
  {
   "cell_type": "code",
   "execution_count": null,
   "metadata": {},
   "outputs": [],
   "source": []
  },
  {
   "cell_type": "code",
   "execution_count": null,
   "metadata": {},
   "outputs": [],
   "source": []
  },
  {
   "cell_type": "code",
   "execution_count": 27,
   "metadata": {},
   "outputs": [],
   "source": [
    "#Not needed, just for reference\n",
    "\n",
    "def tensor_kjXX( k , j):   #tensor among k,j are Positions in the cluster after the G classification\n",
    "                         #k is +sigma and j is -sigma \n",
    "    Array_id=Atom_cutoff*[Id_Spin]  \n",
    "    \n",
    "    Array_id[k]=Sx_sp\n",
    "    Array_id[j]=Sx_sp\n",
    "\n",
    "    return reduce(kron, Array_id)\n",
    "\n",
    "\n",
    "\n",
    "def tensor_kjYY( k , j):   #tensor among k,j are Positions in the cluster after the G classification\n",
    "                         #k is +sigma and j is -sigma \n",
    "    Array_id=Atom_cutoff*[Id_Spin]  \n",
    "    \n",
    "    Array_id[k]=Sy_sp\n",
    "    Array_id[j]=Sy_sp\n",
    "\n",
    "    return reduce(kron, Array_id)\n",
    "\n",
    "\n",
    "\n",
    "def tensor_kjZZ( k , j):   #tensor among k,j are Positions in the cluster after the G classification\n",
    "                         #k is +sigma and j is -sigma \n",
    "    Array_id=Atom_cutoff*[Id_Spin]  \n",
    "    \n",
    "    Array_id[k]=Sz_sp\n",
    "    Array_id[j]=Sz_sp\n",
    "\n",
    "    return reduce(kron, Array_id)\n",
    "\n"
   ]
  },
  {
   "cell_type": "code",
   "execution_count": null,
   "metadata": {},
   "outputs": [],
   "source": []
  },
  {
   "cell_type": "code",
   "execution_count": null,
   "metadata": {},
   "outputs": [],
   "source": []
  },
  {
   "cell_type": "code",
   "execution_count": null,
   "metadata": {},
   "outputs": [],
   "source": []
  },
  {
   "cell_type": "code",
   "execution_count": 28,
   "metadata": {},
   "outputs": [],
   "source": [
    "Sz_cuad=Sz_sp@Sz_sp"
   ]
  },
  {
   "cell_type": "code",
   "execution_count": 29,
   "metadata": {},
   "outputs": [],
   "source": [
    "def tensor_k_Zcuad( k ):  #Excited state k is a Position in the cluster after the G classification\n",
    "    \n",
    "    Array_id=Atom_cutoff*[Id_Spin]  \n",
    "    \n",
    "    Array_id[k]=Sz_cuad\n",
    "        \n",
    "    return reduce(kron, Array_id)"
   ]
  },
  {
   "cell_type": "code",
   "execution_count": null,
   "metadata": {},
   "outputs": [],
   "source": []
  },
  {
   "cell_type": "code",
   "execution_count": 30,
   "metadata": {},
   "outputs": [],
   "source": [
    "# Construct a vector with |C_i| elements equal to A_i_tensor(Sz_cuad,j)\n",
    "\n",
    "Sz_cuad_array=Zero_Tensor\n",
    "\n",
    "\n",
    "for j in range(Atom_cutoff):\n",
    "    \n",
    "    Sz_cuad_array+= B_Q* A_i_tensor(Sz_cuad,j)\n",
    "    \n",
    "\n"
   ]
  },
  {
   "cell_type": "code",
   "execution_count": null,
   "metadata": {},
   "outputs": [],
   "source": []
  },
  {
   "cell_type": "code",
   "execution_count": null,
   "metadata": {},
   "outputs": [],
   "source": []
  },
  {
   "cell_type": "code",
   "execution_count": null,
   "metadata": {},
   "outputs": [],
   "source": []
  },
  {
   "cell_type": "markdown",
   "metadata": {},
   "source": [
    "\\begin{align}\n",
    "\\hat{H}_{{\\rm MACE}}^{i} & =\\sum_{k\\in C_{i}}B_{Q}\\hat{s}_{z,k}^{2}+\\sum_{\\substack{j,k\\in C_{i},\\\\\n",
    "j<k\n",
    "}\n",
    "}V_{jk}\\left(\\hat{s}_{z,j}\\hat{s}_{z,k}-\\frac{1}{2}\\left(\\hat{s}_{x,j}\\hat{s}_{x,k}+\\hat{s}_{y,j}\\hat{s}_{y,k}\\right)\\right).\n",
    "\\end{align}\n"
   ]
  },
  {
   "cell_type": "code",
   "execution_count": null,
   "metadata": {},
   "outputs": [],
   "source": []
  },
  {
   "cell_type": "code",
   "execution_count": null,
   "metadata": {},
   "outputs": [],
   "source": []
  },
  {
   "cell_type": "code",
   "execution_count": null,
   "metadata": {},
   "outputs": [],
   "source": []
  },
  {
   "cell_type": "code",
   "execution_count": 31,
   "metadata": {},
   "outputs": [],
   "source": [
    "\n",
    "#@jit\n",
    "def Hamilt_ic(index_center):\n",
    "     \n",
    "    Index_list=Index_N[index_center]\n",
    "    Hamil=Sz_cuad_array\n",
    "    \n",
    "    \n",
    "    for j in range(Atom_cutoff):\n",
    "        \n",
    "        IL_j   = Index_list[j]\n",
    "        \n",
    "        for k in range(j+1,Atom_cutoff):\n",
    "            \n",
    "            \n",
    "            IL_k   = Index_list[k]\n",
    "\n",
    "            Ten_jk = tensor_termIntact( j , k)\n",
    "\n",
    "            \n",
    "            Hamil=Hamil+ Vij[IL_j,IL_k]*Ten_jk\n",
    "            \n",
    "            #print(j,k,\"IndexN\", IL_j,IL_k)\n",
    "            \n",
    "\n",
    "    return  Hamil\n",
    "\n"
   ]
  },
  {
   "cell_type": "code",
   "execution_count": null,
   "metadata": {},
   "outputs": [],
   "source": []
  },
  {
   "cell_type": "code",
   "execution_count": null,
   "metadata": {},
   "outputs": [],
   "source": []
  },
  {
   "cell_type": "code",
   "execution_count": null,
   "metadata": {},
   "outputs": [],
   "source": []
  },
  {
   "cell_type": "code",
   "execution_count": null,
   "metadata": {},
   "outputs": [],
   "source": []
  },
  {
   "cell_type": "code",
   "execution_count": 32,
   "metadata": {},
   "outputs": [],
   "source": [
    "\n",
    "#@jit\n",
    "def f(t, yR,M_vect,b):\n",
    "\n",
    "    return -1j*M_vect@yR"
   ]
  },
  {
   "cell_type": "code",
   "execution_count": null,
   "metadata": {},
   "outputs": [],
   "source": []
  },
  {
   "cell_type": "code",
   "execution_count": null,
   "metadata": {},
   "outputs": [],
   "source": []
  },
  {
   "cell_type": "code",
   "execution_count": null,
   "metadata": {},
   "outputs": [],
   "source": []
  },
  {
   "cell_type": "code",
   "execution_count": 33,
   "metadata": {},
   "outputs": [],
   "source": [
    "import matplotlib.pyplot as plt\n",
    "import numpy as np\n",
    "#from google.colab import files\n",
    "\n",
    "\"\"\"In order to provide a better presentation of the graphs we use the rcParams options shown below.\"\"\"\n",
    "\n",
    "import matplotlib\n",
    "matplotlib.rcParams['text.usetex'] = False\n",
    "matplotlib.rcParams['mathtext.fontset'] = 'stix'\n",
    "matplotlib.rcParams['font.family'] = 'STIXGeneral'\n",
    "matplotlib.rcParams['font.size'] = 15\n",
    "matplotlib.rcParams['figure.figsize'] = (11.0, 8.0)\n",
    "\n",
    "from numpy import cos, sin\n",
    "\n",
    "label_size = 20\n",
    "\n",
    "from numpy import sqrt\n",
    "\n",
    "import time\n",
    "from numba import jit\n",
    "from numpy import sin, cos\n",
    "\n",
    "T0=time.time()\n",
    "\n",
    "import matplotlib\n",
    "matplotlib.rcParams['text.usetex'] = False\n",
    "matplotlib.rcParams['mathtext.fontset'] = 'stix'\n",
    "matplotlib.rcParams['font.family'] = 'STIXGeneral'\n",
    "matplotlib.rcParams['font.size'] = 15\n",
    "matplotlib.rcParams['figure.figsize'] = (11.0, 8.0)"
   ]
  },
  {
   "cell_type": "code",
   "execution_count": 34,
   "metadata": {},
   "outputs": [],
   "source": [
    "Zeeman_Operators=[]\n",
    "\n",
    "\n",
    "for j in range(-S_spin,S_spin+1):\n",
    "    \n",
    "    Zeeman_Operators.append(A_i_tensor(Zeeman_Popul( -j),0))\n",
    "    "
   ]
  },
  {
   "cell_type": "code",
   "execution_count": 35,
   "metadata": {},
   "outputs": [],
   "source": [
    "tspan=np.linspace(0,2,400)\n",
    "\n",
    "\n",
    "\n",
    "from scipy.integrate import solve_ivp"
   ]
  },
  {
   "cell_type": "code",
   "execution_count": null,
   "metadata": {},
   "outputs": [],
   "source": []
  },
  {
   "cell_type": "code",
   "execution_count": null,
   "metadata": {},
   "outputs": [],
   "source": []
  },
  {
   "cell_type": "code",
   "execution_count": null,
   "metadata": {},
   "outputs": [],
   "source": []
  },
  {
   "cell_type": "code",
   "execution_count": 36,
   "metadata": {},
   "outputs": [],
   "source": [
    "T_init=tspan[0]\n",
    "\n",
    "T_fin =tspan[-1]"
   ]
  },
  {
   "cell_type": "code",
   "execution_count": null,
   "metadata": {},
   "outputs": [],
   "source": []
  },
  {
   "cell_type": "code",
   "execution_count": null,
   "metadata": {},
   "outputs": [],
   "source": []
  },
  {
   "cell_type": "code",
   "execution_count": 37,
   "metadata": {},
   "outputs": [],
   "source": [
    "from scipy.integrate import solve_ivp\n",
    "\n",
    "\n",
    "def Dynam_Popul_CI(index_center):\n",
    "    \n",
    "    Populations=np.zeros((Levels,len(tspan)))\n",
    "    \n",
    "\n",
    "    #sol = solve_ivp(f, [tspan[0], tspan[-1]], list(Init_Total_rot.toarray().T[0]),args=(Hamilt_ic(index_center),None),dense_output=True )\n",
    "    sol = solve_ivp(f, [T_init, T_fin], list(Init_Total_rot.toarray().T[0]),args=(Hamilt_ic(index_center),None),dense_output=True,max_step=0.0001 )\n",
    "\n",
    "    Sol_dense=sol.sol(tspan)\n",
    "    \n",
    "    \n",
    "    for j in range(Levels):\n",
    "        \n",
    "        Populations[j]=real((diag((conj(Sol_dense.T)@(Zeeman_Operators[j]@Sol_dense)))))\n",
    "        \n",
    "        \n",
    "    return Populations\n",
    "\n",
    "    \n"
   ]
  },
  {
   "cell_type": "code",
   "execution_count": null,
   "metadata": {},
   "outputs": [],
   "source": []
  },
  {
   "cell_type": "code",
   "execution_count": null,
   "metadata": {},
   "outputs": [],
   "source": []
  },
  {
   "cell_type": "code",
   "execution_count": 38,
   "metadata": {},
   "outputs": [],
   "source": [
    "Populat_Fin=np.zeros((Levels,len(tspan)))"
   ]
  },
  {
   "cell_type": "code",
   "execution_count": null,
   "metadata": {},
   "outputs": [],
   "source": []
  },
  {
   "cell_type": "code",
   "execution_count": 39,
   "metadata": {},
   "outputs": [],
   "source": [
    "Populat_Fin=Dynam_Popul_CI(0) #any number is ok for the argument"
   ]
  },
  {
   "cell_type": "code",
   "execution_count": null,
   "metadata": {},
   "outputs": [],
   "source": []
  },
  {
   "cell_type": "code",
   "execution_count": null,
   "metadata": {},
   "outputs": [],
   "source": []
  },
  {
   "cell_type": "code",
   "execution_count": 40,
   "metadata": {},
   "outputs": [],
   "source": [
    "VarL=(3**2)*Populat_Fin[0]\n",
    "VarL=VarL+(2**2)*Populat_Fin[1]\n",
    "VarL=VarL+(1**2)*Populat_Fin[2]\n",
    "VarL=VarL+(0**2)*Populat_Fin[3]\n",
    "VarL=VarL+((-1)**2)*Populat_Fin[4]\n",
    "VarL=VarL+((-2)**2)*Populat_Fin[5]\n",
    "VarL=VarL+((-3)**2)*Populat_Fin[6]"
   ]
  },
  {
   "cell_type": "code",
   "execution_count": 41,
   "metadata": {},
   "outputs": [
    {
     "data": {
      "text/plain": [
       "2"
      ]
     },
     "execution_count": 41,
     "metadata": {},
     "output_type": "execute_result"
    }
   ],
   "source": [
    "Atom_cutoff"
   ]
  },
  {
   "cell_type": "code",
   "execution_count": 42,
   "metadata": {},
   "outputs": [],
   "source": [
    "#CorrT2=N_atom*(S_spin/2-VarL)\n",
    "#CorrT3=N_atom*(S_spin/2-VarL)\n",
    "#CorrT4=N_atom*(S_spin/2-VarL)\n",
    "CorrT5=N_atom*(S_spin/2-VarL)\n",
    "#CorrT6=S_spin/2-VarL"
   ]
  },
  {
   "cell_type": "code",
   "execution_count": null,
   "metadata": {},
   "outputs": [],
   "source": []
  },
  {
   "cell_type": "code",
   "execution_count": 43,
   "metadata": {},
   "outputs": [
    {
     "data": {
      "text/plain": [
       "<matplotlib.legend.Legend at 0x2e0df51f880>"
      ]
     },
     "execution_count": 43,
     "metadata": {},
     "output_type": "execute_result"
    },
    {
     "data": {
      "image/png": "[encoded data removed]",
      "text/plain": [
       "<Figure size 792x576 with 1 Axes>"
      ]
     },
     "metadata": {
      "needs_background": "light"
     },
     "output_type": "display_data"
    }
   ],
   "source": [
    "#plt.title(\"$C_z\\\\left(t\\\\right)$\")\n",
    "\n",
    "\n",
    "#plt.plot(tspan,CorrT2,label=\"MACE CS=2\")\n",
    "#plt.plot(tspan,CorrT3,label=\"MACE CS=3\")\n",
    "#plt.plot(tspan,CorrT4,label=\"MACE CS=4\")\n",
    "plt.plot(tspan,CorrT5,label=\"MACE CS=5\")\n",
    "#plt.plot(CorrT6,label=\"MACE CS=6\")\n",
    "\n",
    "\n",
    "plt.xlabel(\"$ t $\",fontsize=25)\n",
    "plt.ylabel(\"$ C_z\\\\left(t\\\\right)  $\",fontsize=25)\n",
    "\n",
    "plt.legend()"
   ]
  },
  {
   "cell_type": "code",
   "execution_count": null,
   "metadata": {},
   "outputs": [],
   "source": []
  },
  {
   "cell_type": "code",
   "execution_count": null,
   "metadata": {},
   "outputs": [],
   "source": []
  },
  {
   "cell_type": "code",
   "execution_count": null,
   "metadata": {},
   "outputs": [],
   "source": []
  },
  {
   "cell_type": "code",
   "execution_count": null,
   "metadata": {},
   "outputs": [],
   "source": []
  },
  {
   "cell_type": "markdown",
   "metadata": {},
   "source": [
    "# CMFT"
   ]
  },
  {
   "cell_type": "code",
   "execution_count": null,
   "metadata": {},
   "outputs": [],
   "source": []
  },
  {
   "cell_type": "code",
   "execution_count": null,
   "metadata": {},
   "outputs": [],
   "source": []
  },
  {
   "cell_type": "code",
   "execution_count": 44,
   "metadata": {},
   "outputs": [],
   "source": [
    "#(Vij@Mean_Val_XYZ)\n",
    "\n",
    "\n",
    "OperX=[]\n",
    "OperY=[]\n",
    "OperZ=[]\n",
    "\n",
    "\n",
    "for j in range(Atom_cutoff):\n",
    "    \n",
    "    \n",
    "    OperX.append( A_i_tensor(Sx_sp,j) )\n",
    "    OperY.append( A_i_tensor(Sy_sp,j) )\n",
    "    OperZ.append( A_i_tensor(Sz_sp,j) )\n"
   ]
  },
  {
   "cell_type": "code",
   "execution_count": null,
   "metadata": {},
   "outputs": [],
   "source": []
  },
  {
   "cell_type": "markdown",
   "metadata": {},
   "source": [
    "\\begin{align*}\n",
    "\\hat{H}_{{\\rm CMFT}}^{i} & =\\sum_{k\\in C_{i}}B_{Q}\\hat{s}_{z,k}^{2}+\\sum_{\\substack{j,k\\in C_{i},\\\\\n",
    "j<k\n",
    "}\n",
    "}V_{jk}\\left(\\hat{s}_{z,j}\\hat{s}_{z,k}-\\frac{1}{2}\\left(\\hat{s}_{x,j}\\hat{s}_{x,k}+\\hat{s}_{y,j}\\hat{s}_{y,k}\\right)\\right)+\\sum_{\\substack{j\\in C_{i},}\n",
    "}\\left(\\hat{s}_{z,j}\\vec{V}_{j}\\cdot\\left\\langle \\vec{\\hat{s}_{z}}\\right\\rangle -\\frac{1}{2}\\left(\\hat{s}_{x,j}\\vec{V}_{j}\\cdot\\left\\langle \\vec{\\hat{s}_{x}}\\right\\rangle +\\hat{s}_{y,j}\\vec{V}_{j}\\cdot\\left\\langle \\vec{\\hat{s}_{y}}\\right\\rangle \\right)\\right)\\\\\n",
    " & \\,\\,\\,\\,\\,-\\sum_{\\substack{j,k\\in C_{i}}\n",
    "}V_{jk}\\left(\\hat{s}_{z,j}\\left\\langle \\hat{s}_{z,k}\\right\\rangle -\\frac{1}{2}\\left(\\hat{s}_{x,j}\\left\\langle \\hat{s}_{x,k}\\right\\rangle +\\hat{s}_{y,j}\\left\\langle \\hat{s}_{y,k}\\right\\rangle \\right)\\right).\n",
    "\\end{align*}"
   ]
  },
  {
   "cell_type": "code",
   "execution_count": 45,
   "metadata": {
    "scrolled": true
   },
   "outputs": [
    {
     "data": {
      "text/plain": [
       "<49x1 sparse matrix of type '<class 'numpy.complex128'>'\n",
       "\twith 49 stored elements in COOrdinate format>"
      ]
     },
     "execution_count": 45,
     "metadata": {},
     "output_type": "execute_result"
    }
   ],
   "source": [
    "Init_Total_rot"
   ]
  },
  {
   "cell_type": "code",
   "execution_count": null,
   "metadata": {},
   "outputs": [],
   "source": []
  },
  {
   "cell_type": "code",
   "execution_count": null,
   "metadata": {},
   "outputs": [],
   "source": []
  },
  {
   "cell_type": "code",
   "execution_count": null,
   "metadata": {},
   "outputs": [],
   "source": []
  },
  {
   "cell_type": "code",
   "execution_count": null,
   "metadata": {},
   "outputs": [],
   "source": []
  },
  {
   "cell_type": "code",
   "execution_count": 46,
   "metadata": {},
   "outputs": [
    {
     "ename": "NameError",
     "evalue": "name 'tnew' is not defined",
     "output_type": "error",
     "traceback": [
      "\u001b[1;31m---------------------------------------------------------------------------\u001b[0m",
      "\u001b[1;31mNameError\u001b[0m                                 Traceback (most recent call last)",
      "\u001b[1;32m<ipython-input-46-fad62c36f83d>\u001b[0m in \u001b[0;36m<module>\u001b[1;34m\u001b[0m\n\u001b[1;32m----> 1\u001b[1;33m \u001b[0mlen\u001b[0m\u001b[1;33m(\u001b[0m\u001b[0mtnew\u001b[0m\u001b[1;33m)\u001b[0m\u001b[1;33m+\u001b[0m\u001b[1;36m1\u001b[0m\u001b[1;33m\u001b[0m\u001b[1;33m\u001b[0m\u001b[0m\n\u001b[0m",
      "\u001b[1;31mNameError\u001b[0m: name 'tnew' is not defined"
     ]
    }
   ],
   "source": [
    "len(tnew)+1"
   ]
  },
  {
   "cell_type": "code",
   "execution_count": 47,
   "metadata": {},
   "outputs": [],
   "source": [
    "\n",
    "number_parts=60\n",
    "\n",
    "\n",
    "index_parts=int(len(tspan)/number_parts)\n",
    "\n",
    "tnew=[]\n",
    "\n",
    "for tind_ in range(len(tspan)-1):\n",
    "\n",
    "    Time_pos=int((tind_+1)//index_parts)\n",
    "    \n",
    "    if (tind_+1)%index_parts==0:\n",
    "        \n",
    "        tnew.append(tspan[tind_+1])\n",
    "\n",
    "tnew=array(tnew)\n",
    "\n",
    "\n",
    "\n"
   ]
  },
  {
   "cell_type": "code",
   "execution_count": null,
   "metadata": {},
   "outputs": [],
   "source": []
  },
  {
   "cell_type": "code",
   "execution_count": null,
   "metadata": {},
   "outputs": [],
   "source": []
  },
  {
   "cell_type": "code",
   "execution_count": null,
   "metadata": {},
   "outputs": [],
   "source": []
  },
  {
   "cell_type": "code",
   "execution_count": 48,
   "metadata": {},
   "outputs": [],
   "source": [
    "\n",
    "\n",
    "#@jit\n",
    "def Hamilt_ic_MACE(index_center):\n",
    "     \n",
    "    Index_list=Index_N[index_center]\n",
    "    Hamil=Sz_cuad_array\n",
    "    \n",
    "    \n",
    "    for j in range(Atom_cutoff):\n",
    "        \n",
    "        IL_j   = Index_list[j]\n",
    "        \n",
    "        for k in range(j+1,Atom_cutoff):\n",
    "            \n",
    "            \n",
    "            IL_k   = Index_list[k]\n",
    "\n",
    "\n",
    "            \n",
    "            Hamil=Hamil+ Vij[IL_j,IL_k]*(tensor_termIntact( j , k) )\n",
    "            \n",
    "            #print(j,k,\"IndexN\", IL_j,IL_k)\n",
    "            \n",
    "\n",
    "    return  Hamil"
   ]
  },
  {
   "cell_type": "code",
   "execution_count": null,
   "metadata": {},
   "outputs": [],
   "source": []
  },
  {
   "cell_type": "code",
   "execution_count": 49,
   "metadata": {},
   "outputs": [
    {
     "ename": "NameError",
     "evalue": "name 'Vj_dot_MV_XYZ' is not defined",
     "output_type": "error",
     "traceback": [
      "\u001b[1;31m---------------------------------------------------------------------------\u001b[0m",
      "\u001b[1;31mNameError\u001b[0m                                 Traceback (most recent call last)",
      "\u001b[1;32m<ipython-input-49-acf0f3169e88>\u001b[0m in \u001b[0;36m<module>\u001b[1;34m\u001b[0m\n\u001b[0;32m      1\u001b[0m \u001b[1;31m#@jit\u001b[0m\u001b[1;33m\u001b[0m\u001b[1;33m\u001b[0m\u001b[1;33m\u001b[0m\u001b[0m\n\u001b[1;32m----> 2\u001b[1;33m \u001b[1;32mdef\u001b[0m \u001b[0mHamilt_ic_CMFT\u001b[0m\u001b[1;33m(\u001b[0m\u001b[0mindex_center\u001b[0m\u001b[1;33m,\u001b[0m\u001b[0mVdotXYZ\u001b[0m\u001b[1;33m=\u001b[0m\u001b[0mVj_dot_MV_XYZ\u001b[0m\u001b[1;33m,\u001b[0m\u001b[0mArrayXYZ\u001b[0m\u001b[1;33m=\u001b[0m\u001b[0mMean_Val_XYZ\u001b[0m\u001b[1;33m)\u001b[0m\u001b[1;33m:\u001b[0m\u001b[1;33m\u001b[0m\u001b[1;33m\u001b[0m\u001b[0m\n\u001b[0m\u001b[0;32m      3\u001b[0m \u001b[1;33m\u001b[0m\u001b[0m\n\u001b[0;32m      4\u001b[0m     \u001b[0mIndex_list\u001b[0m\u001b[1;33m=\u001b[0m\u001b[0mIndex_N\u001b[0m\u001b[1;33m[\u001b[0m\u001b[0mindex_center\u001b[0m\u001b[1;33m]\u001b[0m\u001b[1;33m\u001b[0m\u001b[1;33m\u001b[0m\u001b[0m\n\u001b[0;32m      5\u001b[0m     \u001b[0mHamil\u001b[0m\u001b[1;33m=\u001b[0m\u001b[0mZero_Tensor\u001b[0m\u001b[1;33m\u001b[0m\u001b[1;33m\u001b[0m\u001b[0m\n",
      "\u001b[1;31mNameError\u001b[0m: name 'Vj_dot_MV_XYZ' is not defined"
     ]
    }
   ],
   "source": [
    "#@jit\n",
    "def Hamilt_ic_CMFT(index_center,VdotXYZ=Vj_dot_MV_XYZ,ArrayXYZ=Mean_Val_XYZ):\n",
    "     \n",
    "    Index_list=Index_N[index_center]\n",
    "    Hamil=Zero_Tensor\n",
    "    \n",
    "    \n",
    "    for j in range(Atom_cutoff):\n",
    "        \n",
    "        IL_j   = Index_list[j]\n",
    "        \n",
    "\n",
    "        VjX,VjY,VjZ=VdotXYZ[IL_j]\n",
    "        \n",
    "        hat_Sxj=OperX[j]\n",
    "        hat_Syj=OperY[j]\n",
    "        hat_Szj=OperZ[j]\n",
    "        \n",
    "        Hamil=Hamil+ (VjZ*hat_Szj - 0.5*( VjX * hat_Sxj + VjY * hat_Syj   ) )\n",
    "    \n",
    "    \n",
    "        for k in range(Atom_cutoff):\n",
    "            \n",
    "            IL_k   = Index_list[k]\n",
    "                    \n",
    "            sxk,syk,szk = ArrayXYZ[IL_k] \n",
    "            \n",
    "            MF_termJK = szk*hat_Szj - 0.5 * ( sxk * hat_Sxj + syk * hat_Syj )\n",
    "            \n",
    "            Hamil=Hamil - Vij[IL_j,IL_k]*   MF_termJK  \n",
    "            \n",
    "            #print(j,k,\"IndexN\", IL_j,IL_k)\n",
    "            \n",
    "\n",
    "    return  Hamil"
   ]
  },
  {
   "cell_type": "code",
   "execution_count": null,
   "metadata": {},
   "outputs": [],
   "source": []
  },
  {
   "cell_type": "code",
   "execution_count": null,
   "metadata": {},
   "outputs": [],
   "source": [
    "\n",
    "def Wave_func_part(Wave_fun_mt,inst_time,VdotXYZ,ArrayXYZ):\n",
    "    \n",
    "    Result_fin=np.zeros(((Levels**Atom_cutoff),N_atom),dtype=complex)\n",
    "    \n",
    "\n",
    "    for cent_ind in range(N_atom):\n",
    "        \n",
    "        \n",
    "        \n",
    "        #Mat_dyn=Time_ind_hamil[cent_ind]   #+Part_time_dep(cent_ind,inst_time)\n",
    "        \n",
    "        Mat_dyn=Hamilt_ic_MACE(cent_ind)+Hamilt_ic_CMFT(cent_ind,VdotXYZ,ArrayXYZ)\n",
    "        \n",
    "        sol_cent_ind = solve_ivp(f,[tspan[inst_time],tspan[inst_time+1]],list(Wave_fun_mt[:,cent_ind])\n",
    "                                 ,args=(Mat_dyn,None),dense_output=False,max_step=0.0001)# , t_eval= [tspan[inst_time+1]])\n",
    "        \n",
    "        \n",
    "        \n",
    "        Result_fin[:,cent_ind]=((sol_cent_ind.y)[:,-1]).reshape((Levels**Atom_cutoff,))\n",
    "        \n",
    "        #print(cent_ind)\n",
    "        #print(cent_ind/N_atom)\n",
    "        \n",
    "    return Result_fin\n",
    "\n"
   ]
  },
  {
   "cell_type": "code",
   "execution_count": null,
   "metadata": {},
   "outputs": [],
   "source": []
  },
  {
   "cell_type": "code",
   "execution_count": null,
   "metadata": {},
   "outputs": [],
   "source": []
  },
  {
   "cell_type": "code",
   "execution_count": null,
   "metadata": {},
   "outputs": [],
   "source": [
    "\n",
    "# Wavefunction saving\n",
    "\n",
    "Wave_function=np.zeros((Levels**Atom_cutoff,N_atom),dtype=\"complex\")\n",
    "\n",
    "for j in range(N_atom):    \n",
    "    Wave_function[:,j]=Init_Total_rot.toarray().reshape(Levels**Atom_cutoff,)   #Not sparse structure because the state is not sparse\n",
    "    \n",
    "\n",
    "Mean_Val_XYZ=np.zeros((N_atom,3),dtype=\"complex\")\n",
    "\n",
    "Mean_Val_XYZ[:,0]=diag(conj(Wave_function.T)@(OperX[0]@Wave_function))\n",
    "Mean_Val_XYZ[:,1]=diag(conj(Wave_function.T)@(OperY[0]@Wave_function))\n",
    "Mean_Val_XYZ[:,2]=diag(conj(Wave_function.T)@(OperZ[0]@Wave_function))\n",
    "\n",
    "Vj_dot_MV_XYZ=Vij@Mean_Val_XYZ\n",
    "\n",
    "Popul_CMFT=np.zeros((2*S_spin+1,len(tnew)+1),dtype=complex)\n",
    "\n",
    "\n",
    "\n",
    "for j in range(2*S_spin+1):\n",
    "    Popul_CMFT[j,0]=sum(diag(conj(Wave_function.T)@(Zeeman_Operators[j]@Wave_function)))/N_atom"
   ]
  },
  {
   "cell_type": "code",
   "execution_count": null,
   "metadata": {},
   "outputs": [],
   "source": []
  },
  {
   "cell_type": "code",
   "execution_count": null,
   "metadata": {},
   "outputs": [],
   "source": []
  },
  {
   "cell_type": "code",
   "execution_count": null,
   "metadata": {},
   "outputs": [],
   "source": [
    "count=0\n",
    "\n",
    "tNEW=[0]\n",
    "\n",
    "for tind_ in range(len(tspan)-1):\n",
    "    \n",
    "    Wave_function= Wave_func_part(Wave_function,tind_,Vj_dot_MV_XYZ,Mean_Val_XYZ)\n",
    "    \n",
    "    \n",
    "    if (tind_+1)%index_parts==0:\n",
    "        count=count+1\n",
    "        \n",
    "        tNEW.append(tspan[tind_+1])\n",
    "        \n",
    "        for j in range(7):\n",
    "            Popul_CMFT[j,count]=sum(diag(conj(Wave_function.T)@(Zeeman_Operators[j]@Wave_function)))/N_atom\n",
    "        \n",
    "        #Popul_CMFT[j,count]=sum(diag(conj(Wave_function.T)@(Zeeman_Operators[j]@Wave_function)))\n",
    "\n",
    "        #print(100*(tind_+1)/len(tspan))\n",
    "        \n",
    "    print((100*tind_/(len(tspan)-1)),\"%\")\n",
    "        \n",
    "    Mean_Val_XYZ=np.zeros((N_atom,3),dtype=\"complex\")\n",
    "    Mean_Val_XYZ[:,0]=diag(conj(Wave_function.T)@(OperX[0]@Wave_function))\n",
    "    Mean_Val_XYZ[:,1]=diag(conj(Wave_function.T)@(OperY[0]@Wave_function))\n",
    "    Mean_Val_XYZ[:,2]=diag(conj(Wave_function.T)@(OperZ[0]@Wave_function))\n",
    "        \n",
    "    Vj_dot_MV_XYZ=Vij@Mean_Val_XYZ"
   ]
  },
  {
   "cell_type": "code",
   "execution_count": null,
   "metadata": {},
   "outputs": [],
   "source": []
  },
  {
   "cell_type": "code",
   "execution_count": null,
   "metadata": {},
   "outputs": [],
   "source": []
  },
  {
   "cell_type": "code",
   "execution_count": null,
   "metadata": {},
   "outputs": [],
   "source": [
    "VarLCMF=(3**2)*Popul_CMFT[0]\n",
    "VarLCMF=VarLCMF+(2**2)*Popul_CMFT[1]\n",
    "VarLCMF=VarLCMF+(1**2)*Popul_CMFT[2]\n",
    "VarLCMF=VarLCMF+(0**2)*Popul_CMFT[3]\n",
    "VarLCMF=VarLCMF+((-1)**2)*Popul_CMFT[4]\n",
    "VarLCMF=VarLCMF+((-2)**2)*Popul_CMFT[5]\n",
    "VarLCMF=VarLCMF+((-3)**2)*Popul_CMFT[6]"
   ]
  },
  {
   "cell_type": "code",
   "execution_count": null,
   "metadata": {},
   "outputs": [],
   "source": []
  },
  {
   "cell_type": "code",
   "execution_count": null,
   "metadata": {},
   "outputs": [],
   "source": [
    "N_atom"
   ]
  },
  {
   "cell_type": "code",
   "execution_count": null,
   "metadata": {},
   "outputs": [],
   "source": []
  },
  {
   "cell_type": "code",
   "execution_count": null,
   "metadata": {},
   "outputs": [],
   "source": []
  },
  {
   "cell_type": "code",
   "execution_count": null,
   "metadata": {},
   "outputs": [],
   "source": []
  },
  {
   "cell_type": "code",
   "execution_count": null,
   "metadata": {},
   "outputs": [],
   "source": [
    "CorrT2CMF=N_atom*(S_spin/2-VarLCMF)\n",
    "\n",
    "#CorrT2CMF"
   ]
  },
  {
   "cell_type": "code",
   "execution_count": null,
   "metadata": {},
   "outputs": [],
   "source": [
    "plt.plot(tNEW,CorrT2CMF,label=\"CMFT CS=3\")\n",
    "#plt.plot(tspan,CorrT5,label=\"MACE CS=5\")\n",
    "\n",
    "plt.legend()"
   ]
  },
  {
   "cell_type": "code",
   "execution_count": null,
   "metadata": {},
   "outputs": [],
   "source": [
    "len(tNEW)"
   ]
  },
  {
   "cell_type": "code",
   "execution_count": null,
   "metadata": {},
   "outputs": [],
   "source": []
  },
  {
   "cell_type": "code",
   "execution_count": null,
   "metadata": {},
   "outputs": [],
   "source": [
    "CMFT2_Single=array([-1.27897692e-13+0.j,  2.14532349e+00+0.j,  8.33672264e+00+0.j,\n",
    "        1.78802908e+01+0.j,  2.97415504e+01+0.j,  4.26977883e+01+0.j,\n",
    "        5.55010572e+01+0.j,  6.70212849e+01+0.j,  7.63492724e+01+0.j,\n",
    "        8.28528721e+01+0.j,  8.61913144e+01+0.j,  8.62992762e+01+0.j,\n",
    "        8.33533629e+01+0.j,  7.77309122e+01+0.j,  6.99669307e+01+0.j,\n",
    "        6.07114724e+01+0.j,  5.06875785e+01+0.j,  4.06488437e+01+0.j,\n",
    "        3.13354157e+01+0.j,  2.34278032e+01+0.j,  1.74995090e+01+0.j,\n",
    "        1.39721028e+01+0.j,  1.30789603e+01+0.j,  1.48449091e+01+0.j,\n",
    "        1.90870792e+01+0.j,  2.54373533e+01+0.j,  3.33807479e+01+0.j,\n",
    "        4.22998359e+01+0.j,  5.15155321e+01+0.j,  6.03197357e+01+0.j,\n",
    "        6.80031791e+01+0.j,  7.38881781e+01+0.j,  7.73767573e+01+0.j,\n",
    "        7.80182775e+01+0.j,  7.55892636e+01+0.j,  7.01666597e+01+0.j,\n",
    "        6.21698874e+01+0.j,  5.23504034e+01+0.j,  4.17195854e+01+0.j,\n",
    "        3.14225340e+01+0.j,  2.25806741e+01+0.j,  1.61345793e+01+0.j,\n",
    "        1.27178458e+01+0.j,  1.25842315e+01+0.j,  1.55972547e+01+0.j,\n",
    "        2.12782194e+01+0.j,  2.88983634e+01+0.j,  3.75949462e+01+0.j,\n",
    "        4.64896396e+01+0.j,  5.47899739e+01+0.j,  6.18601384e+01+0.j,\n",
    "        6.72552950e+01+0.j,  7.07223133e+01+0.j,  7.21772938e+01+0.j,\n",
    "        7.16740021e+01+0.j,  6.93758622e+01+0.j,  6.55379153e+01+0.j,\n",
    "        6.04968316e+01+0.j,  5.46606232e+01+0.j,  4.84884172e+01+0.j,\n",
    "        4.24553664e+01+0.j,  3.70061757e+01+0.j,  3.25084147e+01+0.j,\n",
    "        2.92194685e+01+0.j,  2.72768161e+01+0.j,  2.67120304e+01+0.j,\n",
    "        2.74789717e+01+0.j])"
   ]
  },
  {
   "cell_type": "code",
   "execution_count": null,
   "metadata": {},
   "outputs": [],
   "source": []
  },
  {
   "cell_type": "code",
   "execution_count": null,
   "metadata": {},
   "outputs": [],
   "source": []
  },
  {
   "cell_type": "code",
   "execution_count": null,
   "metadata": {},
   "outputs": [],
   "source": [
    "plt.plot(tNEW,CorrT2CMF,label=\"CMFT CS=2\")\n",
    "plt.plot(tNEW,CMFT2_Single,label=\"CMFT Single CS=2\")\n",
    "\n",
    "#plt.plot(tspan,CorrT5,label=\"MACE CS=5\")\n",
    "\n",
    "plt.legend()"
   ]
  },
  {
   "cell_type": "code",
   "execution_count": null,
   "metadata": {},
   "outputs": [],
   "source": []
  },
  {
   "cell_type": "code",
   "execution_count": null,
   "metadata": {},
   "outputs": [],
   "source": []
  },
  {
   "cell_type": "code",
   "execution_count": null,
   "metadata": {},
   "outputs": [],
   "source": []
  },
  {
   "cell_type": "code",
   "execution_count": null,
   "metadata": {},
   "outputs": [],
   "source": []
  },
  {
   "cell_type": "code",
   "execution_count": null,
   "metadata": {},
   "outputs": [],
   "source": []
  },
  {
   "cell_type": "code",
   "execution_count": null,
   "metadata": {},
   "outputs": [],
   "source": []
  },
  {
   "cell_type": "code",
   "execution_count": null,
   "metadata": {},
   "outputs": [],
   "source": []
  },
  {
   "cell_type": "code",
   "execution_count": null,
   "metadata": {},
   "outputs": [],
   "source": []
  },
  {
   "cell_type": "code",
   "execution_count": null,
   "metadata": {},
   "outputs": [],
   "source": []
  },
  {
   "cell_type": "code",
   "execution_count": null,
   "metadata": {},
   "outputs": [],
   "source": []
  },
  {
   "cell_type": "code",
   "execution_count": null,
   "metadata": {},
   "outputs": [],
   "source": []
  },
  {
   "cell_type": "code",
   "execution_count": null,
   "metadata": {},
   "outputs": [],
   "source": []
  },
  {
   "cell_type": "code",
   "execution_count": null,
   "metadata": {},
   "outputs": [],
   "source": []
  },
  {
   "cell_type": "code",
   "execution_count": null,
   "metadata": {},
   "outputs": [],
   "source": []
  },
  {
   "cell_type": "code",
   "execution_count": null,
   "metadata": {},
   "outputs": [],
   "source": []
  },
  {
   "cell_type": "code",
   "execution_count": null,
   "metadata": {},
   "outputs": [],
   "source": []
  },
  {
   "cell_type": "code",
   "execution_count": null,
   "metadata": {},
   "outputs": [],
   "source": []
  },
  {
   "cell_type": "code",
   "execution_count": null,
   "metadata": {},
   "outputs": [],
   "source": []
  },
  {
   "cell_type": "code",
   "execution_count": null,
   "metadata": {},
   "outputs": [],
   "source": []
  },
  {
   "cell_type": "code",
   "execution_count": null,
   "metadata": {},
   "outputs": [],
   "source": [
    "count=0\n",
    "\n",
    "Arr=[count]\n",
    "for tind_ in range(len(tspan)):\n",
    "    \n",
    "    if (tind_+1)%index_parts==0:\n",
    "        count=count+1\n",
    "        \n",
    "        Arr.append(count)\n",
    "        \n",
    "        \n",
    "        \n",
    "        "
   ]
  },
  {
   "cell_type": "code",
   "execution_count": null,
   "metadata": {},
   "outputs": [],
   "source": [
    "len(Arr)"
   ]
  },
  {
   "cell_type": "code",
   "execution_count": null,
   "metadata": {},
   "outputs": [],
   "source": [
    "Popul_CMFT.shape"
   ]
  },
  {
   "cell_type": "code",
   "execution_count": null,
   "metadata": {},
   "outputs": [],
   "source": []
  },
  {
   "cell_type": "code",
   "execution_count": null,
   "metadata": {},
   "outputs": [],
   "source": [
    "Newoi"
   ]
  },
  {
   "cell_type": "code",
   "execution_count": null,
   "metadata": {},
   "outputs": [],
   "source": []
  },
  {
   "cell_type": "code",
   "execution_count": null,
   "metadata": {},
   "outputs": [],
   "source": []
  },
  {
   "cell_type": "code",
   "execution_count": null,
   "metadata": {},
   "outputs": [],
   "source": []
  },
  {
   "cell_type": "code",
   "execution_count": null,
   "metadata": {},
   "outputs": [],
   "source": []
  },
  {
   "cell_type": "code",
   "execution_count": null,
   "metadata": {},
   "outputs": [],
   "source": []
  },
  {
   "cell_type": "code",
   "execution_count": null,
   "metadata": {},
   "outputs": [],
   "source": []
  },
  {
   "cell_type": "code",
   "execution_count": null,
   "metadata": {},
   "outputs": [],
   "source": []
  },
  {
   "cell_type": "code",
   "execution_count": null,
   "metadata": {},
   "outputs": [],
   "source": []
  },
  {
   "cell_type": "code",
   "execution_count": null,
   "metadata": {},
   "outputs": [],
   "source": []
  },
  {
   "cell_type": "code",
   "execution_count": null,
   "metadata": {},
   "outputs": [],
   "source": []
  },
  {
   "cell_type": "code",
   "execution_count": null,
   "metadata": {},
   "outputs": [],
   "source": [
    "Hamilt_ic(0)-Hamilt_ic(10)"
   ]
  },
  {
   "cell_type": "code",
   "execution_count": null,
   "metadata": {},
   "outputs": [],
   "source": [
    "Index_N[0]"
   ]
  },
  {
   "cell_type": "code",
   "execution_count": null,
   "metadata": {},
   "outputs": [],
   "source": [
    "(sol1.y).shape"
   ]
  },
  {
   "cell_type": "code",
   "execution_count": null,
   "metadata": {},
   "outputs": [],
   "source": [
    "  \n",
    "Sol_dense=(sol1.sol(tspan))\n"
   ]
  },
  {
   "cell_type": "code",
   "execution_count": null,
   "metadata": {},
   "outputs": [],
   "source": [
    "conj(1j)"
   ]
  },
  {
   "cell_type": "code",
   "execution_count": null,
   "metadata": {},
   "outputs": [],
   "source": []
  },
  {
   "cell_type": "code",
   "execution_count": null,
   "metadata": {},
   "outputs": [],
   "source": []
  },
  {
   "cell_type": "code",
   "execution_count": null,
   "metadata": {},
   "outputs": [],
   "source": []
  },
  {
   "cell_type": "code",
   "execution_count": null,
   "metadata": {},
   "outputs": [],
   "source": []
  },
  {
   "cell_type": "code",
   "execution_count": null,
   "metadata": {},
   "outputs": [],
   "source": []
  },
  {
   "cell_type": "code",
   "execution_count": null,
   "metadata": {},
   "outputs": [],
   "source": []
  },
  {
   "cell_type": "code",
   "execution_count": null,
   "metadata": {},
   "outputs": [],
   "source": []
  },
  {
   "cell_type": "code",
   "execution_count": null,
   "metadata": {},
   "outputs": [],
   "source": []
  },
  {
   "cell_type": "code",
   "execution_count": null,
   "metadata": {},
   "outputs": [],
   "source": [
    "#Id_Spin\n",
    "\n",
    "for j in range(-3,4):\n",
    "    \n",
    "    plt.plot(real((diag((conj(Sol_dense.T)@(A_i_tensor(Zeeman_Popul(j),0)@Sol_dense))))),label=str(j))\n",
    "    \n",
    "plt.legend()"
   ]
  },
  {
   "cell_type": "code",
   "execution_count": null,
   "metadata": {},
   "outputs": [],
   "source": []
  },
  {
   "cell_type": "code",
   "execution_count": null,
   "metadata": {},
   "outputs": [],
   "source": [
    "j=3\n",
    "\n",
    "plt.plot(real((diag((conj(Sol_dense.T)@(A_i_tensor(Zeeman_Popul(j),0)@Sol_dense))))),\"--\",label=str(j))\n",
    "\n",
    "j=2\n",
    "\n",
    "plt.plot(real((diag((conj(Sol_dense.T)@(A_i_tensor(Zeeman_Popul(j),0)@Sol_dense))))),\"--\",label=str(j))\n",
    "\n",
    "\n",
    "j=1\n",
    "\n",
    "plt.plot(real((diag((conj(Sol_dense.T)@(A_i_tensor(Zeeman_Popul(j),0)@Sol_dense))))),\"--\",label=str(j))\n",
    "\n",
    "j=0\n",
    "\n",
    "plt.plot(real((diag((conj(Sol_dense.T)@(A_i_tensor(Zeeman_Popul(j),0)@Sol_dense))))),\"--\",label=str(j))\n",
    "\n",
    "j=-1\n",
    "\n",
    "plt.plot(real((diag((conj(Sol_dense.T)@(A_i_tensor(Zeeman_Popul(j),0)@Sol_dense))))),\".\",label=str(j))\n",
    "\n",
    "j=-2\n",
    "\n",
    "plt.plot(real((diag((conj(Sol_dense.T)@(A_i_tensor(Zeeman_Popul(j),0)@Sol_dense))))),\".\",label=str(j))\n",
    "\n",
    "j=-3\n",
    "\n",
    "plt.plot(real((diag((conj(Sol_dense.T)@(A_i_tensor(Zeeman_Popul(j),0)@Sol_dense))))),\".\",label=str(j))\n",
    "\n",
    "\n",
    "plt.legend()"
   ]
  },
  {
   "cell_type": "code",
   "execution_count": null,
   "metadata": {},
   "outputs": [],
   "source": []
  },
  {
   "cell_type": "code",
   "execution_count": null,
   "metadata": {},
   "outputs": [],
   "source": []
  },
  {
   "cell_type": "code",
   "execution_count": null,
   "metadata": {},
   "outputs": [],
   "source": []
  },
  {
   "cell_type": "code",
   "execution_count": null,
   "metadata": {},
   "outputs": [],
   "source": []
  },
  {
   "cell_type": "code",
   "execution_count": null,
   "metadata": {},
   "outputs": [],
   "source": []
  },
  {
   "cell_type": "code",
   "execution_count": null,
   "metadata": {},
   "outputs": [],
   "source": []
  },
  {
   "cell_type": "code",
   "execution_count": null,
   "metadata": {},
   "outputs": [],
   "source": []
  },
  {
   "cell_type": "code",
   "execution_count": null,
   "metadata": {},
   "outputs": [],
   "source": []
  },
  {
   "cell_type": "code",
   "execution_count": null,
   "metadata": {},
   "outputs": [],
   "source": []
  },
  {
   "cell_type": "code",
   "execution_count": null,
   "metadata": {},
   "outputs": [],
   "source": [
    "$$$$$$$$$$$$$$$$$$$$$$$$$$$$$$$$$$$$$$"
   ]
  },
  {
   "cell_type": "code",
   "execution_count": null,
   "metadata": {},
   "outputs": [],
   "source": []
  },
  {
   "cell_type": "code",
   "execution_count": null,
   "metadata": {
    "id": "2H9MjamySkRE"
   },
   "outputs": [],
   "source": []
  },
  {
   "cell_type": "code",
   "execution_count": null,
   "metadata": {
    "id": "jRK-5LucSkRF"
   },
   "outputs": [],
   "source": []
  },
  {
   "cell_type": "code",
   "execution_count": null,
   "metadata": {
    "id": "swgNT7W1SkRF"
   },
   "outputs": [],
   "source": []
  },
  {
   "cell_type": "code",
   "execution_count": null,
   "metadata": {
    "id": "OlEwbLcMSkRF"
   },
   "outputs": [],
   "source": []
  },
  {
   "cell_type": "code",
   "execution_count": null,
   "metadata": {
    "id": "q3ueBz3gSkRF"
   },
   "outputs": [],
   "source": []
  },
  {
   "cell_type": "code",
   "execution_count": null,
   "metadata": {
    "id": "XiWLphHhSkRG"
   },
   "outputs": [],
   "source": []
  },
  {
   "cell_type": "code",
   "execution_count": null,
   "metadata": {
    "id": "Bnq2JVroSkRG"
   },
   "outputs": [],
   "source": []
  },
  {
   "cell_type": "code",
   "execution_count": null,
   "metadata": {
    "id": "yI5ccoJVSkRG"
   },
   "outputs": [],
   "source": []
  },
  {
   "cell_type": "code",
   "execution_count": null,
   "metadata": {
    "id": "HmETdMFJSkRH"
   },
   "outputs": [],
   "source": []
  },
  {
   "cell_type": "code",
   "execution_count": null,
   "metadata": {
    "id": "75jdecuOKaag"
   },
   "outputs": [],
   "source": []
  },
  {
   "cell_type": "code",
   "execution_count": null,
   "metadata": {
    "id": "iOqaGpoTSkRI"
   },
   "outputs": [],
   "source": []
  },
  {
   "cell_type": "code",
   "execution_count": null,
   "metadata": {
    "id": "0HhkyFYGSkRI"
   },
   "outputs": [],
   "source": []
  },
  {
   "cell_type": "code",
   "execution_count": null,
   "metadata": {
    "id": "zu-mTxgSSkRI"
   },
   "outputs": [],
   "source": []
  },
  {
   "cell_type": "code",
   "execution_count": null,
   "metadata": {
    "id": "XTLRei6WSkRJ"
   },
   "outputs": [],
   "source": []
  },
  {
   "cell_type": "code",
   "execution_count": null,
   "metadata": {
    "id": "mqXQ0J1PSkRL"
   },
   "outputs": [],
   "source": [
    "#Changeeee"
   ]
  },
  {
   "cell_type": "code",
   "execution_count": null,
   "metadata": {
    "id": "UhFaGsIqSkRL"
   },
   "outputs": [],
   "source": [
    "Sigma_EG=array(tensor_k(0).todense())\n",
    "Sigma_EE=array(tensor_k_ee(0).todense())\n",
    "\n",
    "#S_eg=array(Sigma_eg.todense())\n",
    "#S_ee=array(Sigma_ee.todense())"
   ]
  },
  {
   "cell_type": "code",
   "execution_count": null,
   "metadata": {
    "colab": {
     "base_uri": "https://localhost:8080/"
    },
    "id": "nsQhT1kuSkRL",
    "outputId": "fac1ffa4-ede0-45aa-81fe-c2e5d03fb90a"
   },
   "outputs": [],
   "source": [
    "Sigma_eg"
   ]
  },
  {
   "cell_type": "code",
   "execution_count": null,
   "metadata": {
    "colab": {
     "base_uri": "https://localhost:8080/"
    },
    "id": "Im2pdedxSkRL",
    "outputId": "30d559ed-ddec-4eb3-dd2c-bb905a65d156"
   },
   "outputs": [],
   "source": [
    "dot(Sigma_EE.flatten(),(sol.y)[:,0])"
   ]
  },
  {
   "cell_type": "code",
   "execution_count": null,
   "metadata": {
    "colab": {
     "base_uri": "https://localhost:8080/"
    },
    "id": "_Ak7cxIYSkRM",
    "outputId": "545ebaaf-6cd3-4c8f-9722-0f0abf7a17e1"
   },
   "outputs": [],
   "source": [
    "Atom_cutoff"
   ]
  },
  {
   "cell_type": "code",
   "execution_count": null,
   "metadata": {
    "colab": {
     "base_uri": "https://localhost:8080/"
    },
    "id": "MCCh8nxWSkRM",
    "outputId": "7e204f29-8022-4cd3-bed7-be07aa5e34c7"
   },
   "outputs": [],
   "source": [
    "N_atom"
   ]
  },
  {
   "cell_type": "code",
   "execution_count": null,
   "metadata": {
    "colab": {
     "base_uri": "https://localhost:8080/"
    },
    "id": "AI_i4pIUSkRM",
    "outputId": "cf9ca985-c87b-4776-aece-56eb1a425a2d"
   },
   "outputs": [],
   "source": [
    "tensor_k(0)"
   ]
  },
  {
   "cell_type": "code",
   "execution_count": null,
   "metadata": {
    "id": "CaT1peY1SkRM"
   },
   "outputs": [],
   "source": [
    "Splus_i=[]\n",
    "See_i  =[]\n",
    "\n",
    "Y_array=Sol_dense\n",
    "\n",
    "for j in range((Y_array).shape[1]):\n",
    "    \n",
    "    See=dot(Sigma_EE.flatten(),(Y_array)[:,j])\n",
    "    Seg=dot(Sigma_EG.flatten(),(Y_array)[:,j])\n",
    "    \n",
    "    \n",
    "    See_i.append(See)\n",
    "    \n",
    "    Splus_i.append(Seg)\n",
    "    \n",
    "    \n"
   ]
  },
  {
   "cell_type": "code",
   "execution_count": null,
   "metadata": {
    "id": "QW08_ff26Y21"
   },
   "outputs": [],
   "source": []
  },
  {
   "cell_type": "code",
   "execution_count": null,
   "metadata": {
    "id": "F9rG7lwm6Y5h"
   },
   "outputs": [],
   "source": []
  },
  {
   "cell_type": "code",
   "execution_count": null,
   "metadata": {
    "colab": {
     "base_uri": "https://localhost:8080/",
     "height": 503
    },
    "id": "2mOjU3wiSkRM",
    "outputId": "47f3dc58-dc97-4f1f-9042-d9d0b56632e2"
   },
   "outputs": [],
   "source": [
    "\n",
    "#plt.plot(tspan,2*np.real(Splus_i),label=\"$\\\\left<\\hat{\\sigma}_i^x\\\\right>$\")\n",
    "\n",
    "#plt.plot(tspan,np.ones((tspan.shape)))\n",
    "#plt.plot(tspan,0*np.ones((tspan.shape)))\n",
    "\n",
    "\n",
    "#plt.plot(tspan,2*np.imag(Splus_i),label=\"$\\\\left<\\hat{\\sigma}_i^y\\\\right>$\")\n",
    "#plt.plot(tspan,-sin(2*Omega*tspan),\"-|\")\n",
    "\n",
    "#plt.plot(tspan,(sin(Omega*tspan))**2,\"->\")\n",
    "plt.plot(tspan,np.real(See_i),label=\"$\\\\left<\\hat{\\sigma}_i^{ee}\\\\right>$\")\n",
    "#plt.plot(tspan, EE0,\"--\")\n",
    "plt.axvline(x=np.pi/4, color='b')\n",
    "\n",
    "#plt.xscale(\"log\")\n",
    "\n",
    "plt.legend()"
   ]
  },
  {
   "cell_type": "code",
   "execution_count": null,
   "metadata": {
    "id": "ynD6x9HvSkRM"
   },
   "outputs": [],
   "source": []
  },
  {
   "cell_type": "code",
   "execution_count": null,
   "metadata": {
    "id": "xlL4RaFXIoQZ"
   },
   "outputs": [],
   "source": []
  },
  {
   "cell_type": "code",
   "execution_count": null,
   "metadata": {
    "id": "UeVYidRPIoTk"
   },
   "outputs": [],
   "source": []
  },
  {
   "cell_type": "code",
   "execution_count": null,
   "metadata": {
    "colab": {
     "base_uri": "https://localhost:8080/"
    },
    "id": "gM9YQEvHcWjb",
    "outputId": "3f840408-ebf5-416f-8274-412dbd72fc75"
   },
   "outputs": [],
   "source": [
    "Splus_ar=array(Splus_i)\n",
    "See_ar  =array(See_i)\n",
    "\n",
    "\n",
    "from numpy import add\n",
    "\n",
    "@jit\n",
    "def SplusSee_center_ind(cent_ind):\n",
    "    \n",
    "    \n",
    "    sol = solve_ivp(f, [tspan[0], tspan[-1]], list(array((Init_rho.todense()).T,dtype=\"complex\")[0])\n",
    "                     ,args=(Part_H_L_R_LR(cent_ind),None),dense_output=True )\n",
    "    \n",
    "    \n",
    "    Sol_dense=(sol.sol(tspan))\n",
    "    \n",
    "    \n",
    "    \n",
    "    \n",
    "    \n",
    "    \n",
    "    Splus_i=[]\n",
    "    See_i  =[]\n",
    "\n",
    "    Y_array=Sol_dense\n",
    "\n",
    "    for j in range((Y_array).shape[1]):\n",
    "    \n",
    "        See=dot(Sigma_EE.flatten(),(Y_array)[:,j])\n",
    "        Seg=dot(Sigma_EG.flatten(),(Y_array)[:,j])\n",
    "    \n",
    "    \n",
    "        See_i.append(See)\n",
    "    \n",
    "        Splus_i.append(Seg)\n",
    "    \n",
    "    \n",
    "\n",
    "    \n",
    "    \n",
    "    \n",
    "    \n",
    "    return Splus_i, See_i\n",
    "    \n",
    "\n",
    "Array_0=SplusSee_center_ind(0)\n",
    "\n",
    "Splus=array(Array_0[0])\n",
    "See_r=array(Array_0[1])\n",
    "\n",
    "\n",
    "for j in range(1,N_atom):\n",
    "    \n",
    "    Array_j=SplusSee_center_ind(j)\n",
    "    \n",
    "    Splus_j=array(Array_j[0])\n",
    "    See_r_j=array(Array_j[1])\n",
    "    \n",
    "    Splus=Splus+Splus_j\n",
    "    See_r=See_r+See_r_j\n",
    "    \n",
    "    print(j)\n",
    "    "
   ]
  },
  {
   "cell_type": "code",
   "execution_count": null,
   "metadata": {
    "id": "tFmEZ9IWiT14"
   },
   "outputs": [],
   "source": [
    "Pos_atoms"
   ]
  },
  {
   "cell_type": "code",
   "execution_count": null,
   "metadata": {
    "id": "mRtcSf4riUKB"
   },
   "outputs": [],
   "source": [
    "Atom_cutoff"
   ]
  },
  {
   "cell_type": "code",
   "execution_count": null,
   "metadata": {
    "id": "nhZuDnIWiUP8"
   },
   "outputs": [],
   "source": [
    "#See2=np.real(See_r)"
   ]
  },
  {
   "cell_type": "code",
   "execution_count": null,
   "metadata": {
    "id": "1NrzwAj8iUSj"
   },
   "outputs": [],
   "source": [
    "#See3=np.real(See_r)"
   ]
  },
  {
   "cell_type": "code",
   "execution_count": null,
   "metadata": {
    "id": "5lfbu5a9ido7"
   },
   "outputs": [],
   "source": [
    "#See4=np.real(See_r)"
   ]
  },
  {
   "cell_type": "code",
   "execution_count": null,
   "metadata": {
    "id": "dRx7MlK9idr8"
   },
   "outputs": [],
   "source": [
    "#See5=np.real(See_r)"
   ]
  },
  {
   "cell_type": "code",
   "execution_count": null,
   "metadata": {
    "id": "Eo2tLOq_idvP"
   },
   "outputs": [],
   "source": [
    "#See6=np.real(See_r)"
   ]
  },
  {
   "cell_type": "code",
   "execution_count": null,
   "metadata": {
    "id": "kx1vSWqSvNcW"
   },
   "outputs": [],
   "source": []
  },
  {
   "cell_type": "code",
   "execution_count": null,
   "metadata": {
    "id": "VUhsrRTTmmLJ"
   },
   "outputs": [],
   "source": [
    "Atom_cutoff"
   ]
  },
  {
   "cell_type": "code",
   "execution_count": null,
   "metadata": {
    "id": "OZn3rTo2vNfP"
   },
   "outputs": [],
   "source": [
    "#See2G  = See_r\n",
    "#Splus2G= Splus\n",
    "\n"
   ]
  },
  {
   "cell_type": "code",
   "execution_count": null,
   "metadata": {
    "id": "JKeFU4VLvNiH"
   },
   "outputs": [],
   "source": [
    "See6G  = See_r\n",
    "Splus6G= Splus\n",
    "\n"
   ]
  },
  {
   "cell_type": "code",
   "execution_count": null,
   "metadata": {
    "id": "1aQNsyHTvNkq"
   },
   "outputs": [],
   "source": [
    "Omega"
   ]
  },
  {
   "cell_type": "code",
   "execution_count": null,
   "metadata": {
    "id": "G2GHfVYKm0Pc"
   },
   "outputs": [],
   "source": [
    "Atom_cutoff"
   ]
  },
  {
   "cell_type": "code",
   "execution_count": null,
   "metadata": {
    "id": "tAH6naMFm0Vm"
   },
   "outputs": [],
   "source": [
    "plt.plot(tspan,real(See6G) )\n",
    "plt.plot(tspan,real(Splus6G) )\n",
    "plt.plot(tspan,imag(Splus6G) )\n"
   ]
  },
  {
   "cell_type": "code",
   "execution_count": null,
   "metadata": {
    "id": "aiLYy2dum0ZD"
   },
   "outputs": [],
   "source": []
  },
  {
   "cell_type": "code",
   "execution_count": null,
   "metadata": {},
   "outputs": [],
   "source": [
    "df1=pd.read_csv('Total_exc0,1.txt')  \n"
   ]
  },
  {
   "cell_type": "code",
   "execution_count": null,
   "metadata": {},
   "outputs": [],
   "source": []
  },
  {
   "cell_type": "code",
   "execution_count": null,
   "metadata": {},
   "outputs": [],
   "source": []
  },
  {
   "cell_type": "code",
   "execution_count": null,
   "metadata": {},
   "outputs": [],
   "source": [
    "Exc_MF=array(df1)\n",
    "\n",
    "\n",
    "plt.title(\"Excited Population Dynamics\")\n",
    "\n",
    "plt.plot(Exc_MF[:,0],Exc_MF[:,1],label=\"MF estimation\")\n",
    "#plt.plot(tspan,real(See2G) ,label=\"MACE estimation, Cluster size 2\")\n",
    "#plt.plot(tspan,real(See5G) ,label=\"MACE estimation, Cluster size 5\")\n",
    "plt.plot(tspan,real(See6G) ,label=\"MACE estimation, Cluster size 6\")\n",
    "\n",
    "\n",
    "plt.xlabel(\"$\\Gamma t$\",fontsize=25)\n",
    "\n",
    "plt.ylabel(\"$n_{\\\\rm{ee}}(t)$\",fontsize=25)\n",
    "\n",
    "plt.legend()"
   ]
  },
  {
   "cell_type": "code",
   "execution_count": null,
   "metadata": {},
   "outputs": [],
   "source": []
  },
  {
   "cell_type": "code",
   "execution_count": null,
   "metadata": {
    "id": "IReG4rWJqs4M"
   },
   "outputs": [],
   "source": []
  },
  {
   "cell_type": "code",
   "execution_count": null,
   "metadata": {
    "id": "80QEIqdYqs9W"
   },
   "outputs": [],
   "source": [
    "j_ind=100\n",
    "\n",
    "\n",
    "Array_j=SplusSee_center_ind(j_ind)\n",
    "\n",
    "Splus=array(Array_0[0])\n",
    "See_r=array(Array_0[1])"
   ]
  },
  {
   "cell_type": "code",
   "execution_count": null,
   "metadata": {
    "id": "Mw_RhcjHqs_R"
   },
   "outputs": [],
   "source": []
  },
  {
   "cell_type": "code",
   "execution_count": null,
   "metadata": {
    "id": "hlJvnhxCqtCI"
   },
   "outputs": [],
   "source": [
    "plt.plot(tspan,real(See_r))\n",
    "plt.plot(tspan,real(Splus))\n",
    "plt.plot(tspan,imag(Splus))"
   ]
  },
  {
   "cell_type": "code",
   "execution_count": null,
   "metadata": {
    "id": "QCOh7Qj4qtEf"
   },
   "outputs": [],
   "source": []
  },
  {
   "cell_type": "code",
   "execution_count": null,
   "metadata": {
    "id": "AOFLHKTwqtHF"
   },
   "outputs": [],
   "source": []
  },
  {
   "cell_type": "code",
   "execution_count": null,
   "metadata": {
    "id": "Nz8Z0-mxqtJo"
   },
   "outputs": [],
   "source": [
    "for j in range(N_atom):\n",
    "\n",
    "    Array_j=SplusSee_center_ind(j)\n",
    "\n",
    "    Splus=array(Array_j[0])\n",
    "    See_r=array(Array_j[1])\n",
    "    #plt.plot(tspan,2*np.real(Splus),label=\"$\\\\left<\\hat{\\sigma}_i^x\\\\right>$\")\n",
    "    #plt.plot(tspan,2*np.imag(Splus),label=\"$\\\\left<\\hat{\\sigma}_i^y\\\\right>$\")\n",
    "\n",
    "    plt.plot(tspan,np.real(See_r),label=\"$\\\\left<\\hat{\\sigma}_i^{ee}\\\\right>$\")\n",
    "\n",
    "    #plt.legend()\n",
    "\n",
    "    "
   ]
  },
  {
   "cell_type": "code",
   "execution_count": null,
   "metadata": {
    "id": "IeICrpE6qtML"
   },
   "outputs": [],
   "source": [
    "100//6"
   ]
  },
  {
   "cell_type": "code",
   "execution_count": null,
   "metadata": {
    "id": "Z4s5flGEqtOi"
   },
   "outputs": [],
   "source": [
    "Sampl=12\n",
    "\n",
    "\n",
    "for j in range(N_atom//Sampl):\n",
    "    \n",
    "    Index=j*Sampl\n",
    "\n",
    "    Array_j=SplusSee_center_ind(j)\n",
    "\n",
    "    Splus=array(Array_j[0])\n",
    "    See_r=array(Array_j[1])\n",
    "    #plt.plot(tspan,2*np.real(Splus),label=\"$\\\\left<\\hat{\\sigma}_i^x\\\\right>$\")\n",
    "    #plt.plot(tspan,2*np.imag(Splus),label=\"$\\\\left<\\hat{\\sigma}_i^y\\\\right>$\")\n",
    "\n",
    "    plt.plot(tspan,np.real(See_r),label=\"$\\\\left<\\hat{\\sigma}_i^{ee}\\\\right>$\")\n",
    "\n",
    "    #plt.legend()\n",
    "\n",
    "    "
   ]
  },
  {
   "cell_type": "code",
   "execution_count": null,
   "metadata": {
    "id": "kr2Wde4tqtRl"
   },
   "outputs": [],
   "source": [
    "N_atom//Sampl"
   ]
  },
  {
   "cell_type": "code",
   "execution_count": null,
   "metadata": {
    "id": "tpK2quzsm0cD"
   },
   "outputs": [],
   "source": [
    "j=150\n",
    "\n",
    "Index=j*Sampl\n",
    "\n",
    "Array_j=SplusSee_center_ind(j)\n",
    "\n",
    "Splus=array(Array_j[0])\n",
    "See_r=array(Array_j[1])\n",
    "plt.plot(tspan,np.real(See_r),label=\"$\\\\left<\\hat{\\sigma}_i^{ee}\\\\right>$\")\n",
    "\n",
    "j=4\n",
    "\n",
    "Index=j*Sampl\n",
    "\n",
    "Array_j=SplusSee_center_ind(j)\n",
    "\n",
    "Splus=array(Array_j[0])\n",
    "See_r=array(Array_j[1])\n",
    "#plt.plot(tspan,2*np.real(Splus),label=\"$\\\\left<\\hat{\\sigma}_i^x\\\\right>$\")\n",
    "#plt.plot(tspan,2*np.imag(Splus),label=\"$\\\\left<\\hat{\\sigma}_i^y\\\\right>$\")\n",
    "\n",
    "plt.plot(tspan,np.real(See_r),label=\"$\\\\left<\\hat{\\sigma}_i^{ee}\\\\right>$\")"
   ]
  },
  {
   "cell_type": "code",
   "execution_count": null,
   "metadata": {
    "id": "spWmC3rDm0em"
   },
   "outputs": [],
   "source": []
  },
  {
   "cell_type": "code",
   "execution_count": null,
   "metadata": {
    "id": "73Yw8E7Nm0hf"
   },
   "outputs": [],
   "source": []
  },
  {
   "cell_type": "code",
   "execution_count": null,
   "metadata": {
    "id": "AcUKOJIxidyd"
   },
   "outputs": [],
   "source": [
    "plt.title(\" N=1000, $\\Omega=2\\Gamma$ \",  )\n",
    "\n",
    "\n",
    "plt.plot(tspan,See2,label=\"$\\\\left<\\hat{S}_z\\\\right>$ MACE 2 Collective\")\n",
    "plt.plot(tspan,See3,label=\"$\\\\left<\\hat{S}_z\\\\right>$ MACE 3 Collective\")\n",
    "plt.plot(tspan,See4,label=\"$\\\\left<\\hat{S}_z\\\\right>$ MACE 4 Collective\")\n",
    "plt.plot(tspan,See5,label=\"$\\\\left<\\hat{S}_z\\\\right>$ MACE 5 Collective\")\n",
    "plt.plot(tspan,See6,label=\"$\\\\left<\\hat{S}_z\\\\right>$ MACE 6 Collective\")\n",
    "\n",
    "plt.plot(tspan,See2G,\"--\",label=\"$\\\\left<\\hat{S}_z\\\\right>$ MACE 2 General\")\n",
    "plt.plot(tspan,See3G,\"--\",label=\"$\\\\left<\\hat{S}_z\\\\right>$ MACE 3 General\")\n",
    "plt.plot(tspan,See4G,\"--\",label=\"$\\\\left<\\hat{S}_z\\\\right>$ MACE 4 General\")\n",
    "plt.plot(tspan,See5G,\"--\",label=\"$\\\\left<\\hat{S}_z\\\\right>$ MACE 5 General\")\n",
    "plt.plot(tspan,See6G,\"--\",label=\"$\\\\left<\\hat{S}_z\\\\right>$ MACE 6 General\")\n",
    "\n",
    "plt.xlabel(\"$\\Gamma t$\",fontsize=20)\n",
    "\n",
    "plt.ylabel(\"$\\\\left<\\hat{S}_{\\\\alpha}\\\\right>$\",fontsize=20)\n",
    "\n",
    "plt.xticks(fontsize=20)\n",
    "plt.yticks(fontsize=20)\n",
    "\n",
    "plt.legend(loc='center left', bbox_to_anchor=(1, 0.5),fontsize=13)"
   ]
  },
  {
   "cell_type": "code",
   "execution_count": null,
   "metadata": {
    "id": "pDLaSAyqid16"
   },
   "outputs": [],
   "source": [
    "\n",
    "plt.plot(tspan,See2,label=\"$\\\\left<\\hat{S}_z\\\\right>$ MACE 2 Collective\")\n",
    "plt.plot(tspan,See3,label=\"$\\\\left<\\hat{S}_z\\\\right>$ MACE 3 Collective\")\n",
    "plt.plot(tspan,See4,label=\"$\\\\left<\\hat{S}_z\\\\right>$ MACE 4 Collective\")\n",
    "plt.plot(tspan,See5,label=\"$\\\\left<\\hat{S}_z\\\\right>$ MACE 5 Collective\")\n",
    "plt.plot(tspan,See6,label=\"$\\\\left<\\hat{S}_z\\\\right>$ MACE 6 Collective\")\n",
    "\n",
    "plt.plot(tspan,See2G,\"--\",label=\"$\\\\left<\\hat{S}_z\\\\right>$ MACE 2 General\")\n",
    "plt.plot(tspan,See3G,\"--\",label=\"$\\\\left<\\hat{S}_z\\\\right>$ MACE 3 General\")\n",
    "plt.plot(tspan,See4G,\"--\",label=\"$\\\\left<\\hat{S}_z\\\\right>$ MACE 4 General\")\n",
    "plt.plot(tspan,See5G,\"--\",label=\"$\\\\left<\\hat{S}_z\\\\right>$ MACE 5 General\")\n",
    "plt.plot(tspan,See6G,\"--\",label=\"$\\\\left<\\hat{S}_z\\\\right>$ MACE 6 General\")\n",
    "\n",
    "plt.xlabel(\"$\\Gamma t$\")\n",
    "\n",
    "plt.ylabel(\"$\\\\left<\\hat{S}_{\\\\alpha}\\\\right>$\")\n",
    "\n",
    "plt.legend(loc='center left', bbox_to_anchor=(1, 0.5),fontsize=13)"
   ]
  },
  {
   "cell_type": "code",
   "execution_count": null,
   "metadata": {
    "id": "UtpkxihbcWo0"
   },
   "outputs": [],
   "source": []
  },
  {
   "cell_type": "code",
   "execution_count": null,
   "metadata": {
    "id": "OxuJ39hr-VAC"
   },
   "outputs": [],
   "source": [
    "\n",
    "\n",
    "plt.plot(tspan,See2G,\"--\",label=\"$\\\\left<\\hat{S}_z\\\\right>$ MACE 2 General\")\n",
    "plt.plot(tspan,See3G,\"--\",label=\"$\\\\left<\\hat{S}_z\\\\right>$ MACE 3 General\")\n",
    "plt.plot(tspan,See4G,\"--\",label=\"$\\\\left<\\hat{S}_z\\\\right>$ MACE 4 General\")\n",
    "plt.plot(tspan,See5G,\"--\",label=\"$\\\\left<\\hat{S}_z\\\\right>$ MACE 5 General\")\n",
    "plt.plot(tspan,See6G,\"--\",label=\"$\\\\left<\\hat{S}_z\\\\right>$ MACE 6 General\")\n",
    "\n",
    "plt.xlabel(\"$\\Gamma t$\")\n",
    "\n",
    "plt.ylabel(\"$\\\\left<\\hat{S}_{\\\\alpha}\\\\right>$\")\n",
    "\n",
    "plt.legend(loc='center left', bbox_to_anchor=(1, 0.5),fontsize=13)"
   ]
  },
  {
   "cell_type": "code",
   "execution_count": null,
   "metadata": {
    "id": "Dy5PZk5E-VDG"
   },
   "outputs": [],
   "source": []
  },
  {
   "cell_type": "code",
   "execution_count": null,
   "metadata": {
    "id": "5yqaSSMD-VGE"
   },
   "outputs": [],
   "source": [
    "\n",
    "plt.plot(tspan,See2,label=\"$\\\\left<\\hat{S}_z\\\\right>$ MACE 2 Collective\")\n",
    "plt.plot(tspan,See3,label=\"$\\\\left<\\hat{S}_z\\\\right>$ MACE 3 Collective\")\n",
    "plt.plot(tspan,See4,label=\"$\\\\left<\\hat{S}_z\\\\right>$ MACE 4 Collective\")\n",
    "plt.plot(tspan,See5,label=\"$\\\\left<\\hat{S}_z\\\\right>$ MACE 5 Collective\")\n",
    "plt.plot(tspan,See6,label=\"$\\\\left<\\hat{S}_z\\\\right>$ MACE 6 Collective\")\n",
    "\n",
    "\n",
    "\n",
    "plt.xlabel(\"$\\Gamma t$\")\n",
    "\n",
    "plt.ylabel(\"$\\\\left<\\hat{S}_{\\\\alpha}\\\\right>$\")\n",
    "\n",
    "plt.legend(loc='center left', bbox_to_anchor=(1, 0.5),fontsize=13)"
   ]
  },
  {
   "cell_type": "code",
   "execution_count": null,
   "metadata": {
    "id": "WxPCzr7n-VIu"
   },
   "outputs": [],
   "source": []
  },
  {
   "cell_type": "code",
   "execution_count": null,
   "metadata": {
    "id": "zLyPGjbu_H_J"
   },
   "outputs": [],
   "source": []
  },
  {
   "cell_type": "code",
   "execution_count": null,
   "metadata": {
    "id": "r6X37OSP_ICX"
   },
   "outputs": [],
   "source": [
    "# EH"
   ]
  },
  {
   "cell_type": "code",
   "execution_count": null,
   "metadata": {
    "id": "y83O5lSx_IFj"
   },
   "outputs": [],
   "source": []
  },
  {
   "cell_type": "code",
   "execution_count": null,
   "metadata": {
    "id": "FXWc6J2kcWrs"
   },
   "outputs": [],
   "source": [
    "plt.plot(tspan,np.real(Splus),label=\"$\\\\left<\\hat{S}_x\\\\right>$ MACE\")\n",
    "plt.plot(tspan,np.imag(Splus),label=\"$\\\\left<\\hat{S}_y\\\\right>$ MACE\")\n",
    "plt.plot(tspan,np.real(See_r)-N_atom/2,label=\"$\\\\left<\\hat{S}_z\\\\right>$ MACE\")\n",
    "\n",
    "plt.xlabel(\"$\\Gamma t$\")\n",
    "\n",
    "plt.ylabel(\"$\\\\left<\\hat{S}_{\\\\alpha}\\\\right>$\")\n",
    "\n",
    "plt.legend()"
   ]
  },
  {
   "cell_type": "code",
   "execution_count": null,
   "metadata": {
    "id": "WlGWdLqO3Ml7"
   },
   "outputs": [],
   "source": [
    "\n",
    "plt.plot(tspan,np.real(See_r),label=\"$\\\\left<\\hat{S}_z\\\\right>$ MACE\")\n",
    "\n",
    "plt.xlabel(\"$\\Gamma t$\")\n",
    "\n",
    "plt.ylabel(\"$\\\\left<\\hat{S}_{\\\\alpha}\\\\right>$\")\n",
    "\n",
    "plt.legend()"
   ]
  },
  {
   "cell_type": "code",
   "execution_count": null,
   "metadata": {
    "id": "zDW608uF3Ml7"
   },
   "outputs": [],
   "source": [
    "Omega"
   ]
  },
  {
   "cell_type": "code",
   "execution_count": null,
   "metadata": {
    "id": "AZ2swWFd3Ml7"
   },
   "outputs": [],
   "source": [
    "N_atom"
   ]
  },
  {
   "cell_type": "code",
   "execution_count": null,
   "metadata": {
    "id": "jCCIZSxm3Ml7"
   },
   "outputs": [],
   "source": []
  },
  {
   "cell_type": "code",
   "execution_count": null,
   "metadata": {
    "id": "icI5aWhp3Ml7"
   },
   "outputs": [],
   "source": []
  },
  {
   "cell_type": "code",
   "execution_count": null,
   "metadata": {
    "id": "Xz5Lu3FX3Ml7"
   },
   "outputs": [],
   "source": [
    "Sx5C=np.real(Splus)\n",
    "Sy5C=np.imag(Splus)\n",
    "Sz5C=np.real(See_r)-N_atom/2"
   ]
  },
  {
   "cell_type": "code",
   "execution_count": null,
   "metadata": {
    "id": "oFGOa6gn3Ml8"
   },
   "outputs": [],
   "source": []
  },
  {
   "cell_type": "code",
   "execution_count": null,
   "metadata": {
    "id": "ecq0tZ-qcWuS"
   },
   "outputs": [],
   "source": [
    "#Sx5G=np.real(Splus)\n",
    "#Sy5G=np.imag(Splus)\n",
    "#Sz5G=np.real(See_r)-N_atom/2"
   ]
  },
  {
   "cell_type": "code",
   "execution_count": null,
   "metadata": {
    "id": "tbWF-H_xnd1z"
   },
   "outputs": [],
   "source": [
    "Collect"
   ]
  },
  {
   "cell_type": "code",
   "execution_count": null,
   "metadata": {
    "id": "aGxGH5eBnd4t"
   },
   "outputs": [],
   "source": [
    "Atom_cutoff"
   ]
  },
  {
   "cell_type": "code",
   "execution_count": null,
   "metadata": {
    "id": "e2BR0lrJnd7R"
   },
   "outputs": [],
   "source": [
    "N_atom"
   ]
  },
  {
   "cell_type": "code",
   "execution_count": null,
   "metadata": {
    "id": "Gqvp-ZXnKO7I"
   },
   "outputs": [],
   "source": []
  },
  {
   "cell_type": "code",
   "execution_count": null,
   "metadata": {
    "id": "YbzyEDWaKO-I"
   },
   "outputs": [],
   "source": []
  },
  {
   "cell_type": "code",
   "execution_count": null,
   "metadata": {
    "id": "f32UmVGO3Ml9"
   },
   "outputs": [],
   "source": [
    "fontsize=30\n",
    "\n",
    "plt.title(\"Single Operators Dynamics under MACE\",fontsize=fontsize)\n",
    "\n",
    "plt.plot(tspan,Sx2G,\"-\",label=\"$\\\\left<\\hat{S}_x\\\\right>$ MACE 2G\")\n",
    "plt.plot(tspan,Sy2G,\"-\",label=\"$\\\\left<\\hat{S}_y\\\\right>$ MACE 2G\")\n",
    "plt.plot(tspan,Sz2G,\"-\",label=\"$\\\\left<\\hat{S}_z\\\\right>$ MACE 2G\")\n",
    "\n",
    "plt.plot(tspan,Sx2C,\"--\",label=\"$\\\\left<\\hat{S}_x\\\\right>$ MACE 2C\")\n",
    "plt.plot(tspan,Sy2C,\"--\",label=\"$\\\\left<\\hat{S}_y\\\\right>$ MACE 2C\")\n",
    "plt.plot(tspan,Sz2C,\"--\",label=\"$\\\\left<\\hat{S}_z\\\\right>$ MACE 2C\")\n",
    "\n",
    "\n",
    "plt.plot(tspan,Sx3G,\"-\",label=\"$\\\\left<\\hat{S}_x\\\\right>$ MACE 3G\")\n",
    "plt.plot(tspan,Sy3G,\"-\",label=\"$\\\\left<\\hat{S}_y\\\\right>$ MACE 3G\")\n",
    "plt.plot(tspan,Sz3G,\"-\",label=\"$\\\\left<\\hat{S}_z\\\\right>$ MACE 3G\")\n",
    "\n",
    "plt.plot(tspan,Sx3C,\"--\",label=\"$\\\\left<\\hat{S}_x\\\\right>$ MACE 3C\")\n",
    "plt.plot(tspan,Sy3C,\"--\",label=\"$\\\\left<\\hat{S}_y\\\\right>$ MACE 3C\")\n",
    "plt.plot(tspan,Sz3C,\"--\",label=\"$\\\\left<\\hat{S}_z\\\\right>$ MACE 3C\")\n",
    "\n",
    "plt.plot(tspan,Sx4G,\"-\",label=\"$\\\\left<\\hat{S}_x\\\\right>$ MACE 4G\")\n",
    "plt.plot(tspan,Sy4G,\"-\",label=\"$\\\\left<\\hat{S}_y\\\\right>$ MACE 4G\")\n",
    "plt.plot(tspan,Sz4G,\"-\",label=\"$\\\\left<\\hat{S}_z\\\\right>$ MACE 4G\")\n",
    "\n",
    "plt.plot(tspan,Sx4C,\"--\",label=\"$\\\\left<\\hat{S}_x\\\\right>$ MACE 4C\")\n",
    "plt.plot(tspan,Sy4C,\"--\",label=\"$\\\\left<\\hat{S}_y\\\\right>$ MACE 4C\")\n",
    "plt.plot(tspan,Sz4C,\"--\",label=\"$\\\\left<\\hat{S}_z\\\\right>$ MACE 4C\")\n",
    "\n",
    "plt.plot(tspan,Sx5G,\"-\",label=\"$\\\\left<\\hat{S}_x\\\\right>$ MACE 5G\")\n",
    "plt.plot(tspan,Sy5G,\"-\",label=\"$\\\\left<\\hat{S}_y\\\\right>$ MACE 5G\")\n",
    "plt.plot(tspan,Sz5G,\"-\",label=\"$\\\\left<\\hat{S}_z\\\\right>$ MACE 5G\")\n",
    "\n",
    "plt.plot(tspan,Sx5C,\"--\",label=\"$\\\\left<\\hat{S}_x\\\\right>$ MACE 5C\")\n",
    "plt.plot(tspan,Sy5C,\"--\",label=\"$\\\\left<\\hat{S}_y\\\\right>$ MACE 5C\")\n",
    "plt.plot(tspan,Sz5C,\"--\",label=\"$\\\\left<\\hat{S}_z\\\\right>$ MACE 5C\")\n",
    "\n",
    "\n",
    "plt.legend()\n"
   ]
  },
  {
   "cell_type": "code",
   "execution_count": null,
   "metadata": {
    "id": "tDurbjnC3Ml-"
   },
   "outputs": [],
   "source": []
  },
  {
   "cell_type": "code",
   "execution_count": null,
   "metadata": {
    "id": "NL3K0e5J3Ml-"
   },
   "outputs": [],
   "source": []
  },
  {
   "cell_type": "code",
   "execution_count": null,
   "metadata": {
    "id": "xjzzxWdF3Ml-"
   },
   "outputs": [],
   "source": [
    "fontsize=30\n",
    "\n",
    "plt.title(\"Single Operators Dynamics under MACE\",fontsize=fontsize)\n",
    "\n",
    "plt.plot(tspan,Sx2G,\"-\",label=\"$\\\\left<\\hat{S}_x\\\\right>$ MACE 2G\")\n",
    "#plt.plot(tspan,Sy2G,\"-\",label=\"$\\\\left<\\hat{S}_y\\\\right>$ MACE 2G\")\n",
    "#plt.plot(tspan,Sz2G,\"-\",label=\"$\\\\left<\\hat{S}_z\\\\right>$ MACE 2G\")\n",
    "\n",
    "plt.plot(tspan,Sx2C,\"--\",label=\"$\\\\left<\\hat{S}_x\\\\right>$ MACE 2C\")\n",
    "#plt.plot(tspan,Sy2C,\"--\",label=\"$\\\\left<\\hat{S}_y\\\\right>$ MACE 2C\")\n",
    "#plt.plot(tspan,Sz2C,\"--\",label=\"$\\\\left<\\hat{S}_z\\\\right>$ MACE 2C\")\n",
    "\n",
    "\n",
    "plt.plot(tspan,Sx3G,\"-\",label=\"$\\\\left<\\hat{S}_x\\\\right>$ MACE 3G\")\n",
    "#plt.plot(tspan,Sy3G,\"-\",label=\"$\\\\left<\\hat{S}_y\\\\right>$ MACE 3G\")\n",
    "#plt.plot(tspan,Sz3G,\"-\",label=\"$\\\\left<\\hat{S}_z\\\\right>$ MACE 3G\")\n",
    "\n",
    "plt.plot(tspan,Sx3C,\"--\",label=\"$\\\\left<\\hat{S}_x\\\\right>$ MACE 3C\")\n",
    "#plt.plot(tspan,Sy3C,\"--\",label=\"$\\\\left<\\hat{S}_y\\\\right>$ MACE 3C\")\n",
    "#plt.plot(tspan,Sz3C,\"--\",label=\"$\\\\left<\\hat{S}_z\\\\right>$ MACE 3C\")\n",
    "\n",
    "plt.plot(tspan,Sx4G,\"-\",label=\"$\\\\left<\\hat{S}_x\\\\right>$ MACE 4G\")\n",
    "#plt.plot(tspan,Sy4G,\"-\",label=\"$\\\\left<\\hat{S}_y\\\\right>$ MACE 4G\")\n",
    "#plt.plot(tspan,Sz4G,\"-\",label=\"$\\\\left<\\hat{S}_z\\\\right>$ MACE 4G\")\n",
    "\n",
    "plt.plot(tspan,Sx4C,\"--\",label=\"$\\\\left<\\hat{S}_x\\\\right>$ MACE 4C\")\n",
    "#plt.plot(tspan,Sy4C,\"--\",label=\"$\\\\left<\\hat{S}_y\\\\right>$ MACE 4C\")\n",
    "#plt.plot(tspan,Sz4C,\"--\",label=\"$\\\\left<\\hat{S}_z\\\\right>$ MACE 4C\")\n",
    "\n",
    "plt.plot(tspan,Sx5G,\"-\",label=\"$\\\\left<\\hat{S}_x\\\\right>$ MACE 5G\")\n",
    "#plt.plot(tspan,Sy5G,\"-\",label=\"$\\\\left<\\hat{S}_y\\\\right>$ MACE 5G\")\n",
    "#plt.plot(tspan,Sz5G,\"-\",label=\"$\\\\left<\\hat{S}_z\\\\right>$ MACE 5G\")\n",
    "\n",
    "plt.plot(tspan,Sx5C,\"--\",label=\"$\\\\left<\\hat{S}_x\\\\right>$ MACE 5C\")\n",
    "#plt.plot(tspan,Sy5C,\"--\",label=\"$\\\\left<\\hat{S}_y\\\\right>$ MACE 5C\")\n",
    "#plt.plot(tspan,Sz5C,\"--\",label=\"$\\\\left<\\hat{S}_z\\\\right>$ MACE 5C\")\n",
    "\n",
    "\n",
    "plt.legend()\n"
   ]
  },
  {
   "cell_type": "code",
   "execution_count": null,
   "metadata": {
    "id": "ad8yEE-63Ml-"
   },
   "outputs": [],
   "source": []
  },
  {
   "cell_type": "code",
   "execution_count": null,
   "metadata": {
    "id": "y15H-7ln3Ml-"
   },
   "outputs": [],
   "source": [
    "fontsize=30\n",
    "\n",
    "plt.title(\"Single Operators Dynamics under MACE\",fontsize=fontsize)\n",
    "\n",
    "#plt.plot(tspan,Sx2G,\"-\",label=\"$\\\\left<\\hat{S}_x\\\\right>$ MACE 2G\")\n",
    "plt.plot(tspan,Sy2G,\"-\",label=\"$\\\\left<\\hat{S}_y\\\\right>$ MACE 2G\")\n",
    "#plt.plot(tspan,Sz2G,\"-\",label=\"$\\\\left<\\hat{S}_z\\\\right>$ MACE 2G\")\n",
    "\n",
    "#plt.plot(tspan,Sx2C,\"--\",label=\"$\\\\left<\\hat{S}_x\\\\right>$ MACE 2C\")\n",
    "plt.plot(tspan,Sy2C,\"--\",label=\"$\\\\left<\\hat{S}_y\\\\right>$ MACE 2C\")\n",
    "#plt.plot(tspan,Sz2C,\"--\",label=\"$\\\\left<\\hat{S}_z\\\\right>$ MACE 2C\")\n",
    "\n",
    "\n",
    "#plt.plot(tspan,Sx3G,\"-\",label=\"$\\\\left<\\hat{S}_x\\\\right>$ MACE 3G\")\n",
    "plt.plot(tspan,Sy3G,\"-\",label=\"$\\\\left<\\hat{S}_y\\\\right>$ MACE 3G\")\n",
    "#plt.plot(tspan,Sz3G,\"-\",label=\"$\\\\left<\\hat{S}_z\\\\right>$ MACE 3G\")\n",
    "\n",
    "#plt.plot(tspan,Sx3C,\"--\",label=\"$\\\\left<\\hat{S}_x\\\\right>$ MACE 3C\")\n",
    "plt.plot(tspan,Sy3C,\"--\",label=\"$\\\\left<\\hat{S}_y\\\\right>$ MACE 3C\")\n",
    "#plt.plot(tspan,Sz3C,\"--\",label=\"$\\\\left<\\hat{S}_z\\\\right>$ MACE 3C\")\n",
    "\n",
    "\n",
    "#plt.plot(tspan,Sx4G,\"-\",label=\"$\\\\left<\\hat{S}_x\\\\right>$ MACE 4G\")\n",
    "plt.plot(tspan,Sy4G,\"-\",label=\"$\\\\left<\\hat{S}_y\\\\right>$ MACE 4G\")\n",
    "#plt.plot(tspan,Sz4G,\"-\",label=\"$\\\\left<\\hat{S}_z\\\\right>$ MACE 4G\")\n",
    "\n",
    "#plt.plot(tspan,Sx4C,\"--\",label=\"$\\\\left<\\hat{S}_x\\\\right>$ MACE 4C\")\n",
    "plt.plot(tspan,Sy4C,\"--\",label=\"$\\\\left<\\hat{S}_y\\\\right>$ MACE 4C\")\n",
    "#plt.plot(tspan,Sz4C,\"--\",label=\"$\\\\left<\\hat{S}_z\\\\right>$ MACE 4C\")\n",
    "\n",
    "#plt.plot(tspan,Sx5G,\"-\",label=\"$\\\\left<\\hat{S}_x\\\\right>$ MACE 5G\")\n",
    "plt.plot(tspan,Sy5G,\"-\",label=\"$\\\\left<\\hat{S}_y\\\\right>$ MACE 5G\")\n",
    "#plt.plot(tspan,Sz5G,\"-\",label=\"$\\\\left<\\hat{S}_z\\\\right>$ MACE 5G\")\n",
    "\n",
    "#plt.plot(tspan,Sx5C,\"--\",label=\"$\\\\left<\\hat{S}_x\\\\right>$ MACE 5C\")\n",
    "plt.plot(tspan,Sy5C,\"--\",label=\"$\\\\left<\\hat{S}_y\\\\right>$ MACE 5C\")\n",
    "#plt.plot(tspan,Sz5C,\"--\",label=\"$\\\\left<\\hat{S}_z\\\\right>$ MACE 5C\")\n",
    "\n",
    "\n",
    "\n",
    "plt.legend()\n"
   ]
  },
  {
   "cell_type": "code",
   "execution_count": null,
   "metadata": {
    "id": "5SE3pNgi3Ml_"
   },
   "outputs": [],
   "source": []
  },
  {
   "cell_type": "code",
   "execution_count": null,
   "metadata": {
    "id": "ehERPQhu3Ml_"
   },
   "outputs": [],
   "source": [
    "fontsize=30\n",
    "\n",
    "plt.title(\"Single Operators Dynamics under MACE\",fontsize=fontsize)\n",
    "\n",
    "#plt.plot(tspan,Sx2G,\"-\",label=\"$\\\\left<\\hat{S}_x\\\\right>$ MACE 2G\")\n",
    "#plt.plot(tspan,Sy2G,\"-\",label=\"$\\\\left<\\hat{S}_y\\\\right>$ MACE 2G\")\n",
    "plt.plot(tspan,Sz2G,\"-\",label=\"$\\\\left<\\hat{S}_z\\\\right>$ MACE 2G\")\n",
    "\n",
    "#plt.plot(tspan,Sx2C,\"--\",label=\"$\\\\left<\\hat{S}_x\\\\right>$ MACE 2C\")\n",
    "#plt.plot(tspan,Sy2C,\"--\",label=\"$\\\\left<\\hat{S}_y\\\\right>$ MACE 2C\")\n",
    "plt.plot(tspan,Sz2C,\"--\",label=\"$\\\\left<\\hat{S}_z\\\\right>$ MACE 2C\")\n",
    "\n",
    "\n",
    "#plt.plot(tspan,Sx3G,\"-\",label=\"$\\\\left<\\hat{S}_x\\\\right>$ MACE 3G\")\n",
    "#plt.plot(tspan,Sy3G,\"-\",label=\"$\\\\left<\\hat{S}_y\\\\right>$ MACE 3G\")\n",
    "plt.plot(tspan,Sz3G,\"-\",label=\"$\\\\left<\\hat{S}_z\\\\right>$ MACE 3G\")\n",
    "\n",
    "#plt.plot(tspan,Sx3C,\"--\",label=\"$\\\\left<\\hat{S}_x\\\\right>$ MACE 3C\")\n",
    "#plt.plot(tspan,Sy3C,\"--\",label=\"$\\\\left<\\hat{S}_y\\\\right>$ MACE 3C\")\n",
    "plt.plot(tspan,Sz3C,\"--\",label=\"$\\\\left<\\hat{S}_z\\\\right>$ MACE 3C\")\n",
    "\n",
    "#plt.plot(tspan,Sx4G,\"-\",label=\"$\\\\left<\\hat{S}_x\\\\right>$ MACE 4G\")\n",
    "#plt.plot(tspan,Sy4G,\"-\",label=\"$\\\\left<\\hat{S}_y\\\\right>$ MACE 4G\")\n",
    "plt.plot(tspan,Sz4G,\"-\",label=\"$\\\\left<\\hat{S}_z\\\\right>$ MACE 4G\")\n",
    "\n",
    "#plt.plot(tspan,Sx4C,\"--\",label=\"$\\\\left<\\hat{S}_x\\\\right>$ MACE 4C\")\n",
    "#plt.plot(tspan,Sy4C,\"--\",label=\"$\\\\left<\\hat{S}_y\\\\right>$ MACE 4C\")\n",
    "plt.plot(tspan,Sz4C,\"--\",label=\"$\\\\left<\\hat{S}_z\\\\right>$ MACE 4C\")\n",
    "\n",
    "\n",
    "#plt.plot(tspan,Sx4G,\"-\",label=\"$\\\\left<\\hat{S}_x\\\\right>$ MACE 5G\")\n",
    "#plt.plot(tspan,Sy4G,\"-\",label=\"$\\\\left<\\hat{S}_y\\\\right>$ MACE 45G\")\n",
    "plt.plot(tspan,Sz5G,\"-\",label=\"$\\\\left<\\hat{S}_z\\\\right>$ MACE 5G\")\n",
    "\n",
    "#plt.plot(tspan,Sx4C,\"--\",label=\"$\\\\left<\\hat{S}_x\\\\right>$ MACE 5C\")\n",
    "#plt.plot(tspan,Sy4C,\"--\",label=\"$\\\\left<\\hat{S}_y\\\\right>$ MACE 5C\")\n",
    "plt.plot(tspan,Sz5C,\"--\",label=\"$\\\\left<\\hat{S}_z\\\\right>$ MACE 5C\")\n",
    "\n",
    "plt.legend()\n"
   ]
  },
  {
   "cell_type": "code",
   "execution_count": null,
   "metadata": {
    "id": "pxPl0ucA3Ml_"
   },
   "outputs": [],
   "source": []
  },
  {
   "cell_type": "code",
   "execution_count": null,
   "metadata": {
    "id": "DbwaNvgC3Ml_"
   },
   "outputs": [],
   "source": []
  },
  {
   "cell_type": "code",
   "execution_count": null,
   "metadata": {
    "id": "x41qqILI3Ml_"
   },
   "outputs": [],
   "source": []
  },
  {
   "cell_type": "code",
   "execution_count": null,
   "metadata": {
    "id": "egykMqBR3MmA"
   },
   "outputs": [],
   "source": []
  },
  {
   "cell_type": "code",
   "execution_count": null,
   "metadata": {
    "id": "N6784iK_KPBM"
   },
   "outputs": [],
   "source": [
    "Sx2=np.real(Splus)\n",
    "Sy2=np.imag(Splus)\n",
    "Sz2=np.real(See_r)-N_atom/2"
   ]
  },
  {
   "cell_type": "code",
   "execution_count": null,
   "metadata": {
    "id": "hZH7M1KhKPD0"
   },
   "outputs": [],
   "source": []
  },
  {
   "cell_type": "code",
   "execution_count": null,
   "metadata": {
    "id": "vcA2LpFSKPGX"
   },
   "outputs": [],
   "source": []
  },
  {
   "cell_type": "code",
   "execution_count": null,
   "metadata": {
    "id": "QJsQlNnKcWw_"
   },
   "outputs": [],
   "source": [
    "here"
   ]
  },
  {
   "cell_type": "code",
   "execution_count": null,
   "metadata": {
    "id": "-4k4Lxt9SDW3"
   },
   "outputs": [],
   "source": []
  },
  {
   "cell_type": "code",
   "execution_count": null,
   "metadata": {
    "id": "O_jO27NHSDZm"
   },
   "outputs": [],
   "source": [
    "from google.colab import files"
   ]
  },
  {
   "cell_type": "code",
   "execution_count": null,
   "metadata": {
    "id": "-OzxKL5YSDcM"
   },
   "outputs": [],
   "source": []
  },
  {
   "cell_type": "code",
   "execution_count": null,
   "metadata": {
    "id": "tT9gpWr3SDeq"
   },
   "outputs": [],
   "source": [
    "fontsize=30\n",
    "\n",
    "plt.title(\"Single Operators Dynamics under MACE\",fontsize=fontsize)\n",
    "\n",
    "plt.plot(tspan,Sx2,\"-\",label=\"$\\\\left<\\hat{S}_x\\\\right>$ MACE 2\")\n",
    "plt.plot(tspan,Sy2,\"-\",label=\"$\\\\left<\\hat{S}_y\\\\right>$ MACE 2\")\n",
    "plt.plot(tspan,Sz2,\"-\",label=\"$\\\\left<\\hat{S}_z\\\\right>$ MACE 2\")\n",
    "\n",
    "\n",
    "plt.plot(tspan,Sx3,\"-\",label=\"$\\\\left<\\hat{S}_x\\\\right>$ MACE 3\")\n",
    "plt.plot(tspan,Sy3,\"-\",label=\"$\\\\left<\\hat{S}_y\\\\right>$ MACE 3\")\n",
    "plt.plot(tspan,Sz3,\"-\",label=\"$\\\\left<\\hat{S}_z\\\\right>$ MACE 3\")\n",
    "\n",
    "\n",
    "plt.plot(tspan,Sx5,\"-\",label=\"$\\\\left<\\hat{S}_x\\\\right>$ MACE 5\")\n",
    "plt.plot(tspan,Sy5,\"-\",label=\"$\\\\left<\\hat{S}_y\\\\right>$ MACE 5\")\n",
    "plt.plot(tspan,Sz5,\"-\",label=\"$\\\\left<\\hat{S}_z\\\\right>$ MACE 5\")\n",
    "\n",
    "\n",
    "#plt.plot(tspan,Sxp6,\"-\",label=\"$\\\\left<\\hat{S}_x\\\\right>$ MACE 6\")\n",
    "#plt.plot(tspan,Syp6,\"-\",label=\"$\\\\left<\\hat{S}_y\\\\right>$ MACE 6\")\n",
    "#plt.plot(tspan,Szp6,\"-\",label=\"$\\\\left<\\hat{S}_z\\\\right>$ MACE 6\")\n",
    "\n",
    "\n",
    "\n",
    "plt.xlabel(\"$\\Gamma t$\",fontsize=26)\n",
    "\n",
    "plt.ylabel(\"$\\\\left<\\hat{S}_{\\\\alpha}\\\\right>$\",fontsize=26)\n",
    "\n",
    "#plt.legend(loc='center left', bbox_to_anchor=(1, 0.5),fontsize=18)\n",
    "\n",
    "plt.legend()\n",
    "\n"
   ]
  },
  {
   "cell_type": "code",
   "execution_count": null,
   "metadata": {
    "id": "fk0gq3lmcWz0"
   },
   "outputs": [],
   "source": [
    "fontsize=30\n",
    "\n",
    "plt.title(\"Single Operators Dynamics under MACE\",fontsize=fontsize)\n",
    "\n",
    "\n",
    "plt.plot(tspan,Sx2,\"--\",label=\"$\\\\left<\\hat{S}_x\\\\right>$ MACE 2\")\n",
    "plt.plot(tspan,Sy2,\"--\",label=\"$\\\\left<\\hat{S}_y\\\\right>$ MACE 2\")\n",
    "plt.plot(tspan,Sz2,\"--\",label=\"$\\\\left<\\hat{S}_z\\\\right>$ MACE 2\")\n",
    "\n",
    "plt.plot(tspan,Sx3,\"--\",label=\"$\\\\left<\\hat{S}_x\\\\right>$ MACE 3\")\n",
    "plt.plot(tspan,Sy3,\"--\",label=\"$\\\\left<\\hat{S}_y\\\\right>$ MACE 3\")\n",
    "plt.plot(tspan,Sz3,\"--\",label=\"$\\\\left<\\hat{S}_z\\\\right>$ MACE 3\")\n",
    "\n",
    "plt.plot(tspan,Sx4,\"-\",label=\"$\\\\left<\\hat{S}_x\\\\right>$ MACE 4\")\n",
    "plt.plot(tspan,Sy4,\"-\",label=\"$\\\\left<\\hat{S}_y\\\\right>$ MACE 4\")\n",
    "plt.plot(tspan,Sz4,\"-\",label=\"$\\\\left<\\hat{S}_z\\\\right>$ MACE 4\")\n",
    "\n",
    "plt.plot(tspan,Sx5,\"-\",label=\"$\\\\left<\\hat{S}_x\\\\right>$ MACE 5\")\n",
    "plt.plot(tspan,Sy5,\"-\",label=\"$\\\\left<\\hat{S}_y\\\\right>$ MACE 5\")\n",
    "plt.plot(tspan,Sz5,\"-\",label=\"$\\\\left<\\hat{S}_z\\\\right>$ MACE 5\")\n",
    "\n",
    "plt.plot(tspan,Sx6,\"-\",label=\"$\\\\left<\\hat{S}_x\\\\right>$ MACE 6\")\n",
    "plt.plot(tspan,Sy6,\"-\",label=\"$\\\\left<\\hat{S}_y\\\\right>$ MACE 6\")\n",
    "plt.plot(tspan,Sz6,\"-\",label=\"$\\\\left<\\hat{S}_z\\\\right>$ MACE 6\")\n",
    "\n",
    "plt.plot(tspan,Sx7,\"-\",label=\"$\\\\left<\\hat{S}_x\\\\right>$ MACE 7\")\n",
    "plt.plot(tspan,Sy7,\"-\",label=\"$\\\\left<\\hat{S}_y\\\\right>$ MACE 7\")\n",
    "plt.plot(tspan,Sz7,\"-\",label=\"$\\\\left<\\hat{S}_z\\\\right>$ MACE 7\")\n",
    "\n",
    "plt.xlabel(\"$\\Gamma t$\",fontsize=26)\n",
    "\n",
    "plt.ylabel(\"$\\\\left<\\hat{S}_{\\\\alpha}\\\\right>$\",fontsize=26)\n",
    "\n",
    "#plt.legend(loc='center left', bbox_to_anchor=(1, 0.5),fontsize=18)\n",
    "\n",
    "plt.legend()\n",
    "\n"
   ]
  },
  {
   "cell_type": "code",
   "execution_count": null,
   "metadata": {
    "id": "yPt26hNccW3K"
   },
   "outputs": [],
   "source": []
  },
  {
   "cell_type": "code",
   "execution_count": null,
   "metadata": {
    "id": "avcILn1FpMem"
   },
   "outputs": [],
   "source": [
    "fontsize=30\n",
    "\n",
    "plt.title(\"Single Operators Dynamics under MACE, ($N=256, \\Omega=2\\Gamma$)\",fontsize=fontsize-4)\n",
    "\n",
    "\n",
    "\n",
    "plt.plot(tspan,Sx2/N_atom,\"--\",label=\"$\\\\left<\\hat{S}_x\\\\right>/N_{\\\\rm{atom}}$, Cluster size=2\")\n",
    "#plt.plot(tspan,Sy2,\"--\",label=\"$\\\\left<\\hat{S}_y\\\\right>$ MACE 2\")\n",
    "#plt.plot(tspan,Sz2,\"--\",label=\"$\\\\left<\\hat{S}_z\\\\right>$ MACE 2\")\n",
    "\n",
    "plt.plot(tspan,Sx3/N_atom,\"--\",label=\"$\\\\left<\\hat{S}_x\\\\right>/N_{\\\\rm{atom}}$, Cluster size=3\")\n",
    "#plt.plot(tspan,Sy3,\"--\",label=\"$\\\\left<\\hat{S}_y\\\\right>$ MACE 3\")\n",
    "#plt.plot(tspan,Sz3,\"--\",label=\"$\\\\left<\\hat{S}_z\\\\right>$ MACE 3\")\n",
    "\n",
    "plt.plot(tspan,Sx4/N_atom,\"--\",label=\"$\\\\left<\\hat{S}_x\\\\right>/N_{\\\\rm{atom}}$, Cluster size=4\")\n",
    "#plt.plot(tspan,Sy4,\"-\",label=\"$\\\\left<\\hat{S}_y\\\\right>$ MACE 4\")\n",
    "#plt.plot(tspan,Sz4,\"-\",label=\"$\\\\left<\\hat{S}_z\\\\right>$ MACE 4\")\n",
    "\n",
    "plt.plot(tspan,Sx5/N_atom,\"--\",label=\"$\\\\left<\\hat{S}_x\\\\right>/N_{\\\\rm{atom}}$, Cluster size=5\")\n",
    "#plt.plot(tspan,Sy5,\"-\",label=\"$\\\\left<\\hat{S}_y\\\\right>$ MACE 5\")\n",
    "#plt.plot(tspan,Sz5,\"-\",label=\"$\\\\left<\\hat{S}_z\\\\right>$ MACE 5\")\n",
    "\n",
    "plt.plot(tspan,Sx6/N_atom,\"--\",label=\"$\\\\left<\\hat{S}_x\\\\right>/N_{\\\\rm{atom}}$, Cluster size=6\")\n",
    "#plt.plot(tspan,Sy6,\"-\",label=\"$\\\\left<\\hat{S}_y\\\\right>$ MACE 6\")\n",
    "#plt.plot(tspan,Sz6,\"-\",label=\"$\\\\left<\\hat{S}_z\\\\right>$ MACE 6\")\n",
    "\n",
    "plt.plot(tspan,Sx7/N_atom,\"-\",label=\"$\\\\left<\\hat{S}_x\\\\right>/N_{\\\\rm{atom}}$, Cluster size=7\")\n",
    "#plt.plot(tspan,Sy7,\"-\",label=\"$\\\\left<\\hat{S}_y\\\\right>$ MACE 7\")\n",
    "#plt.plot(tspan,Sz7,\"-\",label=\"$\\\\left<\\hat{S}_z\\\\right>$ MACE 7\")\n",
    "\n",
    "plt.xlabel(\"$\\Gamma t$\",fontsize=26)\n",
    "\n",
    "plt.ylabel(\"$\\\\left<\\hat{S}_{x}\\\\right>/N_{\\\\rm{atom}}$\",fontsize=26)\n",
    "\n",
    "#plt.legend(loc='center left', bbox_to_anchor=(1, 0.5),fontsize=18)\n",
    "plt.legend(fontsize=fontsize/1.7)\n",
    "\n",
    "plt.savefig(\"Sx_N_256_3D_Gamma_1_Omega_2.png\")\n",
    "files.download(\"Sx_N_256_3D_Gamma_1_Omega_2.png\") \n"
   ]
  },
  {
   "cell_type": "code",
   "execution_count": null,
   "metadata": {
    "id": "0ExoQOlkpMhl"
   },
   "outputs": [],
   "source": []
  },
  {
   "cell_type": "code",
   "execution_count": null,
   "metadata": {
    "id": "mnhDFhHZOwN2"
   },
   "outputs": [],
   "source": [
    "fontsize=30\n",
    "\n",
    "plt.title(\"Single Operators Dynamics under MACE, ($N=2000, \\Omega=2\\Gamma$)\",fontsize=fontsize-4)\n",
    "\n",
    "\n",
    "\n",
    "plt.plot(tspan,Sz7/N_atom,\"-\",label=\"$\\\\left<\\hat{S}_x\\\\right>/N_{\\\\rm{atom}}$, Cluster size=7\")\n",
    "#plt.plot(tspan,Sy7,\"-\",label=\"$\\\\left<\\hat{S}_y\\\\right>$ MACE 7\")\n",
    "#plt.plot(tspan,Sz7,\"-\",label=\"$\\\\left<\\hat{S}_z\\\\right>$ MACE 7\")\n",
    "\n",
    "plt.xlabel(\"$\\Gamma t$\",fontsize=26)\n",
    "\n",
    "plt.ylabel(\"$\\\\left<\\hat{S}_{x}\\\\right>/N_{\\\\rm{atom}}$\",fontsize=26)\n",
    "\n",
    "#plt.legend(loc='center left', bbox_to_anchor=(1, 0.5),fontsize=18)\n",
    "plt.legend(fontsize=fontsize/1.7)\n",
    "\n",
    "plt.savefig(\"Sx_N_256_3D_Gamma_1_Omega_2.png\")\n",
    "files.download(\"Sx_N_256_3D_Gamma_1_Omega_2.png\") \n"
   ]
  },
  {
   "cell_type": "code",
   "execution_count": null,
   "metadata": {
    "id": "X9DPv-KTOwQm"
   },
   "outputs": [],
   "source": []
  },
  {
   "cell_type": "code",
   "execution_count": null,
   "metadata": {
    "id": "iOAs_GfOOwTF"
   },
   "outputs": [],
   "source": []
  },
  {
   "cell_type": "code",
   "execution_count": null,
   "metadata": {
    "id": "7pNyHP85pMki"
   },
   "outputs": [],
   "source": [
    "fontsize=30\n",
    "\n",
    "plt.title(\"Single Operators Dynamics under MACE, ($N=256, \\Omega=2\\Gamma$)\",fontsize=fontsize-4)\n",
    "\n",
    "\n",
    "\n",
    "plt.plot(tspan,Sy2/N_atom,\"--\",label=\"$\\\\left<\\hat{S}_y\\\\right>/N_{\\\\rm{atom}}$, Cluster size=2\")\n",
    "#plt.plot(tspan,Sy2,\"--\",label=\"$\\\\left<\\hat{S}_y\\\\right>$ MACE 2\")\n",
    "#plt.plot(tspan,Sz2,\"--\",label=\"$\\\\left<\\hat{S}_z\\\\right>$ MACE 2\")\n",
    "\n",
    "plt.plot(tspan,Sy3/N_atom,\"--\",label=\"$\\\\left<\\hat{S}_y\\\\right>/N_{\\\\rm{atom}}$, Cluster size=3\")\n",
    "#plt.plot(tspan,Sy3,\"--\",label=\"$\\\\left<\\hat{S}_y\\\\right>$ MACE 3\")\n",
    "#plt.plot(tspan,Sz3,\"--\",label=\"$\\\\left<\\hat{S}_z\\\\right>$ MACE 3\")\n",
    "\n",
    "plt.plot(tspan,Sy4/N_atom,\"--\",label=\"$\\\\left<\\hat{S}_y\\\\right>/N_{\\\\rm{atom}}$, Cluster size=4\")\n",
    "#plt.plot(tspan,Sy4,\"-\",label=\"$\\\\left<\\hat{S}_y\\\\right>$ MACE 4\")\n",
    "#plt.plot(tspan,Sz4,\"-\",label=\"$\\\\left<\\hat{S}_z\\\\right>$ MACE 4\")\n",
    "\n",
    "plt.plot(tspan,Sy5/N_atom,\"--\",label=\"$\\\\left<\\hat{S}_y\\\\right>/N_{\\\\rm{atom}}$, Cluster size=5\")\n",
    "#plt.plot(tspan,Sy5,\"-\",label=\"$\\\\left<\\hat{S}_y\\\\right>$ MACE 5\")\n",
    "#plt.plot(tspan,Sz5,\"-\",label=\"$\\\\left<\\hat{S}_z\\\\right>$ MACE 5\")\n",
    "\n",
    "plt.plot(tspan,Sy6/N_atom,\"--\",label=\"$\\\\left<\\hat{S}_y\\\\right>/N_{\\\\rm{atom}}$, Cluster size=6\")\n",
    "#plt.plot(tspan,Sy6,\"-\",label=\"$\\\\left<\\hat{S}_y\\\\right>$ MACE 6\")\n",
    "#plt.plot(tspan,Sz6,\"-\",label=\"$\\\\left<\\hat{S}_z\\\\right>$ MACE 6\")\n",
    "\n",
    "plt.plot(tspan,Sy7/N_atom,\"-\",label=\"$\\\\left<\\hat{S}_y\\\\right>/N_{\\\\rm{atom}}$, Cluster size=7\")\n",
    "#plt.plot(tspan,Sy7,\"-\",label=\"$\\\\left<\\hat{S}_y\\\\right>$ MACE 7\")\n",
    "#plt.plot(tspan,Sz7,\"-\",label=\"$\\\\left<\\hat{S}_z\\\\right>$ MACE 7\")\n",
    "\n",
    "plt.xlabel(\"$\\Gamma t$\",fontsize=26)\n",
    "\n",
    "plt.ylabel(\"$\\\\left<\\hat{S}_{y}\\\\right>/N_{\\\\rm{atom}}$\",fontsize=26)\n",
    "\n",
    "#plt.legend(loc='center left', bbox_to_anchor=(1, 0.5),fontsize=18)\n",
    "\n",
    "\n",
    "plt.legend(fontsize=fontsize/1.7)\n",
    "\n",
    "plt.savefig(\"Sy_N_256_3D_Gamma_1_Omega_2.png\")\n",
    "files.download(\"Sy_N_256_3D_Gamma_1_Omega_2.png\") \n"
   ]
  },
  {
   "cell_type": "code",
   "execution_count": null,
   "metadata": {
    "id": "tbRYm0GYqrHU"
   },
   "outputs": [],
   "source": []
  },
  {
   "cell_type": "code",
   "execution_count": null,
   "metadata": {
    "id": "Nb40Q-dOqrKG"
   },
   "outputs": [],
   "source": [
    "fontsize=30\n",
    "\n",
    "plt.title(\"Single Operators Dynamics under MACE, ($N=256, \\Omega=2\\Gamma$)\",fontsize=fontsize-4)\n",
    "\n",
    "\n",
    "\n",
    "\n",
    "plt.plot(tspan,Sz2/N_atom,\"--\",label=\"$\\\\left<\\hat{S}_z\\\\right>/N_{\\\\rm{atom}}$, Cluster size=2\")\n",
    "#plt.plot(tspan,Sy2,\"--\",label=\"$\\\\left<\\hat{S}_y\\\\right>$ MACE 2\")\n",
    "#plt.plot(tspan,Sz2,\"--\",label=\"$\\\\left<\\hat{S}_z\\\\right>$ MACE 2\")\n",
    "\n",
    "plt.plot(tspan,Sz3/N_atom,\"--\",label=\"$\\\\left<\\hat{S}_z\\\\right>/N_{\\\\rm{atom}}$, Cluster size=3\")\n",
    "#plt.plot(tspan,Sy3,\"--\",label=\"$\\\\left<\\hat{S}_y\\\\right>$ MACE 3\")\n",
    "#plt.plot(tspan,Sz3,\"--\",label=\"$\\\\left<\\hat{S}_z\\\\right>$ MACE 3\")\n",
    "\n",
    "plt.plot(tspan,Sz4/N_atom,\"--\",label=\"$\\\\left<\\hat{S}_z\\\\right>/N_{\\\\rm{atom}}$, Cluster size=4\")\n",
    "#plt.plot(tspan,Sy4,\"-\",label=\"$\\\\left<\\hat{S}_y\\\\right>$ MACE 4\")\n",
    "#plt.plot(tspan,Sz4,\"-\",label=\"$\\\\left<\\hat{S}_z\\\\right>$ MACE 4\")\n",
    "\n",
    "plt.plot(tspan,Sz5/N_atom,\"--\",label=\"$\\\\left<\\hat{S}_z\\\\right>/N_{\\\\rm{atom}}$, Cluster size=5\")\n",
    "#plt.plot(tspan,Sy5,\"-\",label=\"$\\\\left<\\hat{S}_y\\\\right>$ MACE 5\")\n",
    "#plt.plot(tspan,Sz5,\"-\",label=\"$\\\\left<\\hat{S}_z\\\\right>$ MACE 5\")\n",
    "\n",
    "plt.plot(tspan,Sz6/N_atom,\"--\",label=\"$\\\\left<\\hat{S}_z\\\\right>/N_{\\\\rm{atom}}$, Cluster size=6\")\n",
    "#plt.plot(tspan,Sy6,\"-\",label=\"$\\\\left<\\hat{S}_y\\\\right>$ MACE 6\")\n",
    "#plt.plot(tspan,Sz6,\"-\",label=\"$\\\\left<\\hat{S}_z\\\\right>$ MACE 6\")\n",
    "\n",
    "plt.plot(tspan,Sz7/N_atom,\"-\",label=\"$\\\\left<\\hat{S}_z\\\\right>/N_{\\\\rm{atom}}$, Cluster size=7\")\n",
    "#plt.plot(tspan,Sy7,\"-\",label=\"$\\\\left<\\hat{S}_y\\\\right>$ MACE 7\")\n",
    "#plt.plot(tspan,Sz7,\"-\",label=\"$\\\\left<\\hat{S}_z\\\\right>$ MACE 7\")\n",
    "\n",
    "\n",
    "\n",
    "plt.xlabel(\"$\\Gamma t$\",fontsize=26)\n",
    "\n",
    "plt.ylabel(\"$\\\\left<\\hat{S}_{z}\\\\right>/N_{\\\\rm{atom}}$\",fontsize=26)\n",
    "\n",
    "#plt.legend(loc='center left', bbox_to_anchor=(1, 0.5),fontsize=18)\n",
    "\n",
    "plt.legend(fontsize=fontsize/1.7)\n",
    "\n",
    "\n",
    "plt.savefig(\"Sz_N_256_3D_Gamma_1_Omega_2.png\")\n",
    "files.download(\"Sz_N_256_3D_Gamma_1_Omega_2.png\") \n",
    "\n"
   ]
  },
  {
   "cell_type": "code",
   "execution_count": null,
   "metadata": {
    "id": "XM5MOLArqrMo"
   },
   "outputs": [],
   "source": []
  },
  {
   "cell_type": "code",
   "execution_count": null,
   "metadata": {
    "id": "g2aoFutqqrP1"
   },
   "outputs": [],
   "source": []
  },
  {
   "cell_type": "code",
   "execution_count": null,
   "metadata": {
    "id": "ExMyp0-ZqrS3"
   },
   "outputs": [],
   "source": []
  },
  {
   "cell_type": "code",
   "execution_count": null,
   "metadata": {
    "id": "3oeFdyZScW8d"
   },
   "outputs": [],
   "source": []
  },
  {
   "cell_type": "code",
   "execution_count": null,
   "metadata": {
    "id": "EIzLitCBSkRM"
   },
   "outputs": [],
   "source": [
    "here"
   ]
  },
  {
   "cell_type": "code",
   "execution_count": null,
   "metadata": {
    "id": "uKTNdY-aSkRN"
   },
   "outputs": [],
   "source": []
  },
  {
   "cell_type": "code",
   "execution_count": null,
   "metadata": {
    "id": "pTEoi_AGSkRN"
   },
   "outputs": [],
   "source": []
  },
  {
   "cell_type": "code",
   "execution_count": null,
   "metadata": {
    "id": "HJu0qx1BSkRN"
   },
   "outputs": [],
   "source": []
  },
  {
   "cell_type": "code",
   "execution_count": null,
   "metadata": {
    "id": "jmhOACxqSkRN"
   },
   "outputs": [],
   "source": []
  },
  {
   "cell_type": "code",
   "execution_count": null,
   "metadata": {
    "id": "EuGuy6m_SkRN"
   },
   "outputs": [],
   "source": []
  },
  {
   "cell_type": "code",
   "execution_count": null,
   "metadata": {
    "id": "1bHlpH5hSkRN"
   },
   "outputs": [],
   "source": []
  },
  {
   "cell_type": "code",
   "execution_count": null,
   "metadata": {
    "id": "-XZdUhrRSkRN"
   },
   "outputs": [],
   "source": []
  },
  {
   "cell_type": "code",
   "execution_count": null,
   "metadata": {
    "id": "uAglNOxjSkRN"
   },
   "outputs": [],
   "source": []
  },
  {
   "cell_type": "code",
   "execution_count": null,
   "metadata": {
    "id": "ggOs178qSkRN"
   },
   "outputs": [],
   "source": []
  },
  {
   "cell_type": "code",
   "execution_count": null,
   "metadata": {
    "id": "2FhPVHK1SkRN"
   },
   "outputs": [],
   "source": []
  },
  {
   "cell_type": "code",
   "execution_count": null,
   "metadata": {
    "id": "Mi9pMjvGSkRN"
   },
   "outputs": [],
   "source": []
  },
  {
   "cell_type": "code",
   "execution_count": null,
   "metadata": {
    "id": "SrSj81HDSkRO"
   },
   "outputs": [],
   "source": [
    "steps=1000\n",
    "t_final=2\n",
    "\n",
    "\n",
    "dt=t_final/steps\n",
    "\n",
    "tspan=np.linspace(0,t_final,steps)"
   ]
  },
  {
   "cell_type": "code",
   "execution_count": null,
   "metadata": {
    "id": "y7zB89n0SkRO"
   },
   "outputs": [],
   "source": [
    "dt"
   ]
  },
  {
   "cell_type": "code",
   "execution_count": null,
   "metadata": {
    "id": "UqS2DhhBSkRP"
   },
   "outputs": [],
   "source": []
  },
  {
   "cell_type": "code",
   "execution_count": null,
   "metadata": {
    "id": "ZywJQvYUSkRQ"
   },
   "outputs": [],
   "source": []
  },
  {
   "cell_type": "code",
   "execution_count": null,
   "metadata": {
    "id": "fQdy2sUpSkRQ"
   },
   "outputs": [],
   "source": []
  },
  {
   "cell_type": "code",
   "execution_count": null,
   "metadata": {
    "id": "viVz1_rvSkRQ"
   },
   "outputs": [],
   "source": [
    "@jit\n",
    "def oper_h(rho,H_L,H_R):\n",
    "        \n",
    "    return H_L@rho + rho@H_R"
   ]
  },
  {
   "cell_type": "code",
   "execution_count": null,
   "metadata": {
    "id": "mDKWcfIqSkRQ"
   },
   "outputs": [],
   "source": [
    "@jit\n",
    "def matrix_evol(rho,index_center):\n",
    "    \n",
    "    s_iplus=[]\n",
    "    s_iee  =[]\n",
    "    \n",
    "    rho_states=[]\n",
    "    \n",
    "    Index_list=Index_N[index_center]\n",
    "    \n",
    "    sigma_plus_ic=   tensor_k(0)\n",
    "    sigma_ee_ic  =   tensor_k_ee(0)\n",
    "    \n",
    "    H_LR=Part_H_LR(index_center)\n",
    "    \n",
    "    H_L = H_LR[0]\n",
    "    H_R = H_LR[1]\n",
    "    \n",
    "    rho_final=rho\n",
    "    \n",
    "    \n",
    "    s_iplus.append( sum(( sigma_plus_ic@rho_final).diagonal())  )\n",
    "    s_iee.append( sum(( sigma_ee_ic@rho_final ).diagonal())  )\n",
    "    #rho_states.append(rho_init)\n",
    "    \n",
    "\n",
    "    for t in range(len(tspan)):\n",
    "        \n",
    "        print(t*100/len(tspan))\n",
    "        \n",
    "        \n",
    "        rho_final  =rho_final+dt*(oper_h(rho_final,H_L,H_R))\n",
    "        \n",
    "        \n",
    "#        for k in range(Atom_cutoff):\n",
    "#            for j in range(k+1,Atom_cutoff):\n",
    "                    \n",
    "#                K_k=Index_list[k]\n",
    "#                J_j=Index_list[j]\n",
    "                \n",
    "#                sig_p_k=tensor_k(k)\n",
    "#                sig_p_j=tensor_k(j)\n",
    "                \n",
    "#                sig_p_k_T=sig_p_k.T\n",
    "#                sig_p_j_T=sig_p_j.T                \n",
    "                    \n",
    "#                ImGkj       =ImG[K_k,J_j]\n",
    "#                ImGjk       =ImG[J_j,K_k]\n",
    "                    \n",
    "                    \n",
    "#                rho_final=rho_final+2*dt*(ImGkj*(sig_p_k_T@rho_final@sig_p_j)+ImGjk*(sig_p_j_T@rho_final@sig_p_k))\n",
    "        \n",
    "        \n",
    "        s_iplus.append( sum(( sigma_plus_ic@rho_final ).diagonal())  )\n",
    "        s_iee.append( sum(( sigma_ee_ic@rho_final).diagonal())  )\n",
    "        #rho_states.append(rho_init)\n",
    "               \n",
    "    return s_iplus, s_iee   #,rho_states\n",
    "         "
   ]
  },
  {
   "cell_type": "code",
   "execution_count": null,
   "metadata": {
    "id": "aHf9zyzGSkRQ"
   },
   "outputs": [],
   "source": []
  },
  {
   "cell_type": "code",
   "execution_count": null,
   "metadata": {
    "id": "FWdZc7DTSkRQ"
   },
   "outputs": [],
   "source": [
    "import matplotlib.pyplot as plt\n",
    "import numpy as np\n",
    "#from google.colab import files\n",
    "\n",
    "\"\"\"In order to provide a better presentation of the graphs we use the rcParams options shown below.\"\"\"\n",
    "\n",
    "import matplotlib\n",
    "matplotlib.rcParams['text.usetex'] = False\n",
    "matplotlib.rcParams['mathtext.fontset'] = 'stix'\n",
    "matplotlib.rcParams['font.family'] = 'STIXGeneral'\n",
    "matplotlib.rcParams['font.size'] = 15\n",
    "matplotlib.rcParams['figure.figsize'] = (11.0, 8.0)\n",
    "\n",
    "from numpy import cos, sin\n",
    "\n",
    "label_size = 20\n",
    "\n",
    "from numpy import sqrt\n",
    "\n",
    "import time\n",
    "from numba import jit\n",
    "from numpy import sin, cos\n",
    "\n",
    "T0=time.time()\n",
    "\n",
    "import matplotlib\n",
    "matplotlib.rcParams['text.usetex'] = False\n",
    "matplotlib.rcParams['mathtext.fontset'] = 'stix'\n",
    "matplotlib.rcParams['font.family'] = 'STIXGeneral'\n",
    "matplotlib.rcParams['font.size'] = 15\n",
    "matplotlib.rcParams['figure.figsize'] = (11.0, 8.0)"
   ]
  },
  {
   "cell_type": "code",
   "execution_count": null,
   "metadata": {
    "id": "ieD1klv4SkRQ"
   },
   "outputs": [],
   "source": [
    "T_init=time.time()\n",
    "\n",
    "\n",
    "Evolution=matrix_evol(init_rho(),5)\n",
    "\n",
    "\n",
    "T_final=time.time()"
   ]
  },
  {
   "cell_type": "code",
   "execution_count": null,
   "metadata": {
    "id": "i-MAghrnSkRR"
   },
   "outputs": [],
   "source": [
    "print(T_final-T_init)"
   ]
  },
  {
   "cell_type": "code",
   "execution_count": null,
   "metadata": {
    "id": "7OB5SsW7SkRR"
   },
   "outputs": [],
   "source": [
    "print(N_atom,Atom_cutoff)"
   ]
  },
  {
   "cell_type": "code",
   "execution_count": null,
   "metadata": {
    "id": "aeIi_1-uSkRR"
   },
   "outputs": [],
   "source": [
    "(np.ones((steps,)))"
   ]
  },
  {
   "cell_type": "code",
   "execution_count": null,
   "metadata": {
    "id": "QdL6MA1oSkRR"
   },
   "outputs": [],
   "source": [
    "plt.plot(tspan,np.real(Evolution[1][:-1]))\n",
    "#plt.plot(tspan,2*real(Evolution[0][:-1]))\n",
    "\n",
    "\n",
    "plt.plot(tspan,2*imag(Evolution[0][:-1]))\n",
    "plt.plot(tspan,2*real(Evolution[0][:-1]))\n",
    "#plt.plot(tspan,(sin(Omega*tspan))**2,\"--\")\n",
    "\n",
    "#plt.plot(tspan,-(sin(2*Omega*tspan)),\"--\")\n",
    "\n",
    "\n",
    "\n",
    "\n",
    "plt.plot(tspan,(np.ones((steps,))))\n",
    "plt.plot(tspan,-(np.ones((steps,))))\n",
    "\n",
    "#plt.axvline(x=pi/4, color='b')"
   ]
  },
  {
   "cell_type": "code",
   "execution_count": null,
   "metadata": {
    "id": "7fck9QLJSkRR"
   },
   "outputs": [],
   "source": []
  },
  {
   "cell_type": "code",
   "execution_count": null,
   "metadata": {
    "id": "3g9jhZMOSkRR"
   },
   "outputs": [],
   "source": [
    "herre"
   ]
  },
  {
   "cell_type": "code",
   "execution_count": null,
   "metadata": {
    "id": "EUaHOe0iSkRS"
   },
   "outputs": [],
   "source": []
  },
  {
   "cell_type": "code",
   "execution_count": null,
   "metadata": {
    "id": "R3FF-JwNSkRS"
   },
   "outputs": [],
   "source": []
  },
  {
   "cell_type": "code",
   "execution_count": null,
   "metadata": {
    "id": "ZgWouUKRSkRS"
   },
   "outputs": [],
   "source": [
    "plt.plot(tspan,np.real(Evolution[1][:-1]))\n",
    "#plt.plot(tspan,2*real(Evolution[0][:-1]))\n",
    "\n",
    "\n",
    "plt.plot(tspan,2*imag(Evolution[0][:-1]))\n",
    "plt.plot(tspan,2*real(Evolution[0][:-1]))\n",
    "#plt.plot(tspan,(sin(Omega*tspan))**2,\"--\")\n",
    "\n",
    "#plt.plot(tspan,-(sin(2*Omega*tspan)),\"--\")\n",
    "\n",
    "\n",
    "\n",
    "\n",
    "plt.plot(tspan,(np.ones((steps,))))\n",
    "plt.plot(tspan,-(np.ones((steps,))))\n",
    "\n",
    "#plt.axvline(x=pi/4, color='b')"
   ]
  },
  {
   "cell_type": "code",
   "execution_count": null,
   "metadata": {
    "id": "i59gVIWgSkRS"
   },
   "outputs": [],
   "source": []
  },
  {
   "cell_type": "markdown",
   "metadata": {
    "id": "LTBWrykGSkRS"
   },
   "source": [
    "\\begin{align}\n",
    "\\partial_{t}\\rho & =-{\\rm i}\\left[H,\\rho\\right]+\\mathcal{L}\\left[\\rho\\right],\\\\\n",
    "\\rho\\left(t+\\Delta t\\right) & =\\rho\\left(t\\right)+\\Delta t\\left(-{\\rm i}\\left[H,\\rho\\left(t\\right)\\right]+\\mathcal{L}\\left[\\rho\\left(t\\right)\\right]\\right)\n",
    "\\end{align}\n"
   ]
  },
  {
   "cell_type": "code",
   "execution_count": null,
   "metadata": {
    "id": "NmiM1cVmSkRS"
   },
   "outputs": [],
   "source": []
  },
  {
   "cell_type": "code",
   "execution_count": null,
   "metadata": {
    "id": "OX2m6TrmSkRS"
   },
   "outputs": [],
   "source": []
  },
  {
   "cell_type": "code",
   "execution_count": null,
   "metadata": {
    "id": "OVkEyHGxSkRT"
   },
   "outputs": [],
   "source": []
  },
  {
   "cell_type": "code",
   "execution_count": null,
   "metadata": {
    "id": "vaFCWF2qSkRT"
   },
   "outputs": [],
   "source": []
  },
  {
   "cell_type": "code",
   "execution_count": null,
   "metadata": {
    "id": "KbKyx91YSkRT"
   },
   "outputs": [],
   "source": []
  },
  {
   "cell_type": "code",
   "execution_count": null,
   "metadata": {
    "id": "kKaaTJooSkRT"
   },
   "outputs": [],
   "source": []
  },
  {
   "cell_type": "code",
   "execution_count": null,
   "metadata": {
    "id": "jXKwwBYkSkRT"
   },
   "outputs": [],
   "source": []
  },
  {
   "cell_type": "code",
   "execution_count": null,
   "metadata": {
    "id": "TJtuAoM_SkRT"
   },
   "outputs": [],
   "source": []
  },
  {
   "cell_type": "code",
   "execution_count": null,
   "metadata": {
    "id": "x3pEIFtJSkRT"
   },
   "outputs": [],
   "source": []
  },
  {
   "cell_type": "code",
   "execution_count": null,
   "metadata": {
    "id": "XOQwV_OgSkRT"
   },
   "outputs": [],
   "source": []
  },
  {
   "cell_type": "code",
   "execution_count": null,
   "metadata": {
    "id": "r7tZtO_oSkRT"
   },
   "outputs": [],
   "source": []
  },
  {
   "cell_type": "code",
   "execution_count": null,
   "metadata": {
    "id": "fIBcDQH0SkRT"
   },
   "outputs": [],
   "source": []
  },
  {
   "cell_type": "code",
   "execution_count": null,
   "metadata": {
    "id": "azjQp53kSkRT"
   },
   "outputs": [],
   "source": []
  },
  {
   "cell_type": "code",
   "execution_count": null,
   "metadata": {
    "id": "sJG8fYVRSkRU"
   },
   "outputs": [],
   "source": []
  },
  {
   "cell_type": "code",
   "execution_count": null,
   "metadata": {
    "id": "jPK_QyujSkRU"
   },
   "outputs": [],
   "source": []
  },
  {
   "cell_type": "code",
   "execution_count": null,
   "metadata": {
    "id": "ZmOn0hJJSkRU"
   },
   "outputs": [],
   "source": []
  },
  {
   "cell_type": "code",
   "execution_count": null,
   "metadata": {
    "id": "Wf0uvk8sSkRU"
   },
   "outputs": [],
   "source": []
  },
  {
   "cell_type": "code",
   "execution_count": null,
   "metadata": {
    "id": "1BgLr7AuSkRU"
   },
   "outputs": [],
   "source": []
  },
  {
   "cell_type": "code",
   "execution_count": null,
   "metadata": {
    "id": "0jV8QsFJSkRU"
   },
   "outputs": [],
   "source": []
  },
  {
   "cell_type": "code",
   "execution_count": null,
   "metadata": {
    "id": "iU8wSaWaSkRU"
   },
   "outputs": [],
   "source": []
  },
  {
   "cell_type": "code",
   "execution_count": null,
   "metadata": {
    "id": "zHm88cSOSkRU"
   },
   "outputs": [],
   "source": []
  },
  {
   "cell_type": "markdown",
   "metadata": {
    "id": "kfSsqU6ZrlZm"
   },
   "source": [
    "\\begin{align*}\n",
    "A_{k} & =C_{k}+D_{k},\\\\\n",
    "C_{k}^{{\\rm T}} & =-C_{k},\\\\\n",
    "D_{k}^{xx} & =-\\left(C_{0}^{0}\\right)^{2}\\Gamma\\frac{\\left(1+\\left\\langle \\sigma_{z}^{k}\\right\\rangle \\right)}{2},\\\\\n",
    "D_{k}^{yy} & =-\\left(C_{0}^{0}\\right)^{2}\\Gamma\\frac{\\left(1+\\left\\langle \\sigma_{z}^{k}\\right\\rangle \\right)}{2},\\\\\n",
    "D_{k}^{zx} & =\\left(C_{0}^{0}\\right)^{2}\\Gamma\\frac{\\left\\langle \\sigma_{x}^{k}\\right\\rangle }{2},\\\\\n",
    "D_{k}^{zy} & =\\left(C_{0}^{0}\\right)^{2}\\Gamma\\frac{\\left\\langle \\sigma_{y}^{k}\\right\\rangle }{2},\\\\\n",
    "D_{k}^{zz} & =-\\left(C_{0}^{0}\\right)^{2}\\Gamma,\\\\\n",
    "C_{k}^{xy} & =-\\Delta,\\\\\n",
    "C_{k}^{xz} & =2C_{0}^{0}\\Omega\\mathcal{I}\\left({\\rm e}^{{\\rm i}\\overrightarrow{{\\rm k}}_{{\\rm L}}\\cdot\\overrightarrow{r}_{k}}\\left(\\hat{e}_{{\\rm L}}\\cdot\\hat{e}_{+}^{*}\\right)\\right)-\\left(C_{0}^{0}\\right)^{4}\\left(\\overrightarrow{\\mathcal{R}}_{0,0}^{k}\\cdot\\left\\langle \\overrightarrow{\\sigma}_{y}\\right\\rangle \\right)+\\left(C_{0}^{0}\\right)^{2}\\Gamma\\left\\langle S^{x}\\right\\rangle ,\\\\\n",
    "C_{k}^{yz} & =2C_{0}^{0}\\Omega\\mathcal{R}\\left({\\rm e}^{{\\rm i}\\overrightarrow{{\\rm k}}_{{\\rm L}}\\cdot\\overrightarrow{r}_{k}}\\left(\\hat{e}_{{\\rm L}}\\cdot\\hat{e}_{+}^{*}\\right)\\right)+\\left(C_{0}^{0}\\right)^{4}\\left(\\overrightarrow{\\mathcal{R}}_{0,0}^{k}\\cdot\\left\\langle \\overrightarrow{\\sigma}_{x}\\right\\rangle \\right)+\\left(C_{0}^{0}\\right)^{2}\\Gamma\\left\\langle S^{y}\\right\\rangle .\n",
    "\\end{align*}"
   ]
  },
  {
   "cell_type": "markdown",
   "metadata": {
    "id": "cHXbZ9UErlZm"
   },
   "source": [
    "\n",
    "\\begin{equation}\n",
    "{\\rm d}\\left\\langle \\overrightarrow{s}_{k}\\right\\rangle =A_{k}\\left\\langle \\overrightarrow{s}_{k}\\right\\rangle {\\rm d}t-\\left(C_{0}^{0}\\right)^{2}\\Gamma\\begin{pmatrix}0\\\\\n",
    "0\\\\\n",
    "1\n",
    "\\end{pmatrix}{\\rm d}t+C_{0}^{0}\\sqrt{\\Gamma}\\begin{pmatrix}-\\left\\langle \\sigma_{y}^{k}\\right\\rangle \\\\\n",
    "\\left\\langle \\sigma_{x}^{k}\\right\\rangle \\\\\n",
    "1+\\left\\langle \\sigma_{z}^{k}\\right\\rangle \n",
    "\\end{pmatrix}{\\rm d}W\n",
    "\\end{equation}"
   ]
  },
  {
   "cell_type": "markdown",
   "metadata": {
    "id": "cm436-PkrlZm"
   },
   "source": [
    "# Construct matrix $A_k$"
   ]
  },
  {
   "cell_type": "code",
   "execution_count": null,
   "metadata": {
    "id": "3Jq1rnq_SkRV"
   },
   "outputs": [],
   "source": []
  },
  {
   "cell_type": "code",
   "execution_count": null,
   "metadata": {
    "id": "rYPEqyPjSkRV"
   },
   "outputs": [],
   "source": [
    "@jit\n",
    "def Matrix_A(VectSx,VectSy,VectSz,C00=C00,Omega=Omega,Gamma_dec=Gamma_dec,N_atom=N_atom):\n",
    "    \n",
    "    \"\"\"\n",
    "    Pk: Index of the kth atom\n",
    "    VectSy: \\overrightarrow{\\sigma_y}\n",
    "    VectSx: \\overrightarrow{\\sigma_X}\n",
    "    \"\"\"\n",
    "    Pk=0\n",
    "    R00_k=R00[Pk]\n",
    "    \n",
    "    C0_Cuad_Gam=(C00**2)*Gamma_dec\n",
    "    C0_Omega_Tw=2*C00*Omega\n",
    "    C0_pow4=C00**4\n",
    "    \n",
    "    \n",
    "    Cxz_k=C0_Omega_Tw*ImL_k[Pk]-(C0_pow4)*dot(R00_k,VectSy)+C0_Cuad_Gam*sum(VectSx)/2\n",
    "    Cyz_k=C0_Omega_Tw*RmL_k[Pk]+(C0_pow4)*dot(R00_k,VectSx)+C0_Cuad_Gam*sum(VectSy)/2\n",
    "    \n",
    "     \n",
    "    sxk=VectSx[Pk]\n",
    "    syk=VectSy[Pk]\n",
    "    szk=VectSz[Pk]\n",
    "    \n",
    "    \n",
    "    Dxx_k=-C0_Cuad_Gam*(1+szk)/2\n",
    "    Dyy_k= Dxx_k                     #-(C00**2)*Gamma_dec*refz\n",
    "    Dzx_k= C0_Cuad_Gam*sxk/2\n",
    "    Dzy_k= C0_Cuad_Gam*syk/2\n",
    "    Dzz_k=-C0_Cuad_Gam\n",
    "    \n",
    "    \n",
    "    Ic = array([0,1])\n",
    "    Jc = array([2,2])\n",
    "    Vc = array([Cxz_k,Cyz_k])\n",
    "    \n",
    "    \n",
    "    #Gen_k = sparse.coo_matrix((V,(I,J)),shape=(3*N_atom,3*N_atom))\n",
    "    #C_k   = Gen_k - Gen_k.T\n",
    "    \n",
    "    \n",
    "    Id = array([0,1,2,2,2])\n",
    "    Jd = array([0,1,0,1,2])\n",
    "    Vd = array([Dxx_k,Dyy_k,Dzx_k,Dzy_k,Dzz_k])\n",
    "    \n",
    "    \n",
    "    \n",
    "    for Pk in range(1,N_atom):\n",
    "        \n",
    "        \n",
    "        R00_k=R00[Pk]\n",
    "    \n",
    "    \n",
    "        Cxz_k=C0_Omega_Tw*ImL_k[Pk]-(C0_pow4)*dot(R00_k,VectSy)+C0_Cuad_Gam*sum(VectSx)/2\n",
    "        Cyz_k=C0_Omega_Tw*RmL_k[Pk]+(C0_pow4)*dot(R00_k,VectSx)+C0_Cuad_Gam*sum(VectSy)/2\n",
    "    \n",
    "     \n",
    "        sxk=VectSx[Pk]\n",
    "        syk=VectSy[Pk]\n",
    "        szk=VectSz[Pk]\n",
    "    \n",
    "    \n",
    "        Dxx_k=-C0_Cuad_Gam*(1+szk)/2\n",
    "        Dyy_k= Dxx_k                     #-(C00**2)*Gamma_dec*refz\n",
    "        Dzx_k= C0_Cuad_Gam*sxk/2\n",
    "        Dzy_k= C0_Cuad_Gam*syk/2\n",
    "        Dzz_k=-C0_Cuad_Gam\n",
    "        \n",
    "        \n",
    "        \n",
    "        \n",
    "        Transl_i=3*Pk\n",
    "    \n",
    "        Ic = concatenate((Ic, array([0,1])+Transl_i  ))\n",
    "        Jc = concatenate((Jc, array([2,2])+Transl_i  ))\n",
    "        Vc = concatenate((Vc, array([Cxz_k,Cyz_k])   ))\n",
    "    \n",
    "    \n",
    "    \n",
    "        Id = concatenate((Id, array([0,1,2,2,2])+Transl_i  ))\n",
    "        Jd = concatenate((Jd, array([0,1,0,1,2])+Transl_i  ))\n",
    "        Vd = concatenate((Vd, array([Dxx_k,Dyy_k,Dzx_k,Dzy_k,Dzz_k]) ))    \n",
    "\n",
    "\n",
    "    \n",
    "    SizeA=3*N_atom\n",
    "    \n",
    "    G = coo_matrix((Vc,(Ic,Jc)),shape=(SizeA,SizeA))\n",
    "    \n",
    "    D = coo_matrix((Vd,(Id,Jd)),shape=(SizeA,SizeA))\n",
    "    \n",
    "    \n",
    "    \n",
    "    \n",
    "    \n",
    "    return G-G.T  +  D    #Here I changed the .to..dense()\n"
   ]
  },
  {
   "cell_type": "code",
   "execution_count": null,
   "metadata": {
    "id": "sFcRtY_aSkRV"
   },
   "outputs": [],
   "source": []
  },
  {
   "cell_type": "code",
   "execution_count": null,
   "metadata": {
    "id": "Ds40Wgd3rlZo"
   },
   "outputs": [],
   "source": [
    "def MatrixRot_k(Pk,K_laser=K_laser,Alpha=0):\n",
    "    \n",
    "    Rk=Pos_atoms[Pk]\n",
    "    \n",
    "    Phi_k=dot(K_laser,Rk)\n",
    "    \n",
    "    S_k=sin(Phi_k)\n",
    "    C_k=cos(Phi_k)\n",
    "    S_a=sin(2*Alpha)\n",
    "    C_a=cos(2*Alpha)\n",
    "    \n",
    "    Array_Rot_k=np.array([[-C_k*C_a, S_k*C_a,-S_a],\n",
    "                        [S_k,C_k,0],\n",
    "                        [C_k*S_a,-S_k*S_a,-C_a]])\n",
    "    \n",
    "    return Array_Rot_k.round(6)"
   ]
  },
  {
   "cell_type": "code",
   "execution_count": null,
   "metadata": {
    "id": "l8ArnkH2rlZp"
   },
   "outputs": [],
   "source": [
    "def gRot_gen():\n",
    "    Array_Rot_gen=np.array([[0,-1,0],\n",
    "                           [1,0,0],\n",
    "                           [0,0,1]])\n",
    "    \n",
    "    return Array_Rot_gen\n",
    "\n",
    "    "
   ]
  },
  {
   "cell_type": "code",
   "execution_count": null,
   "metadata": {
    "id": "SZ2OTIGkrlZp"
   },
   "outputs": [],
   "source": [
    "# Matrix R of general rotation\n",
    "\n",
    "#tu0=time.time()\n",
    "\n",
    "round_val=8\n",
    "k=0\n",
    "M_k=csr_matrix(MatrixRot_k(0).round(round_val))\n",
    "\n",
    "Coord=(M_k).nonzero()\n",
    "\n",
    "Xk=Coord[0]\n",
    "Yk=Coord[1]\n",
    "Valk=(M_k).data\n",
    "\n",
    "X_arr=Xk\n",
    "Y_arr=Yk\n",
    "Val_arr=Valk\n",
    "\n",
    "\n",
    "for k in range(1,N_atom):\n",
    "    M_k=csr_matrix(MatrixRot_k(k).round(round_val))\n",
    "    Coord=(M_k).nonzero()\n",
    "    \n",
    "    Xk=Coord[0]+3*k\n",
    "    Yk=Coord[1]+3*k\n",
    "    Valk=(M_k).data\n",
    "    \n",
    "    X_arr=np.concatenate((X_arr, Xk), axis=0)\n",
    "    Y_arr=np.concatenate((Y_arr, Yk), axis=0)\n",
    "    Val_arr=np.concatenate((Val_arr, Valk), axis=0)\n",
    "    \n",
    "    \n",
    "Rot_R = (sparse.coo_matrix((Val_arr,(X_arr,Y_arr)),shape=(3*N_atom,3*N_atom))) \n",
    "\n",
    "#tu1=time.time()\n",
    "\n",
    "#print(tu1-tu0)"
   ]
  },
  {
   "cell_type": "code",
   "execution_count": null,
   "metadata": {
    "id": "hTFWxApirlZp"
   },
   "outputs": [],
   "source": [
    "Val_arr=np.array(N_atom*[-1,1,1])\n",
    "\n",
    "Ib=[]\n",
    "Jb=[]\n",
    "\n",
    "for j in range(N_atom):\n",
    "    \n",
    "    Ij=np.array([0+3*j,1+3*j,2+3*j])\n",
    "    Jj=np.array([1+3*j,0+3*j,2+3*j])\n",
    "    \n",
    "    Ib= np.concatenate((Ib, Ij))\n",
    "    Jb= np.concatenate((Jb, Jj))\n"
   ]
  },
  {
   "cell_type": "code",
   "execution_count": null,
   "metadata": {
    "id": "d_TXndzkrlZq"
   },
   "outputs": [],
   "source": [
    "Rot_Val = (sparse.coo_matrix((array(Val_arr),(Ib,Jb)),shape=(3*N_atom,3*N_atom)))"
   ]
  },
  {
   "cell_type": "code",
   "execution_count": null,
   "metadata": {
    "id": "VeDoKi9drlZq"
   },
   "outputs": [],
   "source": [
    "#print(Rot_R)"
   ]
  },
  {
   "cell_type": "code",
   "execution_count": null,
   "metadata": {
    "id": "AkfqF0iErlZq"
   },
   "outputs": [],
   "source": [
    "sqr_GammaR=sqrt(Gamma_dec)"
   ]
  },
  {
   "cell_type": "code",
   "execution_count": null,
   "metadata": {
    "id": "kuuw5UhKrlZq"
   },
   "outputs": [],
   "source": [
    "#Plot the matrix R\n",
    "\n",
    "\n",
    "#import numpy as np\n",
    "#import matplotlib.pyplot as plt\n",
    "\n",
    "#plt.imshow(Rot_R.todense())\n",
    "#plt.colorbar()\n",
    "#plt.show()"
   ]
  },
  {
   "cell_type": "code",
   "execution_count": null,
   "metadata": {
    "id": "3UtD6ds5rlZr"
   },
   "outputs": [],
   "source": [
    "#More efficient multiplication\n",
    "\n",
    "\n",
    "#tyu0=time.time()\n",
    "\n",
    "#Vali=Rot_R@rty\n",
    "\n",
    "#tyu1=time.time()"
   ]
  },
  {
   "cell_type": "markdown",
   "metadata": {
    "id": "p9Uo5YCDrlZr"
   },
   "source": [
    "# Sampling"
   ]
  },
  {
   "cell_type": "code",
   "execution_count": null,
   "metadata": {
    "id": "UL8SLNAIrlZr"
   },
   "outputs": [],
   "source": [
    "\n",
    "def init_state(N_atom=N_atom):\n",
    "    elements = [-1, 1]\n",
    "    probabilities = [0.5, 0.5]\n",
    "    Measurements=list(choice(elements, 2*N_atom, p=probabilities))\n",
    "    for j in range(N_atom):\n",
    "\n",
    "        Measurements.insert(2+3*j,-1)   #We start at |g>\n",
    "        \n",
    "    return Measurements\n",
    "    \n"
   ]
  },
  {
   "cell_type": "code",
   "execution_count": null,
   "metadata": {
    "id": "G0BZmetarlZs"
   },
   "outputs": [],
   "source": [
    "# Separate in Sx, Sy and Sz\n",
    "#@jit\n",
    "def get_s_alpha(Measur):\n",
    "    \n",
    "    Arr_retX=[]\n",
    "    Arr_retY=[]\n",
    "    Arr_retZ=[]\n",
    "    \n",
    "    for j in range(N_atom):\n",
    "        Arr_retX.append(Measur[3*j])\n",
    "        Arr_retY.append(Measur[3*j+1])\n",
    "        Arr_retZ.append(Measur[3*j+2])\n",
    "    \n",
    "    return Arr_retX,Arr_retY,Arr_retZ"
   ]
  },
  {
   "cell_type": "code",
   "execution_count": null,
   "metadata": {
    "id": "4ef3qrG2rlZs"
   },
   "outputs": [],
   "source": [
    "\n",
    "def b_fun(N_atom=N_atom,Gamma_dec=Gamma_dec):\n",
    "    \n",
    "    b_column=[]\n",
    "    \n",
    "    for j in range(N_atom):\n",
    "        b_column.append(0)\n",
    "        b_column.append(0)\n",
    "        b_column.append(1)\n",
    "        \n",
    "    return np.array(b_column)"
   ]
  },
  {
   "cell_type": "code",
   "execution_count": null,
   "metadata": {
    "id": "OklnNKu_rlZs"
   },
   "outputs": [],
   "source": [
    "TransR_m=(Rot_R.T)\n",
    "b_funct=b_fun().reshape(3*N_atom,)\n",
    "\n"
   ]
  },
  {
   "cell_type": "markdown",
   "metadata": {
    "id": "5Te00DCDrlZs"
   },
   "source": [
    "# Construct the differential equations"
   ]
  },
  {
   "cell_type": "code",
   "execution_count": null,
   "metadata": {
    "id": "F6yZN4yFrlZt"
   },
   "outputs": [],
   "source": [
    "#%% Differential equation RHS function\n",
    "\n",
    "#%%%%%%%%%%%%%%%%%%%%%%%%%%%%%%%%%%%%%%%%%%%%%%%%%%%%%%%%%%%%%%%%%%%\n",
    "V_decay=(C00**2)*Gamma_dec*b_funct\n",
    "\n",
    "@jit\n",
    "def f(t, yR):#  ,TransR_m=TransR_m,Rot_R=Rot_R,C00=C00,Gamma_dec=Gamma_dec,b_funct=b_funct):\n",
    "    \n",
    "    \n",
    "    # Here yR is an array in the R xR,yR and zR basis. \n",
    "    \n",
    "    \n",
    "    # yOr is the results array in the x, y and z basis.\n",
    "    \n",
    "    \n",
    "    Separ_alpha=get_s_alpha(yR)\n",
    "    \n",
    "    \n",
    "    yOr_x=Separ_alpha[0] \n",
    "    yOr_y=Separ_alpha[1] \n",
    "    yOr_z=Separ_alpha[2]  \n",
    "    \n",
    "    MatA=(Matrix_A(yOr_y,yOr_x,yOr_z))@yR-V_decay\n",
    "\n",
    "\n",
    "    return MatA\n",
    "    "
   ]
  },
  {
   "cell_type": "code",
   "execution_count": null,
   "metadata": {
    "id": "51Bpbi23SkRZ"
   },
   "outputs": [],
   "source": []
  },
  {
   "cell_type": "code",
   "execution_count": null,
   "metadata": {
    "id": "MTUW8xbiSkRa"
   },
   "outputs": [],
   "source": [
    "(f( 0, init_state())).shape"
   ]
  },
  {
   "cell_type": "code",
   "execution_count": null,
   "metadata": {
    "id": "Zv_NalZlSkRa"
   },
   "outputs": [],
   "source": []
  },
  {
   "cell_type": "code",
   "execution_count": null,
   "metadata": {
    "id": "eeAI33I6SkRa"
   },
   "outputs": [],
   "source": []
  },
  {
   "cell_type": "code",
   "execution_count": null,
   "metadata": {
    "id": "Z7mHOjI4SkRb"
   },
   "outputs": [],
   "source": []
  },
  {
   "cell_type": "code",
   "execution_count": null,
   "metadata": {
    "id": "WNEAjPq5rlZt"
   },
   "outputs": [],
   "source": [
    "\n",
    "#%% Noise function\n",
    "\n",
    "C00_sqr_Gam=(C00)*sqr_GammaR\n",
    "\n",
    "\n",
    "@jit\n",
    "def g(yR, t):\n",
    "    \n",
    "    \n",
    "    # Here yR is an array in the R xR,yR and zR basis. \n",
    "    # yOr is the results array in the x, y and z basis.\n",
    "    \n",
    "    \n",
    "\n",
    "    #yOr=(TransR_m)@((array(yR)).reshape(3*N_atom,))\n",
    "    yOr=((array(yR)).reshape(3*N_atom,))\n",
    "    \n",
    "    return C00_sqr_Gam*(  Rot_Val @ yOr +b_funct)\n",
    "    "
   ]
  },
  {
   "cell_type": "code",
   "execution_count": null,
   "metadata": {
    "id": "TnPpjPKkSkRb"
   },
   "outputs": [],
   "source": []
  },
  {
   "cell_type": "code",
   "execution_count": null,
   "metadata": {
    "id": "HE9ur3Y3SkRb"
   },
   "outputs": [],
   "source": []
  },
  {
   "cell_type": "code",
   "execution_count": null,
   "metadata": {
    "id": "G5cijJfLSkRb"
   },
   "outputs": [],
   "source": []
  },
  {
   "cell_type": "markdown",
   "metadata": {
    "id": "FaYaOXSZrlZt"
   },
   "source": [
    "# Euler-Maruyama"
   ]
  },
  {
   "cell_type": "code",
   "execution_count": null,
   "metadata": {
    "id": "nFgssPk5rlZt"
   },
   "outputs": [],
   "source": [
    "tspan=np.linspace(0,5,17000+1)\n",
    "h=(tspan[-1]-tspan[0])/(len(tspan)-1)\n",
    "\n",
    "h"
   ]
  },
  {
   "cell_type": "code",
   "execution_count": null,
   "metadata": {
    "id": "PicBAzCTSkRc"
   },
   "outputs": [],
   "source": []
  },
  {
   "cell_type": "code",
   "execution_count": null,
   "metadata": {
    "id": "eksYhid4rlZu"
   },
   "outputs": [],
   "source": [
    "\n",
    "@jit\n",
    "def EulerMaruyama(f, g, y0 , tspan,Stochastic=1 ):\n",
    "        \n",
    "    y0,Ns =array(y0).reshape(3*N_atom,), len(tspan)\n",
    "\n",
    "    h,y = (tspan[Ns-1] - tspan[0])/(Ns - 1),zeros((Ns, 3*N_atom), dtype=float)\n",
    "    # allocate space for result\n",
    "\n",
    "    y[0] = y0.reshape(3*N_atom,);\n",
    "    \n",
    "    Second_moment=[]\n",
    "    \n",
    "    sqrth=sqrt(h)*Stochastic\n",
    "    \n",
    "    #init0=y0.reshape(3*N_atom,1)\n",
    "    \n",
    "    #Second_moment.append( init0@(init0.T)   )\n",
    "    \n",
    "    \n",
    "    for n in range(0, Ns-1):\n",
    "        \n",
    "        print(100*n/Ns)\n",
    "\n",
    "\n",
    "        tn   = tspan[n]\n",
    "        tnp1 = tspan[n+1]\n",
    "        yn   = y[n]\n",
    "        \n",
    "\n",
    "\n",
    "        fn = f(yn, tn)\n",
    "        #gn = g(yn, tn)\n",
    "        \n",
    "        ynp1=yn + fn*h #+ gn*sqrth*normal()\n",
    "        \n",
    "        y[n+1] = ynp1\n",
    "        \n",
    "        #Vect_np1=ynp1.reshape(3*N_atom,1)\n",
    "        \n",
    "        #Second_moment.append( Vect_np1@(Vect_np1.T)   )\n",
    "        \n",
    "        #print(n)\n",
    "        \n",
    "    return y    #, Second_moment"
   ]
  },
  {
   "cell_type": "code",
   "execution_count": null,
   "metadata": {
    "id": "cTZgBj9ErlZu"
   },
   "outputs": [],
   "source": []
  },
  {
   "cell_type": "code",
   "execution_count": null,
   "metadata": {
    "id": "V0mDDmbUrlZv"
   },
   "outputs": [],
   "source": [
    "\n",
    "itera=500\n",
    "\n",
    "@jit\n",
    "def averages_sde(itera=itera,N_atom=N_atom,tspan=tspan,Stochastic=1):\n",
    "    Results =EulerMaruyama(f,g,init_state(),tspan,Stochastic=1)\n",
    "    \n",
    "    Result_First  =Results\n",
    "\n",
    "    print(0)\n",
    "\n",
    "    for j in range(itera-1):\n",
    "        Trayec=EulerMaruyama(f,g,init_state(),tspan)\n",
    "        Result_First  =add(Result_First  ,Trayec)\n",
    "\n",
    "        print(j+1)\n",
    "    \n",
    "    return np.array(Result_First)/int(itera)"
   ]
  },
  {
   "cell_type": "code",
   "execution_count": null,
   "metadata": {
    "id": "MW3xTP4-rlZv"
   },
   "outputs": [],
   "source": []
  },
  {
   "cell_type": "code",
   "execution_count": null,
   "metadata": {
    "id": "LwTQwz8MrlZv"
   },
   "outputs": [],
   "source": [
    "#resEM[0][-1]\n",
    "\n",
    "#resEM[0].shape"
   ]
  },
  {
   "cell_type": "code",
   "execution_count": null,
   "metadata": {
    "id": "IBqusQDarlZv"
   },
   "outputs": [],
   "source": []
  },
  {
   "cell_type": "code",
   "execution_count": null,
   "metadata": {
    "id": "D52m8ktSrlZw"
   },
   "outputs": [],
   "source": []
  },
  {
   "cell_type": "code",
   "execution_count": null,
   "metadata": {
    "id": "v8RN6Mz1rlZw"
   },
   "outputs": [],
   "source": [
    "import matplotlib.pyplot as plt\n",
    "import numpy as np\n",
    "#from google.colab import files\n",
    "\n",
    "\"\"\"In order to provide a better presentation of the graphs we use the rcParams options shown below.\"\"\"\n",
    "\n",
    "import matplotlib\n",
    "matplotlib.rcParams['text.usetex'] = False\n",
    "matplotlib.rcParams['mathtext.fontset'] = 'stix'\n",
    "matplotlib.rcParams['font.family'] = 'STIXGeneral'\n",
    "matplotlib.rcParams['font.size'] = 15\n",
    "matplotlib.rcParams['figure.figsize'] = (11.0, 8.0)\n",
    "\n",
    "from numpy import cos, sin\n",
    "\n",
    "label_size = 20\n",
    "\n",
    "from numpy import sqrt\n",
    "\n",
    "import time\n",
    "from numba import jit\n",
    "from numpy import sin, cos\n",
    "\n",
    "T0=time.time()\n",
    "\n",
    "import matplotlib\n",
    "matplotlib.rcParams['text.usetex'] = False\n",
    "matplotlib.rcParams['mathtext.fontset'] = 'stix'\n",
    "matplotlib.rcParams['font.family'] = 'STIXGeneral'\n",
    "matplotlib.rcParams['font.size'] = 15\n",
    "matplotlib.rcParams['figure.figsize'] = (11.0, 8.0)"
   ]
  },
  {
   "cell_type": "code",
   "execution_count": null,
   "metadata": {
    "id": "fwct37vJrlZw"
   },
   "outputs": [],
   "source": []
  },
  {
   "cell_type": "code",
   "execution_count": null,
   "metadata": {
    "id": "orJNnvEkrlZw"
   },
   "outputs": [],
   "source": [
    "import time\n",
    "\n"
   ]
  },
  {
   "cell_type": "markdown",
   "metadata": {
    "id": "1iDxWUZorlZw"
   },
   "source": [
    "# Mean-Field"
   ]
  },
  {
   "cell_type": "code",
   "execution_count": null,
   "metadata": {
    "id": "CWYoJuVWrlZx"
   },
   "outputs": [],
   "source": [
    "t0=time.time()\n",
    "\n",
    "MF_result=EulerMaruyama(f, g, list(-b_fun()) , tspan,Stochastic=0 )\n",
    "\n",
    "t1=time.time()"
   ]
  },
  {
   "cell_type": "code",
   "execution_count": null,
   "metadata": {
    "id": "PSMd8XBDrlZx"
   },
   "outputs": [],
   "source": [
    "\n",
    "SxMF=[]\n",
    "SyMF=[]\n",
    "SzMF=[]\n",
    "\n",
    "for j in range(MF_result.shape[0]):\n",
    "    \n",
    "    Sxyz=get_s_alpha(MF_result[j])\n",
    "    \n",
    "    SxMF.append(sum(Sxyz[0])/2)\n",
    "    SyMF.append(sum(Sxyz[1])/2)\n",
    "    SzMF.append(sum(Sxyz[2])/2)\n",
    "    "
   ]
  },
  {
   "cell_type": "code",
   "execution_count": null,
   "metadata": {
    "id": "ZufNww44SkRe"
   },
   "outputs": [],
   "source": [
    "print(t1-t0)"
   ]
  },
  {
   "cell_type": "code",
   "execution_count": null,
   "metadata": {
    "id": "Lk_nBYQCSkRe"
   },
   "outputs": [],
   "source": [
    "plt.title(\"Single Particle Operator Dynamics $(\\Delta r=0.17\\lambda,N_{\\\\rm{atom}}=256)$\",fontsize=30)\n",
    "\n",
    "fontsize=25\n",
    "\n",
    "plt.plot(Gamma_dec*tspan,np.array(SxMF),label=\"$\\\\left<\\hat{S}_x\\\\right>$ Mean-Field\")\n",
    "plt.plot(Gamma_dec*tspan,np.array(SyMF),label=\"$\\\\left<\\hat{S}_y\\\\right>$ Mean-Field\")\n",
    "plt.plot(Gamma_dec*tspan,np.array(SzMF),label=\"$\\\\left<\\hat{S}_z\\\\right>$ Mean-Field\")\n",
    "\n",
    "#plt.ylabel(\"$\\\\left<\\hat{S}_{\\\\alpha}\\\\right>/N_{\\\\rm{atom}}$\",fontsize=fontsize)\n",
    "plt.ylabel(\"$\\\\left<\\hat{S}_{\\\\alpha}\\\\right>$\",fontsize=fontsize)\n",
    "plt.xlabel(\"$\\Gamma t$\",fontsize=fontsize)\n",
    "\n",
    "\n",
    "plt.legend(fontsize=fontsize-5)"
   ]
  },
  {
   "cell_type": "code",
   "execution_count": null,
   "metadata": {
    "id": "ADh6yeDQSkRe"
   },
   "outputs": [],
   "source": []
  },
  {
   "cell_type": "code",
   "execution_count": null,
   "metadata": {
    "id": "jHJ_vBaUtM7N"
   },
   "outputs": [],
   "source": [
    "from scipy.integrate import solve_ivp"
   ]
  },
  {
   "cell_type": "code",
   "execution_count": null,
   "metadata": {
    "id": "7zESHhRmSkRe"
   },
   "outputs": [],
   "source": []
  },
  {
   "cell_type": "code",
   "execution_count": null,
   "metadata": {
    "id": "slYadqAVSkRe"
   },
   "outputs": [],
   "source": [
    "tyme0=time.time()\n",
    "\n",
    "sol = solve_ivp(f, [0, 5], list(-b_fun()) )\n",
    "\n",
    "tyme1=time.time()\n",
    "\n",
    "\n",
    "print(tyme1-tyme0)"
   ]
  },
  {
   "cell_type": "code",
   "execution_count": null,
   "metadata": {
    "id": "pUy0Jq6wSkRe"
   },
   "outputs": [],
   "source": []
  },
  {
   "cell_type": "code",
   "execution_count": null,
   "metadata": {
    "id": "blz93ZFPSkRe"
   },
   "outputs": [],
   "source": [
    "sol.t"
   ]
  },
  {
   "cell_type": "code",
   "execution_count": null,
   "metadata": {
    "id": "c64efvvtSkRe"
   },
   "outputs": [],
   "source": []
  },
  {
   "cell_type": "code",
   "execution_count": null,
   "metadata": {
    "id": "oISgNK3xSkRf"
   },
   "outputs": [],
   "source": [
    "\n",
    "SxMF=[]\n",
    "SyMF=[]\n",
    "SzMF=[]\n",
    "\n",
    "for j in range((sol.y).shape[1]):\n",
    "    \n",
    "    Sxyz=get_s_alpha((sol.y)[:,j])\n",
    "    \n",
    "    SxMF.append(sum(Sxyz[0])/2)\n",
    "    SyMF.append(sum(Sxyz[1])/2)\n",
    "    SzMF.append(sum(Sxyz[2])/2)\n",
    "    "
   ]
  },
  {
   "cell_type": "code",
   "execution_count": null,
   "metadata": {
    "id": "zqurWj7gtM-U"
   },
   "outputs": [],
   "source": []
  },
  {
   "cell_type": "code",
   "execution_count": null,
   "metadata": {
    "id": "9p1Bok2iSkRf"
   },
   "outputs": [],
   "source": [
    "plt.title(\"Single Particle Operator Dynamics $(\\Delta x=20\\lambda,N_{\\\\rm{atom}}=128)$\",fontsize=30)\n",
    "\n",
    "fontsize=25\n",
    "\n",
    "plt.plot(sol.t,np.array(SxMF),label=\"$\\\\left<\\hat{S}_x\\\\right>$ Mean-Field\")\n",
    "plt.plot(sol.t,np.array(SyMF),label=\"$\\\\left<\\hat{S}_y\\\\right>$ Mean-Field\")\n",
    "plt.plot(sol.t,np.array(SzMF),label=\"$\\\\left<\\hat{S}_z\\\\right>$ Mean-Field\")\n",
    "\n",
    "#plt.ylabel(\"$\\\\left<\\hat{S}_{\\\\alpha}\\\\right>/N_{\\\\rm{atom}}$\",fontsize=fontsize)\n",
    "plt.ylabel(\"$\\\\left<\\hat{S}_{\\\\alpha}\\\\right>$\",fontsize=fontsize)\n",
    "plt.xlabel(\"$\\Gamma t$\",fontsize=fontsize)\n",
    "\n",
    "\n",
    "plt.legend(fontsize=fontsize-5)"
   ]
  },
  {
   "cell_type": "code",
   "execution_count": null,
   "metadata": {
    "id": "dPWS-HAiSkRf"
   },
   "outputs": [],
   "source": [
    "N_atom"
   ]
  },
  {
   "cell_type": "code",
   "execution_count": null,
   "metadata": {
    "id": "w4pxGXBUSkRf"
   },
   "outputs": [],
   "source": []
  },
  {
   "cell_type": "code",
   "execution_count": null,
   "metadata": {
    "id": "LZA8dV5SSkRf"
   },
   "outputs": [],
   "source": []
  },
  {
   "cell_type": "code",
   "execution_count": null,
   "metadata": {
    "id": "kJ-ZV0nZSkRf"
   },
   "outputs": [],
   "source": []
  },
  {
   "cell_type": "markdown",
   "metadata": {
    "id": "9eKMfvO8rlZz"
   },
   "source": [
    "# DissDTWA (Dissipative Discrete-TWA) "
   ]
  },
  {
   "cell_type": "code",
   "execution_count": null,
   "metadata": {
    "id": "mB3aNR2ErlZz"
   },
   "outputs": [],
   "source": []
  },
  {
   "cell_type": "code",
   "execution_count": null,
   "metadata": {
    "id": "dxP6emrwrlZz"
   },
   "outputs": [],
   "source": [
    "import time\n",
    "#t0=time.time()\n",
    "\n",
    "itera=300\n",
    "Result_varTWA_Col_SDE = averages_sde(itera=itera,N_atom=N_atom,tspan=tspan,Stochastic=1)\n",
    "#Result_varTWA_Col_TWA = averages_sde(itera=itera,N=N)\n",
    "\n",
    "#t1=time.time()\n",
    "\n",
    "#print(t1-t0)"
   ]
  },
  {
   "cell_type": "code",
   "execution_count": null,
   "metadata": {
    "id": "YRG0C8KNrlZ0"
   },
   "outputs": [],
   "source": []
  },
  {
   "cell_type": "code",
   "execution_count": null,
   "metadata": {
    "id": "bSa0-mc1rlZ0"
   },
   "outputs": [],
   "source": []
  },
  {
   "cell_type": "code",
   "execution_count": null,
   "metadata": {
    "id": "c4p1L5mjrlZ0"
   },
   "outputs": [],
   "source": []
  },
  {
   "cell_type": "code",
   "execution_count": null,
   "metadata": {
    "id": "jPUp5Y5BrlZ0"
   },
   "outputs": [],
   "source": []
  },
  {
   "cell_type": "code",
   "execution_count": null,
   "metadata": {
    "id": "IeMosg4rrlZ0"
   },
   "outputs": [],
   "source": [
    "Result_Or=((Result_varTWA_Col_SDE[0].T)).T\n",
    "\n",
    "\n",
    "Result_Or[0]"
   ]
  },
  {
   "cell_type": "code",
   "execution_count": null,
   "metadata": {
    "id": "pOu_6i8RrlZ0"
   },
   "outputs": [],
   "source": [
    "Sx=[]\n",
    "Sy=[]\n",
    "Sz=[]\n",
    "\n",
    "for j in range(Result_Or.shape[0]):\n",
    "    \n",
    "    Sxyz=get_s_alpha(Result_Or[j])\n",
    "    \n",
    "    Sx.append(sum(Sxyz[0])/2)\n",
    "    Sy.append(sum(Sxyz[1])/2)\n",
    "    Sz.append(sum(Sxyz[2])/2)\n"
   ]
  },
  {
   "cell_type": "code",
   "execution_count": null,
   "metadata": {
    "id": "MNz8XiFprlZ1"
   },
   "outputs": [],
   "source": [
    "plt.title(\"Single Particle Operator Dynamics $(\\Delta r=0.3\\lambda,N_{\\\\rm{atom}}=10)$\",fontsize=30)\n",
    "\n",
    "\n",
    "\n",
    "plt.plot(tspan[:5000],array(Sx[:5000])/N_atom,label=\"$\\\\left<\\hat{S}_x\\\\right>/N_{\\\\rm{atom}}$ DissTWA\")\n",
    "plt.plot(tspan[:5000],array(Sy[:5000])/N_atom,label=\"$\\\\left<\\hat{S}_y\\\\right>/N_{\\\\rm{atom}}$ DissTWA\")\n",
    "plt.plot(tspan[:5000],array(Sz[:5000])/N_atom,label=\"$\\\\left<\\hat{S}_z\\\\right>/N_{\\\\rm{atom}}$ DissTWA\")\n",
    "\n",
    "\n",
    "\n",
    "fontsize=25\n",
    "\n",
    "plt.plot(tspan[:5000],np.array(SxMF[:5000])/N_atom,\"--\",label=\"$\\\\left<\\hat{S}_x\\\\right>/N_{\\\\rm{atom}}$ Mean-Field\")\n",
    "plt.plot(tspan[:5000],np.array(SyMF[:5000])/N_atom,\"--\",label=\"$\\\\left<\\hat{S}_y\\\\right>/N_{\\\\rm{atom}}$ Mean-Field\")\n",
    "plt.plot(tspan[:5000],np.array(SzMF[:5000])/N_atom,\"--\",label=\"$\\\\left<\\hat{S}_z\\\\right>/N_{\\\\rm{atom}}$ Mean-Field\")\n",
    "\n",
    "plt.ylabel(\"$\\\\left<\\hat{S}_{\\\\alpha}\\\\right>/N_{\\\\rm{atom}}$\",fontsize=fontsize)\n",
    "plt.xlabel(\"$\\Gamma t$\",fontsize=fontsize)\n",
    "\n",
    "\n",
    "plt.legend(fontsize=fontsize-5)\n",
    "\n",
    "plt.legend()"
   ]
  },
  {
   "cell_type": "code",
   "execution_count": null,
   "metadata": {
    "id": "f50Pi_Y2rlZ1"
   },
   "outputs": [],
   "source": [
    "\n"
   ]
  },
  {
   "cell_type": "code",
   "execution_count": null,
   "metadata": {
    "id": "tur59N4jrlZ1"
   },
   "outputs": [],
   "source": []
  },
  {
   "cell_type": "code",
   "execution_count": null,
   "metadata": {
    "id": "foayTVaorlZ1"
   },
   "outputs": [],
   "source": []
  },
  {
   "cell_type": "code",
   "execution_count": null,
   "metadata": {
    "id": "_uOaw-hrrlZ1"
   },
   "outputs": [],
   "source": [
    "MF_result=(TransR_m@(EulerMaruyama(f, g, list(b_fun()) , tspan,Stochastic=0 )[0].T)).T\n",
    "\n",
    "SxMF=[]\n",
    "SyMF=[]\n",
    "SzMF=[]\n",
    "\n",
    "for j in range(MF_result.shape[0]):\n",
    "    \n",
    "    Sxyz=get_s_alpha(MF_result[j])\n",
    "    \n",
    "    SxMF.append(sum(Sxyz[0])/2)\n",
    "    SyMF.append(sum(Sxyz[1])/2)\n",
    "    SzMF.append(sum(Sxyz[2])/2)\n"
   ]
  },
  {
   "cell_type": "code",
   "execution_count": null,
   "metadata": {
    "id": "pn0IQvUXrlZ2"
   },
   "outputs": [],
   "source": [
    "plt.title(\"Single Particle Operator Dynamics\",fontsize=30)\n",
    "\n",
    "fontsize=25\n",
    "\n",
    "plt.plot(tspan,np.array(SxMF)/N_atom,label=\"$\\\\left<\\hat{S}_x\\\\right>/N_{\\\\rm{atom}}$ Mean-Field\")\n",
    "plt.plot(tspan,np.array(SyMF)/N_atom,label=\"$\\\\left<\\hat{S}_y\\\\right>/N_{\\\\rm{atom}}$ Mean-Field\")\n",
    "plt.plot(tspan,np.array(SzMF)/N_atom,label=\"$\\\\left<\\hat{S}_z\\\\right>/N_{\\\\rm{atom}}$ Mean-Field\")\n",
    "\n",
    "plt.ylabel(\"$\\\\left<\\hat{S}_{\\\\alpha}\\\\right>/N_{\\\\rm{atom}}$\",fontsize=fontsize)\n",
    "plt.xlabel(\"$\\Gamma t$\",fontsize=fontsize)\n",
    "\n",
    "\n",
    "plt.legend(fontsize=fontsize-5)"
   ]
  },
  {
   "cell_type": "code",
   "execution_count": null,
   "metadata": {
    "id": "kCwXmJJerlZ2"
   },
   "outputs": [],
   "source": []
  },
  {
   "cell_type": "code",
   "execution_count": null,
   "metadata": {
    "id": "Lrhkl1CarlZ2"
   },
   "outputs": [],
   "source": []
  },
  {
   "cell_type": "code",
   "execution_count": null,
   "metadata": {
    "id": "tDB55FrJrlZ2"
   },
   "outputs": [],
   "source": []
  },
  {
   "cell_type": "code",
   "execution_count": null,
   "metadata": {
    "id": "WNO_2zmwrlZ2"
   },
   "outputs": [],
   "source": []
  },
  {
   "cell_type": "code",
   "execution_count": null,
   "metadata": {
    "id": "mCiUrRyMrlZ2"
   },
   "outputs": [],
   "source": []
  },
  {
   "cell_type": "code",
   "execution_count": null,
   "metadata": {
    "id": "NEm3BWk6rlZ3"
   },
   "outputs": [],
   "source": []
  },
  {
   "cell_type": "code",
   "execution_count": null,
   "metadata": {
    "id": "5WVo5Pa5rlZ3"
   },
   "outputs": [],
   "source": []
  },
  {
   "cell_type": "code",
   "execution_count": null,
   "metadata": {
    "id": "QWx8lll-rlZ3"
   },
   "outputs": [],
   "source": [
    "plt.plot(tspan,Sx,label=\"$<S_x> DissDTWA$\")\n",
    "plt.plot(tspan,Sy,label=\"$<S_y> DissDTWA$\")\n",
    "plt.plot(tspan,Sz,label=\"$<S_z> DissDTWA$\")\n",
    "plt.plot(tspan,SxMF,label=\"$<S_x> MF$\")\n",
    "plt.plot(tspan,SyMF,label=\"$<S_y> MF$\")\n",
    "plt.plot(tspan,SzMF,label=\"$<S_z> MF$\")\n",
    "\n",
    "plt.legend()"
   ]
  },
  {
   "cell_type": "code",
   "execution_count": null,
   "metadata": {
    "id": "kRGzFMmkrlZ3"
   },
   "outputs": [],
   "source": []
  },
  {
   "cell_type": "code",
   "execution_count": null,
   "metadata": {
    "id": "KhaLtWB4rlZ3"
   },
   "outputs": [],
   "source": []
  }
 ],
 "metadata": {
  "colab": {
   "collapsed_sections": [
    "cm436-PkrlZm",
    "p9Uo5YCDrlZr",
    "5Te00DCDrlZs",
    "FaYaOXSZrlZt",
    "1iDxWUZorlZw",
    "9eKMfvO8rlZz"
   ],
   "name": "BenchmarkMF_MACE_checked (4).ipynb",
   "provenance": []
  },
  "interpreter": {
   "hash": "8b5a56c868af681f12af5d6461e4b0e184841bd5d58e03f1e772403ba6bf7368"
  },
  "kernelspec": {
   "display_name": "Python 3",
   "language": "python",
   "name": "python3"
  },
  "language_info": {
   "codemirror_mode": {
    "name": "ipython",
    "version": 3
   },
   "file_extension": ".py",
   "mimetype": "text/x-python",
   "name": "python",
   "nbconvert_exporter": "python",
   "pygments_lexer": "ipython3",
   "version": "3.8.3"
  }
 },
 "nbformat": 4,
 "nbformat_minor": 1
}
