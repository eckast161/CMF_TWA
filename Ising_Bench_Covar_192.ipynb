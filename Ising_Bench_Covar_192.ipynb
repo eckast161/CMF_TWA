{
 "cells": [
  {
   "cell_type": "code",
   "execution_count": 86,
   "metadata": {},
   "outputs": [],
   "source": [
    "import matplotlib.pyplot as plt\n",
    "import numpy as np\n",
    "#from google.colab import files\n",
    "\n",
    "\"\"\"In order to provide a better presentation of the graphs we use the rcParams options shown below.\"\"\"\n",
    "\n",
    "import matplotlib\n",
    "matplotlib.rcParams['text.usetex'] = False\n",
    "matplotlib.rcParams['mathtext.fontset'] = 'stix'\n",
    "matplotlib.rcParams['font.family'] = 'STIXGeneral'\n",
    "matplotlib.rcParams['font.size'] = 15\n",
    "matplotlib.rcParams['figure.figsize'] = (11.0, 8.0)\n",
    "\n",
    "label_size = 20\n",
    "import time\n",
    "\n",
    "T0=time.time()\n",
    "from numpy import conjugate as conj\n",
    "from numpy import zeros, exp\n",
    "import scipy\n",
    "from numpy import diff\n",
    "from numpy.random import randint\n",
    "import matplotlib.pyplot as plt\n",
    "import time\n",
    "from scipy.sparse import identity\n",
    "from scipy.sparse import lil_matrix\n",
    "from scipy.sparse import csr_matrix\n",
    "import scipy.special \n",
    "from numba import jit\n",
    "%matplotlib inline\n",
    "from numpy import random, zeros, sqrt,cos,sin\n",
    "import sdeint\n",
    "from sdeint import itoint, stratint, itoSRI2, stratKP2iS,itoEuler\n",
    "from numpy import sqrt, zeros, diag, random, real, array, complex_, transpose, conjugate, exp, matmul, real\n",
    "from numpy.random import normal \n",
    "from scipy.integrate import solve_ivp\n",
    "from scipy.signal import savgol_filter\n",
    "\n",
    "\"\"\"In order to provide a better presentation of the graphs we use the rcParams options shown below.\"\"\"\n",
    "\n",
    "import matplotlib\n",
    "matplotlib.rcParams['text.usetex'] = False\n",
    "matplotlib.rcParams['mathtext.fontset'] = 'stix'\n",
    "matplotlib.rcParams['font.family'] = 'STIXGeneral'\n",
    "matplotlib.rcParams['font.size'] = 15\n",
    "matplotlib.rcParams['figure.figsize'] = (11.0, 8.0)\n",
    "\n",
    "\n",
    "t0=time.time()\n",
    "#Parameters\n",
    "\n",
    "##Number of atoms\n"
   ]
  },
  {
   "cell_type": "code",
   "execution_count": 87,
   "metadata": {},
   "outputs": [],
   "source": [
    "import numpy as np\n",
    "from numpy import cos, sin\n",
    "from numpy import sqrt\n",
    "import time\n",
    "from scipy.sparse.linalg import expm\n",
    "import pandas as pd\n",
    "\n",
    "label_size = 20\n",
    "\n",
    "\n",
    "# In[2]:\n",
    "\n",
    "\n",
    "\n",
    "import numpy as np\n",
    "#from google.colab import files\n",
    "\n",
    "\"\"\"In order to provide a better presentation of the graphs we use the rcParams options shown below.\"\"\"\n",
    "\n",
    "\n",
    "from numpy import cos, sin\n",
    "\n",
    "label_size = 20\n",
    "\n",
    "from numpy import sqrt\n",
    "\n",
    "import time\n",
    "from numpy import sin, cos\n",
    "\n",
    "\n",
    "\n",
    "\n",
    "# In[3]:\n",
    "\n",
    "\n",
    "\n",
    "from numpy import random, zeros, sqrt,cos,sin\n",
    "\n",
    "import numpy as np\n",
    "\n",
    "import numbers\n",
    "\n",
    "from numpy import sqrt, zeros, diag, random, real, array, complex_, transpose, conjugate, exp, matmul, real\n",
    "\n",
    "\n",
    "\n",
    "from scipy.linalg import norm\n",
    "from numpy import dot\n",
    "from numpy import pi as pi\n",
    "from numpy import array\n",
    "import scipy\n",
    "from numpy import exp, imag, real,zeros, conj\n",
    "from numpy import sum\n",
    "from scipy import sparse\n",
    "from numpy import array\n",
    "import scipy.sparse as sp\n",
    "from numpy import concatenate\n",
    "from scipy.sparse import csr_matrix\n",
    "from numpy import sqrt, dot\n",
    "from numpy.random import choice\n",
    "from numpy.random import normal\n",
    "from numpy import sqrt\n",
    "from numpy import add\n",
    "from numpy import concatenate\n",
    "from scipy.sparse import coo_matrix\n",
    "from scipy.sparse import kron\n",
    "\n",
    "#t0=time.time()\n",
    "\n",
    "import numpy as np\n",
    "import pandas as pd\n",
    "from mpl_toolkits import mplot3d\n",
    "import numpy as np\n",
    "from scipy.sparse import kron\n",
    "from scipy.sparse import coo_matrix, identity\n",
    "\n",
    "\n",
    "\n",
    "# \\begin{align}\n",
    "# \\hat{H}_{{\\rm MACE}}^{i} & =\\sum_{k\\in C_{i}}B_{Q}\\hat{s}_{z,k}^{2}+\\sum_{\\substack{j,k\\in C_{i},\\\\\n",
    "# j<k\n",
    "# }\n",
    "# }V_{jk}\\left(\\hat{s}_{z,j}\\hat{s}_{z,k}-\\frac{1}{2}\\left(\\hat{s}_{x,j}\\hat{s}_{x,k}+\\hat{s}_{y,j}\\hat{s}_{y,k}\\right)\\right).\n",
    "# \\end{align}\n",
    "# \n",
    "\n",
    "# # Parameters\n",
    "Vij_p=array(pd.read_csv('Vij.csv', header=None))\n",
    "\n",
    "\n",
    "\n",
    "\n",
    "import numpy as np\n",
    "from numpy import sin, cos, sqrt\n",
    "\n",
    "\"\"\"In order to provide a better presentation of the graphs we use the rcParams options shown below.\"\"\"\n",
    "\n",
    "\n",
    "from numpy import sqrt\n",
    "\n",
    "import time"
   ]
  },
  {
   "cell_type": "code",
   "execution_count": null,
   "metadata": {},
   "outputs": [],
   "source": []
  },
  {
   "cell_type": "code",
   "execution_count": 88,
   "metadata": {},
   "outputs": [],
   "source": [
    "Vij_p=array([[0.0000000e+00,-1.1726507e+00,-1.4658133e-01,-1.1726507e+00, 9.7780472e-01,-2.2739504e-01,-1.0765007e-01,-8.3063010e-02],\n",
    "[-1.1726507e+00, 0.0000000e+00,-1.1726507e+00,-1.4658133e-01,-8.3063010e-02, 9.7780472e-01,-2.2739504e-01,-1.0765007e-01],\n",
    "[-1.4658133e-01,-1.1726507e+00, 0.0000000e+00,-1.1726507e+00,-6.2583996e-02,-8.3063010e-02, 9.7780472e-01,-2.2739504e-01],\n",
    "[-1.1726507e+00,-1.4658133e-01,-1.1726507e+00, 0.0000000e+00,-2.2739504e-01,-6.2583996e-02,-8.3063010e-02, 9.7780472e-01],\n",
    "[ 9.7780472e-01,-8.3063010e-02,-6.2583996e-02,-2.2739504e-01, 0.0000000e+00,-1.1726507e+00,-1.4658133e-01,-1.1726507e+00],\n",
    "[-2.2739504e-01, 9.7780472e-01,-8.3063010e-02,-6.2583996e-02,-1.1726507e+00, 0.0000000e+00,-1.1726507e+00,-1.4658133e-01],\n",
    "[-1.0765007e-01,-2.2739504e-01, 9.7780472e-01,-8.3063010e-02,-1.4658133e-01,-1.1726507e+00, 0.0000000e+00,-1.1726507e+00],\n",
    "[-8.3063010e-02,-1.0765007e-01,-2.2739504e-01, 9.7780472e-01,-1.1726507e+00,-1.4658133e-01,-1.1726507e+00, 0.0000000e+00]])\n"
   ]
  },
  {
   "cell_type": "code",
   "execution_count": null,
   "metadata": {},
   "outputs": [],
   "source": []
  },
  {
   "cell_type": "code",
   "execution_count": 89,
   "metadata": {},
   "outputs": [],
   "source": [
    "import numpy as np\n",
    "import time\n",
    "#from termcolor import colored\n",
    "from scipy.integrate import solve_ivp\n",
    "from scipy.linalg import norm\n",
    "from numpy import pi as pi\n",
    "import scipy\n",
    "from scipy import sparse\n",
    "import scipy.sparse as sp\n",
    "from scipy.sparse import csr_matrix\n",
    "from numpy.random import choice, normal\n",
    "from numpy import concatenate\n",
    "from scipy.sparse import coo_matrix\n",
    "from scipy.sparse import kron\n",
    "import pandas as pd\n",
    "from mpl_toolkits import mplot3d\n",
    "from numba import jit\n",
    "from scipy.linalg import expm\n",
    "import numbers\n",
    "from numpy import imag, conj, cos, sin\n",
    "from numpy import sqrt, zeros, diag, random, real, array, complex_, transpose, conjugate, exp, matmul, real, dot, add, sum\n",
    "import pandas as pd\n",
    "from numpy import dot\n",
    "from scipy.sparse import bsr_matrix\n",
    "\n",
    "#df=pd.read_csv('Positions_2000.txt') \n",
    "Gamma_r=1    #  \n",
    "\n",
    "t0=time.time()\n",
    "\n",
    "\n",
    "\n",
    "Vij_p=array(pd.read_csv('Vij.csv', header=None))"
   ]
  },
  {
   "cell_type": "raw",
   "metadata": {},
   "source": [
    "\n",
    "Vij_p=array([[0.0000000e+00,  -1.1726507e+00  ,-1.4658133e-01,  -1.1726507e+00 ,  9.7780472e-01,  -2.2739504e-01  ,-1.0765007e-01 , -8.3063010e-02],\n",
    " [-1.1726507e+00,   0.0000000e+00 , -1.1726507e+00,  -1.4658133e-01,  -8.3063010e-02,   9.7780472e-01 , -2.2739504e-01,  -1.0765007e-01],\n",
    " [-1.4658133e-01 , -1.1726507e+00 ,  0.0000000e+00 , -1.1726507e+00 , -6.2583996e-02 , -8.3063010e-02  , 9.7780472e-01,  -2.2739504e-01],\n",
    " [ -1.1726507e+00 , -1.4658133e-01,  -1.1726507e+00 ,  0.0000000e+00,  -2.2739504e-01 , -6.2583996e-02,  -8.3063010e-02,   9.7780472e-01],\n",
    " [  9.7780472e-01 , -8.3063010e-02,  -6.2583996e-02 , -2.2739504e-01,   0.0000000e+00 , -1.1726507e+00,  -1.4658133e-01,  -1.1726507e+00],\n",
    " [ -2.2739504e-01 ,  9.7780472e-01,  -8.3063010e-02 , -6.2583996e-02,  -1.1726507e+00 ,  0.0000000e+00,  -1.1726507e+00,  -1.4658133e-01],\n",
    " [ -1.0765007e-01 , -2.2739504e-01,   9.7780472e-01,  -8.3063010e-02,  -1.4658133e-01 , -1.1726507e+00,   0.0000000e+00,  -1.1726507e+00],\n",
    " [ -8.3063010e-02 , -1.0765007e-01,  -2.2739504e-01,   9.7780472e-01,  -1.1726507e+00 , -1.4658133e-01,  -1.1726507e+00,   0.0000000e+00]])\n"
   ]
  },
  {
   "cell_type": "code",
   "execution_count": 90,
   "metadata": {},
   "outputs": [],
   "source": [
    "Vij_p=array([[0.0000000e+00,-1.1726507e+00,-1.4658133e-01,-1.1726507e+00, 9.7780472e-01,-2.2739504e-01,-1.0765007e-01,-8.3063010e-02],\n",
    "[-1.1726507e+00, 0.0000000e+00,-1.1726507e+00,-1.4658133e-01,-8.3063010e-02, 9.7780472e-01,-2.2739504e-01,-1.0765007e-01],\n",
    "[-1.4658133e-01,-1.1726507e+00, 0.0000000e+00,-1.1726507e+00,-6.2583996e-02,-8.3063010e-02, 9.7780472e-01,-2.2739504e-01],\n",
    "[-1.1726507e+00,-1.4658133e-01,-1.1726507e+00, 0.0000000e+00,-2.2739504e-01,-6.2583996e-02,-8.3063010e-02, 9.7780472e-01],\n",
    "[ 9.7780472e-01,-8.3063010e-02,-6.2583996e-02,-2.2739504e-01, 0.0000000e+00,-1.1726507e+00,-1.4658133e-01,-1.1726507e+00],\n",
    "[-2.2739504e-01, 9.7780472e-01,-8.3063010e-02,-6.2583996e-02,-1.1726507e+00, 0.0000000e+00,-1.1726507e+00,-1.4658133e-01],\n",
    "[-1.0765007e-01,-2.2739504e-01, 9.7780472e-01,-8.3063010e-02,-1.4658133e-01,-1.1726507e+00, 0.0000000e+00,-1.1726507e+00],\n",
    "[-8.3063010e-02,-1.0765007e-01,-2.2739504e-01, 9.7780472e-01,-1.1726507e+00,-1.4658133e-01,-1.1726507e+00, 0.0000000e+00]])\n"
   ]
  },
  {
   "cell_type": "code",
   "execution_count": 91,
   "metadata": {},
   "outputs": [],
   "source": [
    "Vij_p=array(pd.read_csv('Vij_old.csv', header=None))\n",
    "\n",
    "\n",
    "# In[4]:"
   ]
  },
  {
   "cell_type": "code",
   "execution_count": 92,
   "metadata": {},
   "outputs": [],
   "source": [
    "\n",
    "N_atom=Vij_p.shape[0]      #Number of atoms\n",
    "\n",
    "Jf_matrix=(N_atom*Vij_p)\n",
    "\n",
    "#Jf_matrix=(N_atom*Vij_p)**0-np.diag(np.diag(Jf_matrix))"
   ]
  },
  {
   "cell_type": "code",
   "execution_count": 93,
   "metadata": {},
   "outputs": [
    {
     "data": {
      "text/plain": [
       "192"
      ]
     },
     "execution_count": 93,
     "metadata": {},
     "output_type": "execute_result"
    }
   ],
   "source": [
    "N_atom"
   ]
  },
  {
   "cell_type": "code",
   "execution_count": null,
   "metadata": {},
   "outputs": [],
   "source": []
  },
  {
   "cell_type": "code",
   "execution_count": 94,
   "metadata": {},
   "outputs": [
    {
     "data": {
      "image/png": "[encoded data removed]",
      "text/plain": [
       "<Figure size 792x576 with 2 Axes>"
      ]
     },
     "metadata": {
      "needs_background": "light"
     },
     "output_type": "display_data"
    }
   ],
   "source": [
    "import numpy as np\n",
    "import matplotlib.pyplot as plt\n",
    "\n",
    "plt.imshow(Jf_matrix)\n",
    "plt.colorbar()\n",
    "plt.show()"
   ]
  },
  {
   "cell_type": "code",
   "execution_count": 95,
   "metadata": {},
   "outputs": [
    {
     "name": "stdout",
     "output_type": "stream",
     "text": [
      "0.0  %\n",
      "2.5  %\n",
      "5.0  %\n",
      "7.5  %\n",
      "10.0  %\n",
      "12.5  %\n",
      "15.0  %\n",
      "17.5  %\n",
      "20.0  %\n",
      "22.5  %\n",
      "25.0  %\n",
      "27.5  %\n",
      "30.0  %\n",
      "32.5  %\n",
      "35.0  %\n",
      "37.5  %\n",
      "40.0  %\n",
      "42.5  %\n",
      "45.0  %\n",
      "47.5  %\n",
      "50.0  %\n",
      "52.5  %\n",
      "55.0  %\n",
      "57.5  %\n",
      "60.0  %\n",
      "62.5  %\n",
      "65.0  %\n",
      "67.5  %\n",
      "70.0  %\n",
      "72.5  %\n",
      "75.0  %\n",
      "77.5  %\n",
      "80.0  %\n",
      "82.5  %\n",
      "85.0  %\n",
      "87.5  %\n",
      "90.0  %\n",
      "92.5  %\n",
      "95.0  %\n",
      "97.5  %\n"
     ]
    }
   ],
   "source": [
    "def sigma_j_x(j_index,time_in):\n",
    "    \n",
    "    sig_j_x=1\n",
    "    \n",
    "    for k_ in range(N_atom):\n",
    "        \n",
    "        sig_j_x=sig_j_x*cos(2*time_in*Jf_matrix[j_index,k_]/N_atom)\n",
    "        \n",
    "    return sig_j_x\n",
    "        \n",
    "def Sx(time_in):\n",
    "    \n",
    "    Sx=0\n",
    "    \n",
    "    for j_index in range(N_atom):\n",
    "        \n",
    "        Sx=Sx+sigma_j_x(j_index,time_in)\n",
    "        \n",
    "    return Sx/N_atom\n",
    "    \n",
    "    \n",
    "steps_I=80\n",
    "tf=1*np.pi\n",
    "\n",
    "\n",
    "Sx_evol=[]\n",
    "\n",
    "Time_val=np.linspace(0,tf,steps_I)\n",
    "\n",
    "Incre=6\n",
    "\n",
    "\n",
    "Time_val=np.linspace(0,2*0.525*Incre,40)\n",
    "\n",
    "for j in range(len(Time_val)):\n",
    "    \n",
    "    \n",
    "    #print(j*100/steps_I)\n",
    "    \n",
    "    Sx_evol.append(Sx(Time_val[j]))\n",
    "    \n",
    "    print(j*100/len(Time_val),\" %\")\n",
    "    \n",
    "    \n",
    "import matplotlib.pyplot as plt    \n",
    "  "
   ]
  },
  {
   "cell_type": "code",
   "execution_count": 96,
   "metadata": {},
   "outputs": [
    {
     "data": {
      "text/plain": [
       "[<matplotlib.lines.Line2D at 0x206f13fb850>]"
      ]
     },
     "execution_count": 96,
     "metadata": {},
     "output_type": "execute_result"
    },
    {
     "data": {
      "image/png": "[encoded data removed]",
      "text/plain": [
       "<Figure size 792x576 with 1 Axes>"
      ]
     },
     "metadata": {
      "needs_background": "light"
     },
     "output_type": "display_data"
    }
   ],
   "source": [
    "plt.plot(Time_val, Sx_evol)\n",
    "\n",
    "#plt.xscale(\"log\")"
   ]
  },
  {
   "cell_type": "code",
   "execution_count": null,
   "metadata": {},
   "outputs": [],
   "source": []
  },
  {
   "cell_type": "code",
   "execution_count": 97,
   "metadata": {},
   "outputs": [],
   "source": [
    "def two_body_corr(j_,k_,miu,nu,time_in):\n",
    "    \n",
    "    \n",
    "    Covjk_uv=0.25\n",
    "    \n",
    "    for li_ in range(N_atom):\n",
    "        \n",
    "        if li_!=j_ and li_!=k_:\n",
    "            \n",
    "            Covjk_uv=Covjk_uv*cos(2*time_in*(  miu*Jf_matrix[j_,li_]+nu*Jf_matrix[k_,li_]  )/N_atom)\n",
    "    \n",
    "    return Covjk_uv\n"
   ]
  },
  {
   "cell_type": "code",
   "execution_count": 98,
   "metadata": {},
   "outputs": [],
   "source": [
    "def Q1_2_t(time_in):\n",
    "    \n",
    "    Q1t=0\n",
    "    Q2t=0\n",
    "    count=0\n",
    "    \n",
    "    for i_ in range(N_atom):\n",
    "        for j_ in range(i_+1,N_atom):\n",
    "            \n",
    "            Q1t=Q1t+two_body_corr(i_,j_,1,1,time_in)\n",
    "            Q2t=Q2t+two_body_corr(i_,j_,1,-1,time_in)\n",
    "            \n",
    "            count=count+1\n",
    "            \n",
    "        #print((i_*100/N_atom))\n",
    "            \n",
    "    return Q1t,Q2t\n",
    "                \n",
    "def S_cuad(time_in):\n",
    "    Q_t=Q1_2_t(time_in)\n",
    "    \n",
    "    Q1=Q_t[0]\n",
    "    Q2=Q_t[1]\n",
    "    \n",
    "    return N_atom/4+np.real(Q1+Q2),N_atom/4-np.real(Q1-Q2)"
   ]
  },
  {
   "cell_type": "code",
   "execution_count": 99,
   "metadata": {},
   "outputs": [
    {
     "name": "stdout",
     "output_type": "stream",
     "text": [
      "0.0\n",
      "2.5\n",
      "5.0\n",
      "7.5\n",
      "10.0\n",
      "12.5\n",
      "15.0\n",
      "17.5\n",
      "20.0\n",
      "22.5\n",
      "25.0\n",
      "27.5\n",
      "30.0\n",
      "32.5\n",
      "35.0\n",
      "37.5\n",
      "40.0\n",
      "42.5\n",
      "45.0\n",
      "47.5\n",
      "50.0\n",
      "52.5\n",
      "55.0\n",
      "57.5\n",
      "60.0\n",
      "62.5\n",
      "65.0\n",
      "67.5\n",
      "70.0\n",
      "72.5\n",
      "75.0\n",
      "77.5\n",
      "80.0\n",
      "82.5\n",
      "85.0\n",
      "87.5\n",
      "90.0\n",
      "92.5\n",
      "95.0\n",
      "97.5\n"
     ]
    }
   ],
   "source": [
    "\n",
    "Sx_cuadt=[]\n",
    "Sy_cuadt=[]\n",
    "\n",
    "for t_val in range(len(Time_val)):\n",
    "    \n",
    "    S_Xcuad_Ycuad=S_cuad(Time_val[t_val])\n",
    "    \n",
    "    \n",
    "    \n",
    "    Sx_cuadt.append(S_Xcuad_Ycuad[0])\n",
    "    Sy_cuadt.append(S_Xcuad_Ycuad[1])\n",
    "    \n",
    "    print(t_val*100/len(Time_val))\n",
    "    \n",
    "    \n",
    "    "
   ]
  },
  {
   "cell_type": "code",
   "execution_count": null,
   "metadata": {},
   "outputs": [],
   "source": []
  },
  {
   "cell_type": "code",
   "execution_count": 100,
   "metadata": {},
   "outputs": [
    {
     "data": {
      "text/plain": [
       "<matplotlib.legend.Legend at 0x206f3604250>"
      ]
     },
     "execution_count": 100,
     "metadata": {},
     "output_type": "execute_result"
    },
    {
     "data": {
      "image/png": "[encoded data removed]",
      "text/plain": [
       "<Figure size 792x576 with 1 Axes>"
      ]
     },
     "metadata": {
      "needs_background": "light"
     },
     "output_type": "display_data"
    }
   ],
   "source": [
    "plt.title(\"Covariances dynamics, $N=192$\")\n",
    "\n",
    "\n",
    "plt.plot(array(Time_val)*28.85/0.5,Sx_cuadt-(array(Sx_evol)*N_atom/2)**2,label=\"Cov$(\\hat{S}_x^2)$\")\n",
    "plt.plot(array(Time_val)*28.85/0.5,array(Sy_cuadt),label=\"Cov$(\\hat{S}_y^2)$\")\n",
    "\n",
    "plt.legend()\n"
   ]
  },
  {
   "cell_type": "code",
   "execution_count": null,
   "metadata": {},
   "outputs": [],
   "source": []
  },
  {
   "cell_type": "code",
   "execution_count": 101,
   "metadata": {},
   "outputs": [
    {
     "data": {
      "text/plain": [
       "<matplotlib.legend.Legend at 0x206f2091340>"
      ]
     },
     "execution_count": 101,
     "metadata": {},
     "output_type": "execute_result"
    },
    {
     "data": {
      "image/png": "[encoded data removed]",
      "text/plain": [
       "<Figure size 792x576 with 1 Axes>"
      ]
     },
     "metadata": {
      "needs_background": "light"
     },
     "output_type": "display_data"
    }
   ],
   "source": [
    "plt.title(\"Covariances dynamics, $N=192$\")\n",
    "\n",
    "\n",
    "plt.plot(array(Time_val),Sx_cuadt-(array(Sx_evol)*N_atom/2)**2,label=\"Cov$(\\hat{S}_x^2)$\")\n",
    "plt.plot(array(Time_val),array(Sy_cuadt),label=\"Cov$(\\hat{S}_y^2)$\")\n",
    "\n",
    "plt.legend()\n"
   ]
  },
  {
   "cell_type": "code",
   "execution_count": null,
   "metadata": {},
   "outputs": [],
   "source": []
  },
  {
   "cell_type": "code",
   "execution_count": 102,
   "metadata": {},
   "outputs": [
    {
     "data": {
      "text/plain": [
       "[<matplotlib.lines.Line2D at 0x206f215b7c0>]"
      ]
     },
     "execution_count": 102,
     "metadata": {},
     "output_type": "execute_result"
    },
    {
     "data": {
      "image/png": "[encoded data removed]",
      "text/plain": [
       "<Figure size 792x576 with 1 Axes>"
      ]
     },
     "metadata": {
      "needs_background": "light"
     },
     "output_type": "display_data"
    }
   ],
   "source": [
    "plt.plot(Time_val, Sx_evol)\n",
    "\n",
    "#plt.xscale(\"log\")"
   ]
  },
  {
   "cell_type": "markdown",
   "metadata": {},
   "source": [
    "# Exact Covariances Matrices"
   ]
  },
  {
   "cell_type": "code",
   "execution_count": 103,
   "metadata": {},
   "outputs": [
    {
     "ename": "KeyboardInterrupt",
     "evalue": "",
     "output_type": "error",
     "traceback": [
      "\u001b[1;31m---------------------------------------------------------------------------\u001b[0m",
      "\u001b[1;31mKeyboardInterrupt\u001b[0m                         Traceback (most recent call last)",
      "\u001b[1;32m<ipython-input-103-e86071d9ab1c>\u001b[0m in \u001b[0;36m<module>\u001b[1;34m\u001b[0m\n\u001b[0;32m     13\u001b[0m             \u001b[0mCovX_tm\u001b[0m\u001b[1;33m[\u001b[0m\u001b[0mjval\u001b[0m\u001b[1;33m,\u001b[0m\u001b[0mkval\u001b[0m\u001b[1;33m]\u001b[0m\u001b[1;33m=\u001b[0m\u001b[1;36m0.5\u001b[0m\u001b[1;33m*\u001b[0m\u001b[1;33m(\u001b[0m \u001b[0mtwo_body_corr\u001b[0m\u001b[1;33m(\u001b[0m\u001b[0mjval\u001b[0m\u001b[1;33m,\u001b[0m\u001b[0mkval\u001b[0m\u001b[1;33m,\u001b[0m\u001b[1;36m1\u001b[0m\u001b[1;33m,\u001b[0m\u001b[1;36m1\u001b[0m\u001b[1;33m,\u001b[0m\u001b[0mTime_val\u001b[0m\u001b[1;33m[\u001b[0m\u001b[0mj\u001b[0m\u001b[1;33m]\u001b[0m\u001b[1;33m)\u001b[0m\u001b[1;33m+\u001b[0m  \u001b[0mtwo_body_corr\u001b[0m\u001b[1;33m(\u001b[0m\u001b[0mjval\u001b[0m\u001b[1;33m,\u001b[0m\u001b[0mkval\u001b[0m\u001b[1;33m,\u001b[0m\u001b[1;36m1\u001b[0m\u001b[1;33m,\u001b[0m\u001b[1;33m-\u001b[0m\u001b[1;36m1\u001b[0m\u001b[1;33m,\u001b[0m\u001b[0mTime_val\u001b[0m\u001b[1;33m[\u001b[0m\u001b[0mj\u001b[0m\u001b[1;33m]\u001b[0m\u001b[1;33m)\u001b[0m \u001b[1;33m)\u001b[0m\u001b[1;33m\u001b[0m\u001b[1;33m\u001b[0m\u001b[0m\n\u001b[0;32m     14\u001b[0m \u001b[1;33m\u001b[0m\u001b[0m\n\u001b[1;32m---> 15\u001b[1;33m             \u001b[0mCovY_tm\u001b[0m\u001b[1;33m[\u001b[0m\u001b[0mjval\u001b[0m\u001b[1;33m,\u001b[0m\u001b[0mkval\u001b[0m\u001b[1;33m]\u001b[0m\u001b[1;33m=\u001b[0m\u001b[1;36m0.5\u001b[0m\u001b[1;33m*\u001b[0m\u001b[1;33m(\u001b[0m \u001b[1;33m-\u001b[0m\u001b[0mtwo_body_corr\u001b[0m\u001b[1;33m(\u001b[0m\u001b[0mjval\u001b[0m\u001b[1;33m,\u001b[0m\u001b[0mkval\u001b[0m\u001b[1;33m,\u001b[0m\u001b[1;36m1\u001b[0m\u001b[1;33m,\u001b[0m\u001b[1;36m1\u001b[0m\u001b[1;33m,\u001b[0m\u001b[0mTime_val\u001b[0m\u001b[1;33m[\u001b[0m\u001b[0mj\u001b[0m\u001b[1;33m]\u001b[0m\u001b[1;33m)\u001b[0m\u001b[1;33m+\u001b[0m  \u001b[0mtwo_body_corr\u001b[0m\u001b[1;33m(\u001b[0m\u001b[0mjval\u001b[0m\u001b[1;33m,\u001b[0m\u001b[0mkval\u001b[0m\u001b[1;33m,\u001b[0m\u001b[1;36m1\u001b[0m\u001b[1;33m,\u001b[0m\u001b[1;33m-\u001b[0m\u001b[1;36m1\u001b[0m\u001b[1;33m,\u001b[0m\u001b[0mTime_val\u001b[0m\u001b[1;33m[\u001b[0m\u001b[0mj\u001b[0m\u001b[1;33m]\u001b[0m\u001b[1;33m)\u001b[0m \u001b[1;33m)\u001b[0m\u001b[1;33m\u001b[0m\u001b[1;33m\u001b[0m\u001b[0m\n\u001b[0m\u001b[0;32m     16\u001b[0m \u001b[1;33m\u001b[0m\u001b[0m\n\u001b[0;32m     17\u001b[0m     \u001b[0mCov_exact_X_list\u001b[0m\u001b[1;33m.\u001b[0m\u001b[0mappend\u001b[0m\u001b[1;33m(\u001b[0m\u001b[0mCovX_tm\u001b[0m\u001b[1;33m+\u001b[0m\u001b[0mCovX_tm\u001b[0m\u001b[1;33m.\u001b[0m\u001b[0mT\u001b[0m\u001b[1;33m+\u001b[0m\u001b[1;36m0.25\u001b[0m\u001b[1;33m*\u001b[0m\u001b[0mnp\u001b[0m\u001b[1;33m.\u001b[0m\u001b[0midentity\u001b[0m\u001b[1;33m(\u001b[0m\u001b[0mN_atom\u001b[0m\u001b[1;33m)\u001b[0m\u001b[1;33m)\u001b[0m\u001b[1;33m\u001b[0m\u001b[1;33m\u001b[0m\u001b[0m\n",
      "\u001b[1;32m<ipython-input-97-0505459f5004>\u001b[0m in \u001b[0;36mtwo_body_corr\u001b[1;34m(j_, k_, miu, nu, time_in)\u001b[0m\n\u001b[0;32m      8\u001b[0m         \u001b[1;32mif\u001b[0m \u001b[0mli_\u001b[0m\u001b[1;33m!=\u001b[0m\u001b[0mj_\u001b[0m \u001b[1;32mand\u001b[0m \u001b[0mli_\u001b[0m\u001b[1;33m!=\u001b[0m\u001b[0mk_\u001b[0m\u001b[1;33m:\u001b[0m\u001b[1;33m\u001b[0m\u001b[1;33m\u001b[0m\u001b[0m\n\u001b[0;32m      9\u001b[0m \u001b[1;33m\u001b[0m\u001b[0m\n\u001b[1;32m---> 10\u001b[1;33m             \u001b[0mCovjk_uv\u001b[0m\u001b[1;33m=\u001b[0m\u001b[0mCovjk_uv\u001b[0m\u001b[1;33m*\u001b[0m\u001b[0mcos\u001b[0m\u001b[1;33m(\u001b[0m\u001b[1;36m2\u001b[0m\u001b[1;33m*\u001b[0m\u001b[0mtime_in\u001b[0m\u001b[1;33m*\u001b[0m\u001b[1;33m(\u001b[0m  \u001b[0mmiu\u001b[0m\u001b[1;33m*\u001b[0m\u001b[0mJf_matrix\u001b[0m\u001b[1;33m[\u001b[0m\u001b[0mj_\u001b[0m\u001b[1;33m,\u001b[0m\u001b[0mli_\u001b[0m\u001b[1;33m]\u001b[0m\u001b[1;33m+\u001b[0m\u001b[0mnu\u001b[0m\u001b[1;33m*\u001b[0m\u001b[0mJf_matrix\u001b[0m\u001b[1;33m[\u001b[0m\u001b[0mk_\u001b[0m\u001b[1;33m,\u001b[0m\u001b[0mli_\u001b[0m\u001b[1;33m]\u001b[0m  \u001b[1;33m)\u001b[0m\u001b[1;33m/\u001b[0m\u001b[0mN_atom\u001b[0m\u001b[1;33m)\u001b[0m\u001b[1;33m\u001b[0m\u001b[1;33m\u001b[0m\u001b[0m\n\u001b[0m\u001b[0;32m     11\u001b[0m \u001b[1;33m\u001b[0m\u001b[0m\n\u001b[0;32m     12\u001b[0m     \u001b[1;32mreturn\u001b[0m \u001b[0mCovjk_uv\u001b[0m\u001b[1;33m\u001b[0m\u001b[1;33m\u001b[0m\u001b[0m\n",
      "\u001b[1;31mKeyboardInterrupt\u001b[0m: "
     ]
    }
   ],
   "source": [
    "Cov_exact_X_list=[]\n",
    "Cov_exact_Y_list=[]\n",
    "\n",
    "for j in range(len(Time_val)):\n",
    "    \n",
    "    CovX_tm=np.zeros((N_atom,N_atom))\n",
    "    CovY_tm=np.zeros((N_atom,N_atom))\n",
    "    \n",
    "    for jval in range(N_atom):\n",
    "        for kval in range(jval+1,N_atom):\n",
    "            \n",
    "            \n",
    "            CovX_tm[jval,kval]=0.5*( two_body_corr(jval,kval,1,1,Time_val[j])+  two_body_corr(jval,kval,1,-1,Time_val[j]) )\n",
    "            \n",
    "            CovY_tm[jval,kval]=0.5*( -two_body_corr(jval,kval,1,1,Time_val[j])+  two_body_corr(jval,kval,1,-1,Time_val[j]) )\n",
    "    \n",
    "    Cov_exact_X_list.append(CovX_tm+CovX_tm.T+0.25*np.identity(N_atom))\n",
    "    Cov_exact_Y_list.append(CovY_tm+CovY_tm.T+0.25*np.identity(N_atom))\n",
    "    \n",
    "    \n",
    "            \n",
    "    \n",
    "    \n"
   ]
  },
  {
   "cell_type": "code",
   "execution_count": null,
   "metadata": {},
   "outputs": [],
   "source": []
  },
  {
   "cell_type": "code",
   "execution_count": null,
   "metadata": {},
   "outputs": [],
   "source": [
    "CovSumX_Exact=[]\n",
    "CovSumY_Exact=[]\n",
    "\n",
    "for jt_val in range(len(Time_val)):\n",
    "    \n",
    "    \n",
    "    CovSumX_Exact.append( np.sum(Cov_exact_X_list[jt_val]) )\n",
    "    CovSumY_Exact.append( np.sum(Cov_exact_Y_list[jt_val]) )\n",
    "    \n",
    "    "
   ]
  },
  {
   "cell_type": "code",
   "execution_count": null,
   "metadata": {},
   "outputs": [],
   "source": [
    "plt.plot((28.85/0.5)*array(Time_val)*4,CovSumX_Exact-(array(Sx_evol)*N_atom/2)**2)\n",
    "plt.plot((28.85/0.5)*array(Time_val)*4,CovSumY_Exact)"
   ]
  },
  {
   "cell_type": "code",
   "execution_count": null,
   "metadata": {},
   "outputs": [],
   "source": []
  },
  {
   "cell_type": "code",
   "execution_count": null,
   "metadata": {},
   "outputs": [],
   "source": []
  },
  {
   "cell_type": "code",
   "execution_count": null,
   "metadata": {},
   "outputs": [],
   "source": []
  },
  {
   "cell_type": "code",
   "execution_count": null,
   "metadata": {},
   "outputs": [],
   "source": []
  },
  {
   "cell_type": "code",
   "execution_count": null,
   "metadata": {},
   "outputs": [],
   "source": []
  },
  {
   "cell_type": "code",
   "execution_count": null,
   "metadata": {},
   "outputs": [],
   "source": []
  },
  {
   "cell_type": "code",
   "execution_count": null,
   "metadata": {},
   "outputs": [],
   "source": []
  },
  {
   "cell_type": "code",
   "execution_count": null,
   "metadata": {},
   "outputs": [],
   "source": []
  },
  {
   "cell_type": "markdown",
   "metadata": {},
   "source": [
    "# CMFT"
   ]
  },
  {
   "cell_type": "code",
   "execution_count": null,
   "metadata": {},
   "outputs": [],
   "source": []
  },
  {
   "cell_type": "code",
   "execution_count": null,
   "metadata": {},
   "outputs": [],
   "source": []
  },
  {
   "cell_type": "code",
   "execution_count": null,
   "metadata": {},
   "outputs": [],
   "source": []
  },
  {
   "cell_type": "code",
   "execution_count": null,
   "metadata": {},
   "outputs": [],
   "source": []
  },
  {
   "cell_type": "code",
   "execution_count": 104,
   "metadata": {},
   "outputs": [],
   "source": [
    "Atom_cutoff_=5"
   ]
  },
  {
   "cell_type": "code",
   "execution_count": 105,
   "metadata": {},
   "outputs": [],
   "source": [
    "def index_Gij(arr,Atom_cutoff):\n",
    "    \n",
    "    Ordered_N = list(np.argsort(arr)[::-1][:Atom_cutoff])\n",
    "    \n",
    "    return Ordered_N"
   ]
  },
  {
   "cell_type": "code",
   "execution_count": 106,
   "metadata": {},
   "outputs": [],
   "source": [
    "### Cluster method"
   ]
  },
  {
   "cell_type": "code",
   "execution_count": 107,
   "metadata": {},
   "outputs": [],
   "source": [
    "\n",
    "\n",
    "\n",
    "Atom_cutoff=Atom_cutoff_\n",
    "\n",
    "\n",
    "\n",
    "# Provides a list of lists with the arrays that belong to each cluster\n",
    "\n",
    "\n",
    "Index_N=[]\n",
    "\n",
    "Rem_iden=abs(Vij_p)\n",
    "\n",
    "\n",
    "for j in range(Rem_iden.shape[0]):\n",
    "    \n",
    "    test_list = list(Rem_iden[j])\n",
    "    \n",
    "    Index_N.append( [j]+list(index_Gij(test_list,Atom_cutoff-1))  )"
   ]
  },
  {
   "cell_type": "code",
   "execution_count": 108,
   "metadata": {},
   "outputs": [
    {
     "data": {
      "text/plain": [
       "[[0, 1, 7, 32, 160],\n",
       " [1, 0, 2, 33, 161],\n",
       " [2, 1, 3, 162, 34],\n",
       " [3, 2, 4, 163, 35],\n",
       " [4, 3, 5, 36, 164],\n",
       " [5, 4, 6, 37, 165],\n",
       " [6, 5, 7, 38, 166],\n",
       " [7, 0, 6, 39, 167],\n",
       " [8, 9, 15, 40, 168],\n",
       " [9, 10, 8, 169, 41],\n",
       " [10, 9, 11, 170, 42],\n",
       " [11, 12, 10, 43, 171],\n",
       " [12, 13, 11, 44, 172],\n",
       " [13, 12, 14, 45, 173],\n",
       " [14, 13, 15, 46, 174],\n",
       " [15, 8, 14, 175, 47],\n",
       " [16, 23, 17, 48, 176],\n",
       " [17, 18, 16, 177, 49],\n",
       " [18, 19, 17, 50, 178],\n",
       " [19, 18, 20, 179, 51],\n",
       " [20, 19, 21, 180, 52],\n",
       " [21, 22, 20, 181, 53],\n",
       " [22, 23, 21, 182, 54],\n",
       " [23, 16, 22, 183, 55],\n",
       " [24, 25, 31, 184, 56],\n",
       " [25, 24, 26, 57, 185],\n",
       " [26, 27, 25, 58, 186],\n",
       " [27, 28, 26, 187, 59],\n",
       " [28, 29, 27, 188, 60],\n",
       " [29, 28, 30, 189, 61],\n",
       " [30, 31, 29, 190, 62],\n",
       " [31, 24, 30, 191, 63],\n",
       " [32, 33, 39, 64, 0],\n",
       " [33, 32, 34, 1, 65],\n",
       " [34, 33, 35, 2, 66],\n",
       " [35, 36, 34, 3, 67],\n",
       " [36, 35, 37, 4, 68],\n",
       " [37, 38, 36, 5, 69],\n",
       " [38, 39, 37, 6, 70],\n",
       " [39, 38, 32, 7, 71],\n",
       " [40, 41, 47, 8, 72],\n",
       " [41, 40, 42, 9, 73],\n",
       " [42, 43, 41, 10, 74],\n",
       " [43, 42, 44, 75, 11],\n",
       " [44, 43, 45, 76, 12],\n",
       " [45, 44, 46, 77, 13],\n",
       " [46, 45, 47, 14, 78],\n",
       " [47, 46, 40, 79, 15],\n",
       " [48, 55, 49, 16, 80],\n",
       " [49, 48, 50, 81, 17],\n",
       " [50, 51, 49, 18, 82],\n",
       " [51, 50, 52, 19, 83],\n",
       " [52, 53, 51, 20, 84],\n",
       " [53, 54, 52, 85, 21],\n",
       " [54, 53, 55, 86, 22],\n",
       " [55, 48, 54, 23, 87],\n",
       " [56, 57, 63, 88, 24],\n",
       " [57, 56, 58, 89, 25],\n",
       " [58, 59, 57, 26, 90],\n",
       " [59, 58, 60, 91, 27],\n",
       " [60, 61, 59, 92, 28],\n",
       " [61, 60, 62, 29, 93],\n",
       " [62, 61, 63, 30, 94],\n",
       " [63, 56, 62, 95, 31],\n",
       " [64, 65, 71, 32, 96],\n",
       " [65, 64, 66, 97, 33],\n",
       " [66, 67, 65, 98, 34],\n",
       " [67, 68, 66, 35, 99],\n",
       " [68, 69, 67, 36, 100],\n",
       " [69, 68, 70, 101, 37],\n",
       " [70, 71, 69, 38, 102],\n",
       " [71, 64, 70, 103, 39],\n",
       " [72, 79, 73, 40, 104],\n",
       " [73, 72, 74, 41, 105],\n",
       " [74, 75, 73, 106, 42],\n",
       " [75, 76, 74, 43, 107],\n",
       " [76, 75, 77, 44, 108],\n",
       " [77, 78, 76, 45, 109],\n",
       " [78, 79, 77, 110, 46],\n",
       " [79, 78, 72, 47, 111],\n",
       " [80, 81, 87, 48, 112],\n",
       " [81, 80, 82, 113, 49],\n",
       " [82, 81, 83, 114, 50],\n",
       " [83, 82, 84, 51, 115],\n",
       " [84, 85, 83, 52, 116],\n",
       " [85, 84, 86, 53, 117],\n",
       " [86, 87, 85, 54, 118],\n",
       " [87, 80, 86, 55, 119],\n",
       " [88, 95, 89, 56, 120],\n",
       " [89, 90, 88, 121, 57],\n",
       " [90, 91, 89, 122, 58],\n",
       " [91, 90, 92, 123, 59],\n",
       " [92, 91, 93, 60, 124],\n",
       " [93, 92, 94, 125, 61],\n",
       " [94, 95, 93, 62, 126],\n",
       " [95, 88, 94, 127, 63],\n",
       " [96, 97, 103, 128, 64],\n",
       " [97, 98, 96, 65, 129],\n",
       " [98, 97, 99, 66, 130],\n",
       " [99, 98, 100, 67, 131],\n",
       " [100, 99, 101, 132, 68],\n",
       " [101, 100, 102, 133, 69],\n",
       " [102, 101, 103, 134, 70],\n",
       " [103, 96, 102, 71, 135],\n",
       " [104, 111, 105, 72, 136],\n",
       " [105, 106, 104, 73, 137],\n",
       " [106, 107, 105, 74, 138],\n",
       " [107, 106, 108, 75, 139],\n",
       " [108, 109, 107, 140, 76],\n",
       " [109, 108, 110, 141, 77],\n",
       " [110, 109, 111, 142, 78],\n",
       " [111, 104, 110, 79, 143],\n",
       " [112, 119, 113, 144, 80],\n",
       " [113, 112, 114, 81, 145],\n",
       " [114, 115, 113, 82, 146],\n",
       " [115, 116, 114, 147, 83],\n",
       " [116, 117, 115, 148, 84],\n",
       " [117, 118, 116, 149, 85],\n",
       " [118, 117, 119, 86, 150],\n",
       " [119, 112, 118, 87, 151],\n",
       " [120, 121, 127, 152, 88],\n",
       " [121, 120, 122, 153, 89],\n",
       " [122, 123, 121, 90, 154],\n",
       " [123, 122, 124, 155, 91],\n",
       " [124, 125, 123, 156, 92],\n",
       " [125, 126, 124, 93, 157],\n",
       " [126, 127, 125, 158, 94],\n",
       " [127, 120, 126, 95, 159],\n",
       " [128, 135, 129, 96, 160],\n",
       " [129, 130, 128, 161, 97],\n",
       " [130, 131, 129, 162, 98],\n",
       " [131, 132, 130, 163, 99],\n",
       " [132, 131, 133, 100, 164],\n",
       " [133, 132, 134, 101, 165],\n",
       " [134, 135, 133, 166, 102],\n",
       " [135, 134, 128, 167, 103],\n",
       " [136, 143, 137, 104, 168],\n",
       " [137, 136, 138, 169, 105],\n",
       " [138, 139, 137, 106, 170],\n",
       " [139, 138, 140, 107, 171],\n",
       " [140, 141, 139, 108, 172],\n",
       " [141, 140, 142, 109, 173],\n",
       " [142, 143, 141, 110, 174],\n",
       " [143, 142, 136, 175, 111],\n",
       " [144, 145, 151, 112, 176],\n",
       " [145, 144, 146, 177, 113],\n",
       " [146, 147, 145, 178, 114],\n",
       " [147, 146, 148, 115, 179],\n",
       " [148, 149, 147, 116, 180],\n",
       " [149, 150, 148, 181, 117],\n",
       " [150, 151, 149, 182, 118],\n",
       " [151, 144, 150, 119, 183],\n",
       " [152, 159, 153, 120, 184],\n",
       " [153, 154, 152, 121, 185],\n",
       " [154, 155, 153, 122, 186],\n",
       " [155, 156, 154, 187, 123],\n",
       " [156, 155, 157, 188, 124],\n",
       " [157, 158, 156, 189, 125],\n",
       " [158, 159, 157, 190, 126],\n",
       " [159, 158, 152, 191, 127],\n",
       " [160, 161, 167, 0, 128],\n",
       " [161, 162, 160, 129, 1],\n",
       " [162, 161, 163, 2, 130],\n",
       " [163, 162, 164, 131, 3],\n",
       " [164, 165, 163, 4, 132],\n",
       " [165, 164, 166, 133, 5],\n",
       " [166, 165, 167, 6, 134],\n",
       " [167, 166, 160, 7, 135],\n",
       " [168, 175, 169, 8, 136],\n",
       " [169, 168, 170, 9, 137],\n",
       " [170, 171, 169, 138, 10],\n",
       " [171, 170, 172, 11, 139],\n",
       " [172, 173, 171, 12, 140],\n",
       " [173, 172, 174, 13, 141],\n",
       " [174, 173, 175, 14, 142],\n",
       " [175, 174, 168, 15, 143],\n",
       " [176, 183, 177, 144, 16],\n",
       " [177, 178, 176, 17, 145],\n",
       " [178, 179, 177, 18, 146],\n",
       " [179, 178, 180, 147, 19],\n",
       " [180, 179, 181, 20, 148],\n",
       " [181, 180, 182, 149, 21],\n",
       " [182, 183, 181, 22, 150],\n",
       " [183, 182, 176, 151, 23],\n",
       " [184, 191, 185, 24, 152],\n",
       " [185, 186, 184, 153, 25],\n",
       " [186, 187, 185, 26, 154],\n",
       " [187, 188, 186, 155, 27],\n",
       " [188, 189, 187, 156, 28],\n",
       " [189, 188, 190, 29, 157],\n",
       " [190, 191, 189, 30, 158],\n",
       " [191, 190, 184, 159, 31]]"
      ]
     },
     "execution_count": 108,
     "metadata": {},
     "output_type": "execute_result"
    }
   ],
   "source": [
    "Index_N"
   ]
  },
  {
   "cell_type": "code",
   "execution_count": null,
   "metadata": {},
   "outputs": [],
   "source": []
  },
  {
   "cell_type": "code",
   "execution_count": 109,
   "metadata": {},
   "outputs": [],
   "source": [
    "Connected_Spin=np.zeros((N_atom,N_atom))\n",
    "\n",
    "for j in range(N_atom):\n",
    "    \n",
    "    IndexJ=Index_N[j]\n",
    "    for k in range(Atom_cutoff):\n",
    "        Connected_Spin[j,Index_N[j][k]]=1\n",
    "        \n",
    "        "
   ]
  },
  {
   "cell_type": "code",
   "execution_count": 110,
   "metadata": {},
   "outputs": [
    {
     "data": {
      "text/plain": [
       "array([[1., 1., 0., ..., 0., 0., 0.],\n",
       "       [1., 1., 1., ..., 0., 0., 0.],\n",
       "       [0., 1., 1., ..., 0., 0., 0.],\n",
       "       ...,\n",
       "       [0., 0., 0., ..., 1., 1., 0.],\n",
       "       [0., 0., 0., ..., 1., 1., 1.],\n",
       "       [0., 0., 0., ..., 0., 1., 1.]])"
      ]
     },
     "execution_count": 110,
     "metadata": {},
     "output_type": "execute_result"
    }
   ],
   "source": [
    "Connected_Spin"
   ]
  },
  {
   "cell_type": "code",
   "execution_count": null,
   "metadata": {},
   "outputs": [],
   "source": []
  },
  {
   "cell_type": "code",
   "execution_count": null,
   "metadata": {},
   "outputs": [],
   "source": []
  },
  {
   "cell_type": "code",
   "execution_count": null,
   "metadata": {},
   "outputs": [],
   "source": []
  },
  {
   "cell_type": "code",
   "execution_count": 111,
   "metadata": {},
   "outputs": [
    {
     "data": {
      "text/plain": [
       "'Vij_ordered=np.zeros((N_atom,N_atom))\\n\\nfor ival in range(N_atom):\\n    for jval in range(1,N_atom):\\n        print(ival,jval)\\n        Index_ival=Index_N[ival]\\n        \\n        Vij_ordered[ival,jval-1]=Vij_p[ival,Index_ival[jval]]\\n        \\n'"
      ]
     },
     "execution_count": 111,
     "metadata": {},
     "output_type": "execute_result"
    }
   ],
   "source": [
    "\"\"\"Vij_ordered=np.zeros((N_atom,N_atom))\n",
    "\n",
    "for ival in range(N_atom):\n",
    "    for jval in range(1,N_atom):\n",
    "        print(ival,jval)\n",
    "        Index_ival=Index_N[ival]\n",
    "        \n",
    "        Vij_ordered[ival,jval-1]=Vij_p[ival,Index_ival[jval]]\n",
    "        \n",
    "\"\"\"        \n",
    "        \n"
   ]
  },
  {
   "cell_type": "code",
   "execution_count": 112,
   "metadata": {},
   "outputs": [],
   "source": [
    "#Mean_rowV=np.mean(Vij_ordered,axis=0)"
   ]
  },
  {
   "cell_type": "code",
   "execution_count": 113,
   "metadata": {},
   "outputs": [],
   "source": [
    "#Std_rowV=np.std(Vij_ordered,axis=0)"
   ]
  },
  {
   "cell_type": "code",
   "execution_count": null,
   "metadata": {},
   "outputs": [],
   "source": []
  },
  {
   "cell_type": "code",
   "execution_count": 114,
   "metadata": {},
   "outputs": [],
   "source": [
    "Array_Ind_MF=np.zeros((N_atom,N_atom))\n",
    "\n",
    "for j in range(N_atom):\n",
    "    for k in range(Atom_cutoff):\n",
    "        \n",
    "        Index_j=Index_N[j]\n",
    "        \n",
    "        Array_Ind_MF[j,Index_j[k]]=1\n",
    "\n",
    "Array_Ind_MF=1-Array_Ind_MF        "
   ]
  },
  {
   "cell_type": "code",
   "execution_count": 115,
   "metadata": {},
   "outputs": [],
   "source": [
    "SumVi=np.sum(Array_Ind_MF*Vij_p)/N_atom"
   ]
  },
  {
   "cell_type": "code",
   "execution_count": 116,
   "metadata": {},
   "outputs": [
    {
     "data": {
      "text/plain": [
       "array([[0., 0., 1., ..., 1., 1., 1.],\n",
       "       [0., 0., 0., ..., 1., 1., 1.],\n",
       "       [1., 0., 0., ..., 1., 1., 1.],\n",
       "       ...,\n",
       "       [1., 1., 1., ..., 0., 0., 1.],\n",
       "       [1., 1., 1., ..., 0., 0., 0.],\n",
       "       [1., 1., 1., ..., 1., 0., 0.]])"
      ]
     },
     "execution_count": 116,
     "metadata": {},
     "output_type": "execute_result"
    }
   ],
   "source": [
    "Array_Ind_MF"
   ]
  },
  {
   "cell_type": "code",
   "execution_count": null,
   "metadata": {},
   "outputs": [],
   "source": []
  },
  {
   "cell_type": "code",
   "execution_count": 117,
   "metadata": {},
   "outputs": [],
   "source": [
    "B_Q= 0\n",
    "    \n"
   ]
  },
  {
   "cell_type": "code",
   "execution_count": 118,
   "metadata": {},
   "outputs": [],
   "source": [
    "import numpy as np\n",
    "import pandas as pd\n",
    "\n",
    "df0 = pd.read_csv('temps_avg0++.txt', delimiter='\\t',header=None)\n",
    "df1 = pd.read_csv('temps_avg1++.txt', delimiter='\\t',header=None)\n",
    "df2 = pd.read_csv('temps_avg2++.txt', delimiter='\\t',header=None)\n",
    "df3 = pd.read_csv('temps_avg3++.txt', delimiter='\\t',header=None)\n",
    "\n",
    "Datamz0=array(df0)\n",
    "Datamz1=array(df1)\n",
    "Datamz2=array(df2)\n",
    "Datamz3=array(df3)\n",
    "\n",
    "Time_Exp=Datamz0[:,0]\n",
    "\n",
    "Popul0=Datamz0[:,1]\n",
    "Popul1=Datamz1[:,1]\n",
    "Popul2=Datamz2[:,1]\n",
    "Popul3=Datamz3[:,1]\n",
    "\n",
    "Populations_Exp=np.array([Popul0,Popul1,Popul2,Popul3])\n",
    "\n",
    "\n",
    "StandEr0=Datamz0[:,2]\n",
    "StandEr1=Datamz1[:,2]\n",
    "StandEr2=Datamz2[:,2]\n",
    "StandEr3=Datamz3[:,2]\n",
    "\n",
    "Var_Exp=np.array([StandEr0,StandEr1,StandEr2,StandEr3])**2\n",
    "\n",
    "\n",
    "\n",
    "\n",
    "N_atom=Vij_p.shape[0]\n",
    "S_spin=1/2   #determine the number of Zeeman levels (2S+1)\n",
    "Levels=int(2*S_spin+1)\n",
    "#Atom_cutoff=1\n",
    "\n",
    "\n",
    "# In[6]:\n",
    "\n",
    "\n",
    "Vij=(Vij_p-np.diag(np.diag(Vij_p)))\n",
    "\n",
    "\n",
    "# In[7]:\n",
    "\n",
    "\n",
    "VijN=np.zeros((N_atom,N_atom))\n",
    "\n",
    "for j in range(N_atom):\n",
    "\n",
    "    VijN[j]=Vij[j][:N_atom]\n",
    "\n",
    "\n",
    "\n",
    "\n",
    "# In[8]:\n",
    "\n",
    "\n",
    "\n",
    "\n",
    "Vij=VijN"
   ]
  },
  {
   "cell_type": "code",
   "execution_count": null,
   "metadata": {},
   "outputs": [],
   "source": []
  },
  {
   "cell_type": "code",
   "execution_count": 119,
   "metadata": {},
   "outputs": [],
   "source": [
    "def index_Gij(arr,Atom_cutoff):\n",
    "\n",
    "    Ordered_N = list(np.argsort(arr)[::-1][:Atom_cutoff])\n",
    "\n",
    "    return Ordered_N\n",
    "\n",
    "\n",
    "Index_N=[]\n",
    "\n",
    "Rem_iden=abs(Vij)\n",
    "\n",
    "\n",
    "for j in range(Rem_iden.shape[0]):\n",
    "\n",
    "    test_list = list(Rem_iden[j])\n",
    "\n",
    "    Index_N.append( [j]+list(index_Gij(test_list,Atom_cutoff-1))  )\n",
    "\n",
    "\n",
    "Val=-np.linspace(-S_spin,S_spin,int(2*S_spin+1))\n",
    "\n",
    "\n",
    "Coord=np.linspace(0,2*S_spin,int(2*S_spin+1))\n",
    "\n",
    "Sz_sp=sparse.coo_matrix((Val,(Coord,Coord)),shape=(int(2*S_spin+1),int(2*S_spin+1)),dtype=\"complex\") \n",
    "\n",
    "\n",
    "Val=[]\n",
    "\n",
    "\n",
    "for j in range(1,int(2*S_spin)+1):\n",
    "\n",
    "    Val.append(sqrt((S_spin)*(S_spin+1)-(S_spin-j)*(S_spin+1-j)))\n",
    "\n",
    "\n",
    "Coord=np.linspace(0,int(2*S_spin)-1,int(2*S_spin))    \n",
    "Splu_sp=(sparse.coo_matrix((Val,(Coord,Coord+1)),shape=(int(2*S_spin)+1,int(2*S_spin)+1),dtype=\"complex\")) \n",
    "\n",
    "Sx_sp=(Splu_sp+Splu_sp.T)/2\n",
    "Sy_sp=(Splu_sp-Splu_sp.T)/(2j)\n",
    "\n",
    "\n",
    "#Initial state |S,-S>\n",
    "Init_st=(sparse.coo_matrix(([1],([Levels-1],[0])),shape=(int(2*S_spin)+1,1),dtype=\"complex\")) "
   ]
  },
  {
   "cell_type": "code",
   "execution_count": null,
   "metadata": {},
   "outputs": [],
   "source": []
  },
  {
   "cell_type": "code",
   "execution_count": null,
   "metadata": {},
   "outputs": [],
   "source": []
  },
  {
   "cell_type": "code",
   "execution_count": 120,
   "metadata": {},
   "outputs": [],
   "source": [
    "#Rotated initial state\n",
    "\n",
    "theta_=-np.pi/2\n",
    "\n",
    "Init_st_rot=(expm(scipy.sparse.csc_matrix(-1j*(theta_)*Sy_sp))@Init_st)\n",
    "\n",
    "\n",
    "#Init_st_rot.toarray()\n",
    "\n",
    "\n",
    "# In[237]:\n",
    "\n",
    "\n",
    "Id_Spin=scipy.sparse.identity(Levels, dtype='complex')\n",
    "\n",
    "Zero_Spin=0*Id_Spin"
   ]
  },
  {
   "cell_type": "code",
   "execution_count": null,
   "metadata": {},
   "outputs": [],
   "source": []
  },
  {
   "cell_type": "code",
   "execution_count": 121,
   "metadata": {},
   "outputs": [
    {
     "data": {
      "text/plain": [
       "matrix([[0.70710678+0.j],\n",
       "        [0.70710678+0.j]])"
      ]
     },
     "execution_count": 121,
     "metadata": {},
     "output_type": "execute_result"
    }
   ],
   "source": [
    "Init_st_rot.todense()"
   ]
  },
  {
   "cell_type": "code",
   "execution_count": null,
   "metadata": {},
   "outputs": [],
   "source": []
  },
  {
   "cell_type": "code",
   "execution_count": null,
   "metadata": {},
   "outputs": [],
   "source": []
  },
  {
   "cell_type": "code",
   "execution_count": 122,
   "metadata": {},
   "outputs": [],
   "source": [
    "\n",
    "\n",
    "def Zeeman_Popul(m_s):\n",
    "\n",
    "    return sparse.coo_matrix(([1],([S_spin-m_s],[S_spin-m_s])),shape=(Levels,Levels),dtype=\"complex\")\n",
    "\n",
    "## Checked until here\n",
    "\n",
    "\n",
    "\n",
    "Init_Total_rot=Init_st_rot\n",
    "\n",
    "\n",
    "\n",
    "\n",
    "for j in range(Atom_cutoff-1):\n",
    "\n",
    "    Init_Total_rot=kron(Init_Total_rot,Init_st_rot)\n",
    "\n",
    "\n",
    "# In[238]:"
   ]
  },
  {
   "cell_type": "code",
   "execution_count": null,
   "metadata": {},
   "outputs": [],
   "source": []
  },
  {
   "cell_type": "code",
   "execution_count": 123,
   "metadata": {},
   "outputs": [
    {
     "name": "stdout",
     "output_type": "stream",
     "text": [
      "0.333889816360601 %\n",
      "0.8347245409015025 %\n",
      "1.335559265442404 %\n",
      "1.8363939899833055 %\n",
      "2.337228714524207 %\n",
      "2.8380634390651087 %\n",
      "3.33889816360601 %\n",
      "3.8397328881469117 %\n",
      "4.340567612687813 %\n",
      "4.841402337228715 %\n",
      "5.342237061769616 %\n",
      "5.843071786310517 %\n",
      "6.343906510851419 %\n",
      "6.844741235392321 %\n",
      "7.345575959933222 %\n",
      "7.846410684474123 %\n",
      "8.347245409015025 %\n",
      "8.848080133555927 %\n",
      "9.348914858096828 %\n",
      "9.84974958263773 %\n",
      "10.35058430717863 %\n",
      "10.851419031719532 %\n",
      "11.352253756260435 %\n",
      "11.853088480801336 %\n",
      "12.353923205342237 %\n",
      "12.854757929883139 %\n",
      "13.35559265442404 %\n",
      "13.856427378964941 %\n",
      "14.357262103505843 %\n",
      "14.858096828046744 %\n",
      "15.358931552587647 %\n",
      "15.859766277128548 %\n",
      "16.360601001669448 %\n",
      "16.86143572621035 %\n",
      "17.362270450751254 %\n",
      "17.863105175292155 %\n",
      "18.363939899833056 %\n",
      "18.864774624373958 %\n",
      "19.36560934891486 %\n",
      "19.86644407345576 %\n",
      "20.36727879799666 %\n",
      "20.868113522537563 %\n",
      "21.368948247078464 %\n",
      "21.869782971619365 %\n",
      "22.370617696160267 %\n",
      "22.871452420701168 %\n",
      "23.37228714524207 %\n",
      "23.87312186978297 %\n",
      "24.37395659432387 %\n",
      "24.874791318864773 %\n",
      "25.375626043405678 %\n",
      "25.87646076794658 %\n",
      "26.37729549248748 %\n",
      "26.87813021702838 %\n",
      "27.378964941569283 %\n",
      "27.879799666110184 %\n",
      "28.380634390651085 %\n",
      "28.881469115191987 %\n",
      "29.382303839732888 %\n",
      "29.88313856427379 %\n",
      "30.38397328881469 %\n",
      "30.884808013355592 %\n",
      "31.385642737896493 %\n",
      "31.886477462437394 %\n",
      "32.3873121869783 %\n",
      "32.8881469115192 %\n",
      "33.3889816360601 %\n",
      "33.889816360601 %\n",
      "34.390651085141904 %\n",
      "34.891485809682806 %\n",
      "35.39232053422371 %\n",
      "35.89315525876461 %\n",
      "36.39398998330551 %\n",
      "36.89482470784641 %\n",
      "37.39565943238731 %\n",
      "37.89649415692821 %\n",
      "38.397328881469114 %\n",
      "38.898163606010016 %\n",
      "39.39899833055092 %\n",
      "39.89983305509182 %\n",
      "40.40066777963272 %\n",
      "40.90150250417362 %\n",
      "41.40233722871452 %\n",
      "41.90317195325542 %\n",
      "42.404006677796325 %\n",
      "42.904841402337226 %\n",
      "43.40567612687813 %\n",
      "43.90651085141903 %\n",
      "44.40734557595993 %\n",
      "44.90818030050084 %\n",
      "45.40901502504174 %\n",
      "45.90984974958264 %\n",
      "46.41068447412354 %\n",
      "46.91151919866444 %\n",
      "47.412353923205345 %\n",
      "47.913188647746246 %\n",
      "48.41402337228715 %\n",
      "48.91485809682805 %\n",
      "49.41569282136895 %\n",
      "49.91652754590985 %\n",
      "50.41736227045075 %\n",
      "50.91819699499165 %\n",
      "51.419031719532555 %\n",
      "51.919866444073456 %\n",
      "52.42070116861436 %\n",
      "52.92153589315526 %\n",
      "53.42237061769616 %\n",
      "53.92320534223706 %\n",
      "54.42404006677796 %\n",
      "54.924874791318864 %\n",
      "55.425709515859765 %\n",
      "55.926544240400666 %\n",
      "56.42737896494157 %\n",
      "56.92821368948247 %\n",
      "57.42904841402337 %\n",
      "57.92988313856427 %\n",
      "58.43071786310517 %\n",
      "58.931552587646074 %\n",
      "59.432387312186975 %\n",
      "59.93322203672788 %\n",
      "60.43405676126878 %\n",
      "60.934891485809686 %\n",
      "61.43572621035059 %\n",
      "61.93656093489149 %\n",
      "62.43739565943239 %\n",
      "62.93823038397329 %\n",
      "63.43906510851419 %\n",
      "63.939899833055094 %\n",
      "64.44073455759599 %\n",
      "64.9415692821369 %\n",
      "65.44240400667779 %\n",
      "65.9432387312187 %\n",
      "66.4440734557596 %\n",
      "66.9449081803005 %\n",
      "67.4457429048414 %\n",
      "67.9465776293823 %\n",
      "68.44741235392321 %\n",
      "68.9482470784641 %\n",
      "69.44908180300501 %\n",
      "69.94991652754591 %\n",
      "70.45075125208682 %\n",
      "70.95158597662771 %\n",
      "71.45242070116862 %\n",
      "71.95325542570951 %\n",
      "72.45409015025042 %\n",
      "72.95492487479132 %\n",
      "73.45575959933223 %\n",
      "73.95659432387312 %\n",
      "74.45742904841403 %\n",
      "74.95826377295492 %\n",
      "75.45909849749583 %\n",
      "75.95993322203672 %\n",
      "76.46076794657763 %\n",
      "76.96160267111853 %\n",
      "77.46243739565944 %\n",
      "77.96327212020033 %\n",
      "78.46410684474124 %\n",
      "78.96494156928213 %\n",
      "79.46577629382304 %\n",
      "79.96661101836393 %\n",
      "80.46744574290484 %\n",
      "80.96828046744574 %\n",
      "81.46911519198665 %\n",
      "81.96994991652754 %\n",
      "82.47078464106845 %\n",
      "82.97161936560934 %\n",
      "83.47245409015025 %\n",
      "83.97328881469114 %\n",
      "84.47412353923205 %\n",
      "84.97495826377296 %\n",
      "85.47579298831386 %\n",
      "85.97662771285476 %\n",
      "86.47746243739566 %\n",
      "86.97829716193657 %\n",
      "87.47913188647746 %\n",
      "87.97996661101837 %\n",
      "88.48080133555926 %\n",
      "88.98163606010017 %\n",
      "89.48247078464107 %\n",
      "89.98330550918197 %\n",
      "90.48414023372287 %\n",
      "90.98497495826378 %\n",
      "91.48580968280467 %\n",
      "91.98664440734558 %\n",
      "92.48747913188647 %\n",
      "92.98831385642738 %\n",
      "93.48914858096828 %\n",
      "93.98998330550918 %\n",
      "94.49081803005008 %\n",
      "94.99165275459099 %\n",
      "95.49248747913188 %\n",
      "95.99332220367279 %\n",
      "96.49415692821368 %\n",
      "96.99499165275459 %\n",
      "97.49582637729549 %\n",
      "97.9966611018364 %\n",
      "98.49749582637729 %\n",
      "98.9983305509182 %\n",
      "99.49916527545909 %\n"
     ]
    }
   ],
   "source": [
    "\n",
    "Init_Total_rot=coo_matrix(Init_Total_rot)  #Initial state wavefunction\n",
    "\n",
    "\n",
    "Iden_Tensor=coo_matrix(identity((Levels)**Atom_cutoff, dtype='complex'))\n",
    "Zero_Tensor=0*Iden_Tensor\n",
    "\n",
    "import functools as ft\n",
    "from functools import reduce\n",
    "\n",
    "lst = Atom_cutoff*[Id_Spin]\n",
    "XX = reduce(kron, lst)\n",
    "\n",
    "def A_i_tensor(A_op,i_index):\n",
    "\n",
    "    Array_id=Atom_cutoff*[Id_Spin] \n",
    "\n",
    "    Array_id[i_index]=A_op\n",
    "\n",
    "    return reduce(kron, Array_id)\n",
    "\n",
    "\n",
    "def tensor_kjXYZ2( k , j):   #tensor among k,j are Positions in the cluster after the G classification\n",
    "                         #k is +sigma and j is -sigma\n",
    "\n",
    "    Array_idX   = Atom_cutoff*[Id_Spin]   \n",
    "    Array_idX[k]= Sx_sp\n",
    "    Array_idX[j]= Sx_sp\n",
    "\n",
    "    Array_idY   = Atom_cutoff*[Id_Spin]\n",
    "    Array_idY[k]= Sy_sp\n",
    "    Array_idY[j]= Sy_sp\n",
    "\n",
    "    Array_idZ   = Atom_cutoff*[Id_Spin]\n",
    "    Array_idZ[k]= Sz_sp\n",
    "    Array_idZ[j]= Sz_sp\n",
    "\n",
    "    return reduce(kron, Array_idX),reduce(kron, Array_idY),reduce(kron, Array_idZ) \n",
    "\n",
    "def tensor_termIntact( k , j):   #tensor among k,j are Positions in the cluster after the G classification\n",
    "                         #k is +sigma and j is -sigma\n",
    "\n",
    "    Array_idX   = Atom_cutoff*[Id_Spin]   \n",
    "    Array_idX[k]= Sx_sp\n",
    "    Array_idX[j]= Sx_sp\n",
    "\n",
    "    Array_idY   = Atom_cutoff*[Id_Spin]\n",
    "    Array_idY[k]= Sy_sp\n",
    "    Array_idY[j]= Sy_sp\n",
    "\n",
    "    Array_idZ   = Atom_cutoff*[Id_Spin]\n",
    "    Array_idZ[k]= Sz_sp\n",
    "    Array_idZ[j]= Sz_sp\n",
    "\n",
    "    return reduce(kron, Array_idZ) \n",
    "\n",
    "def tensor_kjXX( k , j):   #tensor among k,j are Positions in the cluster after the G classification\n",
    "                         #k is +sigma and j is -sigma \n",
    "    Array_id=Atom_cutoff*[Id_Spin]  \n",
    "\n",
    "    Array_id[k]=Sx_sp\n",
    "    Array_id[j]=Sx_sp\n",
    "\n",
    "    return reduce(kron, Array_id)\n",
    "\n",
    "\n",
    "\n",
    "def tensor_kjYY( k , j):   #tensor among k,j are Positions in the cluster after the G classification\n",
    "                         #k is +sigma and j is -sigma \n",
    "    Array_id=Atom_cutoff*[Id_Spin]  \n",
    "\n",
    "    Array_id[k]=Sy_sp\n",
    "    Array_id[j]=Sy_sp\n",
    "\n",
    "    return reduce(kron, Array_id)\n",
    "\n",
    "\n",
    "\n",
    "def tensor_kjZZ( k , j):   #tensor among k,j are Positions in the cluster after the G classification\n",
    "                         #k is +sigma and j is -sigma \n",
    "    Array_id=Atom_cutoff*[Id_Spin]  \n",
    "\n",
    "    Array_id[k]=Sz_sp\n",
    "    Array_id[j]=Sz_sp\n",
    "\n",
    "    return reduce(kron, Array_id)\n",
    "\n",
    "\n",
    "\n",
    "\n",
    "def tensor_kjXX( k , j):   #tensor among k,j are Positions in the cluster after the G classification\n",
    "                         #k is +sigma and j is -sigma \n",
    "    Array_id=Atom_cutoff*[Id_Spin]  \n",
    "\n",
    "    Array_id[k]=Sx_sp\n",
    "    Array_id[j]=Sx_sp\n",
    "\n",
    "    return reduce(kron, Array_id)\n",
    "\n",
    "\n",
    "\n",
    "\n",
    "\n",
    "\n",
    "\n",
    "\n",
    "\n",
    "\n",
    "\n",
    "Array_idZZ=Atom_cutoff*[Id_Spin]\n",
    "Array_idXX=Atom_cutoff*[Id_Spin]\n",
    "Array_idYY=Atom_cutoff*[Id_Spin]\n",
    "\n",
    "\n",
    "OperZiZj=[]\n",
    "Sz_cuad=Sz_sp@Sz_sp\n",
    "Array_idZZ[0]=Sz_cuad\n",
    "OperZiZj.append( reduce(kron, Array_idZZ) )\n",
    "\n",
    "# In[246]:\n",
    "\n",
    "OperXiXj=[]\n",
    "Sx_cuad=Sx_sp@Sx_sp\n",
    "Array_idXX[0]=Sx_cuad\n",
    "OperXiXj.append( reduce(kron, Array_idXX) )\n",
    "\n",
    "\n",
    "OperYiYj=[]\n",
    "Sy_cuad=Sy_sp@Sy_sp\n",
    "Array_idYY[0]=Sy_cuad\n",
    "OperYiYj.append( reduce(kron, Array_idYY) )\n",
    "\n",
    "\n",
    "\n",
    "\n",
    "Omega_y=0\n",
    "\n",
    "\n",
    "# In[248]:\n",
    "\n",
    "\n",
    "\n",
    "# In[ ]:\n",
    "\n",
    "\n",
    "def tensor_k_Zcuad( k ):  #Excited state k is a Position in the cluster after the G classification\n",
    "\n",
    "    Array_id=Atom_cutoff*[Id_Spin]  \n",
    "\n",
    "    Array_id[k]=Sz_cuad\n",
    "\n",
    "    return reduce(kron, Array_id)\n",
    "\n",
    "\n",
    "# Construct a vector with |C_i| elements equal to A_i_tensor(Sz_cuad,j)\n",
    "\n",
    "Sz_cuad_array=Zero_Tensor\n",
    "\n",
    "\n",
    "for j in range(Atom_cutoff):\n",
    "\n",
    "    Sz_cuad_array+= B_Q* A_i_tensor(Sz_cuad,j)+ Omega_y*A_i_tensor(Sy_sp,j)\n",
    "\n",
    "#Sz_cuad_array=Sz_cuad_array+ Omega_y*A_i_tensor(Sy_sp,0)  # + A_i_tensor(Sy_sp,0)\n",
    "\n",
    "\n",
    "# In[ ]:\n",
    "\n",
    "\n",
    "\n",
    "\n",
    "\n",
    "# In[249]:\n",
    "\n",
    "\n",
    "\n",
    "def Hamilt_ic(index_center):\n",
    "\n",
    "    Index_list=Index_N[index_center]\n",
    "    Hamil=Sz_cuad_array\n",
    "\n",
    "\n",
    "    for j in range(Atom_cutoff):\n",
    "\n",
    "        IL_j   = Index_list[j]\n",
    "\n",
    "        for k in range(j+1,Atom_cutoff):\n",
    "\n",
    "\n",
    "            IL_k   = Index_list[k]\n",
    "\n",
    "            Ten_jk = tensor_termIntact( j , k)\n",
    "\n",
    "\n",
    "            Hamil=Hamil+ Vij[IL_j,IL_k]*Ten_jk\n",
    "\n",
    "            #print(j,k,\"IndexN\", IL_j,IL_k)\n",
    "\n",
    "\n",
    "    return  Hamil\n",
    "\n",
    "\n",
    "# In[250]:\n",
    "\n",
    "\n",
    "\n",
    "def f(t, yR,M_vect,b):\n",
    "\n",
    "    return -1j*M_vect@yR\n",
    "\n",
    "\n",
    "\n",
    "\n",
    "Zeeman_Operators=[]\n",
    "\n",
    "\n",
    "\n",
    "\n",
    "ListVal=[]\n",
    "\n",
    "\n",
    "ValuesSpn=np.linspace(-S_spin,S_spin,int(2*S_spin+1))\n",
    "\n",
    "\n",
    "#ValuesSpn\n",
    "\n",
    "\n",
    "# In[253]:\n",
    "\n",
    "\n",
    "for j in range(len(ValuesSpn)):\n",
    "\n",
    "    Zeeman_Operators.append(A_i_tensor(Zeeman_Popul( ValuesSpn[j]),0))\n",
    "\n",
    "\n",
    "\n",
    "2*0.525\n",
    "\n",
    "tspan=np.linspace(0,4.2*Incre,600)\n",
    "\n",
    "\n",
    "\n",
    "from scipy.integrate import solve_ivp\n",
    "\n",
    "\n",
    "T_init=tspan[0]\n",
    "\n",
    "T_fin =tspan[-1]\n",
    "\n",
    "\n",
    "\n",
    "\n",
    "#MACE method\n",
    "\n",
    "\n",
    "from scipy.integrate import solve_ivp\n",
    "\n",
    "\n",
    "def Dynam_Popul_CI(index_center):\n",
    "\n",
    "    Populations=np.zeros((Levels,len(tspan)))\n",
    "\n",
    "\n",
    "    #sol = solve_ivp(f, [tspan[0], tspan[-1]], list(Init_Total_rot.toarray().T[0]),args=(Hamilt_ic(index_center),None),dense_output=True )\n",
    "    sol = solve_ivp(f, [T_init, T_fin], list(Init_Total_rot.toarray().T[0]),args=(Hamilt_ic(index_center),None),dense_output=True,max_step=0.0001 )\n",
    "\n",
    "    Sol_dense=sol.sol(tspan)\n",
    "\n",
    "\n",
    "    for j in range(Levels):\n",
    "\n",
    "        Populations[j]=real((diag((conj(Sol_dense.T)@(Zeeman_Operators[j]@Sol_dense)))))\n",
    "\n",
    "\n",
    "    return Populations\n",
    "\n",
    "\n",
    "\n",
    "\n",
    "Populat_Fin=np.zeros((Levels,len(tspan)))\n",
    "\n",
    "\n",
    "# In[257]:\n",
    "\n",
    "\n",
    "\n",
    "OperX=[]\n",
    "OperY=[]\n",
    "OperZ=[]\n",
    "\n",
    "OperX.append( A_i_tensor(Sx_sp,0) )\n",
    "OperY.append( A_i_tensor(Sy_sp,0) )\n",
    "OperZ.append( A_i_tensor(Sz_sp,0) )\n",
    "\n",
    "\n",
    "\n",
    "for j in range(1,Atom_cutoff):\n",
    "\n",
    "\n",
    "    OperX.append( A_i_tensor(Sx_sp,j) )\n",
    "    OperY.append( A_i_tensor(Sy_sp,j) )\n",
    "    OperZ.append( A_i_tensor(Sz_sp,j) )\n",
    "    OperZiZj.append( tensor_kjZZ( 0 , j) )\n",
    "    \n",
    "    OperXiXj.append( tensor_kjXX( 0 , j) )\n",
    "    OperYiYj.append( tensor_kjYY( 0 , j) )\n",
    "\n",
    "\n",
    "\n",
    "\n",
    "number_parts=200\n",
    "\n",
    "\n",
    "index_parts=int(len(tspan)/number_parts)\n",
    "\n",
    "tnew=[]\n",
    "\n",
    "for tind_ in range(len(tspan)-1):\n",
    "\n",
    "    Time_pos=int((tind_+1)//index_parts)\n",
    "\n",
    "    if (tind_+1)%index_parts==0:\n",
    "\n",
    "        tnew.append(tspan[tind_+1])\n",
    "\n",
    "tnew=array(tnew)\n",
    "\n",
    "\n",
    "\n",
    "\n",
    "\n",
    "def Hamilt_ic_MACE(index_center):\n",
    "\n",
    "    Index_list=Index_N[index_center]\n",
    "    Hamil=Sz_cuad_array\n",
    "\n",
    "\n",
    "    for j in range(Atom_cutoff):\n",
    "\n",
    "        IL_j   = Index_list[j]\n",
    "\n",
    "        for k in range(j+1,Atom_cutoff):\n",
    "\n",
    "\n",
    "            IL_k   = Index_list[k]\n",
    "\n",
    "            Hamil=Hamil+ Vij[IL_j,IL_k]*(tensor_termIntact( j , k) )\n",
    "\n",
    "            #print(j,k,\"IndexN\", IL_j,IL_k)\n",
    "\n",
    "\n",
    "    return  Hamil\n",
    "\n",
    "\n",
    "\n",
    "\n",
    "index_center=0\n",
    "\n",
    "\n",
    "Wave_function=np.zeros((Levels**Atom_cutoff,1),dtype=\"complex\")\n",
    "\n",
    "\n",
    "\n",
    "for j in range(1):    \n",
    "    Wave_function[:,j]=Init_Total_rot.toarray().reshape(Levels**Atom_cutoff,)   #Not sparse structure because the state is not sparse\n",
    "\n",
    "\n",
    "\n",
    "Mean_Val_XYZ=np.zeros((1,3*len(tspan)),dtype=\"complex\")\n",
    "\n",
    "\n",
    "\n",
    "\n",
    "\n",
    "\n",
    "\n",
    "\n",
    "\n",
    "\n",
    "\n",
    "\n",
    "\n",
    "#tspan\n",
    "#Vj_dot_MV_XYZ=Vij@Mean_Val_XYZ\n",
    "Vj_dot_MV_XYZ=np.zeros((1,3*len(tspan)),dtype=\"complex\")\n",
    "Mean_Val_XYZ_0     =np.zeros((1,3),dtype=\"complex\")\n",
    "Mean_Val_XYZ_0[:,0]=diag(conj(Wave_function.T)@(OperX[0]@Wave_function))\n",
    "Mean_Val_XYZ_0[:,1]=diag(conj(Wave_function.T)@(OperY[0]@Wave_function))\n",
    "Mean_Val_XYZ_0[:,2]=diag(conj(Wave_function.T)@(OperZ[0]@Wave_function))\n",
    "#Vj_dot_MV_XYZ_0    =Vij@Mean_Val_XYZ_0\n",
    "Mean_Val_XYZ[:,array([0,1,2])]=Mean_Val_XYZ_0\n",
    "\n",
    "\n",
    "\n",
    "\n",
    "\n",
    "Popul_CMFT=np.zeros((int(2*S_spin+1),len(tnew)+1),dtype=complex)\n",
    "\n",
    "Covar_Z=np.zeros((len(tnew)+1,N_atom),dtype=complex)\n",
    "Covar_X=np.zeros((len(tnew)+1,N_atom),dtype=complex)\n",
    "Covar_Y=np.zeros((len(tnew)+1,N_atom),dtype=complex)\n",
    "\n",
    "\n",
    "\n",
    "for j in range(Atom_cutoff):\n",
    "\n",
    "    Covar_Z[0,Index_N[0][j]]=diag(conj(Wave_function.T)@(OperZiZj[j]@Wave_function))\n",
    "    Covar_X[0,Index_N[0][j]]=diag(conj(Wave_function.T)@(OperXiXj[j]@Wave_function))\n",
    "    Covar_Y[0,Index_N[0][j]]=diag(conj(Wave_function.T)@(OperYiYj[j]@Wave_function))\n",
    "\n",
    "\n",
    "\n",
    "\n",
    "\n",
    "\n",
    "\n",
    "for j in range(int(2*S_spin+1)):\n",
    "    Popul_CMFT[j,0]=sum(diag(conj(Wave_function.T)@(Zeeman_Operators[j]@Wave_function)))\n",
    "\n",
    "\n",
    "\n",
    "Vrow=sum(sum(Vij_p,axis=0),axis=0)/N_atom\n",
    "\n",
    "\n",
    "\n",
    "\n",
    "\n",
    "####### index_center=0\n",
    "#@jit\n",
    "def Hamilt_ic_CMFT(index_center,tindector):\n",
    "\n",
    "    Index_list=Index_N[index_center]\n",
    "    HamilCMFT_=Zero_Tensor\n",
    "\n",
    "    x_ind=0+3*tindector\n",
    "    y_ind=1+3*tindector\n",
    "    z_ind=2+3*tindector\n",
    "\n",
    "\n",
    "    #Vij_Vals_XYZ =Vj_dot_MV_XYZ[:,[x_ind,y_ind,z_ind]]\n",
    "    Vals_XYZ     =Mean_Val_XYZ[:,[x_ind,y_ind,z_ind]]\n",
    "\n",
    "\n",
    "    #Part_XX=Zero_Tensor\n",
    "\n",
    "    sx0,sy0,sz0 = Vals_XYZ[0] \n",
    "\n",
    "    for j in range(Atom_cutoff):\n",
    "\n",
    "        IL_j   = Index_list[j]\n",
    "\n",
    "        hat_Sxj=OperX[j]\n",
    "        hat_Syj=OperY[j]\n",
    "        hat_Szj=OperZ[j]\n",
    "\n",
    "        HamilCMFT_=HamilCMFT_+SumVi*(hat_Szj*sz0)\n",
    "\n",
    "        #Part_XX=Part_XX- 0.5*VjX*hat_Sxj\n",
    "\n",
    "    return  HamilCMFT_#, Part_XX\n",
    "\n",
    "\n",
    "\n",
    "\n",
    "\n",
    "\n",
    "def Wave_func_part(Wave_fun_mt,inst_time):\n",
    "\n",
    "    Result_fin=Wave_fun_mt\n",
    "\n",
    "\n",
    "    for cent_ind in range(1):   #Only uses one element, the zero one\n",
    "\n",
    "\n",
    "        ####Mat_dyn=Time_ind_hamil[cent_ind]   #+Part_time_dep(cent_ind,inst_time)   ### MACE\n",
    "        \n",
    "        #Mat_dyn=Hamilt_ic_MACE(cent_ind)### + Hamilt_ic_CMFT(cent_ind,inst_time)   ### MACE\n",
    "\n",
    "        Mat_dyn=Hamilt_ic_MACE(cent_ind) + Hamilt_ic_CMFT(cent_ind,inst_time)   ### CMFT\n",
    "\n",
    "\n",
    "        sol_cent_ind = solve_ivp(f,[tspan[inst_time],tspan[inst_time+1]],list(Wave_fun_mt[:,cent_ind])\n",
    "                                 ,args=(Mat_dyn,None),dense_output=False,max_step=0.01)# , t_eval= [tspan[inst_time+1]])\n",
    "\n",
    "\n",
    "\n",
    "        Result_fin[:,cent_ind]=((sol_cent_ind.y)[:,-1]).reshape((Levels**Atom_cutoff,))\n",
    "\n",
    "        #print(cent_ind)\n",
    "        #print(cent_ind/N_atom)\n",
    "\n",
    "    return Result_fin\n",
    "\n",
    "\n",
    "\n",
    "count=0\n",
    "\n",
    "tNEW=[]\n",
    "\n",
    "for tind_ in range(len(tspan)-1):\n",
    "\n",
    "    Wave_function= Wave_func_part(Wave_function,tind_)\n",
    "\n",
    "\n",
    "    if (tind_+1)%index_parts==0:\n",
    "        count=count+1\n",
    "\n",
    "        tNEW.append(tspan[tind_+1])\n",
    "\n",
    "        for j in range(int(2*S_spin+1)):\n",
    "            Popul_CMFT[j,count]=sum(diag(conj(Wave_function.T)@(Zeeman_Operators[j]@Wave_function)))\n",
    "\n",
    "        #Popul_CMFT[j,count]=sum(diag(conj(Wave_function.T)@(Zeeman_Operators[j]@Wave_function)))\n",
    "\n",
    "        #print(100*(tind_+1)/len(tspan))\n",
    "\n",
    "        for jt in range(Atom_cutoff):\n",
    "\n",
    "            Covar_Z[count][Index_N[0][jt]]=diag(conj(Wave_function.T)@(OperZiZj[jt]@Wave_function))\n",
    "            Covar_X[count][Index_N[0][jt]]=diag(conj(Wave_function.T)@(OperXiXj[jt]@Wave_function))\n",
    "            Covar_Y[count][Index_N[0][jt]]=diag(conj(Wave_function.T)@(OperYiYj[jt]@Wave_function))\n",
    "\n",
    "\n",
    "        print((100*tind_/(len(tspan)-1)),\"%\")\n",
    "\n",
    "\n",
    "\n",
    "\n",
    "    Mean_Val_XYZ_0     =np.zeros((1,3),dtype=\"complex\")\n",
    "    Mean_Val_XYZ_0[:,0]=diag(conj(Wave_function.T)@(OperX[0]@Wave_function))\n",
    "    Mean_Val_XYZ_0[:,1]=diag(conj(Wave_function.T)@(OperY[0]@Wave_function))\n",
    "    Mean_Val_XYZ_0[:,2]=diag(conj(Wave_function.T)@(OperZ[0]@Wave_function))\n",
    "    #Vj_dot_MV_XYZ_0    =Vij@Mean_Val_XYZ_0\n",
    "\n",
    "    step_time=3*(tind_+1)\n",
    "\n",
    "    Mean_Val_XYZ[ :,step_time+array([0,1,2])]=Mean_Val_XYZ_0\n",
    "\n",
    "tms=array(tNEW)*28.85/0.5\n",
    "\n",
    "\n",
    "\n",
    "tms1=tms\n",
    "\n",
    "PopulExperimental=Populations_Exp\n",
    "\n",
    "PopulFixed=PopulExperimental\n",
    "\n",
    "\n"
   ]
  },
  {
   "cell_type": "code",
   "execution_count": 124,
   "metadata": {},
   "outputs": [],
   "source": [
    "Sxval=[]\n",
    "Syval=[]\n",
    "Szval=[]\n",
    "\n",
    "ValsXYZ=Mean_Val_XYZ[0]\n",
    "\n",
    "for j in range(len(tspan)):\n",
    "    \n",
    "    Sxval.append(ValsXYZ[3*j])\n",
    "    Syval.append(ValsXYZ[3*j+1])\n",
    "    Szval.append(ValsXYZ[3*j+2])\n",
    "    \n",
    "    "
   ]
  },
  {
   "cell_type": "code",
   "execution_count": 125,
   "metadata": {},
   "outputs": [
    {
     "data": {
      "text/plain": [
       "(0.0, 3.0)"
      ]
     },
     "execution_count": 125,
     "metadata": {},
     "output_type": "execute_result"
    },
    {
     "data": {
      "image/png": "[encoded data removed]",
      "text/plain": [
       "<Figure size 792x576 with 1 Axes>"
      ]
     },
     "metadata": {
      "needs_background": "light"
     },
     "output_type": "display_data"
    }
   ],
   "source": [
    "plt.plot(tspan/4,real(Sxval))\n",
    "\n",
    "plt.xlim((0,3))"
   ]
  },
  {
   "cell_type": "code",
   "execution_count": 126,
   "metadata": {},
   "outputs": [
    {
     "data": {
      "text/plain": [
       "5"
      ]
     },
     "execution_count": 126,
     "metadata": {},
     "output_type": "execute_result"
    }
   ],
   "source": [
    "Atom_cutoff_"
   ]
  },
  {
   "cell_type": "code",
   "execution_count": 132,
   "metadata": {},
   "outputs": [],
   "source": [
    "#Sx_val_CMF1=Sxval\n",
    "#Sx_val_CMF2=Sxval\n",
    "#Sx_val_CMF3=Sxval\n",
    "#Sx_val_CMF4=Sxval\n",
    "Sx_val_CMF5=Sxval\n",
    "#Sx_val_CMF6=Sxval\n",
    "#Sx_val_CMF9=Sxval\n",
    "#Sx_val_CMF10=Sxval\n",
    "#Sx_val_CMF7=Sxval\n",
    "#Sx_val_CMF11=Sxval"
   ]
  },
  {
   "cell_type": "code",
   "execution_count": 133,
   "metadata": {},
   "outputs": [],
   "source": [
    "#Sx_val_MACE4=Sxval\n",
    "#Sx_val_MACE5=Sxval\n",
    "#Sx_val_MACE6=Sxval\n",
    "#Sx_val_MACE7=Sxval\n",
    "#Sx_Wval_MACE10=Sxval\n",
    "#Sx_val_MACE7=Sxval\n",
    "#Sx_val_MACE11=Sxval"
   ]
  },
  {
   "cell_type": "code",
   "execution_count": 134,
   "metadata": {},
   "outputs": [
    {
     "data": {
      "text/plain": [
       "(200, 192)"
      ]
     },
     "execution_count": 134,
     "metadata": {},
     "output_type": "execute_result"
    }
   ],
   "source": [
    "Covar_X.shape"
   ]
  },
  {
   "cell_type": "code",
   "execution_count": null,
   "metadata": {},
   "outputs": [],
   "source": []
  },
  {
   "cell_type": "code",
   "execution_count": null,
   "metadata": {},
   "outputs": [],
   "source": []
  },
  {
   "cell_type": "code",
   "execution_count": 135,
   "metadata": {},
   "outputs": [],
   "source": [
    "Scale_time=sqrt(np.sum(Vij_p**2))"
   ]
  },
  {
   "cell_type": "code",
   "execution_count": null,
   "metadata": {},
   "outputs": [],
   "source": []
  },
  {
   "cell_type": "code",
   "execution_count": 136,
   "metadata": {},
   "outputs": [
    {
     "data": {
      "text/plain": [
       "<matplotlib.legend.Legend at 0x206f21bcfd0>"
      ]
     },
     "execution_count": 136,
     "metadata": {},
     "output_type": "execute_result"
    },
    {
     "data": {
      "image/png": "[encoded data removed]",
      "text/plain": [
       "<Figure size 792x576 with 1 Axes>"
      ]
     },
     "metadata": {
      "needs_background": "light"
     },
     "output_type": "display_data"
    }
   ],
   "source": [
    "plt.title(\"Ising Model, $\\\\left|\\\\psi(0) \\\\right>=\\\\left|+\\\\right>^{\\otimes N}$, $N=192$\",fontsize=25)\n",
    "\n",
    "\n",
    "plt.plot((28.85/0.5)*Time_val*4, 0.5*array(Sx_evol),label=\"Analytical Solution\")\n",
    "\n",
    "#plt.plot(tspan/4,2*real(Sx_val_CMF1),label=\"CMFT 1\")\n",
    "#plt.plot(tspan/4,2*real(Sx_val_CMF2),label=\"CMFT 2\")\n",
    "#plt.plot(tspan/4,2*real(Sx_val_CMF3),label=\"CMFT 3\")\n",
    "\n",
    "#plt.plot(Scale_time*tspan/4,real(Sx_val_CMF4),\"--\",label=\"CMFT 4\")\n",
    "plt.plot(Scale_time*tspan/4,real(Sx_val_CMF5),\"--\",label=\"CMFT 5\")\n",
    "#plt.plot(Scale_time*tspan/4,real(Sx_val_CMF6),\"--\",label=\"CMFT 6\")\n",
    "#plt.plot(Scale_time*tspan/4,real(Sx_val_CMF7),\"--\",label=\"CMFT 7\")\n",
    "#plt.plot((28.85/0.5)*tspan,real(Sx_val_CMF9),\"--\",label=\"CMFT 9\")\n",
    "#plt.plot(Scale_time*tspan/4,real(Sx_val_CMF10),\"--\",label=\"CMFT 10\")\n",
    "#plt.plot(Scale_time*tspan/4,real(Sx_val_CMF11),\"--\",label=\"CMFT 11\")\n",
    "\n",
    "#plt.plot(tspan/4,2*real(Sx_val_MACE4),\"-\",label=\"MACE 4\")\n",
    "#plt.plot(tspan/4,2*real(Sx_val_MACE5),\"--\",label=\"MACE 5\")\n",
    "#plt.plot(tspan/4,2*real(Sx_val_MACE6),\"--\",label=\"MACE 6\")\n",
    "#plt.plot(tspan/4,2*real(Sx_val_MACE7),\"--\",label=\"MACE 7\")\n",
    "#plt.plot(tspan/4,2*real(Sx_val_MACE10),\"--\",label=\"MACE 10\")\n",
    "\n",
    "\n",
    "\n",
    "plt.xlabel(\"$t$(ms)\",fontsize=19)\n",
    "plt.ylabel(\"$\\\\left< \\hat{S}_x \\\\right>/N$\",fontsize=19)\n",
    "\n",
    "#plt.xlim((0,Scale_time*4))\n",
    "\n",
    "#plt.xscale(\"log\")\n",
    "\n",
    "plt.legend()"
   ]
  },
  {
   "cell_type": "code",
   "execution_count": null,
   "metadata": {},
   "outputs": [],
   "source": []
  },
  {
   "cell_type": "code",
   "execution_count": null,
   "metadata": {},
   "outputs": [],
   "source": [
    "Time_val[-1]"
   ]
  },
  {
   "cell_type": "code",
   "execution_count": null,
   "metadata": {},
   "outputs": [],
   "source": [
    "#plt.plot((28.85/0.5)*tspan/4,real(Sx_val_CMF9),\"--\",label=\"CMFT 9\")"
   ]
  },
  {
   "cell_type": "code",
   "execution_count": null,
   "metadata": {},
   "outputs": [],
   "source": []
  },
  {
   "cell_type": "code",
   "execution_count": null,
   "metadata": {},
   "outputs": [],
   "source": [
    "CovXT=N_atom*Covar_X\n",
    "CovYT=N_atom*Covar_Y\n",
    "CovZT=N_atom*Covar_Z"
   ]
  },
  {
   "cell_type": "code",
   "execution_count": null,
   "metadata": {},
   "outputs": [],
   "source": []
  },
  {
   "cell_type": "code",
   "execution_count": null,
   "metadata": {},
   "outputs": [],
   "source": [
    "import numpy as np\n",
    "\n",
    "# Define the new x values where we want to interpolate y\n",
    "x = tnew\n",
    "\n",
    "# Define the previous x and y arrays\n",
    "x1 = tspan\n",
    "y1 = Sxval\n",
    "\n",
    "# Use linear interpolation to calculate y for the new x values\n",
    "yXinter = np.interp(x, x1, y1)\n",
    "\n",
    "#print(yXinter)\n"
   ]
  },
  {
   "cell_type": "code",
   "execution_count": null,
   "metadata": {},
   "outputs": [],
   "source": []
  },
  {
   "cell_type": "code",
   "execution_count": null,
   "metadata": {},
   "outputs": [],
   "source": [
    "Mean_Val_XYZ[0][0]"
   ]
  },
  {
   "cell_type": "code",
   "execution_count": null,
   "metadata": {},
   "outputs": [],
   "source": [
    "len(Sxval)"
   ]
  },
  {
   "cell_type": "code",
   "execution_count": null,
   "metadata": {},
   "outputs": [],
   "source": [
    "len(tspan)"
   ]
  },
  {
   "cell_type": "code",
   "execution_count": null,
   "metadata": {},
   "outputs": [],
   "source": []
  },
  {
   "cell_type": "code",
   "execution_count": null,
   "metadata": {},
   "outputs": [],
   "source": []
  },
  {
   "cell_type": "code",
   "execution_count": null,
   "metadata": {},
   "outputs": [],
   "source": []
  },
  {
   "cell_type": "code",
   "execution_count": null,
   "metadata": {},
   "outputs": [],
   "source": []
  },
  {
   "cell_type": "code",
   "execution_count": null,
   "metadata": {},
   "outputs": [],
   "source": [
    "plt.plot((28.85/0.5)*tnew,real(np.sum(CovXT,axis=1))[1:])\n",
    "\n",
    "\n",
    "plt.plot((28.85/0.5)*array(Time_val)*4,Sx_cuadt-(array(Sx_evol)*N_atom/2)**2,label=\"Cov$(\\hat{S}_x^2)$\")\n"
   ]
  },
  {
   "cell_type": "code",
   "execution_count": null,
   "metadata": {},
   "outputs": [],
   "source": []
  },
  {
   "cell_type": "code",
   "execution_count": null,
   "metadata": {},
   "outputs": [],
   "source": [
    "#plt.plot((28.85/0.5)*tnew,real(np.sum(CovZT,axis=1))[1:])\n",
    "#plt.plot((28.85/0.5)*array(Time_val)*4,array(Sz_cuadt),label=\"Cov$(\\hat{S}_y^2)$\")\n"
   ]
  },
  {
   "cell_type": "code",
   "execution_count": null,
   "metadata": {},
   "outputs": [],
   "source": []
  },
  {
   "cell_type": "code",
   "execution_count": null,
   "metadata": {},
   "outputs": [],
   "source": [
    "import numpy as np\n",
    "\n",
    "# Define the new x values where we want to interpolate y\n",
    "x = tnew\n",
    "\n",
    "# Define the previous x and y arrays\n",
    "x1 = tspan\n",
    "y1 = real(array(Sxval))\n",
    "\n",
    "# Use linear interpolation to calculate y for the new x values\n",
    "InterSx = np.interp(x, x1, y1)\n",
    "\n",
    "#print(InterSx)\n"
   ]
  },
  {
   "cell_type": "code",
   "execution_count": null,
   "metadata": {},
   "outputs": [],
   "source": []
  },
  {
   "cell_type": "code",
   "execution_count": null,
   "metadata": {},
   "outputs": [],
   "source": [
    "plt.plot(tnew*28.85/0.5,(InterSx))\n",
    "plt.plot(tspan*28.85/0.5,real(Sxval))"
   ]
  },
  {
   "cell_type": "code",
   "execution_count": null,
   "metadata": {},
   "outputs": [],
   "source": [
    "# Y covariance\n",
    "Atom_cutoff"
   ]
  },
  {
   "cell_type": "code",
   "execution_count": null,
   "metadata": {
    "scrolled": false
   },
   "outputs": [],
   "source": [
    "plt.plot((28.85/0.5)*tnew,real(np.sum(CovYT,axis=1))[1:],label=\"$\\\\left<\\hat{S}_y^2\\\\right>$ CMF 5\")\n",
    "plt.plot((28.85/0.5)*array(Time_val)*4,array(Sy_cuadt),label=\"$\\\\left<\\hat{S}_y^2\\\\right>$ Analytic\")\n",
    "\n",
    "\n",
    "plt.legend()\n"
   ]
  },
  {
   "cell_type": "code",
   "execution_count": null,
   "metadata": {},
   "outputs": [],
   "source": []
  },
  {
   "cell_type": "code",
   "execution_count": null,
   "metadata": {},
   "outputs": [],
   "source": [
    "CovarF=Covar_X"
   ]
  },
  {
   "cell_type": "code",
   "execution_count": null,
   "metadata": {},
   "outputs": [],
   "source": [
    "def permutator(tindex,CovarF,N_atom=N_atom):\n",
    "    \n",
    "    Cov_t=np.zeros((N_atom,N_atom),dtype=\"complex\")\n",
    "    \n",
    "    for jp in range(N_atom):\n",
    "        for wp in range(Atom_cutoff_):\n",
    "            \n",
    "            Cov_t[jp][Index_N[jp][wp]]=CovarF[tindex][wp]\n",
    "                        \n",
    "    return (Cov_t+Cov_t.T)/2\n"
   ]
  },
  {
   "cell_type": "code",
   "execution_count": null,
   "metadata": {},
   "outputs": [],
   "source": [
    "\n",
    "Covariances_list_t=[]\n",
    "\n",
    "\n",
    "\n",
    "for tindex in range(CovarF.shape[0]):\n",
    "    \n",
    "    Covariances_list_t.append(permutator(tindex,CovarF)   )\n",
    "    \n"
   ]
  },
  {
   "cell_type": "code",
   "execution_count": null,
   "metadata": {},
   "outputs": [],
   "source": []
  },
  {
   "cell_type": "markdown",
   "metadata": {},
   "source": [
    "# Correlation analysis by sectors"
   ]
  },
  {
   "cell_type": "code",
   "execution_count": null,
   "metadata": {},
   "outputs": [],
   "source": [
    "\n",
    "for j in range(Atom_cutoff):\n",
    "\n",
    "    print(0,Index_N[0][j])"
   ]
  },
  {
   "cell_type": "code",
   "execution_count": null,
   "metadata": {},
   "outputs": [],
   "source": [
    "### sectorrr"
   ]
  },
  {
   "cell_type": "code",
   "execution_count": null,
   "metadata": {},
   "outputs": [],
   "source": [
    "Cov_list_Y=[]\n",
    "\n",
    "for ty_ in range(len(Time_val)):\n",
    "\n",
    "\n",
    "    CorrT=np.zeros((N_atom,N_atom))\n",
    "\n",
    "    for j in range(N_atom):\n",
    "        for k in range(N_atom):\n",
    "\n",
    "            if j==k:\n",
    "\n",
    "                CorrT[j,k]=0.25\n",
    "            else:\n",
    "\n",
    "                CorrT[j,k]=0.5*np.real(-two_body_corr(j,k,1, 1,Time_val[ty_])+two_body_corr(j,k,1,-1,Time_val[ty_]))\n",
    "                \n",
    "    Cov_list_Y.append(np.sum(CorrT))\n",
    "    \n",
    "\n",
    "            "
   ]
  },
  {
   "cell_type": "code",
   "execution_count": null,
   "metadata": {},
   "outputs": [],
   "source": []
  },
  {
   "cell_type": "code",
   "execution_count": null,
   "metadata": {},
   "outputs": [],
   "source": [
    "plt.plot((28.85/0.5)*tnew,real(np.sum(CovYT,axis=1))[1:],label=\"$\\\\left<\\hat{S}_y^2\\\\right>$ CMF 8\")\n",
    "\n",
    "\n",
    "plt.plot((28.85/0.5)*array(Time_val)*4,Cov_list_Y)"
   ]
  },
  {
   "cell_type": "code",
   "execution_count": null,
   "metadata": {},
   "outputs": [],
   "source": [
    "\n"
   ]
  },
  {
   "cell_type": "code",
   "execution_count": null,
   "metadata": {},
   "outputs": [],
   "source": [
    "\n",
    "Ac_=3\n",
    "\n",
    "s0s3x=[]\n",
    "\n",
    "for ty_ in range(len(Time_val)):\n",
    "    \n",
    "    s0s3x.append( 2*real(two_body_corr(0, Ac_,1,1,Time_val[ty_])+two_body_corr(0, Ac_,1,-1,Time_val[ty_]))  )"
   ]
  },
  {
   "cell_type": "code",
   "execution_count": null,
   "metadata": {},
   "outputs": [],
   "source": [
    "plt.plot((28.85/0.5)*array(Time_val)*4,0.25*array(s0s3x))\n",
    "\n",
    "plt.plot(tnew*28.85/0.5,Covar_X[:,1][1:])"
   ]
  },
  {
   "cell_type": "code",
   "execution_count": null,
   "metadata": {},
   "outputs": [],
   "source": []
  },
  {
   "cell_type": "code",
   "execution_count": null,
   "metadata": {},
   "outputs": [],
   "source": []
  },
  {
   "cell_type": "code",
   "execution_count": null,
   "metadata": {},
   "outputs": [],
   "source": []
  },
  {
   "cell_type": "code",
   "execution_count": null,
   "metadata": {},
   "outputs": [],
   "source": [
    "CovarSec_X=np.zeros((len(Time_val),N_atom),dtype=complex)\n",
    "CovarSec_Y=np.zeros((len(Time_val),N_atom),dtype=complex)\n"
   ]
  },
  {
   "cell_type": "code",
   "execution_count": null,
   "metadata": {},
   "outputs": [],
   "source": [
    "for ty_ in range(len(Time_val)):\n",
    "    for Ac_ in range(N_atom):\n",
    "        \n",
    "        if Ac_==0:\n",
    "            \n",
    "            CovarSec_X[ty_,Ac_]=0.25\n",
    "            CovarSec_Y[ty_,Ac_]=0.25\n",
    "        else:\n",
    "            \n",
    "            Qpp=two_body_corr(0,Ac_,1, 1,Time_val[ty_])\n",
    "            Qpm=two_body_corr(0,Ac_,1,-1,Time_val[ty_])    \n",
    "            \n",
    "            CovarSec_X[ty_,Ac_]=0.5*np.real( Qpp+Qpm )\n",
    "            CovarSec_Y[ty_,Ac_]=0.5*np.real( Qpm-Qpp )            \n",
    "            \n",
    "    "
   ]
  },
  {
   "cell_type": "code",
   "execution_count": null,
   "metadata": {},
   "outputs": [],
   "source": [
    "CovCMFX=CovXT/N_atom\n",
    "CovCMFY=CovYT/N_atom"
   ]
  },
  {
   "cell_type": "code",
   "execution_count": null,
   "metadata": {},
   "outputs": [],
   "source": [
    "CovarSec_X.shape"
   ]
  },
  {
   "cell_type": "code",
   "execution_count": null,
   "metadata": {},
   "outputs": [],
   "source": []
  },
  {
   "cell_type": "code",
   "execution_count": null,
   "metadata": {},
   "outputs": [],
   "source": [
    "Index_N"
   ]
  },
  {
   "cell_type": "code",
   "execution_count": null,
   "metadata": {},
   "outputs": [],
   "source": []
  },
  {
   "cell_type": "code",
   "execution_count": null,
   "metadata": {},
   "outputs": [],
   "source": []
  },
  {
   "cell_type": "code",
   "execution_count": null,
   "metadata": {},
   "outputs": [],
   "source": [
    "\n",
    "\"\"\"\n",
    "plt.plot((28.85/0.5)*tnew, real(CovCMFY[:,0][1:]),label=\"$\\\\left< \\sigma_0^y\\sigma_0^y \\\\right>$ CMF\")\n",
    "plt.plot((28.85/0.5)*tnew, real(CovCMFY[:,1][1:]),label=\"$\\\\left< \\sigma_0^y\\sigma_1^y \\\\right>$ CMF\")\n",
    "plt.plot((28.85/0.5)*tnew, real(CovCMFY[:,2][1:]),label=\"$\\\\left< \\sigma_0^y\\sigma_2^y \\\\right>$ CMF\")\n",
    "plt.plot((28.85/0.5)*tnew, real(CovCMFY[:,3][1:]),label=\"$\\\\left< \\sigma_0^y\\sigma_3^y \\\\right>$ CMF\")\n",
    "plt.plot((28.85/0.5)*tnew, real(CovCMFY[:,4][1:]),label=\"$\\\\left< \\sigma_0^y\\sigma_4^y \\\\right>$ CMF\")\n",
    "plt.plot((28.85/0.5)*tnew, real(CovCMFY[:,5][1:]),label=\"$\\\\left< \\sigma_0^y\\sigma_5^y \\\\right>$ CMF\")\n",
    "plt.plot((28.85/0.5)*tnew, real(CovCMFY[:,6][1:]),label=\"$\\\\left< \\sigma_0^y\\sigma_6^y \\\\right>$ CMF\")\n",
    "plt.plot((28.85/0.5)*tnew, real(CovCMFY[:,7][1:]),label=\"$\\\\left< \\sigma_0^y\\sigma_7^y \\\\right>$ CMF\")\n",
    "\"\"\"\n",
    "\n",
    "\n",
    "plt.plot((28.85/0.5)*array(Time_val)*4, real(CovarSec_Y[:,0]),\"--\",label=\"$\\\\left< \\sigma_0^y\\sigma_0^y \\\\right>$ Exact\")\n",
    "plt.plot((28.85/0.5)*array(Time_val)*4, real(CovarSec_Y[:,1]),\"--\",label=\"$\\\\left< \\sigma_0^y\\sigma_1^y \\\\right>$ Exact\")\n",
    "plt.plot((28.85/0.5)*array(Time_val)*4, real(CovarSec_Y[:,2]),\"--\",label=\"$\\\\left< \\sigma_0^y\\sigma_2^y \\\\right>$ Exact\")\n",
    "plt.plot((28.85/0.5)*array(Time_val)*4, real(CovarSec_Y[:,3]),\"--\",label=\"$\\\\left< \\sigma_0^y\\sigma_3^y \\\\right>$ Exact\")\n",
    "plt.plot((28.85/0.5)*array(Time_val)*4, real(CovarSec_Y[:,4]),\"--\",label=\"$\\\\left< \\sigma_0^y\\sigma_4^y \\\\right>$ Exact\")\n",
    "plt.plot((28.85/0.5)*array(Time_val)*4, real(CovarSec_Y[:,5]),\"--\",label=\"$\\\\left< \\sigma_0^y\\sigma_5^y \\\\right>$ Exact\")\n",
    "plt.plot((28.85/0.5)*array(Time_val)*4, real(CovarSec_Y[:,6]),\"--\",label=\"$\\\\left< \\sigma_0^y\\sigma_6^y \\\\right>$ Exact\")\n",
    "plt.plot((28.85/0.5)*array(Time_val)*4, real(CovarSec_Y[:,7]),\"--\",label=\"$\\\\left< \\sigma_0^y\\sigma_7^y \\\\right>$ Exact\")\n",
    "\n",
    "\n",
    "\n",
    "#plt.plot((28.85/0.5)*array(Time_val)*4,array(Sy_cuadt),label=\"$\\\\left<\\hat{S}_y^2\\\\right>$ Analytic\")\n",
    "\n",
    "\n",
    "plt.legend(bbox_to_anchor=(1.05, 1), loc='upper left')"
   ]
  },
  {
   "cell_type": "code",
   "execution_count": null,
   "metadata": {},
   "outputs": [],
   "source": []
  },
  {
   "cell_type": "code",
   "execution_count": null,
   "metadata": {},
   "outputs": [],
   "source": [
    "Index_N[0]"
   ]
  },
  {
   "cell_type": "code",
   "execution_count": null,
   "metadata": {},
   "outputs": [],
   "source": []
  },
  {
   "cell_type": "code",
   "execution_count": null,
   "metadata": {},
   "outputs": [],
   "source": []
  },
  {
   "cell_type": "code",
   "execution_count": null,
   "metadata": {},
   "outputs": [],
   "source": [
    "Atom_cutoff"
   ]
  },
  {
   "cell_type": "code",
   "execution_count": null,
   "metadata": {},
   "outputs": [],
   "source": []
  },
  {
   "cell_type": "markdown",
   "metadata": {},
   "source": [
    "# Comparison local"
   ]
  },
  {
   "cell_type": "code",
   "execution_count": null,
   "metadata": {},
   "outputs": [],
   "source": []
  },
  {
   "cell_type": "code",
   "execution_count": null,
   "metadata": {},
   "outputs": [],
   "source": [
    "plt.plot((28.85/0.5)*tnew,real(np.sum(CovYT,axis=1))[1:],label=\"$\\\\left<\\hat{S}_y^2\\\\right>$ CMF 8\")\n",
    "plt.plot((28.85/0.5)*array(Time_val)*4,array(Sy_cuadt),label=\"$\\\\left<\\hat{S}_y^2\\\\right>$ Analytic\")\n",
    "\n",
    "\n",
    "plt.legend()\n"
   ]
  },
  {
   "cell_type": "code",
   "execution_count": null,
   "metadata": {},
   "outputs": [],
   "source": [
    "# Local analysis Y"
   ]
  },
  {
   "cell_type": "code",
   "execution_count": null,
   "metadata": {},
   "outputs": [],
   "source": []
  },
  {
   "cell_type": "code",
   "execution_count": null,
   "metadata": {},
   "outputs": [],
   "source": [
    "\n",
    "plt.plot(28.85*tnew/0.5,real(Covar_Y[:,0][1:]),\"k-\",label=\"$\\\\left< \\sigma_0^y\\sigma_0^y \\\\right>$ CMF\")\n",
    "plt.plot((28.85/0.5)*array(Time_val)*4, real(CovarSec_Y[:,0]),\"k--\",label=\"$\\\\left< \\sigma_0^y\\sigma_0^y \\\\right>$ Exact\")\n",
    "\n",
    "\n",
    "plt.plot(28.85*tnew/0.5,real(Covar_Y[:,1][1:]),\"r-\",label=\"$\\\\left< \\sigma_0^y\\sigma_1^y \\\\right>$ CMF\")\n",
    "plt.plot((28.85/0.5)*array(Time_val)*4, real(CovarSec_Y[:,1]),\"r--\",label=\"$\\\\left< \\sigma_0^y\\sigma_1^y \\\\right>$ Exact\")\n",
    "\n",
    "\n",
    "plt.plot(28.85*tnew/0.5,real(Covar_Y[:,2][1:]),\"b-\",label=\"$\\\\left< \\sigma_0^y\\sigma_2^y \\\\right>$ CMF\")\n",
    "plt.plot((28.85/0.5)*array(Time_val)*4, real(CovarSec_Y[:,2]),\"b--\",label=\"$\\\\left< \\sigma_0^y\\sigma_2^y \\\\right>$ Exact\")\n",
    "\n",
    "\n",
    "plt.plot(28.85*tnew/0.5,real(Covar_Y[:,3][1:]),\"g-\",label=\"$\\\\left< \\sigma_0^y\\sigma_3^y \\\\right>$ CMF\")\n",
    "plt.plot((28.85/0.5)*array(Time_val)*4, real(CovarSec_Y[:,3]),\"g--\",label=\"$\\\\left< \\sigma_0^y\\sigma_3^y \\\\right>$ Exact\")\n",
    "\n",
    "\n",
    "plt.plot(28.85*tnew/0.5,real(Covar_Y[:,4][1:]),\"m-\",label=\"$\\\\left< \\sigma_0^y\\sigma_4^y \\\\right>$ CMF\")\n",
    "plt.plot((28.85/0.5)*array(Time_val)*4, real(CovarSec_Y[:,4]),\"m--\",label=\"$\\\\left< \\sigma_0^y\\sigma_4^y \\\\right>$ Exact\")\n",
    "\n",
    "\n",
    "plt.plot(28.85*tnew/0.5,real(Covar_Y[:,5][1:]),\"c-\",label=\"$\\\\left< \\sigma_0^y\\sigma_5^y \\\\right>$ CMF\")\n",
    "plt.plot((28.85/0.5)*array(Time_val)*4, real(CovarSec_Y[:,5]),\"c--\",label=\"$\\\\left< \\sigma_0^y\\sigma_5^y \\\\right>$ Exact\")\n",
    "\n",
    "\n",
    "\n",
    "#plt.plot(28.85*tnew/0.5,real(Covar_Y[:,6][1:]),\"y-\",label=\"$\\\\left< \\sigma_0^y\\sigma_6^y \\\\right>$ CMF\")\n",
    "#plt.plot((28.85/0.5)*array(Time_val)*4, real(CovarSec_Y[:,6]),\"y--\",label=\"$\\\\left< \\sigma_0^y\\sigma_6^y \\\\right>$ Exact\")\n",
    "\n",
    "\n",
    "#plt.plot((28.85/0.5)*array(Time_val)*4, real(CovarSec_Y[:,6]),\"--\",label=\"$\\\\left< \\sigma_0^y\\sigma_6^y \\\\right>$ Exact\")\n",
    "#plt.plot((28.85/0.5)*array(Time_val)*4, real(CovarSec_Y[:,7]),\"--\",label=\"$\\\\left< \\sigma_0^y\\sigma_7^y \\\\right>$ Exact\")\n",
    "\n",
    "\n",
    "\n",
    "#plt.plot((28.85/0.5)*array(Time_val)*4,array(Sy_cuadt),label=\"$\\\\left<\\hat{S}_y^2\\\\right>$ Analytic\")\n",
    "\n",
    "\n",
    "plt.legend(bbox_to_anchor=(1.05, 1), loc='upper left')"
   ]
  },
  {
   "cell_type": "code",
   "execution_count": null,
   "metadata": {},
   "outputs": [],
   "source": []
  },
  {
   "cell_type": "code",
   "execution_count": null,
   "metadata": {},
   "outputs": [],
   "source": []
  },
  {
   "cell_type": "code",
   "execution_count": null,
   "metadata": {},
   "outputs": [],
   "source": [
    "Atom_cutoff"
   ]
  },
  {
   "cell_type": "code",
   "execution_count": null,
   "metadata": {
    "scrolled": false
   },
   "outputs": [],
   "source": []
  },
  {
   "cell_type": "code",
   "execution_count": null,
   "metadata": {},
   "outputs": [],
   "source": [
    "#np.sum(CovXT,axis=1)"
   ]
  },
  {
   "cell_type": "code",
   "execution_count": null,
   "metadata": {},
   "outputs": [],
   "source": [
    "#yXinter\n"
   ]
  },
  {
   "cell_type": "code",
   "execution_count": null,
   "metadata": {},
   "outputs": [],
   "source": [
    "Atom_cutoff"
   ]
  },
  {
   "cell_type": "code",
   "execution_count": null,
   "metadata": {},
   "outputs": [],
   "source": [
    "#CovY2=real(np.sum(CovYT,axis=1))[1:]\n",
    "#CovX2=real(np.sum(CovXT,axis=1))[1:]-(Atom_cutoff*N_atom)*yXinter**2\n",
    "\n",
    "\n",
    "#CovY3=real(np.sum(CovYT,axis=1))[1:]\n",
    "#CovX3=real(np.sum(CovXT,axis=1))[1:]-(Atom_cutoff*N_atom)*yXinter**2\n",
    "\n",
    "\n",
    "#CovY4=real(np.sum(CovYT,axis=1))[1:]\n",
    "#CovX4=real(np.sum(CovXT,axis=1))[1:]-(Atom_cutoff*N_atom)*yXinter**2\n",
    "\n",
    "CovY5=real(np.sum(CovYT,axis=1))[1:]\n",
    "CovX5=real(np.sum(CovXT,axis=1))[1:]-(Atom_cutoff*N_atom)*yXinter**2\n",
    "\n",
    "\n",
    "#CovY6=real(np.sum(CovYT,axis=1))[1:]\n",
    "#CovX6=real(np.sum(CovXT,axis=1))[1:]-(Atom_cutoff*N_atom)*yXinter**2\n",
    "\n",
    "\n",
    "#CovY7=real(np.sum(CovYT,axis=1))[1:]\n",
    "#CovX7=real(np.sum(CovXT,axis=1))[1:]-(Atom_cutoff*N_atom)*yXinter**2\n",
    "\n",
    "#CovY8=real(np.sum(CovYT,axis=1))[1:]\n",
    "#CovX8=real(np.sum(CovXT,axis=1))[1:]-(Atom_cutoff*N_atom)*yXinter**2"
   ]
  },
  {
   "cell_type": "code",
   "execution_count": null,
   "metadata": {},
   "outputs": [],
   "source": []
  },
  {
   "cell_type": "code",
   "execution_count": null,
   "metadata": {},
   "outputs": [],
   "source": [
    "#Covari X and Y\n",
    "plt.title(\"Covariances respect X and Y\",fontsize=25)\n",
    "\n",
    "\n",
    "#plt.plot((28.85/0.5)*tnew,CovX2,\"--\",label=\"CMFT2 Cov$(\\hat{S}_x)$\")\n",
    "#plt.plot((28.85/0.5)*tnew,CovX3,\"--\",label=\"CMFT3 Cov$(\\hat{S}_x)$\")\n",
    "#plt.plot((28.85/0.5)*tnew,CovX4,\"--\",label=\"CMFT4 Cov$(\\hat{S}_x)$\")\n",
    "plt.plot((28.85/0.5)*tnew,CovX5,\"--\",label=\"CMFT5 Cov$(\\hat{S}_x)$\")\n",
    "plt.plot((28.85/0.5)*tnew,CovX6,\"--\",label=\"CMFT6 Cov$(\\hat{S}_x)$\")\n",
    "plt.plot((28.85/0.5)*tnew,CovX7,\"--\",label=\"CMFT7 Cov$(\\hat{S}_x)$\")\n",
    "plt.plot((28.85/0.5)*tnew,CovX8,\"--\",label=\"CMFT8 Cov$(\\hat{S}_x)$\")\n",
    "\n",
    "\n",
    "#plt.plot((28.85/0.5)*tnew,CovY2,\"|-\",label=\"CMFT2 Cov$(\\hat{S}_y)$\")\n",
    "#plt.plot((28.85/0.5)*tnew,CovY3,\"|-\",label=\"CMFT3 Cov$(\\hat{S}_y)$\")\n",
    "#plt.plot((28.85/0.5)*tnew,CovY4,\"|-\",label=\"CMFT4 Cov$(\\hat{S}_y)$\")\n",
    "plt.plot((28.85/0.5)*tnew,CovY5,\"|-\",label=\"CMFT5 Cov$(\\hat{S}_y)$\")\n",
    "plt.plot((28.85/0.5)*tnew,CovY6,\"|-\",label=\"CMFT6 Cov$(\\hat{S}_y)$\")\n",
    "plt.plot((28.85/0.5)*tnew,CovY7,\"|-\",label=\"CMFT7 Cov$(\\hat{S}_y)$\")\n",
    "plt.plot((28.85/0.5)*tnew,CovY8,\"|-\",label=\"CMFT8 Cov$(\\hat{S}_y)$\")\n",
    "\n",
    "\n",
    "plt.plot((28.85/0.5)*array(Time_val)*4,Sx_cuadt-(array(Sx_evol)*N_atom/2)**2,label=\"Cov$(\\hat{S}_x)$\")\n",
    "plt.plot((28.85/0.5)*array(Time_val)*4,Cov_list_Y,label=\"Cov$(\\hat{S}_y)$\")\n",
    "\n",
    "plt.legend(bbox_to_anchor=(1.0, 1), loc='upper left')"
   ]
  },
  {
   "cell_type": "code",
   "execution_count": null,
   "metadata": {},
   "outputs": [],
   "source": [
    "Atom_cutoff"
   ]
  },
  {
   "cell_type": "code",
   "execution_count": null,
   "metadata": {},
   "outputs": [],
   "source": [
    "#Covari X and Y\n",
    "plt.title(\"Cov$(\\hat{S}_x)$, PBC, 4x1x2\",fontsize=25)\n",
    "\n",
    "\n",
    "#plt.plot((28.85/0.5)*tnew,real(CovX2),\"--\",label=\"CMFT2 Cov$(\\hat{S}_x)$\")\n",
    "#plt.plot((28.85/0.5)*tnew,real(CovX3),\"--\",label=\"CMFT3 Cov$(\\hat{S}_x)$\")\n",
    "#plt.plot((28.85/0.5)*tnew,real(CovX4),\"--\",label=\"CMFT4 Cov$(\\hat{S}_x)$\")\n",
    "plt.plot((28.85/0.5)*tnew,real(CovX5),\"--\",label=\"CMFT5 Cov$(\\hat{S}_x)$\")\n",
    "plt.plot((28.85/0.5)*tnew,real(CovX6),\"--\",label=\"CMFT6 Cov$(\\hat{S}_x)$\")\n",
    "plt.plot((28.85/0.5)*tnew,real(CovX7),\"--\",label=\"CMFT7 Cov$(\\hat{S}_x)$\")\n",
    "plt.plot((28.85/0.5)*tnew,real(CovX8),\"--\",label=\"CMFT8 Cov$(\\hat{S}_x)$\")\n",
    "\n",
    "\n",
    "\n",
    "plt.plot((28.85/0.5)*array(Time_val)*4,Sx_cuadt-(array(Sx_evol)*N_atom/2)**2,label=\"Cov$(\\hat{S}_x)$\")\n",
    "\n",
    "plt.legend(bbox_to_anchor=(1.0, 1), loc='upper left')"
   ]
  },
  {
   "cell_type": "code",
   "execution_count": null,
   "metadata": {},
   "outputs": [],
   "source": []
  },
  {
   "cell_type": "code",
   "execution_count": null,
   "metadata": {},
   "outputs": [],
   "source": [
    "#Covari X and Y\n",
    "plt.title(\"Cov$(\\hat{S}_y)$, PBC, 4x1x2\",fontsize=25)\n",
    "\n",
    "\n",
    "\n",
    "\n",
    "#plt.plot((28.85/0.5)*tnew,CovY2,\"--\",label=\"CMFT2 Cov$(\\hat{S}_y)$\")\n",
    "#plt.plot((28.85/0.5)*tnew,CovY3,\"--\",label=\"CMFT3 Cov$(\\hat{S}_y)$\")\n",
    "#plt.plot((28.85/0.5)*tnew,CovY4,\"--\",label=\"CMFT4 Cov$(\\hat{S}_y)$\")\n",
    "plt.plot((28.85/0.5)*tnew,CovY5,\"--\",label=\"CMFT5 Cov$(\\hat{S}_y)$\")\n",
    "plt.plot((28.85/0.5)*tnew,CovY6,\"--\",label=\"CMFT6 Cov$(\\hat{S}_y)$\")\n",
    "plt.plot((28.85/0.5)*tnew,CovY7,\"--\",label=\"CMFT7 Cov$(\\hat{S}_y)$\")\n",
    "plt.plot((28.85/0.5)*tnew,CovY8,\"--\",label=\"CMFT8 Cov$(\\hat{S}_y)$\")\n",
    "\n",
    "plt.plot((28.85/0.5)*array(Time_val)*4,Cov_list_Y,label=\"Cov$(\\hat{S}_y)$\")\n",
    "\n",
    "plt.legend(bbox_to_anchor=(1.0, 1), loc='upper left')"
   ]
  },
  {
   "cell_type": "code",
   "execution_count": null,
   "metadata": {},
   "outputs": [],
   "source": []
  },
  {
   "cell_type": "code",
   "execution_count": null,
   "metadata": {},
   "outputs": [],
   "source": []
  },
  {
   "cell_type": "code",
   "execution_count": null,
   "metadata": {},
   "outputs": [],
   "source": []
  },
  {
   "cell_type": "code",
   "execution_count": null,
   "metadata": {},
   "outputs": [],
   "source": []
  },
  {
   "cell_type": "code",
   "execution_count": null,
   "metadata": {},
   "outputs": [],
   "source": []
  },
  {
   "cell_type": "code",
   "execution_count": null,
   "metadata": {},
   "outputs": [],
   "source": []
  },
  {
   "cell_type": "code",
   "execution_count": null,
   "metadata": {},
   "outputs": [],
   "source": []
  }
 ],
 "metadata": {
  "kernelspec": {
   "display_name": "Python 3",
   "language": "python",
   "name": "python3"
  },
  "language_info": {
   "codemirror_mode": {
    "name": "ipython",
    "version": 3
   },
   "file_extension": ".py",
   "mimetype": "text/x-python",
   "name": "python",
   "nbconvert_exporter": "python",
   "pygments_lexer": "ipython3",
   "version": "3.8.3"
  }
 },
 "nbformat": 4,
 "nbformat_minor": 4
}
