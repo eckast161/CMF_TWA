{
 "cells": [
  {
   "cell_type": "markdown",
   "metadata": {
    "id": "xCnbgvGjrlZO"
   },
   "source": [
    "# MACE method"
   ]
  },
  {
   "cell_type": "code",
   "execution_count": 1,
   "metadata": {
    "id": "irVle1eLrlZR"
   },
   "outputs": [],
   "source": [
    "\n",
    "import numpy as np\n",
    "from numpy import cos, sin\n",
    "from numpy import sqrt\n",
    "import time\n",
    "from scipy.sparse.linalg import expm\n",
    "from pympler import asizeof\n",
    "import pandas as pd\n",
    "\n",
    "label_size = 20\n"
   ]
  },
  {
   "cell_type": "code",
   "execution_count": 2,
   "metadata": {
    "id": "ZXRLBqjsrlZT"
   },
   "outputs": [],
   "source": [
    "\n",
    "import numpy as np\n",
    "#from google.colab import files\n",
    "\n",
    "\"\"\"In order to provide a better presentation of the graphs we use the rcParams options shown below.\"\"\"\n",
    "\n",
    "\n",
    "from numpy import cos, sin\n",
    "\n",
    "label_size = 20\n",
    "\n",
    "from numpy import sqrt\n",
    "\n",
    "import time\n",
    "from numba import jit\n",
    "from numpy import sin, cos\n",
    "\n",
    "T0=time.time()\n"
   ]
  },
  {
   "cell_type": "code",
   "execution_count": 3,
   "metadata": {
    "id": "ek17_UTfrlZU"
   },
   "outputs": [],
   "source": [
    "\n",
    "from numpy import random, zeros, sqrt,cos,sin\n",
    "\n",
    "import numpy as np\n",
    "\n",
    "from numba import jit\n",
    "import numbers\n",
    "\n",
    "from numpy import sqrt, zeros, diag, random, real, array, complex_, transpose, conjugate, exp, matmul, real\n",
    "\n",
    "\n",
    "\n",
    "from scipy.linalg import norm\n",
    "from numpy import dot\n",
    "\n",
    "from numpy import pi as pi\n",
    "from numpy import array\n",
    "\n",
    "import scipy\n",
    "\n",
    "from numpy import exp, imag, real,zeros, conj\n",
    "from numpy import sum\n",
    "from scipy import sparse\n",
    "from numpy import array\n",
    "import scipy.sparse as sp\n",
    "from numpy import concatenate\n",
    "\n",
    "from scipy.sparse import csr_matrix\n",
    "from numpy import sqrt, dot\n",
    "from numpy.random import choice\n",
    "from numpy.random import normal\n",
    "from numpy import sqrt\n",
    "\n",
    "\n",
    "from numpy import add\n",
    "from numpy import concatenate\n",
    "from scipy.sparse import coo_matrix\n",
    "\n",
    "from scipy.sparse import kron\n",
    "\n",
    "#t0=time.time()\n",
    "\n",
    "import numpy as np\n",
    "import pandas as pd\n",
    "from mpl_toolkits import mplot3d\n",
    "import numpy as np\n",
    "from scipy.sparse import kron\n",
    "from scipy.sparse import coo_matrix, identity\n",
    "\n",
    "\n"
   ]
  },
  {
   "cell_type": "markdown",
   "metadata": {
    "id": "hl4NLoymrlZd"
   },
   "source": [
    "\\begin{align}\n",
    "\\hat{H}_{{\\rm MACE}}^{i} & =\\sum_{k\\in C_{i}}B_{Q}\\hat{s}_{z,k}^{2}+\\sum_{\\substack{j,k\\in C_{i},\\\\\n",
    "j<k\n",
    "}\n",
    "}V_{jk}\\left(\\hat{s}_{z,j}\\hat{s}_{z,k}-\\frac{1}{2}\\left(\\hat{s}_{x,j}\\hat{s}_{x,k}+\\hat{s}_{y,j}\\hat{s}_{y,k}\\right)\\right).\n",
    "\\end{align}\n"
   ]
  },
  {
   "cell_type": "markdown",
   "metadata": {
    "id": "RZvF39W5rlZg"
   },
   "source": [
    "# Parameters"
   ]
  },
  {
   "cell_type": "code",
   "execution_count": 4,
   "metadata": {
    "id": "tVs3Rzo8rlZg"
   },
   "outputs": [],
   "source": [
    "#Parameters  (Check the units)\n",
    "\n",
    "B_Q=-1.85 # in Vdd units\n",
    "N_atom=192\n",
    "S_spin=3   #determine the number of Zeeman levels (2S+1)\n",
    "Levels=int(2*S_spin+1)\n",
    "Atom_cutoff=2\n",
    "\n",
    "\n",
    "#Array Vij will be provided by Sean, just we will play with a random Vij for testing that the code makes sense.\n",
    "#Mgen=np.random.rand(N_atom,N_atom)\n",
    "\n",
    "\n",
    "Vij_p=array(pd.read_csv('Vij.csv', header=None))\n"
   ]
  },
  {
   "cell_type": "code",
   "execution_count": 5,
   "metadata": {},
   "outputs": [],
   "source": [
    "\n",
    "\n",
    "import numpy as np\n",
    "from numpy import sin, cos, sqrt\n",
    "\n",
    "\"\"\"In order to provide a better presentation of the graphs we use the rcParams options shown below.\"\"\"\n",
    "\n",
    "\n",
    "from numpy import sqrt\n",
    "\n",
    "import time\n",
    "from numba import jit"
   ]
  },
  {
   "cell_type": "code",
   "execution_count": 6,
   "metadata": {},
   "outputs": [],
   "source": [
    "Vij=(Vij_p-np.diag(np.diag(Vij_p)))"
   ]
  },
  {
   "cell_type": "code",
   "execution_count": 7,
   "metadata": {},
   "outputs": [],
   "source": [
    "VijN=np.zeros((N_atom,N_atom))\n",
    "\n",
    "for j in range(N_atom):\n",
    "    \n",
    "    VijN[j]=Vij[j][:N_atom]\n",
    "    \n",
    "    \n"
   ]
  },
  {
   "cell_type": "code",
   "execution_count": 8,
   "metadata": {},
   "outputs": [],
   "source": [
    "Vij=VijN"
   ]
  },
  {
   "cell_type": "code",
   "execution_count": null,
   "metadata": {},
   "outputs": [],
   "source": []
  },
  {
   "cell_type": "code",
   "execution_count": 9,
   "metadata": {
    "colab": {
     "base_uri": "https://localhost:8080/"
    },
    "id": "8B8syfdKrlZi",
    "outputId": "5580c5fa-c28d-4e76-df4b-d31eb2e927d7"
   },
   "outputs": [
    {
     "ename": "NameError",
     "evalue": "name 'plt' is not defined",
     "output_type": "error",
     "traceback": [
      "\u001b[1;31m---------------------------------------------------------------------------\u001b[0m",
      "\u001b[1;31mNameError\u001b[0m                                 Traceback (most recent call last)",
      "\u001b[1;32m<ipython-input-9-ab26fd8211ff>\u001b[0m in \u001b[0;36m<module>\u001b[1;34m\u001b[0m\n\u001b[1;32m----> 1\u001b[1;33m \u001b[0mplt\u001b[0m\u001b[1;33m.\u001b[0m\u001b[0mimshow\u001b[0m\u001b[1;33m(\u001b[0m\u001b[0mVij\u001b[0m\u001b[1;33m)\u001b[0m\u001b[1;33m\u001b[0m\u001b[1;33m\u001b[0m\u001b[0m\n\u001b[0m\u001b[0;32m      2\u001b[0m \u001b[0mplt\u001b[0m\u001b[1;33m.\u001b[0m\u001b[0mcolorbar\u001b[0m\u001b[1;33m(\u001b[0m\u001b[1;33m)\u001b[0m\u001b[1;33m\u001b[0m\u001b[1;33m\u001b[0m\u001b[0m\n\u001b[0;32m      3\u001b[0m \u001b[0mplt\u001b[0m\u001b[1;33m.\u001b[0m\u001b[0mshow\u001b[0m\u001b[1;33m(\u001b[0m\u001b[1;33m)\u001b[0m\u001b[1;33m\u001b[0m\u001b[1;33m\u001b[0m\u001b[0m\n",
      "\u001b[1;31mNameError\u001b[0m: name 'plt' is not defined"
     ]
    }
   ],
   "source": [
    "\n",
    "plt.imshow(Vij)\n",
    "plt.colorbar()\n",
    "plt.show()\n"
   ]
  },
  {
   "cell_type": "code",
   "execution_count": null,
   "metadata": {},
   "outputs": [],
   "source": []
  },
  {
   "cell_type": "code",
   "execution_count": null,
   "metadata": {},
   "outputs": [],
   "source": [
    "\n",
    "\n",
    "plt.imshow(abs(Vij))\n",
    "plt.colorbar()\n",
    "plt.show()\n",
    "\n",
    "plt.savefig('foo.png')\n",
    "plt.savefig('foo.pdf')"
   ]
  },
  {
   "cell_type": "code",
   "execution_count": null,
   "metadata": {},
   "outputs": [],
   "source": []
  },
  {
   "cell_type": "code",
   "execution_count": null,
   "metadata": {
    "id": "EsBMwLUX3Mln"
   },
   "outputs": [],
   "source": [
    "\n",
    "def index_Gij(arr,Atom_cutoff):\n",
    "    \n",
    "    Ordered_N = list(np.argsort(arr)[::-1][:Atom_cutoff])\n",
    "    \n",
    "    return Ordered_N\n",
    "\n",
    "# Provides a list of lists with the arrays that belong to each cluster\n",
    "\n",
    "\n",
    "Index_N=[]\n",
    "\n",
    "Rem_iden=abs(Vij)\n",
    "\n",
    "\n",
    "for j in range(Rem_iden.shape[0]):\n",
    "    \n",
    "    test_list = list(Rem_iden[j])\n",
    "    \n",
    "    Index_N.append( [j]+list(index_Gij(test_list,Atom_cutoff-1))  )"
   ]
  },
  {
   "cell_type": "code",
   "execution_count": null,
   "metadata": {
    "id": "UmuDpn5B3Mln"
   },
   "outputs": [],
   "source": []
  },
  {
   "cell_type": "code",
   "execution_count": null,
   "metadata": {
    "id": "Rq6Pb4uh3Mln"
   },
   "outputs": [],
   "source": []
  },
  {
   "cell_type": "code",
   "execution_count": null,
   "metadata": {
    "id": "lrfqdiPHrlZj"
   },
   "outputs": [],
   "source": []
  },
  {
   "cell_type": "code",
   "execution_count": null,
   "metadata": {},
   "outputs": [],
   "source": []
  },
  {
   "cell_type": "code",
   "execution_count": null,
   "metadata": {},
   "outputs": [],
   "source": [
    "#https://easyspin.org/easyspin/documentation/spinoperators.html\n",
    "\n",
    "\n",
    "#Define Sz\n",
    "\n",
    "Val=np.linspace(-S_spin,S_spin,int(2*S_spin+1))\n",
    "Coord=np.linspace(0,2*S_spin,int(2*S_spin+1))\n",
    "    \n",
    "Sz_sp=sparse.coo_matrix((Val,(Coord,Coord)),shape=(int(2*S_spin+1),int(2*S_spin+1)),dtype=\"complex\") "
   ]
  },
  {
   "cell_type": "code",
   "execution_count": null,
   "metadata": {},
   "outputs": [],
   "source": [
    "#Define Splus\n",
    "\n",
    "Val=[]\n",
    "\n",
    "\n",
    "for j in range(1,int(2*S_spin)+1):\n",
    "    \n",
    "    Val.append(sqrt((S_spin)*(S_spin+1)-(S_spin-j)*(S_spin+1-j)))\n",
    "    \n",
    "\n",
    "Coord=np.linspace(0,int(2*S_spin)-1,int(2*S_spin))    \n",
    "Splu_sp=(sparse.coo_matrix((Val,(Coord,Coord+1)),shape=(int(2*S_spin)+1,int(2*S_spin)+1),dtype=\"complex\")) \n",
    "\n",
    "Sx_sp=(Splu_sp+Splu_sp.T)/2\n",
    "Sy_sp=(Splu_sp-Splu_sp.T)/(2j)\n",
    "\n"
   ]
  },
  {
   "cell_type": "code",
   "execution_count": null,
   "metadata": {},
   "outputs": [],
   "source": []
  },
  {
   "cell_type": "code",
   "execution_count": null,
   "metadata": {},
   "outputs": [],
   "source": []
  },
  {
   "cell_type": "code",
   "execution_count": null,
   "metadata": {},
   "outputs": [],
   "source": [
    "#Initial state |S,-S>\n",
    "Init_st=(sparse.coo_matrix(([1],([Levels-1],[0])),shape=(int(2*S_spin)+1,1),dtype=\"complex\")) \n",
    "\n",
    "#Rotated initial state\n",
    "\n",
    "Init_st_rot=(expm(scipy.sparse.csc_matrix(-1j*(np.pi/2)*Sy_sp))@Init_st)"
   ]
  },
  {
   "cell_type": "code",
   "execution_count": null,
   "metadata": {},
   "outputs": [],
   "source": [
    "Id_Spin=scipy.sparse.identity(Levels, dtype='complex')\n",
    "\n",
    "Zero_Spin=0*Id_Spin\n",
    "\n",
    "\n",
    "def Zeeman_Popul(m_s):\n",
    "    \n",
    "    return sparse.coo_matrix(([1],([S_spin-m_s],[S_spin-m_s])),shape=(Levels,Levels),dtype=\"complex\")"
   ]
  },
  {
   "cell_type": "code",
   "execution_count": null,
   "metadata": {},
   "outputs": [],
   "source": [
    "Init_st_rot.toarray()"
   ]
  },
  {
   "cell_type": "code",
   "execution_count": null,
   "metadata": {},
   "outputs": [],
   "source": []
  },
  {
   "cell_type": "code",
   "execution_count": null,
   "metadata": {},
   "outputs": [],
   "source": [
    "Init_st_rot"
   ]
  },
  {
   "cell_type": "code",
   "execution_count": null,
   "metadata": {},
   "outputs": [],
   "source": [
    "Init_Total_rot=Init_st_rot\n",
    "\n",
    "for j in range(Atom_cutoff-1):\n",
    "    \n",
    "    Init_Total_rot=kron(Init_Total_rot,Init_st_rot)\n",
    "    "
   ]
  },
  {
   "cell_type": "code",
   "execution_count": null,
   "metadata": {},
   "outputs": [],
   "source": [
    "Init_Total_rot=coo_matrix(Init_Total_rot)  #Initial state wavefunction"
   ]
  },
  {
   "cell_type": "code",
   "execution_count": null,
   "metadata": {},
   "outputs": [],
   "source": [
    "Init_Total_rot.todense()"
   ]
  },
  {
   "cell_type": "code",
   "execution_count": null,
   "metadata": {},
   "outputs": [],
   "source": []
  },
  {
   "cell_type": "code",
   "execution_count": null,
   "metadata": {},
   "outputs": [],
   "source": []
  },
  {
   "cell_type": "code",
   "execution_count": null,
   "metadata": {
    "id": "8RQk1pfTSkRD"
   },
   "outputs": [],
   "source": []
  },
  {
   "cell_type": "code",
   "execution_count": null,
   "metadata": {
    "id": "-LtWinmWSkRE"
   },
   "outputs": [],
   "source": [
    "Iden_Tensor=coo_matrix(identity((Levels)**Atom_cutoff, dtype='complex'))\n",
    "Zero_Tensor=0*Iden_Tensor"
   ]
  },
  {
   "cell_type": "code",
   "execution_count": null,
   "metadata": {},
   "outputs": [],
   "source": [
    "import functools as ft\n",
    "from functools import reduce\n",
    "\n",
    "lst = Atom_cutoff*[Id_Spin]\n",
    "XX = reduce(kron, lst)"
   ]
  },
  {
   "cell_type": "code",
   "execution_count": null,
   "metadata": {},
   "outputs": [],
   "source": []
  },
  {
   "cell_type": "code",
   "execution_count": null,
   "metadata": {},
   "outputs": [],
   "source": [
    "#pip install pympler"
   ]
  },
  {
   "cell_type": "code",
   "execution_count": null,
   "metadata": {
    "id": "uHMNzQ7_SkRE"
   },
   "outputs": [],
   "source": [
    "def A_i_tensor(A_op,i_index):\n",
    "    \n",
    "    Array_id=Atom_cutoff*[Id_Spin] \n",
    "    \n",
    "    Array_id[i_index]=A_op\n",
    "    \n",
    "    return reduce(kron, Array_id)\n",
    "    "
   ]
  },
  {
   "cell_type": "code",
   "execution_count": null,
   "metadata": {},
   "outputs": [],
   "source": []
  },
  {
   "cell_type": "code",
   "execution_count": null,
   "metadata": {},
   "outputs": [],
   "source": []
  },
  {
   "cell_type": "code",
   "execution_count": null,
   "metadata": {},
   "outputs": [],
   "source": [
    "#Not needed, just for reference\n",
    "\n",
    "def tensor_kjXYZ2( k , j):   #tensor among k,j are Positions in the cluster after the G classification\n",
    "                         #k is +sigma and j is -sigma\n",
    "        \n",
    "    Array_idX   = Atom_cutoff*[Id_Spin]   \n",
    "    Array_idX[k]= Sx_sp\n",
    "    Array_idX[j]= Sx_sp\n",
    "    \n",
    "    Array_idY   = Atom_cutoff*[Id_Spin]\n",
    "    Array_idY[k]= Sy_sp\n",
    "    Array_idY[j]= Sy_sp\n",
    "    \n",
    "    Array_idZ   = Atom_cutoff*[Id_Spin]\n",
    "    Array_idZ[k]= Sz_sp\n",
    "    Array_idZ[j]= Sz_sp\n",
    "\n",
    "    return reduce(kron, Array_idX),reduce(kron, Array_idY),reduce(kron, Array_idZ) \n",
    "\n"
   ]
  },
  {
   "cell_type": "code",
   "execution_count": null,
   "metadata": {},
   "outputs": [],
   "source": []
  },
  {
   "cell_type": "code",
   "execution_count": null,
   "metadata": {},
   "outputs": [],
   "source": [
    "def tensor_termIntact( k , j):   #tensor among k,j are Positions in the cluster after the G classification\n",
    "                         #k is +sigma and j is -sigma\n",
    "        \n",
    "    Array_idX   = Atom_cutoff*[Id_Spin]   \n",
    "    Array_idX[k]= Sx_sp\n",
    "    Array_idX[j]= Sx_sp\n",
    "    \n",
    "    Array_idY   = Atom_cutoff*[Id_Spin]\n",
    "    Array_idY[k]= Sy_sp\n",
    "    Array_idY[j]= Sy_sp\n",
    "    \n",
    "    Array_idZ   = Atom_cutoff*[Id_Spin]\n",
    "    Array_idZ[k]= Sz_sp\n",
    "    Array_idZ[j]= Sz_sp\n",
    "\n",
    "    return reduce(kron, Array_idZ)-0.5*( reduce(kron, Array_idX)+reduce(kron, Array_idY) ) \n",
    "\n"
   ]
  },
  {
   "cell_type": "code",
   "execution_count": null,
   "metadata": {},
   "outputs": [],
   "source": []
  },
  {
   "cell_type": "code",
   "execution_count": null,
   "metadata": {},
   "outputs": [],
   "source": []
  },
  {
   "cell_type": "code",
   "execution_count": null,
   "metadata": {},
   "outputs": [],
   "source": [
    "#Not needed, just for reference\n",
    "\n",
    "def tensor_kjXX( k , j):   #tensor among k,j are Positions in the cluster after the G classification\n",
    "                         #k is +sigma and j is -sigma \n",
    "    Array_id=Atom_cutoff*[Id_Spin]  \n",
    "    \n",
    "    Array_id[k]=Sx_sp\n",
    "    Array_id[j]=Sx_sp\n",
    "\n",
    "    return reduce(kron, Array_id)\n",
    "\n",
    "\n",
    "\n",
    "def tensor_kjYY( k , j):   #tensor among k,j are Positions in the cluster after the G classification\n",
    "                         #k is +sigma and j is -sigma \n",
    "    Array_id=Atom_cutoff*[Id_Spin]  \n",
    "    \n",
    "    Array_id[k]=Sy_sp\n",
    "    Array_id[j]=Sy_sp\n",
    "\n",
    "    return reduce(kron, Array_id)\n",
    "\n",
    "\n",
    "\n",
    "def tensor_kjZZ( k , j):   #tensor among k,j are Positions in the cluster after the G classification\n",
    "                         #k is +sigma and j is -sigma \n",
    "    Array_id=Atom_cutoff*[Id_Spin]  \n",
    "    \n",
    "    Array_id[k]=Sz_sp\n",
    "    Array_id[j]=Sz_sp\n",
    "\n",
    "    return reduce(kron, Array_id)\n",
    "\n"
   ]
  },
  {
   "cell_type": "code",
   "execution_count": null,
   "metadata": {},
   "outputs": [],
   "source": []
  },
  {
   "cell_type": "code",
   "execution_count": null,
   "metadata": {},
   "outputs": [],
   "source": []
  },
  {
   "cell_type": "code",
   "execution_count": null,
   "metadata": {},
   "outputs": [],
   "source": []
  },
  {
   "cell_type": "code",
   "execution_count": null,
   "metadata": {},
   "outputs": [],
   "source": [
    "Sz_cuad=Sz_sp@Sz_sp"
   ]
  },
  {
   "cell_type": "code",
   "execution_count": null,
   "metadata": {},
   "outputs": [],
   "source": [
    "def tensor_k_Zcuad( k ):  #Excited state k is a Position in the cluster after the G classification\n",
    "    \n",
    "    Array_id=Atom_cutoff*[Id_Spin]  \n",
    "    \n",
    "    Array_id[k]=Sz_cuad\n",
    "        \n",
    "    return reduce(kron, Array_id)"
   ]
  },
  {
   "cell_type": "code",
   "execution_count": null,
   "metadata": {},
   "outputs": [],
   "source": []
  },
  {
   "cell_type": "code",
   "execution_count": null,
   "metadata": {},
   "outputs": [],
   "source": [
    "# Construct a vector with |C_i| elements equal to A_i_tensor(Sz_cuad,j)\n",
    "\n",
    "Sz_cuad_array=Zero_Tensor\n",
    "\n",
    "\n",
    "for j in range(Atom_cutoff):\n",
    "    \n",
    "    Sz_cuad_array+= B_Q* A_i_tensor(Sz_cuad,j)\n",
    "    \n",
    "\n"
   ]
  },
  {
   "cell_type": "code",
   "execution_count": null,
   "metadata": {},
   "outputs": [],
   "source": []
  },
  {
   "cell_type": "code",
   "execution_count": null,
   "metadata": {},
   "outputs": [],
   "source": []
  },
  {
   "cell_type": "code",
   "execution_count": null,
   "metadata": {},
   "outputs": [],
   "source": []
  },
  {
   "cell_type": "markdown",
   "metadata": {},
   "source": [
    "\\begin{align}\n",
    "\\hat{H}_{{\\rm MACE}}^{i} & =\\sum_{k\\in C_{i}}B_{Q}\\hat{s}_{z,k}^{2}+\\sum_{\\substack{j,k\\in C_{i},\\\\\n",
    "j<k\n",
    "}\n",
    "}V_{jk}\\left(\\hat{s}_{z,j}\\hat{s}_{z,k}-\\frac{1}{2}\\left(\\hat{s}_{x,j}\\hat{s}_{x,k}+\\hat{s}_{y,j}\\hat{s}_{y,k}\\right)\\right).\n",
    "\\end{align}\n"
   ]
  },
  {
   "cell_type": "code",
   "execution_count": null,
   "metadata": {},
   "outputs": [],
   "source": []
  },
  {
   "cell_type": "code",
   "execution_count": null,
   "metadata": {},
   "outputs": [],
   "source": []
  },
  {
   "cell_type": "code",
   "execution_count": null,
   "metadata": {},
   "outputs": [],
   "source": []
  },
  {
   "cell_type": "code",
   "execution_count": null,
   "metadata": {},
   "outputs": [],
   "source": [
    "\n",
    "#@jit\n",
    "def Hamilt_ic(index_center):\n",
    "     \n",
    "    Index_list=Index_N[index_center]\n",
    "    Hamil=Sz_cuad_array\n",
    "    \n",
    "    \n",
    "    for j in range(Atom_cutoff):\n",
    "        \n",
    "        IL_j   = Index_list[j]\n",
    "        \n",
    "        for k in range(j+1,Atom_cutoff):\n",
    "            \n",
    "            \n",
    "            IL_k   = Index_list[k]\n",
    "\n",
    "            Ten_jk = tensor_termIntact( j , k)\n",
    "\n",
    "            \n",
    "            Hamil=Hamil+ Vij[IL_j,IL_k]*Ten_jk\n",
    "            \n",
    "            #print(j,k,\"IndexN\", IL_j,IL_k)\n",
    "            \n",
    "\n",
    "    return  Hamil\n",
    "\n"
   ]
  },
  {
   "cell_type": "code",
   "execution_count": null,
   "metadata": {},
   "outputs": [],
   "source": []
  },
  {
   "cell_type": "code",
   "execution_count": null,
   "metadata": {},
   "outputs": [],
   "source": []
  },
  {
   "cell_type": "code",
   "execution_count": null,
   "metadata": {},
   "outputs": [],
   "source": []
  },
  {
   "cell_type": "code",
   "execution_count": null,
   "metadata": {},
   "outputs": [],
   "source": []
  },
  {
   "cell_type": "code",
   "execution_count": null,
   "metadata": {},
   "outputs": [],
   "source": [
    "\n",
    "#@jit\n",
    "def f(t, yR,M_vect,b):\n",
    "\n",
    "    return -1j*M_vect@yR"
   ]
  },
  {
   "cell_type": "code",
   "execution_count": null,
   "metadata": {},
   "outputs": [],
   "source": []
  },
  {
   "cell_type": "code",
   "execution_count": null,
   "metadata": {},
   "outputs": [],
   "source": []
  },
  {
   "cell_type": "code",
   "execution_count": null,
   "metadata": {},
   "outputs": [],
   "source": []
  },
  {
   "cell_type": "code",
   "execution_count": null,
   "metadata": {},
   "outputs": [],
   "source": [
    "\n",
    "import numpy as np\n",
    "#from google.colab import files\n",
    "\n",
    "\"\"\"In order to provide a better presentation of the graphs we use the rcParams options shown below.\"\"\"\n",
    "\n",
    "\n",
    "from numpy import cos, sin\n",
    "\n",
    "label_size = 20\n",
    "\n",
    "from numpy import sqrt\n",
    "\n",
    "import time\n",
    "from numba import jit\n",
    "from numpy import sin, cos\n",
    "\n",
    "T0=time.time()\n"
   ]
  },
  {
   "cell_type": "code",
   "execution_count": null,
   "metadata": {},
   "outputs": [],
   "source": [
    "Zeeman_Operators=[]\n",
    "\n",
    "\n",
    "for j in range(-S_spin,S_spin+1):\n",
    "    \n",
    "    Zeeman_Operators.append(A_i_tensor(Zeeman_Popul( -j),0))\n",
    "    "
   ]
  },
  {
   "cell_type": "code",
   "execution_count": null,
   "metadata": {},
   "outputs": [],
   "source": [
    "tspan=np.linspace(0,2,400)\n",
    "\n",
    "\n",
    "\n",
    "from scipy.integrate import solve_ivp"
   ]
  },
  {
   "cell_type": "code",
   "execution_count": null,
   "metadata": {},
   "outputs": [],
   "source": []
  },
  {
   "cell_type": "code",
   "execution_count": null,
   "metadata": {},
   "outputs": [],
   "source": []
  },
  {
   "cell_type": "code",
   "execution_count": null,
   "metadata": {},
   "outputs": [],
   "source": []
  },
  {
   "cell_type": "code",
   "execution_count": null,
   "metadata": {},
   "outputs": [],
   "source": [
    "T_init=tspan[0]\n",
    "\n",
    "T_fin =tspan[-1]"
   ]
  },
  {
   "cell_type": "code",
   "execution_count": null,
   "metadata": {},
   "outputs": [],
   "source": []
  },
  {
   "cell_type": "code",
   "execution_count": null,
   "metadata": {},
   "outputs": [],
   "source": []
  },
  {
   "cell_type": "code",
   "execution_count": null,
   "metadata": {},
   "outputs": [],
   "source": [
    "from scipy.integrate import solve_ivp\n",
    "\n",
    "\n",
    "def Dynam_Popul_CI(index_center):\n",
    "    \n",
    "    Populations=np.zeros((Levels,len(tspan)))\n",
    "    \n",
    "\n",
    "    #sol = solve_ivp(f, [tspan[0], tspan[-1]], list(Init_Total_rot.toarray().T[0]),args=(Hamilt_ic(index_center),None),dense_output=True )\n",
    "    sol = solve_ivp(f, [T_init, T_fin], list(Init_Total_rot.toarray().T[0]),args=(Hamilt_ic(index_center),None),dense_output=True,max_step=0.0001 )\n",
    "\n",
    "    Sol_dense=sol.sol(tspan)\n",
    "    \n",
    "    \n",
    "    for j in range(Levels):\n",
    "        \n",
    "        Populations[j]=real((diag((conj(Sol_dense.T)@(Zeeman_Operators[j]@Sol_dense)))))\n",
    "        \n",
    "        \n",
    "    return Populations\n",
    "\n",
    "    \n"
   ]
  },
  {
   "cell_type": "code",
   "execution_count": null,
   "metadata": {},
   "outputs": [],
   "source": []
  },
  {
   "cell_type": "code",
   "execution_count": null,
   "metadata": {},
   "outputs": [],
   "source": []
  },
  {
   "cell_type": "code",
   "execution_count": null,
   "metadata": {},
   "outputs": [],
   "source": [
    "Populat_Fin=np.zeros((Levels,len(tspan)))"
   ]
  },
  {
   "cell_type": "code",
   "execution_count": null,
   "metadata": {},
   "outputs": [],
   "source": []
  },
  {
   "cell_type": "code",
   "execution_count": null,
   "metadata": {},
   "outputs": [],
   "source": [
    "#Populat_Fin=Dynam_Popul_CI(0) #any number is ok for the argument"
   ]
  },
  {
   "cell_type": "code",
   "execution_count": null,
   "metadata": {},
   "outputs": [],
   "source": []
  },
  {
   "cell_type": "code",
   "execution_count": null,
   "metadata": {},
   "outputs": [],
   "source": []
  },
  {
   "cell_type": "code",
   "execution_count": null,
   "metadata": {},
   "outputs": [],
   "source": [
    "VarL=(3**2)*Populat_Fin[0]\n",
    "VarL=VarL+(2**2)*Populat_Fin[1]\n",
    "VarL=VarL+(1**2)*Populat_Fin[2]\n",
    "VarL=VarL+(0**2)*Populat_Fin[3]\n",
    "VarL=VarL+((-1)**2)*Populat_Fin[4]\n",
    "VarL=VarL+((-2)**2)*Populat_Fin[5]\n",
    "VarL=VarL+((-3)**2)*Populat_Fin[6]"
   ]
  },
  {
   "cell_type": "code",
   "execution_count": null,
   "metadata": {},
   "outputs": [],
   "source": [
    "Atom_cutoff"
   ]
  },
  {
   "cell_type": "code",
   "execution_count": null,
   "metadata": {},
   "outputs": [],
   "source": [
    "#CorrT2=N_atom*(S_spin/2-VarL)\n",
    "#CorrT3=N_atom*(S_spin/2-VarL)\n",
    "#CorrT4=N_atom*(S_spin/2-VarL)\n",
    "CorrT5=N_atom*(S_spin/2-VarL)\n",
    "#CorrT6=S_spin/2-VarL"
   ]
  },
  {
   "cell_type": "code",
   "execution_count": null,
   "metadata": {},
   "outputs": [],
   "source": []
  },
  {
   "cell_type": "code",
   "execution_count": null,
   "metadata": {},
   "outputs": [],
   "source": []
  },
  {
   "cell_type": "code",
   "execution_count": null,
   "metadata": {},
   "outputs": [],
   "source": []
  },
  {
   "cell_type": "code",
   "execution_count": null,
   "metadata": {},
   "outputs": [],
   "source": []
  },
  {
   "cell_type": "code",
   "execution_count": null,
   "metadata": {},
   "outputs": [],
   "source": []
  },
  {
   "cell_type": "code",
   "execution_count": null,
   "metadata": {},
   "outputs": [],
   "source": []
  },
  {
   "cell_type": "markdown",
   "metadata": {},
   "source": [
    "# CMFT"
   ]
  },
  {
   "cell_type": "code",
   "execution_count": null,
   "metadata": {},
   "outputs": [],
   "source": []
  },
  {
   "cell_type": "code",
   "execution_count": null,
   "metadata": {},
   "outputs": [],
   "source": []
  },
  {
   "cell_type": "code",
   "execution_count": null,
   "metadata": {},
   "outputs": [],
   "source": [
    "#(Vij@Mean_Val_XYZ)\n",
    "\n",
    "\n",
    "OperX=[]\n",
    "OperY=[]\n",
    "OperZ=[]\n",
    "\n",
    "\n",
    "for j in range(Atom_cutoff):\n",
    "    \n",
    "    \n",
    "    OperX.append( A_i_tensor(Sx_sp,j) )\n",
    "    OperY.append( A_i_tensor(Sy_sp,j) )\n",
    "    OperZ.append( A_i_tensor(Sz_sp,j) )\n"
   ]
  },
  {
   "cell_type": "code",
   "execution_count": null,
   "metadata": {},
   "outputs": [],
   "source": []
  },
  {
   "cell_type": "markdown",
   "metadata": {},
   "source": [
    "\\begin{align*}\n",
    "\\hat{H}_{{\\rm CMFT}}^{i} & =\\sum_{k\\in C_{i}}B_{Q}\\hat{s}_{z,k}^{2}+\\sum_{\\substack{j,k\\in C_{i},\\\\\n",
    "j<k\n",
    "}\n",
    "}V_{jk}\\left(\\hat{s}_{z,j}\\hat{s}_{z,k}-\\frac{1}{2}\\left(\\hat{s}_{x,j}\\hat{s}_{x,k}+\\hat{s}_{y,j}\\hat{s}_{y,k}\\right)\\right)+\\sum_{\\substack{j\\in C_{i},}\n",
    "}\\left(\\hat{s}_{z,j}\\vec{V}_{j}\\cdot\\left\\langle \\vec{\\hat{s}_{z}}\\right\\rangle -\\frac{1}{2}\\left(\\hat{s}_{x,j}\\vec{V}_{j}\\cdot\\left\\langle \\vec{\\hat{s}_{x}}\\right\\rangle +\\hat{s}_{y,j}\\vec{V}_{j}\\cdot\\left\\langle \\vec{\\hat{s}_{y}}\\right\\rangle \\right)\\right)\\\\\n",
    " & \\,\\,\\,\\,\\,-\\sum_{\\substack{j,k\\in C_{i}}\n",
    "}V_{jk}\\left(\\hat{s}_{z,j}\\left\\langle \\hat{s}_{z,k}\\right\\rangle -\\frac{1}{2}\\left(\\hat{s}_{x,j}\\left\\langle \\hat{s}_{x,k}\\right\\rangle +\\hat{s}_{y,j}\\left\\langle \\hat{s}_{y,k}\\right\\rangle \\right)\\right).\n",
    "\\end{align*}"
   ]
  },
  {
   "cell_type": "code",
   "execution_count": null,
   "metadata": {
    "scrolled": true
   },
   "outputs": [],
   "source": [
    "Init_Total_rot"
   ]
  },
  {
   "cell_type": "code",
   "execution_count": null,
   "metadata": {},
   "outputs": [],
   "source": []
  },
  {
   "cell_type": "code",
   "execution_count": null,
   "metadata": {},
   "outputs": [],
   "source": []
  },
  {
   "cell_type": "code",
   "execution_count": null,
   "metadata": {},
   "outputs": [],
   "source": []
  },
  {
   "cell_type": "code",
   "execution_count": null,
   "metadata": {},
   "outputs": [],
   "source": []
  },
  {
   "cell_type": "code",
   "execution_count": null,
   "metadata": {},
   "outputs": [],
   "source": []
  },
  {
   "cell_type": "code",
   "execution_count": null,
   "metadata": {},
   "outputs": [],
   "source": [
    "\n",
    "number_parts=60\n",
    "\n",
    "\n",
    "index_parts=int(len(tspan)/number_parts)\n",
    "\n",
    "tnew=[]\n",
    "\n",
    "for tind_ in range(len(tspan)-1):\n",
    "\n",
    "    Time_pos=int((tind_+1)//index_parts)\n",
    "    \n",
    "    if (tind_+1)%index_parts==0:\n",
    "        \n",
    "        tnew.append(tspan[tind_+1])\n",
    "\n",
    "tnew=array(tnew)\n",
    "\n",
    "\n",
    "\n"
   ]
  },
  {
   "cell_type": "code",
   "execution_count": null,
   "metadata": {},
   "outputs": [],
   "source": []
  },
  {
   "cell_type": "code",
   "execution_count": null,
   "metadata": {},
   "outputs": [],
   "source": [
    "len(tnew)+1"
   ]
  },
  {
   "cell_type": "code",
   "execution_count": null,
   "metadata": {},
   "outputs": [],
   "source": []
  },
  {
   "cell_type": "code",
   "execution_count": null,
   "metadata": {},
   "outputs": [],
   "source": [
    "\n",
    "\n",
    "#@jit\n",
    "def Hamilt_ic_MACE(index_center):\n",
    "     \n",
    "    Index_list=Index_N[index_center]\n",
    "    Hamil=Sz_cuad_array\n",
    "    \n",
    "    \n",
    "    for j in range(Atom_cutoff):\n",
    "        \n",
    "        IL_j   = Index_list[j]\n",
    "        \n",
    "        for k in range(j+1,Atom_cutoff):\n",
    "            \n",
    "            \n",
    "            IL_k   = Index_list[k]\n",
    "\n",
    "\n",
    "            \n",
    "            Hamil=Hamil+ Vij[IL_j,IL_k]*(tensor_termIntact( j , k) )\n",
    "            \n",
    "            #print(j,k,\"IndexN\", IL_j,IL_k)\n",
    "            \n",
    "\n",
    "    return  Hamil"
   ]
  },
  {
   "cell_type": "code",
   "execution_count": null,
   "metadata": {},
   "outputs": [],
   "source": []
  },
  {
   "cell_type": "code",
   "execution_count": null,
   "metadata": {},
   "outputs": [],
   "source": []
  },
  {
   "cell_type": "code",
   "execution_count": null,
   "metadata": {},
   "outputs": [],
   "source": [
    "SumVij=sum(Vij,axis=0)\n",
    "\n",
    "SumClust=SumVij\n",
    "\n",
    "\n",
    "\n",
    "for j in range(N_atom):\n",
    "    for w in Index_N[0]:\n",
    "        \n",
    "        SumClust[j]=SumVij[j]-Vij[j,w]\n",
    "        "
   ]
  },
  {
   "cell_type": "code",
   "execution_count": null,
   "metadata": {},
   "outputs": [],
   "source": [
    "Index_N[0]\n",
    "\n",
    "SumClusList=[]\n",
    "\n",
    "for j_ in Index_N[0]:\n",
    "    \n",
    "    SumClusList.append(SumClust[j_])\n",
    "    \n",
    "    "
   ]
  },
  {
   "cell_type": "code",
   "execution_count": null,
   "metadata": {},
   "outputs": [],
   "source": []
  },
  {
   "cell_type": "code",
   "execution_count": null,
   "metadata": {},
   "outputs": [],
   "source": [
    "\n",
    "# Wavefunction saving\n",
    "\n",
    "Wave_function=np.zeros((Levels**Atom_cutoff,1),dtype=\"complex\")\n",
    "\n",
    "for j in range(1):    \n",
    "    Wave_function[:,j]=Init_Total_rot.toarray().reshape(Levels**Atom_cutoff,)   #Not sparse structure because the state is not sparse\n",
    "    \n",
    "\n",
    "Mean_Val_XYZ=np.zeros((1,3),dtype=\"complex\")\n",
    "\n",
    "Mean_Val_XYZ[:,0]=diag(conj(Wave_function.T)@(OperX[0]@Wave_function))\n",
    "Mean_Val_XYZ[:,1]=diag(conj(Wave_function.T)@(OperY[0]@Wave_function))\n",
    "Mean_Val_XYZ[:,2]=diag(conj(Wave_function.T)@(OperZ[0]@Wave_function))\n",
    "\n",
    "\n",
    "Popul_CMFT=np.zeros((2*S_spin+1,len(tnew)+1),dtype=complex)\n",
    "\n",
    "\n",
    "\n",
    "for j in range(2*S_spin+1):\n",
    "    Popul_CMFT[j,0]=sum(diag(conj(Wave_function.T)@(Zeeman_Operators[j]@Wave_function)))"
   ]
  },
  {
   "cell_type": "code",
   "execution_count": null,
   "metadata": {},
   "outputs": [],
   "source": [
    "#sum(Popul_CMFT[:,0])\n",
    "\n"
   ]
  },
  {
   "cell_type": "code",
   "execution_count": null,
   "metadata": {},
   "outputs": [],
   "source": []
  },
  {
   "cell_type": "code",
   "execution_count": null,
   "metadata": {},
   "outputs": [],
   "source": [
    "#@jit\n",
    "def Hamilt_ic_CMFT(index_center,ArrayXYZ):\n",
    "     \n",
    "    Index_list=Index_N[index_center]\n",
    "    Hamil=Zero_Tensor\n",
    "    \n",
    "    for j in range(Atom_cutoff):\n",
    "        \n",
    "\n",
    "        Xmean,Ymean,Zmean=ArrayXYZ[0]\n",
    "        \n",
    "        hat_Sxj=OperX[j]\n",
    "        hat_Syj=OperY[j]\n",
    "        hat_Szj=OperZ[j]\n",
    "        \n",
    "        Hamil=Hamil+ SumClusList[j]*(Zmean*hat_Szj - 0.5*( Xmean * hat_Sxj + Ymean * hat_Syj   ) )\n",
    "            \n",
    "\n",
    "    return  Hamil"
   ]
  },
  {
   "cell_type": "code",
   "execution_count": null,
   "metadata": {},
   "outputs": [],
   "source": [
    "Wave_function"
   ]
  },
  {
   "cell_type": "code",
   "execution_count": null,
   "metadata": {},
   "outputs": [],
   "source": [
    "max_step=0.1"
   ]
  },
  {
   "cell_type": "code",
   "execution_count": null,
   "metadata": {},
   "outputs": [],
   "source": [
    "\n",
    "def Wave_func_part(Wave_fun_mt,inst_time,ArrayXYZ):\n",
    "    \n",
    "    Result_fin=np.zeros(((Levels**Atom_cutoff),1),dtype=complex)\n",
    "    \n",
    "    cent_ind=0\n",
    "\n",
    "    Mat_dyn=Hamilt_ic_MACE(cent_ind)+Hamilt_ic_CMFT(cent_ind,ArrayXYZ)\n",
    "        \n",
    "    sol_cent_ind = solve_ivp(f,[tspan[inst_time],tspan[inst_time+1]],list(Wave_fun_mt[:,0])\n",
    "                            ,args=(Mat_dyn,None),dense_output=False,max_step=max_step)# , t_eval= [tspan[inst_time+1]])\n",
    "        \n",
    "    Result_fin[:,cent_ind]=((sol_cent_ind.y)[:,-1]).reshape((Levels**Atom_cutoff,))\n",
    "        \n",
    "\n",
    "        \n",
    "    return Result_fin\n",
    "\n"
   ]
  },
  {
   "cell_type": "code",
   "execution_count": null,
   "metadata": {},
   "outputs": [],
   "source": []
  },
  {
   "cell_type": "code",
   "execution_count": null,
   "metadata": {},
   "outputs": [],
   "source": [
    "cent_ind=0\n",
    "Hamilt_ic_MACE(cent_ind)+Hamilt_ic_CMFT(cent_ind,Mean_Val_XYZ)"
   ]
  },
  {
   "cell_type": "code",
   "execution_count": null,
   "metadata": {},
   "outputs": [],
   "source": []
  },
  {
   "cell_type": "code",
   "execution_count": null,
   "metadata": {},
   "outputs": [],
   "source": []
  },
  {
   "cell_type": "code",
   "execution_count": null,
   "metadata": {},
   "outputs": [],
   "source": [
    "count=0\n",
    "\n",
    "tNEW=[0]\n",
    "\n",
    "for tind_ in range(len(tspan)-1):\n",
    "    \n",
    "    Wave_function= Wave_func_part(Wave_function,tind_,Mean_Val_XYZ)\n",
    "    \n",
    "    if (tind_+1)%index_parts==0:\n",
    "        count=count+1\n",
    "        \n",
    "        tNEW.append(tspan[tind_+1])\n",
    "        \n",
    "        for j in range(Levels):\n",
    "            Popul_CMFT[j,count]=sum(diag(conj(Wave_function.T)@(Zeeman_Operators[j]@Wave_function)))\n",
    "        \n",
    "        #Popul_CMFT[j,count]=sum(diag(conj(Wave_function.T)@(Zeeman_Operators[j]@Wave_function)))\n",
    "\n",
    "        #print(100*(tind_+1)/len(tspan))\n",
    "        \n",
    "    print((100*tind_/(len(tspan)-1)),\"%\")\n",
    "        \n",
    "    Mean_Val_XYZ=np.zeros((1,3),dtype=\"complex\")\n",
    "    Mean_Val_XYZ[:,0]=diag(conj(Wave_function.T)@(OperX[0]@Wave_function))\n",
    "    Mean_Val_XYZ[:,1]=diag(conj(Wave_function.T)@(OperY[0]@Wave_function))\n",
    "    Mean_Val_XYZ[:,2]=diag(conj(Wave_function.T)@(OperZ[0]@Wave_function))"
   ]
  },
  {
   "cell_type": "code",
   "execution_count": null,
   "metadata": {},
   "outputs": [],
   "source": [
    "Mean_Val_XYZ"
   ]
  },
  {
   "cell_type": "code",
   "execution_count": null,
   "metadata": {},
   "outputs": [],
   "source": []
  },
  {
   "cell_type": "code",
   "execution_count": null,
   "metadata": {},
   "outputs": [],
   "source": [
    "Popul_CMFT"
   ]
  },
  {
   "cell_type": "code",
   "execution_count": null,
   "metadata": {},
   "outputs": [],
   "source": []
  },
  {
   "cell_type": "code",
   "execution_count": null,
   "metadata": {},
   "outputs": [],
   "source": [
    "VarLCMF=(3**2)*Popul_CMFT[0]\n",
    "VarLCMF=VarLCMF+(2**2)*Popul_CMFT[1]\n",
    "VarLCMF=VarLCMF+(1**2)*Popul_CMFT[2]\n",
    "VarLCMF=VarLCMF+(0**2)*Popul_CMFT[3]\n",
    "VarLCMF=VarLCMF+((-1)**2)*Popul_CMFT[4]\n",
    "VarLCMF=VarLCMF+((-2)**2)*Popul_CMFT[5]\n",
    "VarLCMF=VarLCMF+((-3)**2)*Popul_CMFT[6]"
   ]
  },
  {
   "cell_type": "code",
   "execution_count": null,
   "metadata": {},
   "outputs": [],
   "source": [
    "Atom_cutoff"
   ]
  },
  {
   "cell_type": "code",
   "execution_count": null,
   "metadata": {},
   "outputs": [],
   "source": [
    "CorrT2CMF=N_atom*(S_spin/2-VarLCMF)\n",
    "\n",
    "#CorrT2CMA=N_atom*(S_spin/2-VarLCMF)"
   ]
  },
  {
   "cell_type": "code",
   "execution_count": null,
   "metadata": {},
   "outputs": [],
   "source": []
  },
  {
   "cell_type": "code",
   "execution_count": null,
   "metadata": {},
   "outputs": [],
   "source": [
    "CorrT2CMF.shape"
   ]
  },
  {
   "cell_type": "code",
   "execution_count": null,
   "metadata": {},
   "outputs": [],
   "source": [
    "len(tNEW)"
   ]
  },
  {
   "cell_type": "code",
   "execution_count": null,
   "metadata": {},
   "outputs": [],
   "source": [
    "CorrT2CMF"
   ]
  },
  {
   "cell_type": "code",
   "execution_count": null,
   "metadata": {},
   "outputs": [],
   "source": [
    "Atom_cutoff"
   ]
  },
  {
   "cell_type": "code",
   "execution_count": null,
   "metadata": {},
   "outputs": [],
   "source": []
  },
  {
   "cell_type": "code",
   "execution_count": null,
   "metadata": {},
   "outputs": [],
   "source": [
    "Firs=array([-1.27897692e-13+0.j,  2.14532349e+00+0.j,  8.33672264e+00+0.j,\n",
    "        1.78802908e+01+0.j,  2.97415504e+01+0.j,  4.26977883e+01+0.j,\n",
    "        5.55010572e+01+0.j,  6.70212849e+01+0.j,  7.63492724e+01+0.j,\n",
    "        8.28528721e+01+0.j,  8.61913144e+01+0.j,  8.62992762e+01+0.j,\n",
    "        8.33533629e+01+0.j,  7.77309122e+01+0.j,  6.99669307e+01+0.j,\n",
    "        6.07114724e+01+0.j,  5.06875785e+01+0.j,  4.06488437e+01+0.j,\n",
    "        3.13354157e+01+0.j,  2.34278032e+01+0.j,  1.74995090e+01+0.j,\n",
    "        1.39721028e+01+0.j,  1.30789603e+01+0.j,  1.48449091e+01+0.j,\n",
    "        1.90870792e+01+0.j,  2.54373533e+01+0.j,  3.33807479e+01+0.j,\n",
    "        4.22998359e+01+0.j,  5.15155321e+01+0.j,  6.03197357e+01+0.j,\n",
    "        6.80031791e+01+0.j,  7.38881781e+01+0.j,  7.73767573e+01+0.j,\n",
    "        7.80182775e+01+0.j,  7.55892636e+01+0.j,  7.01666597e+01+0.j,\n",
    "        6.21698874e+01+0.j,  5.23504034e+01+0.j,  4.17195854e+01+0.j,\n",
    "        3.14225340e+01+0.j,  2.25806741e+01+0.j,  1.61345793e+01+0.j,\n",
    "        1.27178458e+01+0.j,  1.25842315e+01+0.j,  1.55972547e+01+0.j,\n",
    "        2.12782194e+01+0.j,  2.88983634e+01+0.j,  3.75949462e+01+0.j,\n",
    "        4.64896396e+01+0.j,  5.47899739e+01+0.j,  6.18601384e+01+0.j,\n",
    "        6.72552950e+01+0.j,  7.07223133e+01+0.j,  7.21772938e+01+0.j,\n",
    "        7.16740021e+01+0.j,  6.93758622e+01+0.j,  6.55379153e+01+0.j,\n",
    "        6.04968316e+01+0.j,  5.46606232e+01+0.j,  4.84884172e+01+0.j,\n",
    "        4.24553664e+01+0.j,  3.70061757e+01+0.j,  3.25084147e+01+0.j,\n",
    "        2.92194685e+01+0.j,  2.72768161e+01+0.j,  2.67120304e+01+0.j,\n",
    "        2.74789717e+01+0.j])"
   ]
  },
  {
   "cell_type": "code",
   "execution_count": null,
   "metadata": {},
   "outputs": [],
   "source": []
  },
  {
   "cell_type": "code",
   "execution_count": null,
   "metadata": {},
   "outputs": [],
   "source": [
    "Random_signature=np.random.rand(1,1)[0,0].round(6)\n",
    "\n"
   ]
  },
  {
   "cell_type": "code",
   "execution_count": null,
   "metadata": {},
   "outputs": [],
   "source": []
  },
  {
   "cell_type": "code",
   "execution_count": null,
   "metadata": {},
   "outputs": [],
   "source": []
  },
  {
   "cell_type": "code",
   "execution_count": null,
   "metadata": {},
   "outputs": [],
   "source": [
    "VarL0dot001=VarL\n",
    "\n",
    "\n",
    "# In[ ]:\n",
    "\n",
    "\n",
    "\n",
    "\n",
    "\n",
    "# In[50]:\n",
    "\n",
    "\n",
    "Shape=VarL0dot001.shape[0]\n",
    "\n",
    "\n",
    "# In[51]:\n",
    "\n",
    "\n",
    "VarL0dot001=VarL0dot001.reshape(Shape,1)\n",
    "\n",
    "\n",
    "# In[52]:\n",
    "\n",
    "\n",
    "tspan=tspan.reshape(Shape,1)"
   ]
  },
  {
   "cell_type": "code",
   "execution_count": null,
   "metadata": {},
   "outputs": [],
   "source": [
    "Res_conc=np.concatenate((tspan,VarL0dot001),axis=1)\n",
    "Res_conc=np.concatenate((Res_conc[0].reshape(1,len(Res_conc[0])),Res_conc),axis=0)\n",
    "\n",
    "\n",
    "# In[57]:\n",
    "\n",
    "\n",
    "\n",
    "\n",
    "# In[58]:\n",
    "\n",
    "\n",
    "file = open(\"_CMFT_N_atom_\"+str(N_atom)+\"_Cluster_size_\"+str(Atom_cutoff)+\"_Max_step_\"+str(max_step)+\"_Tspan_\"+str(tspan[0,0])+\"-\"+str(tspan[-1,0])+\"_Signature_\"+str(Random_signature)+\".txt\", \"w+\")\n",
    "np.savetxt(file, Res_conc, delimiter=',')\n",
    "file.write('\\n')\n",
    "file.write('\\n')\n",
    "file.close()   \n",
    "\n",
    "\n",
    "#import pandas as pd\n",
    "#Res0128_1dot25_0=np.array(pd.read_csv('_MACE_AV__N_atom192_Cluster_size_4_Max_step_0.001_Tspan_0.0-2.0_Signature_0.520019.txt')).astype(complex)\n",
    "\n",
    "\n",
    "# In[ ]:\n",
    "\n",
    "\n",
    "\n",
    "# In[ ]:\n",
    "\n",
    "\n",
    "\n",
    "\n",
    "\n",
    "# In[ ]:\n",
    "\n",
    "\n",
    "\n",
    "\n",
    "\n",
    "# In[ ]:\n",
    "\n",
    "\n",
    "\n",
    "\n",
    "\n",
    "# In[ ]:"
   ]
  },
  {
   "cell_type": "code",
   "execution_count": null,
   "metadata": {},
   "outputs": [],
   "source": []
  },
  {
   "cell_type": "code",
   "execution_count": null,
   "metadata": {},
   "outputs": [],
   "source": []
  },
  {
   "cell_type": "code",
   "execution_count": null,
   "metadata": {},
   "outputs": [],
   "source": []
  }
 ],
 "metadata": {
  "colab": {
   "collapsed_sections": [
    "cm436-PkrlZm",
    "p9Uo5YCDrlZr",
    "5Te00DCDrlZs",
    "FaYaOXSZrlZt",
    "1iDxWUZorlZw",
    "9eKMfvO8rlZz"
   ],
   "name": "BenchmarkMF_MACE_checked (4).ipynb",
   "provenance": []
  },
  "interpreter": {
   "hash": "8b5a56c868af681f12af5d6461e4b0e184841bd5d58e03f1e772403ba6bf7368"
  },
  "kernelspec": {
   "display_name": "Python 3",
   "language": "python",
   "name": "python3"
  },
  "language_info": {
   "codemirror_mode": {
    "name": "ipython",
    "version": 3
   },
   "file_extension": ".py",
   "mimetype": "text/x-python",
   "name": "python",
   "nbconvert_exporter": "python",
   "pygments_lexer": "ipython3",
   "version": "3.8.3"
  }
 },
 "nbformat": 4,
 "nbformat_minor": 1
}
